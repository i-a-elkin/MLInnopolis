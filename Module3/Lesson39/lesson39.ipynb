{
 "cells": [
  {
   "cell_type": "markdown",
   "metadata": {
    "id": "Ksh_4lh6yIB7"
   },
   "source": [
    "# Регрессия SVM"
   ]
  },
  {
   "cell_type": "markdown",
   "metadata": {
    "id": "V1ePiu9UxqkN"
   },
   "source": [
    "## Импорт модулей"
   ]
  },
  {
   "cell_type": "code",
   "execution_count": 1,
   "metadata": {
    "executionInfo": {
     "elapsed": 251,
     "status": "ok",
     "timestamp": 1739518039663,
     "user": {
      "displayName": "Иван Елькин",
      "userId": "12386214062098670036"
     },
     "user_tz": -300
    },
    "id": "T2aL7hvzxqkN"
   },
   "outputs": [],
   "source": [
    "import numpy as np\n",
    "import pandas as pd\n",
    "\n",
    "import matplotlib.pyplot as plt\n",
    "import seaborn as sns\n",
    "\n",
    "from sklearn.model_selection import train_test_split,  RandomizedSearchCV\n",
    "from sklearn.preprocessing import StandardScaler\n",
    "from sklearn.linear_model import LinearRegression\n",
    "from sklearn.svm import SVR\n",
    "from sklearn.neighbors import KNeighborsRegressor\n",
    "from sklearn.metrics import (\n",
    "    mean_absolute_error,\n",
    "    mean_squared_error,\n",
    "    root_mean_squared_error,\n",
    ")\n",
    "import joblib"
   ]
  },
  {
   "cell_type": "markdown",
   "metadata": {
    "id": "wWuv2LSFxqkO"
   },
   "source": [
    "## Константы"
   ]
  },
  {
   "cell_type": "code",
   "execution_count": 2,
   "metadata": {
    "executionInfo": {
     "elapsed": 6,
     "status": "ok",
     "timestamp": 1739517696869,
     "user": {
      "displayName": "Иван Елькин",
      "userId": "12386214062098670036"
     },
     "user_tz": -300
    },
    "id": "Sx46TeWWxqkP"
   },
   "outputs": [],
   "source": [
    "TRAIN_PATH = \"../Lesson36/train.csv\"\n",
    "TARGET = \"Premium Amount\"\n",
    "RANDOM_STATE = 777\n",
    "TEST_SIZE = 0.2"
   ]
  },
  {
   "cell_type": "markdown",
   "metadata": {
    "id": "zPlcGkOmxqkP"
   },
   "source": [
    "## Загрузка данных"
   ]
  },
  {
   "cell_type": "code",
   "execution_count": 3,
   "metadata": {
    "colab": {
     "base_uri": "https://localhost:8080/",
     "height": 379
    },
    "executionInfo": {
     "elapsed": 14846,
     "status": "ok",
     "timestamp": 1739517711711,
     "user": {
      "displayName": "Иван Елькин",
      "userId": "12386214062098670036"
     },
     "user_tz": -300
    },
    "id": "pe56uarOxqkP",
    "outputId": "62aa8e0f-843e-41bb-8a4a-7b7f401ea1ca"
   },
   "outputs": [
    {
     "name": "stdout",
     "output_type": "stream",
     "text": [
      "Train DataFrame\n"
     ]
    },
    {
     "data": {
      "application/vnd.microsoft.datawrangler.viewer.v0+json": {
       "columns": [
        {
         "name": "id",
         "rawType": "int64",
         "type": "integer"
        },
        {
         "name": "Age",
         "rawType": "float64",
         "type": "float"
        },
        {
         "name": "Gender",
         "rawType": "object",
         "type": "string"
        },
        {
         "name": "Annual Income",
         "rawType": "float64",
         "type": "float"
        },
        {
         "name": "Marital Status",
         "rawType": "object",
         "type": "string"
        },
        {
         "name": "Number of Dependents",
         "rawType": "float64",
         "type": "float"
        },
        {
         "name": "Education Level",
         "rawType": "object",
         "type": "string"
        },
        {
         "name": "Occupation",
         "rawType": "object",
         "type": "unknown"
        },
        {
         "name": "Health Score",
         "rawType": "float64",
         "type": "float"
        },
        {
         "name": "Location",
         "rawType": "object",
         "type": "string"
        },
        {
         "name": "Policy Type",
         "rawType": "object",
         "type": "string"
        },
        {
         "name": "Previous Claims",
         "rawType": "float64",
         "type": "float"
        },
        {
         "name": "Vehicle Age",
         "rawType": "float64",
         "type": "float"
        },
        {
         "name": "Credit Score",
         "rawType": "float64",
         "type": "float"
        },
        {
         "name": "Insurance Duration",
         "rawType": "float64",
         "type": "float"
        },
        {
         "name": "Policy Start Date",
         "rawType": "object",
         "type": "string"
        },
        {
         "name": "Customer Feedback",
         "rawType": "object",
         "type": "string"
        },
        {
         "name": "Smoking Status",
         "rawType": "object",
         "type": "string"
        },
        {
         "name": "Exercise Frequency",
         "rawType": "object",
         "type": "string"
        },
        {
         "name": "Property Type",
         "rawType": "object",
         "type": "string"
        },
        {
         "name": "Premium Amount",
         "rawType": "float64",
         "type": "float"
        }
       ],
       "conversionMethod": "pd.DataFrame",
       "ref": "af057ea3-2d2a-4db4-91e3-39df6126dceb",
       "rows": [
        [
         "0",
         "19.0",
         "Female",
         "10049.0",
         "Married",
         "1.0",
         "Bachelor's",
         "Self-Employed",
         "22.59876067181393",
         "Urban",
         "Premium",
         "2.0",
         "17.0",
         "372.0",
         "5.0",
         "2023-12-23 15:21:39.134960",
         "Poor",
         "No",
         "Weekly",
         "House",
         "2869.0"
        ],
        [
         "1",
         "39.0",
         "Female",
         "31678.0",
         "Divorced",
         "3.0",
         "Master's",
         null,
         "15.569730989408043",
         "Rural",
         "Comprehensive",
         "1.0",
         "12.0",
         "694.0",
         "2.0",
         "2023-06-12 15:21:39.111551",
         "Average",
         "Yes",
         "Monthly",
         "House",
         "1483.0"
        ],
        [
         "2",
         "23.0",
         "Male",
         "25602.0",
         "Divorced",
         "3.0",
         "High School",
         "Self-Employed",
         "47.17754928786464",
         "Suburban",
         "Premium",
         "1.0",
         "14.0",
         null,
         "3.0",
         "2023-09-30 15:21:39.221386",
         "Good",
         "Yes",
         "Weekly",
         "House",
         "567.0"
        ],
        [
         "3",
         "21.0",
         "Male",
         "141855.0",
         "Married",
         "2.0",
         "Bachelor's",
         null,
         "10.938144158664583",
         "Rural",
         "Basic",
         "1.0",
         "0.0",
         "367.0",
         "1.0",
         "2024-06-12 15:21:39.226954",
         "Poor",
         "Yes",
         "Daily",
         "Apartment",
         "765.0"
        ],
        [
         "4",
         "21.0",
         "Male",
         "39651.0",
         "Single",
         "1.0",
         "Bachelor's",
         "Self-Employed",
         "20.376093627736925",
         "Rural",
         "Premium",
         "0.0",
         "8.0",
         "598.0",
         "4.0",
         "2021-12-01 15:21:39.252145",
         "Poor",
         "Yes",
         "Weekly",
         "House",
         "2022.0"
        ]
       ],
       "shape": {
        "columns": 20,
        "rows": 5
       }
      },
      "text/html": [
       "<div>\n",
       "<style scoped>\n",
       "    .dataframe tbody tr th:only-of-type {\n",
       "        vertical-align: middle;\n",
       "    }\n",
       "\n",
       "    .dataframe tbody tr th {\n",
       "        vertical-align: top;\n",
       "    }\n",
       "\n",
       "    .dataframe thead th {\n",
       "        text-align: right;\n",
       "    }\n",
       "</style>\n",
       "<table border=\"1\" class=\"dataframe\">\n",
       "  <thead>\n",
       "    <tr style=\"text-align: right;\">\n",
       "      <th></th>\n",
       "      <th>Age</th>\n",
       "      <th>Gender</th>\n",
       "      <th>Annual Income</th>\n",
       "      <th>Marital Status</th>\n",
       "      <th>Number of Dependents</th>\n",
       "      <th>Education Level</th>\n",
       "      <th>Occupation</th>\n",
       "      <th>Health Score</th>\n",
       "      <th>Location</th>\n",
       "      <th>Policy Type</th>\n",
       "      <th>Previous Claims</th>\n",
       "      <th>Vehicle Age</th>\n",
       "      <th>Credit Score</th>\n",
       "      <th>Insurance Duration</th>\n",
       "      <th>Policy Start Date</th>\n",
       "      <th>Customer Feedback</th>\n",
       "      <th>Smoking Status</th>\n",
       "      <th>Exercise Frequency</th>\n",
       "      <th>Property Type</th>\n",
       "      <th>Premium Amount</th>\n",
       "    </tr>\n",
       "    <tr>\n",
       "      <th>id</th>\n",
       "      <th></th>\n",
       "      <th></th>\n",
       "      <th></th>\n",
       "      <th></th>\n",
       "      <th></th>\n",
       "      <th></th>\n",
       "      <th></th>\n",
       "      <th></th>\n",
       "      <th></th>\n",
       "      <th></th>\n",
       "      <th></th>\n",
       "      <th></th>\n",
       "      <th></th>\n",
       "      <th></th>\n",
       "      <th></th>\n",
       "      <th></th>\n",
       "      <th></th>\n",
       "      <th></th>\n",
       "      <th></th>\n",
       "      <th></th>\n",
       "    </tr>\n",
       "  </thead>\n",
       "  <tbody>\n",
       "    <tr>\n",
       "      <th>0</th>\n",
       "      <td>19.0</td>\n",
       "      <td>Female</td>\n",
       "      <td>10049.0</td>\n",
       "      <td>Married</td>\n",
       "      <td>1.0</td>\n",
       "      <td>Bachelor's</td>\n",
       "      <td>Self-Employed</td>\n",
       "      <td>22.598761</td>\n",
       "      <td>Urban</td>\n",
       "      <td>Premium</td>\n",
       "      <td>2.0</td>\n",
       "      <td>17.0</td>\n",
       "      <td>372.0</td>\n",
       "      <td>5.0</td>\n",
       "      <td>2023-12-23 15:21:39.134960</td>\n",
       "      <td>Poor</td>\n",
       "      <td>No</td>\n",
       "      <td>Weekly</td>\n",
       "      <td>House</td>\n",
       "      <td>2869.0</td>\n",
       "    </tr>\n",
       "    <tr>\n",
       "      <th>1</th>\n",
       "      <td>39.0</td>\n",
       "      <td>Female</td>\n",
       "      <td>31678.0</td>\n",
       "      <td>Divorced</td>\n",
       "      <td>3.0</td>\n",
       "      <td>Master's</td>\n",
       "      <td>NaN</td>\n",
       "      <td>15.569731</td>\n",
       "      <td>Rural</td>\n",
       "      <td>Comprehensive</td>\n",
       "      <td>1.0</td>\n",
       "      <td>12.0</td>\n",
       "      <td>694.0</td>\n",
       "      <td>2.0</td>\n",
       "      <td>2023-06-12 15:21:39.111551</td>\n",
       "      <td>Average</td>\n",
       "      <td>Yes</td>\n",
       "      <td>Monthly</td>\n",
       "      <td>House</td>\n",
       "      <td>1483.0</td>\n",
       "    </tr>\n",
       "    <tr>\n",
       "      <th>2</th>\n",
       "      <td>23.0</td>\n",
       "      <td>Male</td>\n",
       "      <td>25602.0</td>\n",
       "      <td>Divorced</td>\n",
       "      <td>3.0</td>\n",
       "      <td>High School</td>\n",
       "      <td>Self-Employed</td>\n",
       "      <td>47.177549</td>\n",
       "      <td>Suburban</td>\n",
       "      <td>Premium</td>\n",
       "      <td>1.0</td>\n",
       "      <td>14.0</td>\n",
       "      <td>NaN</td>\n",
       "      <td>3.0</td>\n",
       "      <td>2023-09-30 15:21:39.221386</td>\n",
       "      <td>Good</td>\n",
       "      <td>Yes</td>\n",
       "      <td>Weekly</td>\n",
       "      <td>House</td>\n",
       "      <td>567.0</td>\n",
       "    </tr>\n",
       "    <tr>\n",
       "      <th>3</th>\n",
       "      <td>21.0</td>\n",
       "      <td>Male</td>\n",
       "      <td>141855.0</td>\n",
       "      <td>Married</td>\n",
       "      <td>2.0</td>\n",
       "      <td>Bachelor's</td>\n",
       "      <td>NaN</td>\n",
       "      <td>10.938144</td>\n",
       "      <td>Rural</td>\n",
       "      <td>Basic</td>\n",
       "      <td>1.0</td>\n",
       "      <td>0.0</td>\n",
       "      <td>367.0</td>\n",
       "      <td>1.0</td>\n",
       "      <td>2024-06-12 15:21:39.226954</td>\n",
       "      <td>Poor</td>\n",
       "      <td>Yes</td>\n",
       "      <td>Daily</td>\n",
       "      <td>Apartment</td>\n",
       "      <td>765.0</td>\n",
       "    </tr>\n",
       "    <tr>\n",
       "      <th>4</th>\n",
       "      <td>21.0</td>\n",
       "      <td>Male</td>\n",
       "      <td>39651.0</td>\n",
       "      <td>Single</td>\n",
       "      <td>1.0</td>\n",
       "      <td>Bachelor's</td>\n",
       "      <td>Self-Employed</td>\n",
       "      <td>20.376094</td>\n",
       "      <td>Rural</td>\n",
       "      <td>Premium</td>\n",
       "      <td>0.0</td>\n",
       "      <td>8.0</td>\n",
       "      <td>598.0</td>\n",
       "      <td>4.0</td>\n",
       "      <td>2021-12-01 15:21:39.252145</td>\n",
       "      <td>Poor</td>\n",
       "      <td>Yes</td>\n",
       "      <td>Weekly</td>\n",
       "      <td>House</td>\n",
       "      <td>2022.0</td>\n",
       "    </tr>\n",
       "  </tbody>\n",
       "</table>\n",
       "</div>"
      ],
      "text/plain": [
       "     Age  Gender  Annual Income Marital Status  Number of Dependents  \\\n",
       "id                                                                     \n",
       "0   19.0  Female        10049.0        Married                   1.0   \n",
       "1   39.0  Female        31678.0       Divorced                   3.0   \n",
       "2   23.0    Male        25602.0       Divorced                   3.0   \n",
       "3   21.0    Male       141855.0        Married                   2.0   \n",
       "4   21.0    Male        39651.0         Single                   1.0   \n",
       "\n",
       "   Education Level     Occupation  Health Score  Location    Policy Type  \\\n",
       "id                                                                         \n",
       "0       Bachelor's  Self-Employed     22.598761     Urban        Premium   \n",
       "1         Master's            NaN     15.569731     Rural  Comprehensive   \n",
       "2      High School  Self-Employed     47.177549  Suburban        Premium   \n",
       "3       Bachelor's            NaN     10.938144     Rural          Basic   \n",
       "4       Bachelor's  Self-Employed     20.376094     Rural        Premium   \n",
       "\n",
       "    Previous Claims  Vehicle Age  Credit Score  Insurance Duration  \\\n",
       "id                                                                   \n",
       "0               2.0         17.0         372.0                 5.0   \n",
       "1               1.0         12.0         694.0                 2.0   \n",
       "2               1.0         14.0           NaN                 3.0   \n",
       "3               1.0          0.0         367.0                 1.0   \n",
       "4               0.0          8.0         598.0                 4.0   \n",
       "\n",
       "             Policy Start Date Customer Feedback Smoking Status  \\\n",
       "id                                                                \n",
       "0   2023-12-23 15:21:39.134960              Poor             No   \n",
       "1   2023-06-12 15:21:39.111551           Average            Yes   \n",
       "2   2023-09-30 15:21:39.221386              Good            Yes   \n",
       "3   2024-06-12 15:21:39.226954              Poor            Yes   \n",
       "4   2021-12-01 15:21:39.252145              Poor            Yes   \n",
       "\n",
       "   Exercise Frequency Property Type  Premium Amount  \n",
       "id                                                   \n",
       "0              Weekly         House          2869.0  \n",
       "1             Monthly         House          1483.0  \n",
       "2              Weekly         House           567.0  \n",
       "3               Daily     Apartment           765.0  \n",
       "4              Weekly         House          2022.0  "
      ]
     },
     "execution_count": 3,
     "metadata": {},
     "output_type": "execute_result"
    }
   ],
   "source": [
    "df = pd.read_csv(TRAIN_PATH, index_col=\"id\")\n",
    "\n",
    "print(\"Train DataFrame\")\n",
    "df.head()"
   ]
  },
  {
   "cell_type": "code",
   "execution_count": 4,
   "metadata": {
    "colab": {
     "base_uri": "https://localhost:8080/"
    },
    "executionInfo": {
     "elapsed": 688,
     "status": "ok",
     "timestamp": 1739517712390,
     "user": {
      "displayName": "Иван Елькин",
      "userId": "12386214062098670036"
     },
     "user_tz": -300
    },
    "id": "es4_8V7Txk6c",
    "outputId": "53bcb04d-ff5d-41be-d3f6-94635a24188a"
   },
   "outputs": [
    {
     "name": "stdout",
     "output_type": "stream",
     "text": [
      "<class 'pandas.core.frame.DataFrame'>\n",
      "Index: 1200000 entries, 0 to 1199999\n",
      "Data columns (total 20 columns):\n",
      " #   Column                Non-Null Count    Dtype  \n",
      "---  ------                --------------    -----  \n",
      " 0   Age                   1181295 non-null  float64\n",
      " 1   Gender                1200000 non-null  object \n",
      " 2   Annual Income         1155051 non-null  float64\n",
      " 3   Marital Status        1181471 non-null  object \n",
      " 4   Number of Dependents  1090328 non-null  float64\n",
      " 5   Education Level       1200000 non-null  object \n",
      " 6   Occupation            841925 non-null   object \n",
      " 7   Health Score          1125924 non-null  float64\n",
      " 8   Location              1200000 non-null  object \n",
      " 9   Policy Type           1200000 non-null  object \n",
      " 10  Previous Claims       835971 non-null   float64\n",
      " 11  Vehicle Age           1199994 non-null  float64\n",
      " 12  Credit Score          1062118 non-null  float64\n",
      " 13  Insurance Duration    1199999 non-null  float64\n",
      " 14  Policy Start Date     1200000 non-null  object \n",
      " 15  Customer Feedback     1122176 non-null  object \n",
      " 16  Smoking Status        1200000 non-null  object \n",
      " 17  Exercise Frequency    1200000 non-null  object \n",
      " 18  Property Type         1200000 non-null  object \n",
      " 19  Premium Amount        1200000 non-null  float64\n",
      "dtypes: float64(9), object(11)\n",
      "memory usage: 192.3+ MB\n"
     ]
    }
   ],
   "source": [
    "df.info()"
   ]
  },
  {
   "cell_type": "markdown",
   "metadata": {
    "id": "dVelsvIAxqkR"
   },
   "source": [
    "## Исследовательский анализ данных"
   ]
  },
  {
   "cell_type": "code",
   "execution_count": 5,
   "metadata": {
    "executionInfo": {
     "elapsed": 5,
     "status": "ok",
     "timestamp": 1739517712390,
     "user": {
      "displayName": "Иван Елькин",
      "userId": "12386214062098670036"
     },
     "user_tz": -300
    },
    "id": "p31xO-Xl07G9"
   },
   "outputs": [],
   "source": [
    "# Удалим колонку с датой\n",
    "df = df.drop(columns=[\"Policy Start Date\"])\n",
    "\n",
    "# Выделим числовые и категориальные признаки\n",
    "numeric_columns = [\n",
    "    col for col in df.columns if df[col].dtype == \"float64\" if col != TARGET\n",
    "]\n",
    "categoric_columns = [col for col in df.columns if df[col].dtype == \"object\"]"
   ]
  },
  {
   "cell_type": "markdown",
   "metadata": {},
   "source": [
    "Проверка дубликатов."
   ]
  },
  {
   "cell_type": "code",
   "execution_count": 6,
   "metadata": {},
   "outputs": [
    {
     "name": "stdout",
     "output_type": "stream",
     "text": [
      "Количество дубликатов: 1\n"
     ]
    }
   ],
   "source": [
    "print(f\"Количество дубликатов: {df.duplicated().sum()}\")"
   ]
  },
  {
   "cell_type": "markdown",
   "metadata": {},
   "source": [
    "Удаление дубликатов."
   ]
  },
  {
   "cell_type": "code",
   "execution_count": 7,
   "metadata": {},
   "outputs": [
    {
     "name": "stdout",
     "output_type": "stream",
     "text": [
      "Количество дубликатов: 0\n"
     ]
    }
   ],
   "source": [
    "df = df.drop_duplicates()\n",
    "df.reset_index(drop=True, inplace=True)\n",
    "\n",
    "print(f\"Количество дубликатов: {df.duplicated().sum()}\")"
   ]
  },
  {
   "cell_type": "code",
   "execution_count": 8,
   "metadata": {
    "executionInfo": {
     "elapsed": 4,
     "status": "ok",
     "timestamp": 1739517712390,
     "user": {
      "displayName": "Иван Елькин",
      "userId": "12386214062098670036"
     },
     "user_tz": -300
    },
    "id": "HOq9-DBZxqkR"
   },
   "outputs": [],
   "source": [
    "def numeric_columns_stats(df):\n",
    "    stats = pd.DataFrame(index=df.columns)\n",
    "    stats[\"Доля пропусков\"] = df.isnull().mean()\n",
    "    stats[\"Минимум\"] = df.min().round(2)\n",
    "    stats[\"Максимум\"] = df.max().round(2)\n",
    "    stats[\"Среднее\"] = df.mean().round(2)\n",
    "    stats[\"Медиана\"] = df.median().round(2)\n",
    "    stats[\"Дисперсия\"] = df.var().round(2)\n",
    "    stats[\"Квантиль 0.1\"] = df.quantile(0.1).round(2)\n",
    "    stats[\"Квантиль 0.9\"] = df.quantile(0.9).round(2)\n",
    "    stats[\"Квартиль 1\"] = df.quantile(0.25).round(2)\n",
    "    stats[\"Квартиль 3\"] = df.quantile(0.75).round(2)\n",
    "\n",
    "    return stats\n",
    "\n",
    "\n",
    "def categoric_columns_stats(df):\n",
    "    stats = pd.DataFrame(index=df.columns)\n",
    "    stats[\"Доля пропусков\"] = df.isnull().mean()\n",
    "    stats[\"Количество уникальных значений\"] = df.nunique()\n",
    "    stats[\"Мода\"] = df.mode().transpose()\n",
    "\n",
    "    return stats"
   ]
  },
  {
   "cell_type": "code",
   "execution_count": 9,
   "metadata": {
    "colab": {
     "base_uri": "https://localhost:8080/",
     "height": 332
    },
    "executionInfo": {
     "elapsed": 1533,
     "status": "ok",
     "timestamp": 1739517713920,
     "user": {
      "displayName": "Иван Елькин",
      "userId": "12386214062098670036"
     },
     "user_tz": -300
    },
    "id": "NVjwK7aB4FsR",
    "outputId": "3cd3d8fd-edfb-45ab-a154-059ad45191af"
   },
   "outputs": [
    {
     "data": {
      "application/vnd.microsoft.datawrangler.viewer.v0+json": {
       "columns": [
        {
         "name": "index",
         "rawType": "object",
         "type": "string"
        },
        {
         "name": "Доля пропусков",
         "rawType": "float64",
         "type": "float"
        },
        {
         "name": "Минимум",
         "rawType": "float64",
         "type": "float"
        },
        {
         "name": "Максимум",
         "rawType": "float64",
         "type": "float"
        },
        {
         "name": "Среднее",
         "rawType": "float64",
         "type": "float"
        },
        {
         "name": "Медиана",
         "rawType": "float64",
         "type": "float"
        },
        {
         "name": "Дисперсия",
         "rawType": "float64",
         "type": "float"
        },
        {
         "name": "Квантиль 0.1",
         "rawType": "float64",
         "type": "float"
        },
        {
         "name": "Квантиль 0.9",
         "rawType": "float64",
         "type": "float"
        },
        {
         "name": "Квартиль 1",
         "rawType": "float64",
         "type": "float"
        },
        {
         "name": "Квартиль 3",
         "rawType": "float64",
         "type": "float"
        }
       ],
       "conversionMethod": "pd.DataFrame",
       "ref": "76a393d1-7a26-413b-b5fe-dab2de024ae8",
       "rows": [
        [
         "Age",
         "0.015587512989594158",
         "18.0",
         "64.0",
         "41.15",
         "41.0",
         "183.33",
         "22.0",
         "60.0",
         "30.0",
         "53.0"
        ],
        [
         "Annual Income",
         "0.037457531214609346",
         "1.0",
         "149997.0",
         "32745.21",
         "23911.0",
         "1035521483.95",
         "2626.9",
         "81075.0",
         "8001.0",
         "44634.0"
        ],
        [
         "Number of Dependents",
         "0.09139340949450792",
         "0.0",
         "4.0",
         "2.01",
         "2.0",
         "2.01",
         "0.0",
         "4.0",
         "1.0",
         "3.0"
        ],
        [
         "Health Score",
         "0.06173005144170954",
         "2.01",
         "58.98",
         "25.61",
         "24.58",
         "148.92",
         "9.94",
         "43.28",
         "15.92",
         "34.53"
        ],
        [
         "Previous Claims",
         "0.3033577527981273",
         "0.0",
         "9.0",
         "1.0",
         "1.0",
         "0.97",
         "0.0",
         "2.0",
         "0.0",
         "2.0"
        ],
        [
         "Vehicle Age",
         "5.000004166670139e-06",
         "0.0",
         "19.0",
         "9.57",
         "10.0",
         "33.36",
         "2.0",
         "18.0",
         "5.0",
         "15.0"
        ],
        [
         "Credit Score",
         "0.11490176241813535",
         "300.0",
         "849.0",
         "592.92",
         "595.0",
         "22494.58",
         "383.0",
         "792.0",
         "468.0",
         "721.0"
        ],
        [
         "Insurance Duration",
         "8.333340277783565e-07",
         "1.0",
         "9.0",
         "5.02",
         "5.0",
         "6.73",
         "1.0",
         "9.0",
         "3.0",
         "7.0"
        ],
        [
         "Premium Amount",
         "0.0",
         "20.0",
         "4999.0",
         "1102.55",
         "872.0",
         "748223.51",
         "150.0",
         "2363.0",
         "514.0",
         "1509.0"
        ]
       ],
       "shape": {
        "columns": 10,
        "rows": 9
       }
      },
      "text/html": [
       "<div>\n",
       "<style scoped>\n",
       "    .dataframe tbody tr th:only-of-type {\n",
       "        vertical-align: middle;\n",
       "    }\n",
       "\n",
       "    .dataframe tbody tr th {\n",
       "        vertical-align: top;\n",
       "    }\n",
       "\n",
       "    .dataframe thead th {\n",
       "        text-align: right;\n",
       "    }\n",
       "</style>\n",
       "<table border=\"1\" class=\"dataframe\">\n",
       "  <thead>\n",
       "    <tr style=\"text-align: right;\">\n",
       "      <th></th>\n",
       "      <th>Доля пропусков</th>\n",
       "      <th>Минимум</th>\n",
       "      <th>Максимум</th>\n",
       "      <th>Среднее</th>\n",
       "      <th>Медиана</th>\n",
       "      <th>Дисперсия</th>\n",
       "      <th>Квантиль 0.1</th>\n",
       "      <th>Квантиль 0.9</th>\n",
       "      <th>Квартиль 1</th>\n",
       "      <th>Квартиль 3</th>\n",
       "    </tr>\n",
       "  </thead>\n",
       "  <tbody>\n",
       "    <tr>\n",
       "      <th>Age</th>\n",
       "      <td>1.558751e-02</td>\n",
       "      <td>18.00</td>\n",
       "      <td>64.00</td>\n",
       "      <td>41.15</td>\n",
       "      <td>41.00</td>\n",
       "      <td>1.833300e+02</td>\n",
       "      <td>22.00</td>\n",
       "      <td>60.00</td>\n",
       "      <td>30.00</td>\n",
       "      <td>53.00</td>\n",
       "    </tr>\n",
       "    <tr>\n",
       "      <th>Annual Income</th>\n",
       "      <td>3.745753e-02</td>\n",
       "      <td>1.00</td>\n",
       "      <td>149997.00</td>\n",
       "      <td>32745.21</td>\n",
       "      <td>23911.00</td>\n",
       "      <td>1.035521e+09</td>\n",
       "      <td>2626.90</td>\n",
       "      <td>81075.00</td>\n",
       "      <td>8001.00</td>\n",
       "      <td>44634.00</td>\n",
       "    </tr>\n",
       "    <tr>\n",
       "      <th>Number of Dependents</th>\n",
       "      <td>9.139341e-02</td>\n",
       "      <td>0.00</td>\n",
       "      <td>4.00</td>\n",
       "      <td>2.01</td>\n",
       "      <td>2.00</td>\n",
       "      <td>2.010000e+00</td>\n",
       "      <td>0.00</td>\n",
       "      <td>4.00</td>\n",
       "      <td>1.00</td>\n",
       "      <td>3.00</td>\n",
       "    </tr>\n",
       "    <tr>\n",
       "      <th>Health Score</th>\n",
       "      <td>6.173005e-02</td>\n",
       "      <td>2.01</td>\n",
       "      <td>58.98</td>\n",
       "      <td>25.61</td>\n",
       "      <td>24.58</td>\n",
       "      <td>1.489200e+02</td>\n",
       "      <td>9.94</td>\n",
       "      <td>43.28</td>\n",
       "      <td>15.92</td>\n",
       "      <td>34.53</td>\n",
       "    </tr>\n",
       "    <tr>\n",
       "      <th>Previous Claims</th>\n",
       "      <td>3.033578e-01</td>\n",
       "      <td>0.00</td>\n",
       "      <td>9.00</td>\n",
       "      <td>1.00</td>\n",
       "      <td>1.00</td>\n",
       "      <td>9.700000e-01</td>\n",
       "      <td>0.00</td>\n",
       "      <td>2.00</td>\n",
       "      <td>0.00</td>\n",
       "      <td>2.00</td>\n",
       "    </tr>\n",
       "    <tr>\n",
       "      <th>Vehicle Age</th>\n",
       "      <td>5.000004e-06</td>\n",
       "      <td>0.00</td>\n",
       "      <td>19.00</td>\n",
       "      <td>9.57</td>\n",
       "      <td>10.00</td>\n",
       "      <td>3.336000e+01</td>\n",
       "      <td>2.00</td>\n",
       "      <td>18.00</td>\n",
       "      <td>5.00</td>\n",
       "      <td>15.00</td>\n",
       "    </tr>\n",
       "    <tr>\n",
       "      <th>Credit Score</th>\n",
       "      <td>1.149018e-01</td>\n",
       "      <td>300.00</td>\n",
       "      <td>849.00</td>\n",
       "      <td>592.92</td>\n",
       "      <td>595.00</td>\n",
       "      <td>2.249458e+04</td>\n",
       "      <td>383.00</td>\n",
       "      <td>792.00</td>\n",
       "      <td>468.00</td>\n",
       "      <td>721.00</td>\n",
       "    </tr>\n",
       "    <tr>\n",
       "      <th>Insurance Duration</th>\n",
       "      <td>8.333340e-07</td>\n",
       "      <td>1.00</td>\n",
       "      <td>9.00</td>\n",
       "      <td>5.02</td>\n",
       "      <td>5.00</td>\n",
       "      <td>6.730000e+00</td>\n",
       "      <td>1.00</td>\n",
       "      <td>9.00</td>\n",
       "      <td>3.00</td>\n",
       "      <td>7.00</td>\n",
       "    </tr>\n",
       "    <tr>\n",
       "      <th>Premium Amount</th>\n",
       "      <td>0.000000e+00</td>\n",
       "      <td>20.00</td>\n",
       "      <td>4999.00</td>\n",
       "      <td>1102.55</td>\n",
       "      <td>872.00</td>\n",
       "      <td>7.482235e+05</td>\n",
       "      <td>150.00</td>\n",
       "      <td>2363.00</td>\n",
       "      <td>514.00</td>\n",
       "      <td>1509.00</td>\n",
       "    </tr>\n",
       "  </tbody>\n",
       "</table>\n",
       "</div>"
      ],
      "text/plain": [
       "                      Доля пропусков  Минимум   Максимум   Среднее   Медиана  \\\n",
       "Age                     1.558751e-02    18.00      64.00     41.15     41.00   \n",
       "Annual Income           3.745753e-02     1.00  149997.00  32745.21  23911.00   \n",
       "Number of Dependents    9.139341e-02     0.00       4.00      2.01      2.00   \n",
       "Health Score            6.173005e-02     2.01      58.98     25.61     24.58   \n",
       "Previous Claims         3.033578e-01     0.00       9.00      1.00      1.00   \n",
       "Vehicle Age             5.000004e-06     0.00      19.00      9.57     10.00   \n",
       "Credit Score            1.149018e-01   300.00     849.00    592.92    595.00   \n",
       "Insurance Duration      8.333340e-07     1.00       9.00      5.02      5.00   \n",
       "Premium Amount          0.000000e+00    20.00    4999.00   1102.55    872.00   \n",
       "\n",
       "                         Дисперсия  Квантиль 0.1  Квантиль 0.9  Квартиль 1  \\\n",
       "Age                   1.833300e+02         22.00         60.00       30.00   \n",
       "Annual Income         1.035521e+09       2626.90      81075.00     8001.00   \n",
       "Number of Dependents  2.010000e+00          0.00          4.00        1.00   \n",
       "Health Score          1.489200e+02          9.94         43.28       15.92   \n",
       "Previous Claims       9.700000e-01          0.00          2.00        0.00   \n",
       "Vehicle Age           3.336000e+01          2.00         18.00        5.00   \n",
       "Credit Score          2.249458e+04        383.00        792.00      468.00   \n",
       "Insurance Duration    6.730000e+00          1.00          9.00        3.00   \n",
       "Premium Amount        7.482235e+05        150.00       2363.00      514.00   \n",
       "\n",
       "                      Квартиль 3  \n",
       "Age                        53.00  \n",
       "Annual Income           44634.00  \n",
       "Number of Dependents        3.00  \n",
       "Health Score               34.53  \n",
       "Previous Claims             2.00  \n",
       "Vehicle Age                15.00  \n",
       "Credit Score              721.00  \n",
       "Insurance Duration          7.00  \n",
       "Premium Amount           1509.00  "
      ]
     },
     "execution_count": 9,
     "metadata": {},
     "output_type": "execute_result"
    }
   ],
   "source": [
    "# Результаты EDA для числовых признаков\n",
    "numeric_columns_stats(df[numeric_columns + [TARGET]])"
   ]
  },
  {
   "cell_type": "code",
   "execution_count": 10,
   "metadata": {
    "colab": {
     "base_uri": "https://localhost:8080/",
     "height": 363
    },
    "executionInfo": {
     "elapsed": 2865,
     "status": "ok",
     "timestamp": 1739517716783,
     "user": {
      "displayName": "Иван Елькин",
      "userId": "12386214062098670036"
     },
     "user_tz": -300
    },
    "id": "U8tdEOpA4qUj",
    "outputId": "bc4788da-9f69-4a33-df1d-6a3e5865d260"
   },
   "outputs": [
    {
     "data": {
      "application/vnd.microsoft.datawrangler.viewer.v0+json": {
       "columns": [
        {
         "name": "index",
         "rawType": "object",
         "type": "string"
        },
        {
         "name": "Доля пропусков",
         "rawType": "float64",
         "type": "float"
        },
        {
         "name": "Количество уникальных значений",
         "rawType": "int64",
         "type": "integer"
        },
        {
         "name": "Мода",
         "rawType": "object",
         "type": "string"
        }
       ],
       "conversionMethod": "pd.DataFrame",
       "ref": "bc77d7ea-5ce0-49fd-832e-bc5139ef4190",
       "rows": [
        [
         "Gender",
         "0.0",
         "2",
         "Male"
        ],
        [
         "Marital Status",
         "0.015440846200705167",
         "3",
         "Single"
        ],
        [
         "Education Level",
         "0.0",
         "4",
         "Master's"
        ],
        [
         "Occupation",
         "0.298396081996735",
         "3",
         "Employed"
        ],
        [
         "Location",
         "0.0",
         "3",
         "Suburban"
        ],
        [
         "Policy Type",
         "0.0",
         "3",
         "Premium"
        ],
        [
         "Customer Feedback",
         "0.06485338737782281",
         "3",
         "Average"
        ],
        [
         "Smoking Status",
         "0.0",
         "2",
         "Yes"
        ],
        [
         "Exercise Frequency",
         "0.0",
         "4",
         "Weekly"
        ],
        [
         "Property Type",
         "0.0",
         "3",
         "House"
        ]
       ],
       "shape": {
        "columns": 3,
        "rows": 10
       }
      },
      "text/html": [
       "<div>\n",
       "<style scoped>\n",
       "    .dataframe tbody tr th:only-of-type {\n",
       "        vertical-align: middle;\n",
       "    }\n",
       "\n",
       "    .dataframe tbody tr th {\n",
       "        vertical-align: top;\n",
       "    }\n",
       "\n",
       "    .dataframe thead th {\n",
       "        text-align: right;\n",
       "    }\n",
       "</style>\n",
       "<table border=\"1\" class=\"dataframe\">\n",
       "  <thead>\n",
       "    <tr style=\"text-align: right;\">\n",
       "      <th></th>\n",
       "      <th>Доля пропусков</th>\n",
       "      <th>Количество уникальных значений</th>\n",
       "      <th>Мода</th>\n",
       "    </tr>\n",
       "  </thead>\n",
       "  <tbody>\n",
       "    <tr>\n",
       "      <th>Gender</th>\n",
       "      <td>0.000000</td>\n",
       "      <td>2</td>\n",
       "      <td>Male</td>\n",
       "    </tr>\n",
       "    <tr>\n",
       "      <th>Marital Status</th>\n",
       "      <td>0.015441</td>\n",
       "      <td>3</td>\n",
       "      <td>Single</td>\n",
       "    </tr>\n",
       "    <tr>\n",
       "      <th>Education Level</th>\n",
       "      <td>0.000000</td>\n",
       "      <td>4</td>\n",
       "      <td>Master's</td>\n",
       "    </tr>\n",
       "    <tr>\n",
       "      <th>Occupation</th>\n",
       "      <td>0.298396</td>\n",
       "      <td>3</td>\n",
       "      <td>Employed</td>\n",
       "    </tr>\n",
       "    <tr>\n",
       "      <th>Location</th>\n",
       "      <td>0.000000</td>\n",
       "      <td>3</td>\n",
       "      <td>Suburban</td>\n",
       "    </tr>\n",
       "    <tr>\n",
       "      <th>Policy Type</th>\n",
       "      <td>0.000000</td>\n",
       "      <td>3</td>\n",
       "      <td>Premium</td>\n",
       "    </tr>\n",
       "    <tr>\n",
       "      <th>Customer Feedback</th>\n",
       "      <td>0.064853</td>\n",
       "      <td>3</td>\n",
       "      <td>Average</td>\n",
       "    </tr>\n",
       "    <tr>\n",
       "      <th>Smoking Status</th>\n",
       "      <td>0.000000</td>\n",
       "      <td>2</td>\n",
       "      <td>Yes</td>\n",
       "    </tr>\n",
       "    <tr>\n",
       "      <th>Exercise Frequency</th>\n",
       "      <td>0.000000</td>\n",
       "      <td>4</td>\n",
       "      <td>Weekly</td>\n",
       "    </tr>\n",
       "    <tr>\n",
       "      <th>Property Type</th>\n",
       "      <td>0.000000</td>\n",
       "      <td>3</td>\n",
       "      <td>House</td>\n",
       "    </tr>\n",
       "  </tbody>\n",
       "</table>\n",
       "</div>"
      ],
      "text/plain": [
       "                    Доля пропусков  Количество уникальных значений      Мода\n",
       "Gender                    0.000000                               2      Male\n",
       "Marital Status            0.015441                               3    Single\n",
       "Education Level           0.000000                               4  Master's\n",
       "Occupation                0.298396                               3  Employed\n",
       "Location                  0.000000                               3  Suburban\n",
       "Policy Type               0.000000                               3   Premium\n",
       "Customer Feedback         0.064853                               3   Average\n",
       "Smoking Status            0.000000                               2       Yes\n",
       "Exercise Frequency        0.000000                               4    Weekly\n",
       "Property Type             0.000000                               3     House"
      ]
     },
     "execution_count": 10,
     "metadata": {},
     "output_type": "execute_result"
    }
   ],
   "source": [
    "# Результаты EDA для категориальных признаков\n",
    "categoric_columns_stats(df[categoric_columns])"
   ]
  },
  {
   "cell_type": "markdown",
   "metadata": {
    "id": "d2gOMbvs6OPe"
   },
   "source": [
    "Данные содержат пропущенные значения и имеют различный масштаб."
   ]
  },
  {
   "cell_type": "markdown",
   "metadata": {
    "id": "vrvgyL3zxqkS"
   },
   "source": [
    "## Подготовка датасета к построению моделей ML"
   ]
  },
  {
   "cell_type": "markdown",
   "metadata": {
    "id": "BuKrf47YAyYC"
   },
   "source": [
    "### Распределение целевой переменной"
   ]
  },
  {
   "cell_type": "code",
   "execution_count": 11,
   "metadata": {
    "colab": {
     "base_uri": "https://localhost:8080/",
     "height": 806
    },
    "executionInfo": {
     "elapsed": 9342,
     "status": "ok",
     "timestamp": 1739517726123,
     "user": {
      "displayName": "Иван Елькин",
      "userId": "12386214062098670036"
     },
     "user_tz": -300
    },
    "id": "g3yKJkjFxqkT",
    "outputId": "38b5706d-f974-4926-efb2-deb95535454d"
   },
   "outputs": [
    {
     "data": {
      "image/png": "[encoded data removed]",
      "text/plain": [
       "<Figure size 1000x800 with 2 Axes>"
      ]
     },
     "metadata": {},
     "output_type": "display_data"
    }
   ],
   "source": [
    "# Визуализация распределения целевой переменной\n",
    "fig, ax = plt.subplots(2, 1, figsize=(10, 8))\n",
    "\n",
    "sns.histplot(df[TARGET], bins=50, kde=True, ax=ax[0])\n",
    "ax[0].set_xlabel(\"Значение\")\n",
    "ax[0].set_ylabel(\"Частота\")\n",
    "\n",
    "sns.boxplot(df[TARGET], orient=\"h\", ax=ax[1])\n",
    "ax[1].set_xlabel(\"Значение\")\n",
    "ax[1].set_yticks([])\n",
    "\n",
    "plt.suptitle(f\"Распределение целевой переменной '{TARGET}'\")\n",
    "plt.tight_layout()\n",
    "plt.show()"
   ]
  },
  {
   "cell_type": "markdown",
   "metadata": {
    "id": "mQqL9cL_7yYC"
   },
   "source": [
    "Распределение целевого признака похоже на распределение Пуассона с тяжелым хвостом, оставим его без изменения."
   ]
  },
  {
   "cell_type": "markdown",
   "metadata": {
    "id": "alblwG82A46K"
   },
   "source": [
    "### Обработка пропусков"
   ]
  },
  {
   "cell_type": "markdown",
   "metadata": {
    "id": "HygWLH1mBCLR"
   },
   "source": [
    "Заменим пропуски числовых переменных на значение медианы, а категориальных на значение моды."
   ]
  },
  {
   "cell_type": "code",
   "execution_count": 12,
   "metadata": {
    "executionInfo": {
     "elapsed": 2290,
     "status": "ok",
     "timestamp": 1739517728409,
     "user": {
      "displayName": "Иван Елькин",
      "userId": "12386214062098670036"
     },
     "user_tz": -300
    },
    "id": "mypj4Q-7A8xa"
   },
   "outputs": [],
   "source": [
    "# Заполняем числовые переменные\n",
    "df[numeric_columns] = df[numeric_columns].fillna(df[numeric_columns].median())\n",
    "\n",
    "# Заполняем категориальные переменные\n",
    "# Для случая если встретятся 2 значения с одинаковой частотой, берем первое из них x.mode()[0]\n",
    "df[categoric_columns] = df[categoric_columns].apply(lambda x: x.fillna(x.mode()[0]))"
   ]
  },
  {
   "cell_type": "markdown",
   "metadata": {},
   "source": [
    "### Обработка выбросов"
   ]
  },
  {
   "cell_type": "code",
   "execution_count": 13,
   "metadata": {
    "colab": {
     "base_uri": "https://localhost:8080/",
     "height": 609
    },
    "executionInfo": {
     "elapsed": 25428,
     "status": "ok",
     "timestamp": 1739517753834,
     "user": {
      "displayName": "Иван Елькин",
      "userId": "12386214062098670036"
     },
     "user_tz": -300
    },
    "id": "iNBNkb0UxqkT",
    "outputId": "455f3ad2-0e78-4879-e43d-febe67c89db1"
   },
   "outputs": [
    {
     "data": {
      "image/png": "[encoded data removed]",
      "text/plain": [
       "<Figure size 1200x600 with 8 Axes>"
      ]
     },
     "metadata": {},
     "output_type": "display_data"
    }
   ],
   "source": [
    "# Отображение распределения числовых признаков до обработки выбросов\n",
    "fig, ax = plt.subplots(2, 4, figsize=(12, 6))\n",
    "\n",
    "for i, col in enumerate(numeric_columns):\n",
    "    row_idx, col_idx = divmod(i, 4)\n",
    "    sns.boxplot(df[numeric_columns][col], ax=ax[row_idx, col_idx], orient=\"h\")\n",
    "    ax[row_idx, col_idx].set_title(col)\n",
    "    ax[row_idx, col_idx].set_xlabel(None)\n",
    "    ax[row_idx, col_idx].set_yticks([])\n",
    "\n",
    "plt.suptitle(\"Распределение числовых признаков до обработки выбросов\")\n",
    "plt.tight_layout()\n",
    "plt.show()"
   ]
  },
  {
   "cell_type": "markdown",
   "metadata": {
    "id": "ujHfiZXn-ziQ"
   },
   "source": [
    "Больше всего выбросов содержит признак \"Annual Income\", в нем встречаются как экстримально малые значения (около 1.0) так и очень высокие, выше 100000.0. Заменим низкие значения на величину квантиля 0.1, а высокие на значение межквартильного интервала. Признак \"Previus Claims\" оставим без изменений, т.к. он дает информацию об особенностях поведения клиентов."
   ]
  },
  {
   "cell_type": "code",
   "execution_count": 14,
   "metadata": {
    "executionInfo": {
     "elapsed": 5,
     "status": "ok",
     "timestamp": 1739517753834,
     "user": {
      "displayName": "Иван Елькин",
      "userId": "12386214062098670036"
     },
     "user_tz": -300
    },
    "id": "VMkEtjzr__Ee"
   },
   "outputs": [],
   "source": [
    "# Функция для обработки выбросов\n",
    "def remove_outliers(df, columns):\n",
    "    for col in columns:\n",
    "        Q1 = df[col].quantile(0.25)\n",
    "        Q3 = df[col].quantile(0.75)\n",
    "        IQR = Q3 - Q1\n",
    "        lower_bound = df[col].quantile(0.1)\n",
    "        upper_bound = Q3 + 1.5 * IQR\n",
    "        df[col] = np.where(df[col] < lower_bound, lower_bound, df[col])\n",
    "        df[col] = np.where(df[col] > upper_bound, upper_bound, df[col])\n",
    "\n",
    "    return df\n",
    "\n",
    "\n",
    "df = remove_outliers(df, [\"Annual Income\"])"
   ]
  },
  {
   "cell_type": "code",
   "execution_count": 15,
   "metadata": {
    "colab": {
     "base_uri": "https://localhost:8080/",
     "height": 609
    },
    "executionInfo": {
     "elapsed": 21245,
     "status": "ok",
     "timestamp": 1739517775076,
     "user": {
      "displayName": "Иван Елькин",
      "userId": "12386214062098670036"
     },
     "user_tz": -300
    },
    "id": "2ERPi8IxAX90",
    "outputId": "ddf12b15-e69c-4ad7-e650-88a2f7ae6596"
   },
   "outputs": [
    {
     "data": {
      "image/png": "[encoded data removed]",
      "text/plain": [
       "<Figure size 1200x600 with 8 Axes>"
      ]
     },
     "metadata": {},
     "output_type": "display_data"
    }
   ],
   "source": [
    "# Отображение распределения числовых признаков после обработки выбросов\n",
    "fig, ax = plt.subplots(2, 4, figsize=(12, 6))\n",
    "\n",
    "for i, col in enumerate(numeric_columns):\n",
    "    row_idx, col_idx = divmod(i, 4)\n",
    "    sns.boxplot(df[numeric_columns][col], ax=ax[row_idx, col_idx], orient=\"h\")\n",
    "    ax[row_idx, col_idx].set_title(col)\n",
    "    ax[row_idx, col_idx].set_xlabel(None)\n",
    "    ax[row_idx, col_idx].set_yticks([])\n",
    "\n",
    "plt.suptitle(\"Распределение числовых признаков после обработки выбросов\")\n",
    "plt.tight_layout()\n",
    "plt.show()"
   ]
  },
  {
   "cell_type": "markdown",
   "metadata": {
    "id": "kos1ZHBhDAcC"
   },
   "source": [
    "Выбросы удалены."
   ]
  },
  {
   "cell_type": "markdown",
   "metadata": {
    "id": "YriEXJfXK9p1"
   },
   "source": [
    "EDA после обработки признаков."
   ]
  },
  {
   "cell_type": "code",
   "execution_count": 16,
   "metadata": {
    "colab": {
     "base_uri": "https://localhost:8080/",
     "height": 332
    },
    "executionInfo": {
     "elapsed": 1193,
     "status": "ok",
     "timestamp": 1739517776267,
     "user": {
      "displayName": "Иван Елькин",
      "userId": "12386214062098670036"
     },
     "user_tz": -300
    },
    "id": "wzxEf8c4LCjf",
    "outputId": "02996ab5-9af2-4c8f-ceef-0ca07b285413"
   },
   "outputs": [
    {
     "data": {
      "application/vnd.microsoft.datawrangler.viewer.v0+json": {
       "columns": [
        {
         "name": "index",
         "rawType": "object",
         "type": "string"
        },
        {
         "name": "Доля пропусков",
         "rawType": "float64",
         "type": "float"
        },
        {
         "name": "Минимум",
         "rawType": "float64",
         "type": "float"
        },
        {
         "name": "Максимум",
         "rawType": "float64",
         "type": "float"
        },
        {
         "name": "Среднее",
         "rawType": "float64",
         "type": "float"
        },
        {
         "name": "Медиана",
         "rawType": "float64",
         "type": "float"
        },
        {
         "name": "Дисперсия",
         "rawType": "float64",
         "type": "float"
        },
        {
         "name": "Квантиль 0.1",
         "rawType": "float64",
         "type": "float"
        },
        {
         "name": "Квантиль 0.9",
         "rawType": "float64",
         "type": "float"
        },
        {
         "name": "Квартиль 1",
         "rawType": "float64",
         "type": "float"
        },
        {
         "name": "Квартиль 3",
         "rawType": "float64",
         "type": "float"
        }
       ],
       "conversionMethod": "pd.DataFrame",
       "ref": "dedc745a-c4e8-4a3f-9b02-12b23cfd547a",
       "rows": [
        [
         "Age",
         "0.0",
         "18.0",
         "64.0",
         "41.14",
         "41.0",
         "180.47",
         "22.0",
         "60.0",
         "30.0",
         "53.0"
        ],
        [
         "Annual Income",
         "0.0",
         "2699.0",
         "96871.0",
         "31122.85",
         "23911.0",
         "757603739.81",
         "2699.0",
         "79448.2",
         "8646.0",
         "43936.0"
        ],
        [
         "Number of Dependents",
         "0.0",
         "0.0",
         "4.0",
         "2.01",
         "2.0",
         "1.83",
         "0.0",
         "4.0",
         "1.0",
         "3.0"
        ],
        [
         "Health Score",
         "0.0",
         "2.01",
         "58.98",
         "25.55",
         "24.58",
         "139.79",
         "10.19",
         "42.85",
         "16.55",
         "33.77"
        ],
        [
         "Previous Claims",
         "0.0",
         "0.0",
         "9.0",
         "1.0",
         "1.0",
         "0.67",
         "0.0",
         "2.0",
         "0.0",
         "1.0"
        ],
        [
         "Vehicle Age",
         "0.0",
         "0.0",
         "19.0",
         "9.57",
         "10.0",
         "33.36",
         "2.0",
         "18.0",
         "5.0",
         "15.0"
        ],
        [
         "Credit Score",
         "0.0",
         "300.0",
         "849.0",
         "593.16",
         "595.0",
         "19910.35",
         "393.0",
         "787.0",
         "484.0",
         "706.0"
        ],
        [
         "Insurance Duration",
         "0.0",
         "1.0",
         "9.0",
         "5.02",
         "5.0",
         "6.73",
         "1.0",
         "9.0",
         "3.0",
         "7.0"
        ],
        [
         "Premium Amount",
         "0.0",
         "20.0",
         "4999.0",
         "1102.55",
         "872.0",
         "748223.51",
         "150.0",
         "2363.0",
         "514.0",
         "1509.0"
        ]
       ],
       "shape": {
        "columns": 10,
        "rows": 9
       }
      },
      "text/html": [
       "<div>\n",
       "<style scoped>\n",
       "    .dataframe tbody tr th:only-of-type {\n",
       "        vertical-align: middle;\n",
       "    }\n",
       "\n",
       "    .dataframe tbody tr th {\n",
       "        vertical-align: top;\n",
       "    }\n",
       "\n",
       "    .dataframe thead th {\n",
       "        text-align: right;\n",
       "    }\n",
       "</style>\n",
       "<table border=\"1\" class=\"dataframe\">\n",
       "  <thead>\n",
       "    <tr style=\"text-align: right;\">\n",
       "      <th></th>\n",
       "      <th>Доля пропусков</th>\n",
       "      <th>Минимум</th>\n",
       "      <th>Максимум</th>\n",
       "      <th>Среднее</th>\n",
       "      <th>Медиана</th>\n",
       "      <th>Дисперсия</th>\n",
       "      <th>Квантиль 0.1</th>\n",
       "      <th>Квантиль 0.9</th>\n",
       "      <th>Квартиль 1</th>\n",
       "      <th>Квартиль 3</th>\n",
       "    </tr>\n",
       "  </thead>\n",
       "  <tbody>\n",
       "    <tr>\n",
       "      <th>Age</th>\n",
       "      <td>0.0</td>\n",
       "      <td>18.00</td>\n",
       "      <td>64.00</td>\n",
       "      <td>41.14</td>\n",
       "      <td>41.00</td>\n",
       "      <td>1.804700e+02</td>\n",
       "      <td>22.00</td>\n",
       "      <td>60.00</td>\n",
       "      <td>30.00</td>\n",
       "      <td>53.00</td>\n",
       "    </tr>\n",
       "    <tr>\n",
       "      <th>Annual Income</th>\n",
       "      <td>0.0</td>\n",
       "      <td>2699.00</td>\n",
       "      <td>96871.00</td>\n",
       "      <td>31122.85</td>\n",
       "      <td>23911.00</td>\n",
       "      <td>7.576037e+08</td>\n",
       "      <td>2699.00</td>\n",
       "      <td>79448.20</td>\n",
       "      <td>8646.00</td>\n",
       "      <td>43936.00</td>\n",
       "    </tr>\n",
       "    <tr>\n",
       "      <th>Number of Dependents</th>\n",
       "      <td>0.0</td>\n",
       "      <td>0.00</td>\n",
       "      <td>4.00</td>\n",
       "      <td>2.01</td>\n",
       "      <td>2.00</td>\n",
       "      <td>1.830000e+00</td>\n",
       "      <td>0.00</td>\n",
       "      <td>4.00</td>\n",
       "      <td>1.00</td>\n",
       "      <td>3.00</td>\n",
       "    </tr>\n",
       "    <tr>\n",
       "      <th>Health Score</th>\n",
       "      <td>0.0</td>\n",
       "      <td>2.01</td>\n",
       "      <td>58.98</td>\n",
       "      <td>25.55</td>\n",
       "      <td>24.58</td>\n",
       "      <td>1.397900e+02</td>\n",
       "      <td>10.19</td>\n",
       "      <td>42.85</td>\n",
       "      <td>16.55</td>\n",
       "      <td>33.77</td>\n",
       "    </tr>\n",
       "    <tr>\n",
       "      <th>Previous Claims</th>\n",
       "      <td>0.0</td>\n",
       "      <td>0.00</td>\n",
       "      <td>9.00</td>\n",
       "      <td>1.00</td>\n",
       "      <td>1.00</td>\n",
       "      <td>6.700000e-01</td>\n",
       "      <td>0.00</td>\n",
       "      <td>2.00</td>\n",
       "      <td>0.00</td>\n",
       "      <td>1.00</td>\n",
       "    </tr>\n",
       "    <tr>\n",
       "      <th>Vehicle Age</th>\n",
       "      <td>0.0</td>\n",
       "      <td>0.00</td>\n",
       "      <td>19.00</td>\n",
       "      <td>9.57</td>\n",
       "      <td>10.00</td>\n",
       "      <td>3.336000e+01</td>\n",
       "      <td>2.00</td>\n",
       "      <td>18.00</td>\n",
       "      <td>5.00</td>\n",
       "      <td>15.00</td>\n",
       "    </tr>\n",
       "    <tr>\n",
       "      <th>Credit Score</th>\n",
       "      <td>0.0</td>\n",
       "      <td>300.00</td>\n",
       "      <td>849.00</td>\n",
       "      <td>593.16</td>\n",
       "      <td>595.00</td>\n",
       "      <td>1.991035e+04</td>\n",
       "      <td>393.00</td>\n",
       "      <td>787.00</td>\n",
       "      <td>484.00</td>\n",
       "      <td>706.00</td>\n",
       "    </tr>\n",
       "    <tr>\n",
       "      <th>Insurance Duration</th>\n",
       "      <td>0.0</td>\n",
       "      <td>1.00</td>\n",
       "      <td>9.00</td>\n",
       "      <td>5.02</td>\n",
       "      <td>5.00</td>\n",
       "      <td>6.730000e+00</td>\n",
       "      <td>1.00</td>\n",
       "      <td>9.00</td>\n",
       "      <td>3.00</td>\n",
       "      <td>7.00</td>\n",
       "    </tr>\n",
       "    <tr>\n",
       "      <th>Premium Amount</th>\n",
       "      <td>0.0</td>\n",
       "      <td>20.00</td>\n",
       "      <td>4999.00</td>\n",
       "      <td>1102.55</td>\n",
       "      <td>872.00</td>\n",
       "      <td>7.482235e+05</td>\n",
       "      <td>150.00</td>\n",
       "      <td>2363.00</td>\n",
       "      <td>514.00</td>\n",
       "      <td>1509.00</td>\n",
       "    </tr>\n",
       "  </tbody>\n",
       "</table>\n",
       "</div>"
      ],
      "text/plain": [
       "                      Доля пропусков  Минимум  Максимум   Среднее   Медиана  \\\n",
       "Age                              0.0    18.00     64.00     41.14     41.00   \n",
       "Annual Income                    0.0  2699.00  96871.00  31122.85  23911.00   \n",
       "Number of Dependents             0.0     0.00      4.00      2.01      2.00   \n",
       "Health Score                     0.0     2.01     58.98     25.55     24.58   \n",
       "Previous Claims                  0.0     0.00      9.00      1.00      1.00   \n",
       "Vehicle Age                      0.0     0.00     19.00      9.57     10.00   \n",
       "Credit Score                     0.0   300.00    849.00    593.16    595.00   \n",
       "Insurance Duration               0.0     1.00      9.00      5.02      5.00   \n",
       "Premium Amount                   0.0    20.00   4999.00   1102.55    872.00   \n",
       "\n",
       "                         Дисперсия  Квантиль 0.1  Квантиль 0.9  Квартиль 1  \\\n",
       "Age                   1.804700e+02         22.00         60.00       30.00   \n",
       "Annual Income         7.576037e+08       2699.00      79448.20     8646.00   \n",
       "Number of Dependents  1.830000e+00          0.00          4.00        1.00   \n",
       "Health Score          1.397900e+02         10.19         42.85       16.55   \n",
       "Previous Claims       6.700000e-01          0.00          2.00        0.00   \n",
       "Vehicle Age           3.336000e+01          2.00         18.00        5.00   \n",
       "Credit Score          1.991035e+04        393.00        787.00      484.00   \n",
       "Insurance Duration    6.730000e+00          1.00          9.00        3.00   \n",
       "Premium Amount        7.482235e+05        150.00       2363.00      514.00   \n",
       "\n",
       "                      Квартиль 3  \n",
       "Age                        53.00  \n",
       "Annual Income           43936.00  \n",
       "Number of Dependents        3.00  \n",
       "Health Score               33.77  \n",
       "Previous Claims             1.00  \n",
       "Vehicle Age                15.00  \n",
       "Credit Score              706.00  \n",
       "Insurance Duration          7.00  \n",
       "Premium Amount           1509.00  "
      ]
     },
     "execution_count": 16,
     "metadata": {},
     "output_type": "execute_result"
    }
   ],
   "source": [
    "# Результаты EDA для числовых признаков\n",
    "numeric_columns_stats(df[numeric_columns + [TARGET]])"
   ]
  },
  {
   "cell_type": "code",
   "execution_count": 17,
   "metadata": {
    "colab": {
     "base_uri": "https://localhost:8080/",
     "height": 363
    },
    "executionInfo": {
     "elapsed": 2249,
     "status": "ok",
     "timestamp": 1739517778514,
     "user": {
      "displayName": "Иван Елькин",
      "userId": "12386214062098670036"
     },
     "user_tz": -300
    },
    "id": "_ZswQamJLCjg",
    "outputId": "e645c8c5-d588-47a0-9f9d-1c4087a27e9c"
   },
   "outputs": [
    {
     "data": {
      "application/vnd.microsoft.datawrangler.viewer.v0+json": {
       "columns": [
        {
         "name": "index",
         "rawType": "object",
         "type": "string"
        },
        {
         "name": "Доля пропусков",
         "rawType": "float64",
         "type": "float"
        },
        {
         "name": "Количество уникальных значений",
         "rawType": "int64",
         "type": "integer"
        },
        {
         "name": "Мода",
         "rawType": "object",
         "type": "string"
        }
       ],
       "conversionMethod": "pd.DataFrame",
       "ref": "02b29fb5-bfc1-4bd4-9a1c-a709cffbd1a2",
       "rows": [
        [
         "Gender",
         "0.0",
         "2",
         "Male"
        ],
        [
         "Marital Status",
         "0.0",
         "3",
         "Single"
        ],
        [
         "Education Level",
         "0.0",
         "4",
         "Master's"
        ],
        [
         "Occupation",
         "0.0",
         "3",
         "Employed"
        ],
        [
         "Location",
         "0.0",
         "3",
         "Suburban"
        ],
        [
         "Policy Type",
         "0.0",
         "3",
         "Premium"
        ],
        [
         "Customer Feedback",
         "0.0",
         "3",
         "Average"
        ],
        [
         "Smoking Status",
         "0.0",
         "2",
         "Yes"
        ],
        [
         "Exercise Frequency",
         "0.0",
         "4",
         "Weekly"
        ],
        [
         "Property Type",
         "0.0",
         "3",
         "House"
        ]
       ],
       "shape": {
        "columns": 3,
        "rows": 10
       }
      },
      "text/html": [
       "<div>\n",
       "<style scoped>\n",
       "    .dataframe tbody tr th:only-of-type {\n",
       "        vertical-align: middle;\n",
       "    }\n",
       "\n",
       "    .dataframe tbody tr th {\n",
       "        vertical-align: top;\n",
       "    }\n",
       "\n",
       "    .dataframe thead th {\n",
       "        text-align: right;\n",
       "    }\n",
       "</style>\n",
       "<table border=\"1\" class=\"dataframe\">\n",
       "  <thead>\n",
       "    <tr style=\"text-align: right;\">\n",
       "      <th></th>\n",
       "      <th>Доля пропусков</th>\n",
       "      <th>Количество уникальных значений</th>\n",
       "      <th>Мода</th>\n",
       "    </tr>\n",
       "  </thead>\n",
       "  <tbody>\n",
       "    <tr>\n",
       "      <th>Gender</th>\n",
       "      <td>0.0</td>\n",
       "      <td>2</td>\n",
       "      <td>Male</td>\n",
       "    </tr>\n",
       "    <tr>\n",
       "      <th>Marital Status</th>\n",
       "      <td>0.0</td>\n",
       "      <td>3</td>\n",
       "      <td>Single</td>\n",
       "    </tr>\n",
       "    <tr>\n",
       "      <th>Education Level</th>\n",
       "      <td>0.0</td>\n",
       "      <td>4</td>\n",
       "      <td>Master's</td>\n",
       "    </tr>\n",
       "    <tr>\n",
       "      <th>Occupation</th>\n",
       "      <td>0.0</td>\n",
       "      <td>3</td>\n",
       "      <td>Employed</td>\n",
       "    </tr>\n",
       "    <tr>\n",
       "      <th>Location</th>\n",
       "      <td>0.0</td>\n",
       "      <td>3</td>\n",
       "      <td>Suburban</td>\n",
       "    </tr>\n",
       "    <tr>\n",
       "      <th>Policy Type</th>\n",
       "      <td>0.0</td>\n",
       "      <td>3</td>\n",
       "      <td>Premium</td>\n",
       "    </tr>\n",
       "    <tr>\n",
       "      <th>Customer Feedback</th>\n",
       "      <td>0.0</td>\n",
       "      <td>3</td>\n",
       "      <td>Average</td>\n",
       "    </tr>\n",
       "    <tr>\n",
       "      <th>Smoking Status</th>\n",
       "      <td>0.0</td>\n",
       "      <td>2</td>\n",
       "      <td>Yes</td>\n",
       "    </tr>\n",
       "    <tr>\n",
       "      <th>Exercise Frequency</th>\n",
       "      <td>0.0</td>\n",
       "      <td>4</td>\n",
       "      <td>Weekly</td>\n",
       "    </tr>\n",
       "    <tr>\n",
       "      <th>Property Type</th>\n",
       "      <td>0.0</td>\n",
       "      <td>3</td>\n",
       "      <td>House</td>\n",
       "    </tr>\n",
       "  </tbody>\n",
       "</table>\n",
       "</div>"
      ],
      "text/plain": [
       "                    Доля пропусков  Количество уникальных значений      Мода\n",
       "Gender                         0.0                               2      Male\n",
       "Marital Status                 0.0                               3    Single\n",
       "Education Level                0.0                               4  Master's\n",
       "Occupation                     0.0                               3  Employed\n",
       "Location                       0.0                               3  Suburban\n",
       "Policy Type                    0.0                               3   Premium\n",
       "Customer Feedback              0.0                               3   Average\n",
       "Smoking Status                 0.0                               2       Yes\n",
       "Exercise Frequency             0.0                               4    Weekly\n",
       "Property Type                  0.0                               3     House"
      ]
     },
     "execution_count": 17,
     "metadata": {},
     "output_type": "execute_result"
    }
   ],
   "source": [
    "# Результаты EDA для категориальных признаков\n",
    "categoric_columns_stats(df[categoric_columns])"
   ]
  },
  {
   "cell_type": "markdown",
   "metadata": {
    "id": "xVojwYzyDC-k"
   },
   "source": [
    "### Кодирование категориальных переменных"
   ]
  },
  {
   "cell_type": "code",
   "execution_count": 18,
   "metadata": {
    "colab": {
     "base_uri": "https://localhost:8080/",
     "height": 304
    },
    "executionInfo": {
     "elapsed": 1341,
     "status": "ok",
     "timestamp": 1739517779852,
     "user": {
      "displayName": "Иван Елькин",
      "userId": "12386214062098670036"
     },
     "user_tz": -300
    },
    "id": "82FGUZmDDG7n",
    "outputId": "8ac75ab7-c1a6-461c-b6a6-69b91a905074"
   },
   "outputs": [
    {
     "data": {
      "application/vnd.microsoft.datawrangler.viewer.v0+json": {
       "columns": [
        {
         "name": "index",
         "rawType": "int64",
         "type": "integer"
        },
        {
         "name": "Age",
         "rawType": "float64",
         "type": "float"
        },
        {
         "name": "Annual Income",
         "rawType": "float64",
         "type": "float"
        },
        {
         "name": "Number of Dependents",
         "rawType": "float64",
         "type": "float"
        },
        {
         "name": "Health Score",
         "rawType": "float64",
         "type": "float"
        },
        {
         "name": "Previous Claims",
         "rawType": "float64",
         "type": "float"
        },
        {
         "name": "Vehicle Age",
         "rawType": "float64",
         "type": "float"
        },
        {
         "name": "Credit Score",
         "rawType": "float64",
         "type": "float"
        },
        {
         "name": "Insurance Duration",
         "rawType": "float64",
         "type": "float"
        },
        {
         "name": "Premium Amount",
         "rawType": "float64",
         "type": "float"
        },
        {
         "name": "Gender_Male",
         "rawType": "int64",
         "type": "integer"
        },
        {
         "name": "Marital Status_Married",
         "rawType": "int64",
         "type": "integer"
        },
        {
         "name": "Marital Status_Single",
         "rawType": "int64",
         "type": "integer"
        },
        {
         "name": "Education Level_High School",
         "rawType": "int64",
         "type": "integer"
        },
        {
         "name": "Education Level_Master's",
         "rawType": "int64",
         "type": "integer"
        },
        {
         "name": "Education Level_PhD",
         "rawType": "int64",
         "type": "integer"
        },
        {
         "name": "Occupation_Self-Employed",
         "rawType": "int64",
         "type": "integer"
        },
        {
         "name": "Occupation_Unemployed",
         "rawType": "int64",
         "type": "integer"
        },
        {
         "name": "Location_Suburban",
         "rawType": "int64",
         "type": "integer"
        },
        {
         "name": "Location_Urban",
         "rawType": "int64",
         "type": "integer"
        },
        {
         "name": "Policy Type_Comprehensive",
         "rawType": "int64",
         "type": "integer"
        },
        {
         "name": "Policy Type_Premium",
         "rawType": "int64",
         "type": "integer"
        },
        {
         "name": "Customer Feedback_Good",
         "rawType": "int64",
         "type": "integer"
        },
        {
         "name": "Customer Feedback_Poor",
         "rawType": "int64",
         "type": "integer"
        },
        {
         "name": "Smoking Status_Yes",
         "rawType": "int64",
         "type": "integer"
        },
        {
         "name": "Exercise Frequency_Monthly",
         "rawType": "int64",
         "type": "integer"
        },
        {
         "name": "Exercise Frequency_Rarely",
         "rawType": "int64",
         "type": "integer"
        },
        {
         "name": "Exercise Frequency_Weekly",
         "rawType": "int64",
         "type": "integer"
        },
        {
         "name": "Property Type_Condo",
         "rawType": "int64",
         "type": "integer"
        },
        {
         "name": "Property Type_House",
         "rawType": "int64",
         "type": "integer"
        }
       ],
       "conversionMethod": "pd.DataFrame",
       "ref": "b3eaba6f-17c1-419b-af7f-e191c5e8e276",
       "rows": [
        [
         "0",
         "19.0",
         "10049.0",
         "1.0",
         "22.59876067181393",
         "2.0",
         "17.0",
         "372.0",
         "5.0",
         "2869.0",
         "0",
         "1",
         "0",
         "0",
         "0",
         "0",
         "1",
         "0",
         "0",
         "1",
         "0",
         "1",
         "0",
         "1",
         "0",
         "0",
         "0",
         "1",
         "0",
         "1"
        ],
        [
         "1",
         "39.0",
         "31678.0",
         "3.0",
         "15.569730989408043",
         "1.0",
         "12.0",
         "694.0",
         "2.0",
         "1483.0",
         "0",
         "0",
         "0",
         "0",
         "1",
         "0",
         "0",
         "0",
         "0",
         "0",
         "1",
         "0",
         "0",
         "0",
         "1",
         "1",
         "0",
         "0",
         "0",
         "1"
        ],
        [
         "2",
         "23.0",
         "25602.0",
         "3.0",
         "47.17754928786464",
         "1.0",
         "14.0",
         "595.0",
         "3.0",
         "567.0",
         "1",
         "0",
         "0",
         "1",
         "0",
         "0",
         "1",
         "0",
         "1",
         "0",
         "0",
         "1",
         "1",
         "0",
         "1",
         "0",
         "0",
         "1",
         "0",
         "1"
        ],
        [
         "3",
         "21.0",
         "96871.0",
         "2.0",
         "10.938144158664583",
         "1.0",
         "0.0",
         "367.0",
         "1.0",
         "765.0",
         "1",
         "1",
         "0",
         "0",
         "0",
         "0",
         "0",
         "0",
         "0",
         "0",
         "0",
         "0",
         "0",
         "1",
         "1",
         "0",
         "0",
         "0",
         "0",
         "0"
        ],
        [
         "4",
         "21.0",
         "39651.0",
         "1.0",
         "20.376093627736925",
         "0.0",
         "8.0",
         "598.0",
         "4.0",
         "2022.0",
         "1",
         "0",
         "1",
         "0",
         "0",
         "0",
         "1",
         "0",
         "0",
         "0",
         "0",
         "1",
         "0",
         "1",
         "1",
         "0",
         "0",
         "1",
         "0",
         "1"
        ]
       ],
       "shape": {
        "columns": 29,
        "rows": 5
       }
      },
      "text/html": [
       "<div>\n",
       "<style scoped>\n",
       "    .dataframe tbody tr th:only-of-type {\n",
       "        vertical-align: middle;\n",
       "    }\n",
       "\n",
       "    .dataframe tbody tr th {\n",
       "        vertical-align: top;\n",
       "    }\n",
       "\n",
       "    .dataframe thead th {\n",
       "        text-align: right;\n",
       "    }\n",
       "</style>\n",
       "<table border=\"1\" class=\"dataframe\">\n",
       "  <thead>\n",
       "    <tr style=\"text-align: right;\">\n",
       "      <th></th>\n",
       "      <th>Age</th>\n",
       "      <th>Annual Income</th>\n",
       "      <th>Number of Dependents</th>\n",
       "      <th>Health Score</th>\n",
       "      <th>Previous Claims</th>\n",
       "      <th>Vehicle Age</th>\n",
       "      <th>Credit Score</th>\n",
       "      <th>Insurance Duration</th>\n",
       "      <th>Premium Amount</th>\n",
       "      <th>Gender_Male</th>\n",
       "      <th>...</th>\n",
       "      <th>Policy Type_Comprehensive</th>\n",
       "      <th>Policy Type_Premium</th>\n",
       "      <th>Customer Feedback_Good</th>\n",
       "      <th>Customer Feedback_Poor</th>\n",
       "      <th>Smoking Status_Yes</th>\n",
       "      <th>Exercise Frequency_Monthly</th>\n",
       "      <th>Exercise Frequency_Rarely</th>\n",
       "      <th>Exercise Frequency_Weekly</th>\n",
       "      <th>Property Type_Condo</th>\n",
       "      <th>Property Type_House</th>\n",
       "    </tr>\n",
       "  </thead>\n",
       "  <tbody>\n",
       "    <tr>\n",
       "      <th>0</th>\n",
       "      <td>19.0</td>\n",
       "      <td>10049.0</td>\n",
       "      <td>1.0</td>\n",
       "      <td>22.598761</td>\n",
       "      <td>2.0</td>\n",
       "      <td>17.0</td>\n",
       "      <td>372.0</td>\n",
       "      <td>5.0</td>\n",
       "      <td>2869.0</td>\n",
       "      <td>0</td>\n",
       "      <td>...</td>\n",
       "      <td>0</td>\n",
       "      <td>1</td>\n",
       "      <td>0</td>\n",
       "      <td>1</td>\n",
       "      <td>0</td>\n",
       "      <td>0</td>\n",
       "      <td>0</td>\n",
       "      <td>1</td>\n",
       "      <td>0</td>\n",
       "      <td>1</td>\n",
       "    </tr>\n",
       "    <tr>\n",
       "      <th>1</th>\n",
       "      <td>39.0</td>\n",
       "      <td>31678.0</td>\n",
       "      <td>3.0</td>\n",
       "      <td>15.569731</td>\n",
       "      <td>1.0</td>\n",
       "      <td>12.0</td>\n",
       "      <td>694.0</td>\n",
       "      <td>2.0</td>\n",
       "      <td>1483.0</td>\n",
       "      <td>0</td>\n",
       "      <td>...</td>\n",
       "      <td>1</td>\n",
       "      <td>0</td>\n",
       "      <td>0</td>\n",
       "      <td>0</td>\n",
       "      <td>1</td>\n",
       "      <td>1</td>\n",
       "      <td>0</td>\n",
       "      <td>0</td>\n",
       "      <td>0</td>\n",
       "      <td>1</td>\n",
       "    </tr>\n",
       "    <tr>\n",
       "      <th>2</th>\n",
       "      <td>23.0</td>\n",
       "      <td>25602.0</td>\n",
       "      <td>3.0</td>\n",
       "      <td>47.177549</td>\n",
       "      <td>1.0</td>\n",
       "      <td>14.0</td>\n",
       "      <td>595.0</td>\n",
       "      <td>3.0</td>\n",
       "      <td>567.0</td>\n",
       "      <td>1</td>\n",
       "      <td>...</td>\n",
       "      <td>0</td>\n",
       "      <td>1</td>\n",
       "      <td>1</td>\n",
       "      <td>0</td>\n",
       "      <td>1</td>\n",
       "      <td>0</td>\n",
       "      <td>0</td>\n",
       "      <td>1</td>\n",
       "      <td>0</td>\n",
       "      <td>1</td>\n",
       "    </tr>\n",
       "    <tr>\n",
       "      <th>3</th>\n",
       "      <td>21.0</td>\n",
       "      <td>96871.0</td>\n",
       "      <td>2.0</td>\n",
       "      <td>10.938144</td>\n",
       "      <td>1.0</td>\n",
       "      <td>0.0</td>\n",
       "      <td>367.0</td>\n",
       "      <td>1.0</td>\n",
       "      <td>765.0</td>\n",
       "      <td>1</td>\n",
       "      <td>...</td>\n",
       "      <td>0</td>\n",
       "      <td>0</td>\n",
       "      <td>0</td>\n",
       "      <td>1</td>\n",
       "      <td>1</td>\n",
       "      <td>0</td>\n",
       "      <td>0</td>\n",
       "      <td>0</td>\n",
       "      <td>0</td>\n",
       "      <td>0</td>\n",
       "    </tr>\n",
       "    <tr>\n",
       "      <th>4</th>\n",
       "      <td>21.0</td>\n",
       "      <td>39651.0</td>\n",
       "      <td>1.0</td>\n",
       "      <td>20.376094</td>\n",
       "      <td>0.0</td>\n",
       "      <td>8.0</td>\n",
       "      <td>598.0</td>\n",
       "      <td>4.0</td>\n",
       "      <td>2022.0</td>\n",
       "      <td>1</td>\n",
       "      <td>...</td>\n",
       "      <td>0</td>\n",
       "      <td>1</td>\n",
       "      <td>0</td>\n",
       "      <td>1</td>\n",
       "      <td>1</td>\n",
       "      <td>0</td>\n",
       "      <td>0</td>\n",
       "      <td>1</td>\n",
       "      <td>0</td>\n",
       "      <td>1</td>\n",
       "    </tr>\n",
       "  </tbody>\n",
       "</table>\n",
       "<p>5 rows × 29 columns</p>\n",
       "</div>"
      ],
      "text/plain": [
       "    Age  Annual Income  Number of Dependents  Health Score  Previous Claims  \\\n",
       "0  19.0        10049.0                   1.0     22.598761              2.0   \n",
       "1  39.0        31678.0                   3.0     15.569731              1.0   \n",
       "2  23.0        25602.0                   3.0     47.177549              1.0   \n",
       "3  21.0        96871.0                   2.0     10.938144              1.0   \n",
       "4  21.0        39651.0                   1.0     20.376094              0.0   \n",
       "\n",
       "   Vehicle Age  Credit Score  Insurance Duration  Premium Amount  Gender_Male  \\\n",
       "0         17.0         372.0                 5.0          2869.0            0   \n",
       "1         12.0         694.0                 2.0          1483.0            0   \n",
       "2         14.0         595.0                 3.0           567.0            1   \n",
       "3          0.0         367.0                 1.0           765.0            1   \n",
       "4          8.0         598.0                 4.0          2022.0            1   \n",
       "\n",
       "   ...  Policy Type_Comprehensive  Policy Type_Premium  \\\n",
       "0  ...                          0                    1   \n",
       "1  ...                          1                    0   \n",
       "2  ...                          0                    1   \n",
       "3  ...                          0                    0   \n",
       "4  ...                          0                    1   \n",
       "\n",
       "   Customer Feedback_Good  Customer Feedback_Poor  Smoking Status_Yes  \\\n",
       "0                       0                       1                   0   \n",
       "1                       0                       0                   1   \n",
       "2                       1                       0                   1   \n",
       "3                       0                       1                   1   \n",
       "4                       0                       1                   1   \n",
       "\n",
       "   Exercise Frequency_Monthly  Exercise Frequency_Rarely  \\\n",
       "0                           0                          0   \n",
       "1                           1                          0   \n",
       "2                           0                          0   \n",
       "3                           0                          0   \n",
       "4                           0                          0   \n",
       "\n",
       "   Exercise Frequency_Weekly  Property Type_Condo  Property Type_House  \n",
       "0                          1                    0                    1  \n",
       "1                          0                    0                    1  \n",
       "2                          1                    0                    1  \n",
       "3                          0                    0                    0  \n",
       "4                          1                    0                    1  \n",
       "\n",
       "[5 rows x 29 columns]"
      ]
     },
     "execution_count": 18,
     "metadata": {},
     "output_type": "execute_result"
    }
   ],
   "source": [
    "# Кодируем методом OneHotEncoding\n",
    "df = pd.get_dummies(df, columns=categoric_columns, drop_first=True, dtype=int)\n",
    "\n",
    "df.head()"
   ]
  },
  {
   "cell_type": "markdown",
   "metadata": {
    "id": "ezfYbPNwEuMi"
   },
   "source": [
    "### Анализ корреляций"
   ]
  },
  {
   "cell_type": "code",
   "execution_count": 19,
   "metadata": {
    "colab": {
     "base_uri": "https://localhost:8080/",
     "height": 1000
    },
    "executionInfo": {
     "elapsed": 1016,
     "status": "ok",
     "timestamp": 1739517780867,
     "user": {
      "displayName": "Иван Елькин",
      "userId": "12386214062098670036"
     },
     "user_tz": -300
    },
    "id": "fuN56aLJExyj",
    "outputId": "b9fafdd0-20ef-46fd-938f-a9d593e2705f"
   },
   "outputs": [
    {
     "data": {
      "image/png": "[encoded data removed]",
      "text/plain": [
       "<Figure size 1000x1000 with 2 Axes>"
      ]
     },
     "metadata": {},
     "output_type": "display_data"
    }
   ],
   "source": [
    "# Матрица корреляций\n",
    "plt.figure(figsize=(10, 10))\n",
    "correlation_matrix = df[numeric_columns + [TARGET]].corr()\n",
    "sns.heatmap(correlation_matrix, annot=True, cmap=\"coolwarm\", fmt=\".2f\")\n",
    "plt.title(\"Матрица корреляций числовых признаков\")\n",
    "plt.show()"
   ]
  },
  {
   "cell_type": "markdown",
   "metadata": {
    "id": "8aPgEo1kE__x"
   },
   "source": [
    "Заметные корреляции отсутствуют."
   ]
  },
  {
   "cell_type": "markdown",
   "metadata": {
    "id": "XW_WxsA_FQqs"
   },
   "source": [
    "### Разделение данных"
   ]
  },
  {
   "cell_type": "code",
   "execution_count": 20,
   "metadata": {
    "colab": {
     "base_uri": "https://localhost:8080/"
    },
    "executionInfo": {
     "elapsed": 18049,
     "status": "ok",
     "timestamp": 1739517801832,
     "user": {
      "displayName": "Иван Елькин",
      "userId": "12386214062098670036"
     },
     "user_tz": -300
    },
    "id": "TSU5IknRM9Kz",
    "outputId": "7e291794-6802-43e7-fbe6-34090aa37b1c"
   },
   "outputs": [
    {
     "name": "stdout",
     "output_type": "stream",
     "text": [
      "X_train.shape=(959999, 28), y_train.shape=(959999,)\n",
      "X_test.shape=(240000, 28), y_test.shape=(240000,)\n"
     ]
    },
    {
     "data": {
      "application/vnd.microsoft.datawrangler.viewer.v0+json": {
       "columns": [
        {
         "name": "index",
         "rawType": "int64",
         "type": "integer"
        },
        {
         "name": "Age",
         "rawType": "float64",
         "type": "float"
        },
        {
         "name": "Annual Income",
         "rawType": "float64",
         "type": "float"
        },
        {
         "name": "Number of Dependents",
         "rawType": "float64",
         "type": "float"
        },
        {
         "name": "Health Score",
         "rawType": "float64",
         "type": "float"
        },
        {
         "name": "Previous Claims",
         "rawType": "float64",
         "type": "float"
        },
        {
         "name": "Vehicle Age",
         "rawType": "float64",
         "type": "float"
        },
        {
         "name": "Credit Score",
         "rawType": "float64",
         "type": "float"
        },
        {
         "name": "Insurance Duration",
         "rawType": "float64",
         "type": "float"
        },
        {
         "name": "Gender_Male",
         "rawType": "int64",
         "type": "integer"
        },
        {
         "name": "Marital Status_Married",
         "rawType": "int64",
         "type": "integer"
        },
        {
         "name": "Marital Status_Single",
         "rawType": "int64",
         "type": "integer"
        },
        {
         "name": "Education Level_High School",
         "rawType": "int64",
         "type": "integer"
        },
        {
         "name": "Education Level_Master's",
         "rawType": "int64",
         "type": "integer"
        },
        {
         "name": "Education Level_PhD",
         "rawType": "int64",
         "type": "integer"
        },
        {
         "name": "Occupation_Self-Employed",
         "rawType": "int64",
         "type": "integer"
        },
        {
         "name": "Occupation_Unemployed",
         "rawType": "int64",
         "type": "integer"
        },
        {
         "name": "Location_Suburban",
         "rawType": "int64",
         "type": "integer"
        },
        {
         "name": "Location_Urban",
         "rawType": "int64",
         "type": "integer"
        },
        {
         "name": "Policy Type_Comprehensive",
         "rawType": "int64",
         "type": "integer"
        },
        {
         "name": "Policy Type_Premium",
         "rawType": "int64",
         "type": "integer"
        },
        {
         "name": "Customer Feedback_Good",
         "rawType": "int64",
         "type": "integer"
        },
        {
         "name": "Customer Feedback_Poor",
         "rawType": "int64",
         "type": "integer"
        },
        {
         "name": "Smoking Status_Yes",
         "rawType": "int64",
         "type": "integer"
        },
        {
         "name": "Exercise Frequency_Monthly",
         "rawType": "int64",
         "type": "integer"
        },
        {
         "name": "Exercise Frequency_Rarely",
         "rawType": "int64",
         "type": "integer"
        },
        {
         "name": "Exercise Frequency_Weekly",
         "rawType": "int64",
         "type": "integer"
        },
        {
         "name": "Property Type_Condo",
         "rawType": "int64",
         "type": "integer"
        },
        {
         "name": "Property Type_House",
         "rawType": "int64",
         "type": "integer"
        }
       ],
       "conversionMethod": "pd.DataFrame",
       "ref": "6f8c97cd-c334-4093-8abe-516bad1ea2fc",
       "rows": [
        [
         "419856",
         "-0.8297634547445952",
         "0.16755342993787242",
         "0.7342077465628902",
         "-0.22324640190144598",
         "-0.002622035942743126",
         "0.2475383543990471",
         "-0.9443440166827727",
         "1.5342595748152414",
         "0",
         "0",
         "0",
         "0",
         "1",
         "0",
         "0",
         "0",
         "1",
         "0",
         "1",
         "0",
         "0",
         "0",
         "1",
         "0",
         "0",
         "1",
         "0",
         "1"
        ],
        [
         "868117",
         "1.3284842383904514",
         "-0.25934791036924615",
         "-1.4866916635592542",
         "0.7842102369990421",
         "-1.2215817855783548",
         "0.07443466428510401",
         "-0.8167622661122247",
         "-0.778105100552021",
         "0",
         "0",
         "1",
         "0",
         "1",
         "0",
         "0",
         "0",
         "1",
         "0",
         "0",
         "1",
         "0",
         "0",
         "0",
         "0",
         "0",
         "0",
         "0",
         "0"
        ],
        [
         "202305",
         "-0.2343847807763065",
         "-0.5907242167443352",
         "-1.4866916635592542",
         "0.09930515137988348",
         "-0.002622035942743126",
         "-0.7910837862846114",
         "1.6002031196964903",
         "-1.1634992131132313",
         "1",
         "1",
         "0",
         "0",
         "0",
         "1",
         "1",
         "0",
         "1",
         "0",
         "0",
         "1",
         "0",
         "0",
         "0",
         "1",
         "0",
         "0",
         "0",
         "1"
        ],
        [
         "1101536",
         "-0.08554011228423435",
         "-1.027908396383049",
         "-0.006092056811157976",
         "-0.43621943678498715",
         "1.2163377136928686",
         "1.1130568049687626",
         "0.17554023832537094",
         "0.7634713496928207",
         "0",
         "0",
         "0",
         "1",
         "0",
         "0",
         "0",
         "0",
         "1",
         "0",
         "1",
         "0",
         "0",
         "1",
         "0",
         "1",
         "0",
         "0",
         "0",
         "1"
        ],
        [
         "717555",
         "-0.5320741177604509",
         "-0.9919366262831217",
         "1.4745075499369384",
         "0.6389513775646459",
         "-1.2215817855783548",
         "1.2861604950827055",
         "0.012519112596337381",
         "1.148865462254031",
         "1",
         "0",
         "1",
         "0",
         "0",
         "0",
         "0",
         "0",
         "1",
         "0",
         "1",
         "0",
         "0",
         "1",
         "0",
         "0",
         "0",
         "1",
         "1",
         "0"
        ]
       ],
       "shape": {
        "columns": 28,
        "rows": 5
       }
      },
      "text/html": [
       "<div>\n",
       "<style scoped>\n",
       "    .dataframe tbody tr th:only-of-type {\n",
       "        vertical-align: middle;\n",
       "    }\n",
       "\n",
       "    .dataframe tbody tr th {\n",
       "        vertical-align: top;\n",
       "    }\n",
       "\n",
       "    .dataframe thead th {\n",
       "        text-align: right;\n",
       "    }\n",
       "</style>\n",
       "<table border=\"1\" class=\"dataframe\">\n",
       "  <thead>\n",
       "    <tr style=\"text-align: right;\">\n",
       "      <th></th>\n",
       "      <th>Age</th>\n",
       "      <th>Annual Income</th>\n",
       "      <th>Number of Dependents</th>\n",
       "      <th>Health Score</th>\n",
       "      <th>Previous Claims</th>\n",
       "      <th>Vehicle Age</th>\n",
       "      <th>Credit Score</th>\n",
       "      <th>Insurance Duration</th>\n",
       "      <th>Gender_Male</th>\n",
       "      <th>Marital Status_Married</th>\n",
       "      <th>...</th>\n",
       "      <th>Policy Type_Comprehensive</th>\n",
       "      <th>Policy Type_Premium</th>\n",
       "      <th>Customer Feedback_Good</th>\n",
       "      <th>Customer Feedback_Poor</th>\n",
       "      <th>Smoking Status_Yes</th>\n",
       "      <th>Exercise Frequency_Monthly</th>\n",
       "      <th>Exercise Frequency_Rarely</th>\n",
       "      <th>Exercise Frequency_Weekly</th>\n",
       "      <th>Property Type_Condo</th>\n",
       "      <th>Property Type_House</th>\n",
       "    </tr>\n",
       "  </thead>\n",
       "  <tbody>\n",
       "    <tr>\n",
       "      <th>419856</th>\n",
       "      <td>-0.829763</td>\n",
       "      <td>0.167553</td>\n",
       "      <td>0.734208</td>\n",
       "      <td>-0.223246</td>\n",
       "      <td>-0.002622</td>\n",
       "      <td>0.247538</td>\n",
       "      <td>-0.944344</td>\n",
       "      <td>1.534260</td>\n",
       "      <td>0</td>\n",
       "      <td>0</td>\n",
       "      <td>...</td>\n",
       "      <td>1</td>\n",
       "      <td>0</td>\n",
       "      <td>0</td>\n",
       "      <td>0</td>\n",
       "      <td>1</td>\n",
       "      <td>0</td>\n",
       "      <td>0</td>\n",
       "      <td>1</td>\n",
       "      <td>0</td>\n",
       "      <td>1</td>\n",
       "    </tr>\n",
       "    <tr>\n",
       "      <th>868117</th>\n",
       "      <td>1.328484</td>\n",
       "      <td>-0.259348</td>\n",
       "      <td>-1.486692</td>\n",
       "      <td>0.784210</td>\n",
       "      <td>-1.221582</td>\n",
       "      <td>0.074435</td>\n",
       "      <td>-0.816762</td>\n",
       "      <td>-0.778105</td>\n",
       "      <td>0</td>\n",
       "      <td>0</td>\n",
       "      <td>...</td>\n",
       "      <td>0</td>\n",
       "      <td>1</td>\n",
       "      <td>0</td>\n",
       "      <td>0</td>\n",
       "      <td>0</td>\n",
       "      <td>0</td>\n",
       "      <td>0</td>\n",
       "      <td>0</td>\n",
       "      <td>0</td>\n",
       "      <td>0</td>\n",
       "    </tr>\n",
       "    <tr>\n",
       "      <th>202305</th>\n",
       "      <td>-0.234385</td>\n",
       "      <td>-0.590724</td>\n",
       "      <td>-1.486692</td>\n",
       "      <td>0.099305</td>\n",
       "      <td>-0.002622</td>\n",
       "      <td>-0.791084</td>\n",
       "      <td>1.600203</td>\n",
       "      <td>-1.163499</td>\n",
       "      <td>1</td>\n",
       "      <td>1</td>\n",
       "      <td>...</td>\n",
       "      <td>0</td>\n",
       "      <td>1</td>\n",
       "      <td>0</td>\n",
       "      <td>0</td>\n",
       "      <td>0</td>\n",
       "      <td>1</td>\n",
       "      <td>0</td>\n",
       "      <td>0</td>\n",
       "      <td>0</td>\n",
       "      <td>1</td>\n",
       "    </tr>\n",
       "    <tr>\n",
       "      <th>1101536</th>\n",
       "      <td>-0.085540</td>\n",
       "      <td>-1.027908</td>\n",
       "      <td>-0.006092</td>\n",
       "      <td>-0.436219</td>\n",
       "      <td>1.216338</td>\n",
       "      <td>1.113057</td>\n",
       "      <td>0.175540</td>\n",
       "      <td>0.763471</td>\n",
       "      <td>0</td>\n",
       "      <td>0</td>\n",
       "      <td>...</td>\n",
       "      <td>1</td>\n",
       "      <td>0</td>\n",
       "      <td>0</td>\n",
       "      <td>1</td>\n",
       "      <td>0</td>\n",
       "      <td>1</td>\n",
       "      <td>0</td>\n",
       "      <td>0</td>\n",
       "      <td>0</td>\n",
       "      <td>1</td>\n",
       "    </tr>\n",
       "    <tr>\n",
       "      <th>717555</th>\n",
       "      <td>-0.532074</td>\n",
       "      <td>-0.991937</td>\n",
       "      <td>1.474508</td>\n",
       "      <td>0.638951</td>\n",
       "      <td>-1.221582</td>\n",
       "      <td>1.286160</td>\n",
       "      <td>0.012519</td>\n",
       "      <td>1.148865</td>\n",
       "      <td>1</td>\n",
       "      <td>0</td>\n",
       "      <td>...</td>\n",
       "      <td>1</td>\n",
       "      <td>0</td>\n",
       "      <td>0</td>\n",
       "      <td>1</td>\n",
       "      <td>0</td>\n",
       "      <td>0</td>\n",
       "      <td>0</td>\n",
       "      <td>1</td>\n",
       "      <td>1</td>\n",
       "      <td>0</td>\n",
       "    </tr>\n",
       "  </tbody>\n",
       "</table>\n",
       "<p>5 rows × 28 columns</p>\n",
       "</div>"
      ],
      "text/plain": [
       "              Age  Annual Income  Number of Dependents  Health Score  \\\n",
       "419856  -0.829763       0.167553              0.734208     -0.223246   \n",
       "868117   1.328484      -0.259348             -1.486692      0.784210   \n",
       "202305  -0.234385      -0.590724             -1.486692      0.099305   \n",
       "1101536 -0.085540      -1.027908             -0.006092     -0.436219   \n",
       "717555  -0.532074      -0.991937              1.474508      0.638951   \n",
       "\n",
       "         Previous Claims  Vehicle Age  Credit Score  Insurance Duration  \\\n",
       "419856         -0.002622     0.247538     -0.944344            1.534260   \n",
       "868117         -1.221582     0.074435     -0.816762           -0.778105   \n",
       "202305         -0.002622    -0.791084      1.600203           -1.163499   \n",
       "1101536         1.216338     1.113057      0.175540            0.763471   \n",
       "717555         -1.221582     1.286160      0.012519            1.148865   \n",
       "\n",
       "         Gender_Male  Marital Status_Married  ...  Policy Type_Comprehensive  \\\n",
       "419856             0                       0  ...                          1   \n",
       "868117             0                       0  ...                          0   \n",
       "202305             1                       1  ...                          0   \n",
       "1101536            0                       0  ...                          1   \n",
       "717555             1                       0  ...                          1   \n",
       "\n",
       "         Policy Type_Premium  Customer Feedback_Good  Customer Feedback_Poor  \\\n",
       "419856                     0                       0                       0   \n",
       "868117                     1                       0                       0   \n",
       "202305                     1                       0                       0   \n",
       "1101536                    0                       0                       1   \n",
       "717555                     0                       0                       1   \n",
       "\n",
       "         Smoking Status_Yes  Exercise Frequency_Monthly  \\\n",
       "419856                    1                           0   \n",
       "868117                    0                           0   \n",
       "202305                    0                           1   \n",
       "1101536                   0                           1   \n",
       "717555                    0                           0   \n",
       "\n",
       "         Exercise Frequency_Rarely  Exercise Frequency_Weekly  \\\n",
       "419856                           0                          1   \n",
       "868117                           0                          0   \n",
       "202305                           0                          0   \n",
       "1101536                          0                          0   \n",
       "717555                           0                          1   \n",
       "\n",
       "         Property Type_Condo  Property Type_House  \n",
       "419856                     0                    1  \n",
       "868117                     0                    0  \n",
       "202305                     0                    1  \n",
       "1101536                    0                    1  \n",
       "717555                     1                    0  \n",
       "\n",
       "[5 rows x 28 columns]"
      ]
     },
     "execution_count": 20,
     "metadata": {},
     "output_type": "execute_result"
    }
   ],
   "source": [
    "X = df.drop(columns=[TARGET])\n",
    "y = df[TARGET]\n",
    "\n",
    "X_train, X_test, y_train, y_test = train_test_split(\n",
    "    X, y, test_size=TEST_SIZE, random_state=RANDOM_STATE\n",
    ")\n",
    "\n",
    "# Нормализация числовых данных\n",
    "scaler = StandardScaler()\n",
    "X_train[numeric_columns] = scaler.fit_transform(X_train[numeric_columns])\n",
    "X_test[numeric_columns] = scaler.transform(X_test[numeric_columns])\n",
    "\n",
    "print(f\"X_train.shape={X_train.shape}, y_train.shape={y_train.shape}\")\n",
    "print(f\"X_test.shape={X_test.shape}, y_test.shape={y_test.shape}\")\n",
    "X_train.head()"
   ]
  },
  {
   "cell_type": "markdown",
   "metadata": {
    "id": "ttr3c3fPHi97"
   },
   "source": [
    "## Обучение моделей"
   ]
  },
  {
   "cell_type": "code",
   "execution_count": 21,
   "metadata": {},
   "outputs": [],
   "source": [
    "linear = LinearRegression()\n",
    "linear.fit(X_train, y_train)\n",
    "\n",
    "y_pred_linear = linear.predict(X_test)"
   ]
  },
  {
   "cell_type": "markdown",
   "metadata": {},
   "source": [
    "Уменьшим количество обучающих данных для модели SVR, поскольку обучение проходит очень медленно."
   ]
  },
  {
   "cell_type": "code",
   "execution_count": 22,
   "metadata": {},
   "outputs": [
    {
     "name": "stdout",
     "output_type": "stream",
     "text": [
      "X_train_sample.shape=(96000, 28), y_train_sample.shape=(96000,)\n"
     ]
    }
   ],
   "source": [
    "X_train_sample = X_train.sample(frac=0.1, random_state=RANDOM_STATE, replace=False)\n",
    "y_train_sample = y_train.sample(frac=0.1, random_state=RANDOM_STATE, replace=False)\n",
    "\n",
    "print(f\"X_train_sample.shape={X_train_sample.shape}, y_train_sample.shape={y_train_sample.shape}\")"
   ]
  },
  {
   "cell_type": "code",
   "execution_count": 23,
   "metadata": {},
   "outputs": [],
   "source": [
    "svr = SVR()\n",
    "svr.fit(X_train_sample, y_train_sample)\n",
    "\n",
    "y_pred_svr = svr.predict(X_test)"
   ]
  },
  {
   "cell_type": "code",
   "execution_count": 24,
   "metadata": {
    "executionInfo": {
     "elapsed": 26054,
     "status": "ok",
     "timestamp": 1739517912962,
     "user": {
      "displayName": "Иван Елькин",
      "userId": "12386214062098670036"
     },
     "user_tz": -300
    },
    "id": "gfy-tV60H9al"
   },
   "outputs": [],
   "source": [
    "knr = KNeighborsRegressor()\n",
    "knr.fit(X_train, y_train)\n",
    "\n",
    "y_pred_knr = knr.predict(X_test)"
   ]
  },
  {
   "cell_type": "markdown",
   "metadata": {
    "id": "Ccrowcm2xqkV"
   },
   "source": [
    "## Оценка качества моделей"
   ]
  },
  {
   "cell_type": "code",
   "execution_count": 25,
   "metadata": {
    "colab": {
     "base_uri": "https://localhost:8080/",
     "height": 143
    },
    "executionInfo": {
     "elapsed": 239,
     "status": "ok",
     "timestamp": 1739517915924,
     "user": {
      "displayName": "Иван Елькин",
      "userId": "12386214062098670036"
     },
     "user_tz": -300
    },
    "id": "81KFiwrUxqkV",
    "outputId": "7803c017-4a5c-4138-f8b6-d50c1cd7631c"
   },
   "outputs": [
    {
     "data": {
      "application/vnd.microsoft.datawrangler.viewer.v0+json": {
       "columns": [
        {
         "name": "index",
         "rawType": "int64",
         "type": "integer"
        },
        {
         "name": "Metrics",
         "rawType": "object",
         "type": "string"
        },
        {
         "name": "LinearRegression",
         "rawType": "float64",
         "type": "float"
        },
        {
         "name": "SVR",
         "rawType": "float64",
         "type": "float"
        },
        {
         "name": "KNeighborsRegressor",
         "rawType": "float64",
         "type": "float"
        }
       ],
       "conversionMethod": "pd.DataFrame",
       "ref": "0a59579c-105e-4252-869d-97e6482f990e",
       "rows": [
        [
         "0",
         "mae",
         "667.81",
         "638.05",
         "718.22"
        ],
        [
         "1",
         "mse",
         "748116.66",
         "805862.08",
         "884268.14"
        ],
        [
         "2",
         "rmse",
         "864.94",
         "897.7",
         "940.36"
        ]
       ],
       "shape": {
        "columns": 4,
        "rows": 3
       }
      },
      "text/html": [
       "<div>\n",
       "<style scoped>\n",
       "    .dataframe tbody tr th:only-of-type {\n",
       "        vertical-align: middle;\n",
       "    }\n",
       "\n",
       "    .dataframe tbody tr th {\n",
       "        vertical-align: top;\n",
       "    }\n",
       "\n",
       "    .dataframe thead th {\n",
       "        text-align: right;\n",
       "    }\n",
       "</style>\n",
       "<table border=\"1\" class=\"dataframe\">\n",
       "  <thead>\n",
       "    <tr style=\"text-align: right;\">\n",
       "      <th></th>\n",
       "      <th>Metrics</th>\n",
       "      <th>LinearRegression</th>\n",
       "      <th>SVR</th>\n",
       "      <th>KNeighborsRegressor</th>\n",
       "    </tr>\n",
       "  </thead>\n",
       "  <tbody>\n",
       "    <tr>\n",
       "      <th>0</th>\n",
       "      <td>mae</td>\n",
       "      <td>667.81</td>\n",
       "      <td>638.05</td>\n",
       "      <td>718.22</td>\n",
       "    </tr>\n",
       "    <tr>\n",
       "      <th>1</th>\n",
       "      <td>mse</td>\n",
       "      <td>748116.66</td>\n",
       "      <td>805862.08</td>\n",
       "      <td>884268.14</td>\n",
       "    </tr>\n",
       "    <tr>\n",
       "      <th>2</th>\n",
       "      <td>rmse</td>\n",
       "      <td>864.94</td>\n",
       "      <td>897.70</td>\n",
       "      <td>940.36</td>\n",
       "    </tr>\n",
       "  </tbody>\n",
       "</table>\n",
       "</div>"
      ],
      "text/plain": [
       "  Metrics  LinearRegression        SVR  KNeighborsRegressor\n",
       "0     mae            667.81     638.05               718.22\n",
       "1     mse         748116.66  805862.08            884268.14\n",
       "2    rmse            864.94     897.70               940.36"
      ]
     },
     "execution_count": 25,
     "metadata": {},
     "output_type": "execute_result"
    }
   ],
   "source": [
    "def get_metrics(y_true, y_pred):\n",
    "    mae = mean_absolute_error(y_true, y_pred)\n",
    "    mse = mean_squared_error(y_true, y_pred)\n",
    "    rmse = root_mean_squared_error(y_true, y_pred)\n",
    "\n",
    "    return {\"mae\": mae, \"mse\": mse, \"rmse\": rmse}\n",
    "\n",
    "\n",
    "# Сравнительная таблица качества моделей\n",
    "quality_comparison = pd.DataFrame(\n",
    "    {\n",
    "        \"Metrics\": [*get_metrics(y_test, y_pred_linear).keys()],\n",
    "        \"LinearRegression\": [\n",
    "            *map(\n",
    "                lambda x: round(x, 2),\n",
    "                get_metrics(y_test, y_pred_linear).values(),\n",
    "            )\n",
    "        ],\n",
    "        \"SVR\": [\n",
    "            *map(\n",
    "                lambda x: round(x, 2),\n",
    "                get_metrics(y_test, y_pred_svr).values(),\n",
    "            )\n",
    "        ],\n",
    "        \"KNeighborsRegressor\": [\n",
    "            *map(\n",
    "                lambda x: round(x, 2),\n",
    "                get_metrics(y_test, y_pred_knr).values(),\n",
    "            )\n",
    "        ],\n",
    "    }\n",
    ")\n",
    "\n",
    "quality_comparison"
   ]
  },
  {
   "cell_type": "markdown",
   "metadata": {
    "id": "PRqhhj5pdAUh"
   },
   "source": [
    "Можно видеть, что модель SVR обладает наименьшей метрикой MAE, при этом ее метрика RMSE уступает линейной регрессии. Это означает, что модель в целом хорошо предсказывает результаты, но есть несколько случаев, где модель совершает значительные ошибки, которые сильно увеличивают RMSE. Подберем ее гиперпараметры."
   ]
  },
  {
   "cell_type": "markdown",
   "metadata": {
    "id": "4gd6W09yYPMh"
   },
   "source": [
    "## Подбор гиперпараметров"
   ]
  },
  {
   "cell_type": "code",
   "execution_count": 26,
   "metadata": {
    "colab": {
     "base_uri": "https://localhost:8080/",
     "height": 143
    },
    "executionInfo": {
     "elapsed": 196979,
     "status": "ok",
     "timestamp": 1739520365864,
     "user": {
      "displayName": "Иван Елькин",
      "userId": "12386214062098670036"
     },
     "user_tz": -300
    },
    "id": "0H4nWa-YYTUC",
    "outputId": "7934358c-b484-4f66-8a00-9df094110fc2"
   },
   "outputs": [],
   "source": [
    "SEARCH_PARAMS = False\n",
    "\n",
    "if SEARCH_PARAMS:\n",
    "    model = SVR()\n",
    "    param_dist = {\n",
    "        \"C\": np.logspace(-3, 3, 10),\n",
    "        \"epsilon\": np.linspace(0.01, 1, 10),\n",
    "        \"gamma\": [\"scale\", \"auto\"] + list(np.logspace(-3, 2, 10)),\n",
    "        \"kernel\": [\"linear\", \"poly\", \"sigmoid\", \"rbf\"],\n",
    "        \"degree\": np.arange(2, 4),\n",
    "        \"coef0\": np.linspace(0, 1, 5),\n",
    "    }\n",
    "\n",
    "    random_search = RandomizedSearchCV(\n",
    "        model,\n",
    "        param_dist,\n",
    "        n_iter=20,\n",
    "        cv=5,\n",
    "        scoring=\"neg_mean_squared_error\",\n",
    "        random_state=RANDOM_STATE,\n",
    "        n_jobs=-1,\n",
    "        verbose=3,\n",
    "    )\n",
    "    random_search.fit(X_train_sample, y_train_sample)\n",
    "\n",
    "    print(\"Лучшие параметры SVR:\", random_search.best_params_)"
   ]
  },
  {
   "cell_type": "markdown",
   "metadata": {},
   "source": [
    "Лучшие параметры SVR: {'kernel': 'poly', 'gamma': np.float64(0.003593813663804626), 'epsilon': np.float64(0.67), 'degree': np.int64(3), 'coef0': np.float64(0.25), 'C': np.float64(0.004641588833612777)}"
   ]
  },
  {
   "cell_type": "markdown",
   "metadata": {},
   "source": [
    "Этот набор параметров регуляризует модель, уменьшая риск переобучения (C и gamma низкие). Полиномиальное ядро третьей степени (degree=3) используется для нелинейного разделения данных. epsilon=0.67 говорит о том, что модель не пытается подгонять мелкие отклонения. Такая модель должна быть устойчива к шуму, но возможно недостаточно гибка для сложных зависимостей."
   ]
  },
  {
   "cell_type": "markdown",
   "metadata": {},
   "source": [
    "Оценка качества после подбора гиперпараметров."
   ]
  },
  {
   "cell_type": "code",
   "execution_count": 27,
   "metadata": {},
   "outputs": [],
   "source": [
    "best_params = {\n",
    "    \"kernel\": \"poly\",\n",
    "    \"gamma\": np.float64(0.003593813663804626),\n",
    "    \"epsilon\": np.float64(0.67),\n",
    "    \"degree\": np.int64(3),\n",
    "    \"coef0\": np.float64(0.25),\n",
    "    \"C\": np.float64(0.004641588833612777),\n",
    "}\n",
    "svr_fine_tune = SVR(**best_params)\n",
    "svr_fine_tune.fit(X_train_sample, y_train_sample)\n",
    "\n",
    "y_pred_svr_fine_tune = svr_fine_tune.predict(X_test)"
   ]
  },
  {
   "cell_type": "code",
   "execution_count": 28,
   "metadata": {},
   "outputs": [
    {
     "data": {
      "application/vnd.microsoft.datawrangler.viewer.v0+json": {
       "columns": [
        {
         "name": "index",
         "rawType": "int64",
         "type": "integer"
        },
        {
         "name": "Metrics",
         "rawType": "object",
         "type": "string"
        },
        {
         "name": "LinearRegression",
         "rawType": "float64",
         "type": "float"
        },
        {
         "name": "SVR",
         "rawType": "float64",
         "type": "float"
        },
        {
         "name": "KNeighborsRegressor",
         "rawType": "float64",
         "type": "float"
        },
        {
         "name": "SVR fine_tune",
         "rawType": "float64",
         "type": "float"
        }
       ],
       "conversionMethod": "pd.DataFrame",
       "ref": "736101bb-545e-4349-8f97-e4939f76ec5d",
       "rows": [
        [
         "0",
         "mae",
         "667.81",
         "638.05",
         "718.22",
         "642.25"
        ],
        [
         "1",
         "mse",
         "748116.66",
         "805862.08",
         "884268.14",
         "804186.78"
        ],
        [
         "2",
         "rmse",
         "864.94",
         "897.7",
         "940.36",
         "896.76"
        ]
       ],
       "shape": {
        "columns": 5,
        "rows": 3
       }
      },
      "text/html": [
       "<div>\n",
       "<style scoped>\n",
       "    .dataframe tbody tr th:only-of-type {\n",
       "        vertical-align: middle;\n",
       "    }\n",
       "\n",
       "    .dataframe tbody tr th {\n",
       "        vertical-align: top;\n",
       "    }\n",
       "\n",
       "    .dataframe thead th {\n",
       "        text-align: right;\n",
       "    }\n",
       "</style>\n",
       "<table border=\"1\" class=\"dataframe\">\n",
       "  <thead>\n",
       "    <tr style=\"text-align: right;\">\n",
       "      <th></th>\n",
       "      <th>Metrics</th>\n",
       "      <th>LinearRegression</th>\n",
       "      <th>SVR</th>\n",
       "      <th>KNeighborsRegressor</th>\n",
       "      <th>SVR fine_tune</th>\n",
       "    </tr>\n",
       "  </thead>\n",
       "  <tbody>\n",
       "    <tr>\n",
       "      <th>0</th>\n",
       "      <td>mae</td>\n",
       "      <td>667.81</td>\n",
       "      <td>638.05</td>\n",
       "      <td>718.22</td>\n",
       "      <td>642.25</td>\n",
       "    </tr>\n",
       "    <tr>\n",
       "      <th>1</th>\n",
       "      <td>mse</td>\n",
       "      <td>748116.66</td>\n",
       "      <td>805862.08</td>\n",
       "      <td>884268.14</td>\n",
       "      <td>804186.78</td>\n",
       "    </tr>\n",
       "    <tr>\n",
       "      <th>2</th>\n",
       "      <td>rmse</td>\n",
       "      <td>864.94</td>\n",
       "      <td>897.70</td>\n",
       "      <td>940.36</td>\n",
       "      <td>896.76</td>\n",
       "    </tr>\n",
       "  </tbody>\n",
       "</table>\n",
       "</div>"
      ],
      "text/plain": [
       "  Metrics  LinearRegression        SVR  KNeighborsRegressor  SVR fine_tune\n",
       "0     mae            667.81     638.05               718.22         642.25\n",
       "1     mse         748116.66  805862.08            884268.14      804186.78\n",
       "2    rmse            864.94     897.70               940.36         896.76"
      ]
     },
     "execution_count": 28,
     "metadata": {},
     "output_type": "execute_result"
    }
   ],
   "source": [
    "quality_comparison[\"SVR fine_tune\"] = [\n",
    "    *map(\n",
    "        lambda x: round(x, 2),\n",
    "        get_metrics(y_test, y_pred_svr_fine_tune).values(),\n",
    "    )\n",
    "]\n",
    "\n",
    "quality_comparison"
   ]
  },
  {
   "cell_type": "markdown",
   "metadata": {},
   "source": [
    "Можно видеть, что подбор гиперпараметров с помощью RandomizedSearchCV не привел к улучшению метрик модели."
   ]
  }
 ],
 "metadata": {
  "colab": {
   "authorship_tag": "ABX9TyOlPR9Erem/Sg5Ym3NYqB6t",
   "mount_file_id": "10Q4kwHWQr9GUTa5xPqBanvf7ZuXFJYta",
   "provenance": []
  },
  "kernelspec": {
   "display_name": ".mlinnopolis",
   "language": "python",
   "name": "python3"
  },
  "language_info": {
   "codemirror_mode": {
    "name": "ipython",
    "version": 3
   },
   "file_extension": ".py",
   "mimetype": "text/x-python",
   "name": "python",
   "nbconvert_exporter": "python",
   "pygments_lexer": "ipython3",
   "version": "3.13.0"
  }
 },
 "nbformat": 4,
 "nbformat_minor": 0
}
