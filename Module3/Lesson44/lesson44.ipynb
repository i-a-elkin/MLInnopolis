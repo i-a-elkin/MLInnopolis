{
 "cells": [
  {
   "cell_type": "markdown",
   "metadata": {
    "id": "Ksh_4lh6yIB7"
   },
   "source": [
    "# Кластеризация k-means"
   ]
  },
  {
   "cell_type": "markdown",
   "metadata": {
    "id": "V1ePiu9UxqkN"
   },
   "source": [
    "## Импорт модулей"
   ]
  },
  {
   "cell_type": "code",
   "execution_count": 1,
   "metadata": {
    "executionInfo": {
     "elapsed": 2048,
     "status": "ok",
     "timestamp": 1740121422421,
     "user": {
      "displayName": "Иван Елькин",
      "userId": "12386214062098670036"
     },
     "user_tz": -300
    },
    "id": "T2aL7hvzxqkN"
   },
   "outputs": [],
   "source": [
    "import pandas as pd\n",
    "import matplotlib.pyplot as plt\n",
    "import seaborn as sns\n",
    "import joblib\n",
    "\n",
    "from sklearn.preprocessing import StandardScaler\n",
    "from sklearn.preprocessing import LabelEncoder\n",
    "from sklearn.cluster import KMeans\n",
    "from sklearn.metrics import silhouette_score\n",
    "from sklearn.decomposition import PCA"
   ]
  },
  {
   "cell_type": "markdown",
   "metadata": {
    "id": "wWuv2LSFxqkO"
   },
   "source": [
    "## Константы"
   ]
  },
  {
   "cell_type": "code",
   "execution_count": 2,
   "metadata": {
    "executionInfo": {
     "elapsed": 10,
     "status": "ok",
     "timestamp": 1740121422432,
     "user": {
      "displayName": "Иван Елькин",
      "userId": "12386214062098670036"
     },
     "user_tz": -300
    },
    "id": "Sx46TeWWxqkP"
   },
   "outputs": [],
   "source": [
    "DATA_PATH = \"../Lesson43/penguins.csv\"\n",
    "RANDOM_STATE = 777"
   ]
  },
  {
   "cell_type": "markdown",
   "metadata": {
    "id": "zPlcGkOmxqkP"
   },
   "source": [
    "## Загрузка данных"
   ]
  },
  {
   "cell_type": "code",
   "execution_count": 3,
   "metadata": {
    "colab": {
     "base_uri": "https://localhost:8080/",
     "height": 290
    },
    "executionInfo": {
     "elapsed": 338,
     "status": "ok",
     "timestamp": 1740121422771,
     "user": {
      "displayName": "Иван Елькин",
      "userId": "12386214062098670036"
     },
     "user_tz": -300
    },
    "id": "pe56uarOxqkP",
    "outputId": "32a6bd1e-20b0-4782-f7b6-fc5f0c6398e0"
   },
   "outputs": [
    {
     "data": {
      "application/vnd.microsoft.datawrangler.viewer.v0+json": {
       "columns": [
        {
         "name": "index",
         "rawType": "int64",
         "type": "integer"
        },
        {
         "name": "culmen_length_mm",
         "rawType": "float64",
         "type": "float"
        },
        {
         "name": "culmen_depth_mm",
         "rawType": "float64",
         "type": "float"
        },
        {
         "name": "flipper_length_mm",
         "rawType": "float64",
         "type": "float"
        },
        {
         "name": "body_mass_g",
         "rawType": "float64",
         "type": "float"
        },
        {
         "name": "sex",
         "rawType": "object",
         "type": "unknown"
        }
       ],
       "conversionMethod": "pd.DataFrame",
       "ref": "2198e5ca-c1ac-4ae4-9d71-8c2476c742cb",
       "rows": [
        [
         "0",
         "39.1",
         "18.7",
         "181.0",
         "3750.0",
         "MALE"
        ],
        [
         "1",
         "39.5",
         "17.4",
         "186.0",
         "3800.0",
         "FEMALE"
        ],
        [
         "2",
         "40.3",
         "18.0",
         "195.0",
         "3250.0",
         "FEMALE"
        ],
        [
         "3",
         null,
         null,
         null,
         null,
         null
        ],
        [
         "4",
         "36.7",
         "19.3",
         "193.0",
         "3450.0",
         "FEMALE"
        ]
       ],
       "shape": {
        "columns": 5,
        "rows": 5
       }
      },
      "text/html": [
       "<div>\n",
       "<style scoped>\n",
       "    .dataframe tbody tr th:only-of-type {\n",
       "        vertical-align: middle;\n",
       "    }\n",
       "\n",
       "    .dataframe tbody tr th {\n",
       "        vertical-align: top;\n",
       "    }\n",
       "\n",
       "    .dataframe thead th {\n",
       "        text-align: right;\n",
       "    }\n",
       "</style>\n",
       "<table border=\"1\" class=\"dataframe\">\n",
       "  <thead>\n",
       "    <tr style=\"text-align: right;\">\n",
       "      <th></th>\n",
       "      <th>culmen_length_mm</th>\n",
       "      <th>culmen_depth_mm</th>\n",
       "      <th>flipper_length_mm</th>\n",
       "      <th>body_mass_g</th>\n",
       "      <th>sex</th>\n",
       "    </tr>\n",
       "  </thead>\n",
       "  <tbody>\n",
       "    <tr>\n",
       "      <th>0</th>\n",
       "      <td>39.1</td>\n",
       "      <td>18.7</td>\n",
       "      <td>181.0</td>\n",
       "      <td>3750.0</td>\n",
       "      <td>MALE</td>\n",
       "    </tr>\n",
       "    <tr>\n",
       "      <th>1</th>\n",
       "      <td>39.5</td>\n",
       "      <td>17.4</td>\n",
       "      <td>186.0</td>\n",
       "      <td>3800.0</td>\n",
       "      <td>FEMALE</td>\n",
       "    </tr>\n",
       "    <tr>\n",
       "      <th>2</th>\n",
       "      <td>40.3</td>\n",
       "      <td>18.0</td>\n",
       "      <td>195.0</td>\n",
       "      <td>3250.0</td>\n",
       "      <td>FEMALE</td>\n",
       "    </tr>\n",
       "    <tr>\n",
       "      <th>3</th>\n",
       "      <td>NaN</td>\n",
       "      <td>NaN</td>\n",
       "      <td>NaN</td>\n",
       "      <td>NaN</td>\n",
       "      <td>NaN</td>\n",
       "    </tr>\n",
       "    <tr>\n",
       "      <th>4</th>\n",
       "      <td>36.7</td>\n",
       "      <td>19.3</td>\n",
       "      <td>193.0</td>\n",
       "      <td>3450.0</td>\n",
       "      <td>FEMALE</td>\n",
       "    </tr>\n",
       "  </tbody>\n",
       "</table>\n",
       "</div>"
      ],
      "text/plain": [
       "   culmen_length_mm  culmen_depth_mm  flipper_length_mm  body_mass_g     sex\n",
       "0              39.1             18.7              181.0       3750.0    MALE\n",
       "1              39.5             17.4              186.0       3800.0  FEMALE\n",
       "2              40.3             18.0              195.0       3250.0  FEMALE\n",
       "3               NaN              NaN                NaN          NaN     NaN\n",
       "4              36.7             19.3              193.0       3450.0  FEMALE"
      ]
     },
     "execution_count": 3,
     "metadata": {},
     "output_type": "execute_result"
    }
   ],
   "source": [
    "df = pd.read_csv(DATA_PATH)\n",
    "df.head()"
   ]
  },
  {
   "cell_type": "code",
   "execution_count": 4,
   "metadata": {
    "colab": {
     "base_uri": "https://localhost:8080/"
    },
    "executionInfo": {
     "elapsed": 33,
     "status": "ok",
     "timestamp": 1740121422807,
     "user": {
      "displayName": "Иван Елькин",
      "userId": "12386214062098670036"
     },
     "user_tz": -300
    },
    "id": "es4_8V7Txk6c",
    "outputId": "8a9a8feb-3d5a-4c3f-8c93-ec37aefa24aa"
   },
   "outputs": [
    {
     "name": "stdout",
     "output_type": "stream",
     "text": [
      "<class 'pandas.core.frame.DataFrame'>\n",
      "RangeIndex: 344 entries, 0 to 343\n",
      "Data columns (total 5 columns):\n",
      " #   Column             Non-Null Count  Dtype  \n",
      "---  ------             --------------  -----  \n",
      " 0   culmen_length_mm   342 non-null    float64\n",
      " 1   culmen_depth_mm    342 non-null    float64\n",
      " 2   flipper_length_mm  342 non-null    float64\n",
      " 3   body_mass_g        342 non-null    float64\n",
      " 4   sex                335 non-null    object \n",
      "dtypes: float64(4), object(1)\n",
      "memory usage: 13.6+ KB\n"
     ]
    }
   ],
   "source": [
    "df.info()"
   ]
  },
  {
   "cell_type": "markdown",
   "metadata": {
    "id": "dVelsvIAxqkR"
   },
   "source": [
    "## Исследовательский анализ данных"
   ]
  },
  {
   "cell_type": "markdown",
   "metadata": {
    "id": "fjCE2Xac6uYO"
   },
   "source": [
    "Проверка дубликатов."
   ]
  },
  {
   "cell_type": "code",
   "execution_count": 5,
   "metadata": {
    "colab": {
     "base_uri": "https://localhost:8080/"
    },
    "executionInfo": {
     "elapsed": 83,
     "status": "ok",
     "timestamp": 1740121422897,
     "user": {
      "displayName": "Иван Елькин",
      "userId": "12386214062098670036"
     },
     "user_tz": -300
    },
    "id": "WIWx4Hlx6zSU",
    "outputId": "2eaadd43-7cac-4c85-c2c8-48218ca87e27"
   },
   "outputs": [
    {
     "name": "stdout",
     "output_type": "stream",
     "text": [
      "Количество дубликатов: 1\n"
     ]
    }
   ],
   "source": [
    "print(f\"Количество дубликатов: {df.duplicated().sum()}\")"
   ]
  },
  {
   "cell_type": "markdown",
   "metadata": {
    "id": "U3x7JJNH7Bgb"
   },
   "source": [
    "Удаление дубликатов."
   ]
  },
  {
   "cell_type": "code",
   "execution_count": 6,
   "metadata": {
    "colab": {
     "base_uri": "https://localhost:8080/"
    },
    "executionInfo": {
     "elapsed": 106,
     "status": "ok",
     "timestamp": 1740121423009,
     "user": {
      "displayName": "Иван Елькин",
      "userId": "12386214062098670036"
     },
     "user_tz": -300
    },
    "id": "Qo3we-u-7AhV",
    "outputId": "4cb85a61-bc91-4544-fc07-b4fdcebca7ba"
   },
   "outputs": [
    {
     "name": "stdout",
     "output_type": "stream",
     "text": [
      "Количество дубликатов: 0\n"
     ]
    }
   ],
   "source": [
    "df = df.drop_duplicates()\n",
    "df.reset_index(drop=True, inplace=True)\n",
    "\n",
    "print(f\"Количество дубликатов: {df.duplicated().sum()}\")"
   ]
  },
  {
   "cell_type": "code",
   "execution_count": 7,
   "metadata": {},
   "outputs": [],
   "source": [
    "# Выделим числовые и категориальные признаки\n",
    "numeric_columns = [\n",
    "    \"culmen_length_mm\",\n",
    "    \"culmen_depth_mm\",\n",
    "    \"flipper_length_mm\",\n",
    "    \"body_mass_g\",\n",
    "]\n",
    "categoric_columns = [\"sex\"]"
   ]
  },
  {
   "cell_type": "code",
   "execution_count": 8,
   "metadata": {
    "executionInfo": {
     "elapsed": 2,
     "status": "ok",
     "timestamp": 1740121423009,
     "user": {
      "displayName": "Иван Елькин",
      "userId": "12386214062098670036"
     },
     "user_tz": -300
    },
    "id": "HOq9-DBZxqkR"
   },
   "outputs": [],
   "source": [
    "def numeric_columns_stats(df):\n",
    "    stats = pd.DataFrame(index=df.columns)\n",
    "    stats[\"Доля пропусков\"] = df.isnull().mean()\n",
    "    stats[\"Минимум\"] = df.min().round(2)\n",
    "    stats[\"Максимум\"] = df.max().round(2)\n",
    "    stats[\"Среднее\"] = df.mean().round(2)\n",
    "    stats[\"Медиана\"] = df.median().round(2)\n",
    "    stats[\"Дисперсия\"] = df.var().round(2)\n",
    "    stats[\"Квантиль 0.1\"] = df.quantile(0.1).round(2)\n",
    "    stats[\"Квантиль 0.9\"] = df.quantile(0.9).round(2)\n",
    "    stats[\"Квартиль 1\"] = df.quantile(0.25).round(2)\n",
    "    stats[\"Квартиль 3\"] = df.quantile(0.75).round(2)\n",
    "    return stats\n",
    "\n",
    "\n",
    "def categoric_columns_stats(df):\n",
    "    stats = pd.DataFrame(index=df.columns)\n",
    "    stats[\"Доля пропусков\"] = df.isnull().mean()\n",
    "    stats[\"Количество уникальных значений\"] = df.nunique()\n",
    "    stats[\"Мода\"] = df.mode().transpose()\n",
    "    return stats"
   ]
  },
  {
   "cell_type": "code",
   "execution_count": 9,
   "metadata": {
    "colab": {
     "base_uri": "https://localhost:8080/",
     "height": 771
    },
    "executionInfo": {
     "elapsed": 280,
     "status": "ok",
     "timestamp": 1740121423288,
     "user": {
      "displayName": "Иван Елькин",
      "userId": "12386214062098670036"
     },
     "user_tz": -300
    },
    "id": "NVjwK7aB4FsR",
    "outputId": "a750682e-129c-4e26-bb7a-32881367e696"
   },
   "outputs": [
    {
     "data": {
      "application/vnd.microsoft.datawrangler.viewer.v0+json": {
       "columns": [
        {
         "name": "index",
         "rawType": "object",
         "type": "string"
        },
        {
         "name": "Доля пропусков",
         "rawType": "float64",
         "type": "float"
        },
        {
         "name": "Минимум",
         "rawType": "float64",
         "type": "float"
        },
        {
         "name": "Максимум",
         "rawType": "float64",
         "type": "float"
        },
        {
         "name": "Среднее",
         "rawType": "float64",
         "type": "float"
        },
        {
         "name": "Медиана",
         "rawType": "float64",
         "type": "float"
        },
        {
         "name": "Дисперсия",
         "rawType": "float64",
         "type": "float"
        },
        {
         "name": "Квантиль 0.1",
         "rawType": "float64",
         "type": "float"
        },
        {
         "name": "Квантиль 0.9",
         "rawType": "float64",
         "type": "float"
        },
        {
         "name": "Квартиль 1",
         "rawType": "float64",
         "type": "float"
        },
        {
         "name": "Квартиль 3",
         "rawType": "float64",
         "type": "float"
        }
       ],
       "conversionMethod": "pd.DataFrame",
       "ref": "95c66916-ee71-455c-b626-88794f0922e1",
       "rows": [
        [
         "culmen_length_mm",
         "0.0029154518950437317",
         "32.1",
         "59.6",
         "43.92",
         "44.45",
         "29.81",
         "36.6",
         "50.8",
         "39.22",
         "48.5"
        ],
        [
         "culmen_depth_mm",
         "0.0029154518950437317",
         "13.1",
         "21.5",
         "17.15",
         "17.3",
         "3.9",
         "14.3",
         "19.5",
         "15.6",
         "18.7"
        ],
        [
         "flipper_length_mm",
         "0.0029154518950437317",
         "-132.0",
         "5000.0",
         "214.01",
         "197.0",
         "67890.5",
         "185.0",
         "221.0",
         "190.0",
         "213.75"
        ],
        [
         "body_mass_g",
         "0.0029154518950437317",
         "2700.0",
         "6300.0",
         "4201.75",
         "4050.0",
         "643131.08",
         "3300.0",
         "5400.0",
         "3550.0",
         "4750.0"
        ]
       ],
       "shape": {
        "columns": 10,
        "rows": 4
       }
      },
      "text/html": [
       "<div>\n",
       "<style scoped>\n",
       "    .dataframe tbody tr th:only-of-type {\n",
       "        vertical-align: middle;\n",
       "    }\n",
       "\n",
       "    .dataframe tbody tr th {\n",
       "        vertical-align: top;\n",
       "    }\n",
       "\n",
       "    .dataframe thead th {\n",
       "        text-align: right;\n",
       "    }\n",
       "</style>\n",
       "<table border=\"1\" class=\"dataframe\">\n",
       "  <thead>\n",
       "    <tr style=\"text-align: right;\">\n",
       "      <th></th>\n",
       "      <th>Доля пропусков</th>\n",
       "      <th>Минимум</th>\n",
       "      <th>Максимум</th>\n",
       "      <th>Среднее</th>\n",
       "      <th>Медиана</th>\n",
       "      <th>Дисперсия</th>\n",
       "      <th>Квантиль 0.1</th>\n",
       "      <th>Квантиль 0.9</th>\n",
       "      <th>Квартиль 1</th>\n",
       "      <th>Квартиль 3</th>\n",
       "    </tr>\n",
       "  </thead>\n",
       "  <tbody>\n",
       "    <tr>\n",
       "      <th>culmen_length_mm</th>\n",
       "      <td>0.002915</td>\n",
       "      <td>32.1</td>\n",
       "      <td>59.6</td>\n",
       "      <td>43.92</td>\n",
       "      <td>44.45</td>\n",
       "      <td>29.81</td>\n",
       "      <td>36.6</td>\n",
       "      <td>50.8</td>\n",
       "      <td>39.22</td>\n",
       "      <td>48.50</td>\n",
       "    </tr>\n",
       "    <tr>\n",
       "      <th>culmen_depth_mm</th>\n",
       "      <td>0.002915</td>\n",
       "      <td>13.1</td>\n",
       "      <td>21.5</td>\n",
       "      <td>17.15</td>\n",
       "      <td>17.30</td>\n",
       "      <td>3.90</td>\n",
       "      <td>14.3</td>\n",
       "      <td>19.5</td>\n",
       "      <td>15.60</td>\n",
       "      <td>18.70</td>\n",
       "    </tr>\n",
       "    <tr>\n",
       "      <th>flipper_length_mm</th>\n",
       "      <td>0.002915</td>\n",
       "      <td>-132.0</td>\n",
       "      <td>5000.0</td>\n",
       "      <td>214.01</td>\n",
       "      <td>197.00</td>\n",
       "      <td>67890.50</td>\n",
       "      <td>185.0</td>\n",
       "      <td>221.0</td>\n",
       "      <td>190.00</td>\n",
       "      <td>213.75</td>\n",
       "    </tr>\n",
       "    <tr>\n",
       "      <th>body_mass_g</th>\n",
       "      <td>0.002915</td>\n",
       "      <td>2700.0</td>\n",
       "      <td>6300.0</td>\n",
       "      <td>4201.75</td>\n",
       "      <td>4050.00</td>\n",
       "      <td>643131.08</td>\n",
       "      <td>3300.0</td>\n",
       "      <td>5400.0</td>\n",
       "      <td>3550.00</td>\n",
       "      <td>4750.00</td>\n",
       "    </tr>\n",
       "  </tbody>\n",
       "</table>\n",
       "</div>"
      ],
      "text/plain": [
       "                   Доля пропусков  Минимум  Максимум  Среднее  Медиана  \\\n",
       "culmen_length_mm         0.002915     32.1      59.6    43.92    44.45   \n",
       "culmen_depth_mm          0.002915     13.1      21.5    17.15    17.30   \n",
       "flipper_length_mm        0.002915   -132.0    5000.0   214.01   197.00   \n",
       "body_mass_g              0.002915   2700.0    6300.0  4201.75  4050.00   \n",
       "\n",
       "                   Дисперсия  Квантиль 0.1  Квантиль 0.9  Квартиль 1  \\\n",
       "culmen_length_mm       29.81          36.6          50.8       39.22   \n",
       "culmen_depth_mm         3.90          14.3          19.5       15.60   \n",
       "flipper_length_mm   67890.50         185.0         221.0      190.00   \n",
       "body_mass_g        643131.08        3300.0        5400.0     3550.00   \n",
       "\n",
       "                   Квартиль 3  \n",
       "culmen_length_mm        48.50  \n",
       "culmen_depth_mm         18.70  \n",
       "flipper_length_mm      213.75  \n",
       "body_mass_g           4750.00  "
      ]
     },
     "execution_count": 9,
     "metadata": {},
     "output_type": "execute_result"
    }
   ],
   "source": [
    "# Результаты EDA для числовых признаков\n",
    "numeric_columns_stats(df[numeric_columns])"
   ]
  },
  {
   "cell_type": "code",
   "execution_count": 10,
   "metadata": {},
   "outputs": [
    {
     "data": {
      "application/vnd.microsoft.datawrangler.viewer.v0+json": {
       "columns": [
        {
         "name": "index",
         "rawType": "object",
         "type": "string"
        },
        {
         "name": "Доля пропусков",
         "rawType": "float64",
         "type": "float"
        },
        {
         "name": "Количество уникальных значений",
         "rawType": "int64",
         "type": "integer"
        },
        {
         "name": "Мода",
         "rawType": "object",
         "type": "string"
        }
       ],
       "conversionMethod": "pd.DataFrame",
       "ref": "9213d707-d339-4be3-a1cd-d431a47d53c0",
       "rows": [
        [
         "sex",
         "0.023323615160349854",
         "3",
         "MALE"
        ]
       ],
       "shape": {
        "columns": 3,
        "rows": 1
       }
      },
      "text/html": [
       "<div>\n",
       "<style scoped>\n",
       "    .dataframe tbody tr th:only-of-type {\n",
       "        vertical-align: middle;\n",
       "    }\n",
       "\n",
       "    .dataframe tbody tr th {\n",
       "        vertical-align: top;\n",
       "    }\n",
       "\n",
       "    .dataframe thead th {\n",
       "        text-align: right;\n",
       "    }\n",
       "</style>\n",
       "<table border=\"1\" class=\"dataframe\">\n",
       "  <thead>\n",
       "    <tr style=\"text-align: right;\">\n",
       "      <th></th>\n",
       "      <th>Доля пропусков</th>\n",
       "      <th>Количество уникальных значений</th>\n",
       "      <th>Мода</th>\n",
       "    </tr>\n",
       "  </thead>\n",
       "  <tbody>\n",
       "    <tr>\n",
       "      <th>sex</th>\n",
       "      <td>0.023324</td>\n",
       "      <td>3</td>\n",
       "      <td>MALE</td>\n",
       "    </tr>\n",
       "  </tbody>\n",
       "</table>\n",
       "</div>"
      ],
      "text/plain": [
       "     Доля пропусков  Количество уникальных значений  Мода\n",
       "sex        0.023324                               3  MALE"
      ]
     },
     "execution_count": 10,
     "metadata": {},
     "output_type": "execute_result"
    }
   ],
   "source": [
    "# Результаты EDA для категориальных признаков\n",
    "categoric_columns_stats(df[categoric_columns])"
   ]
  },
  {
   "cell_type": "markdown",
   "metadata": {
    "id": "d2gOMbvs6OPe"
   },
   "source": [
    "Удалим пропуски в данных."
   ]
  },
  {
   "cell_type": "code",
   "execution_count": 11,
   "metadata": {},
   "outputs": [
    {
     "data": {
      "text/plain": [
       "culmen_length_mm     0\n",
       "culmen_depth_mm      0\n",
       "flipper_length_mm    0\n",
       "body_mass_g          0\n",
       "sex                  0\n",
       "dtype: int64"
      ]
     },
     "execution_count": 11,
     "metadata": {},
     "output_type": "execute_result"
    }
   ],
   "source": [
    "df = df.dropna()\n",
    "df.isna().sum()"
   ]
  },
  {
   "cell_type": "markdown",
   "metadata": {},
   "source": [
    "Проверим колонку \"sex\"."
   ]
  },
  {
   "cell_type": "code",
   "execution_count": 12,
   "metadata": {},
   "outputs": [
    {
     "data": {
      "text/plain": [
       "sex\n",
       "MALE      169\n",
       "FEMALE    165\n",
       ".           1\n",
       "Name: count, dtype: int64"
      ]
     },
     "execution_count": 12,
     "metadata": {},
     "output_type": "execute_result"
    }
   ],
   "source": [
    "df[\"sex\"].value_counts()"
   ]
  },
  {
   "cell_type": "code",
   "execution_count": 13,
   "metadata": {},
   "outputs": [
    {
     "data": {
      "text/plain": [
       "sex\n",
       "MALE      169\n",
       "FEMALE    165\n",
       "Name: count, dtype: int64"
      ]
     },
     "execution_count": 13,
     "metadata": {},
     "output_type": "execute_result"
    }
   ],
   "source": [
    "df = df.drop(df[df[\"sex\"] == \".\"].index)\n",
    "df[\"sex\"].value_counts()"
   ]
  },
  {
   "cell_type": "markdown",
   "metadata": {},
   "source": [
    "### Распределение категориальной переменной"
   ]
  },
  {
   "cell_type": "code",
   "execution_count": 14,
   "metadata": {},
   "outputs": [
    {
     "data": {
      "image/png": "[encoded data removed]",
      "text/plain": [
       "<Figure size 600x400 with 1 Axes>"
      ]
     },
     "metadata": {},
     "output_type": "display_data"
    }
   ],
   "source": [
    "fig, ax = plt.subplots(figsize=(6, 4))\n",
    "\n",
    "sns.barplot(df[\"sex\"].value_counts(), ax=ax)\n",
    "ax.set_xlabel(\"Значение\")\n",
    "ax.set_ylabel(\"Частота\")\n",
    "\n",
    "plt.suptitle(f\"Распределение переменной 'sex'\")\n",
    "plt.tight_layout()\n",
    "plt.show()"
   ]
  },
  {
   "cell_type": "markdown",
   "metadata": {},
   "source": [
    "Значения распределены примерно поровну."
   ]
  },
  {
   "cell_type": "markdown",
   "metadata": {
    "id": "Dq-4NPx7xG4p"
   },
   "source": [
    "### Распределение числовых переменных"
   ]
  },
  {
   "cell_type": "code",
   "execution_count": 15,
   "metadata": {
    "colab": {
     "base_uri": "https://localhost:8080/",
     "height": 904
    },
    "executionInfo": {
     "elapsed": 10065,
     "status": "ok",
     "timestamp": 1740121433707,
     "user": {
      "displayName": "Иван Елькин",
      "userId": "12386214062098670036"
     },
     "user_tz": -300
    },
    "id": "iNBNkb0UxqkT",
    "outputId": "bc02220f-3984-42d6-f9b1-e4fe69e6fed8"
   },
   "outputs": [
    {
     "data": {
      "image/png": "[encoded data removed]",
      "text/plain": [
       "<Figure size 700x400 with 4 Axes>"
      ]
     },
     "metadata": {},
     "output_type": "display_data"
    }
   ],
   "source": [
    "fig, ax = plt.subplots(2, 2, figsize=(7, 4))\n",
    "\n",
    "for i, col in enumerate(numeric_columns):\n",
    "    row_idx, col_idx = divmod(i, 2)\n",
    "    sns.boxplot(df[col], ax=ax[row_idx, col_idx], orient=\"h\")\n",
    "    ax[row_idx, col_idx].set_title(col)\n",
    "    ax[row_idx, col_idx].set_xlabel(None)\n",
    "    ax[row_idx, col_idx].set_yticks([])\n",
    "\n",
    "for i in range(len(numeric_columns), len(ax.flatten())):\n",
    "    fig.delaxes(ax.flatten()[i])\n",
    "\n",
    "plt.suptitle(\"Распределение числовых признаков\")\n",
    "plt.tight_layout()\n",
    "plt.show()"
   ]
  },
  {
   "cell_type": "markdown",
   "metadata": {
    "id": "ujHfiZXn-ziQ"
   },
   "source": [
    "Можно видеть, что столбец flipper_length_mm имеет два выброса."
   ]
  },
  {
   "cell_type": "code",
   "execution_count": 16,
   "metadata": {},
   "outputs": [
    {
     "name": "stdout",
     "output_type": "stream",
     "text": [
      "   culmen_length_mm  culmen_depth_mm  flipper_length_mm  body_mass_g   sex\n",
      "9              42.0             20.2             5000.0       4250.0  MALE\n",
      "    culmen_length_mm  culmen_depth_mm  flipper_length_mm  body_mass_g   sex\n",
      "14              34.6             21.1             -132.0       4400.0  MALE\n"
     ]
    }
   ],
   "source": [
    "print(df[df[\"flipper_length_mm\"] > 4000])\n",
    "print(df[df[\"flipper_length_mm\"] < 0])"
   ]
  },
  {
   "cell_type": "markdown",
   "metadata": {},
   "source": [
    "Удалим их из набора данных."
   ]
  },
  {
   "cell_type": "code",
   "execution_count": 17,
   "metadata": {},
   "outputs": [],
   "source": [
    "df = df.drop([9, 14])"
   ]
  },
  {
   "cell_type": "markdown",
   "metadata": {},
   "source": [
    "Проверим параметры данных после преобразований."
   ]
  },
  {
   "cell_type": "code",
   "execution_count": 18,
   "metadata": {},
   "outputs": [
    {
     "data": {
      "application/vnd.microsoft.datawrangler.viewer.v0+json": {
       "columns": [
        {
         "name": "index",
         "rawType": "object",
         "type": "string"
        },
        {
         "name": "Доля пропусков",
         "rawType": "float64",
         "type": "float"
        },
        {
         "name": "Минимум",
         "rawType": "float64",
         "type": "float"
        },
        {
         "name": "Максимум",
         "rawType": "float64",
         "type": "float"
        },
        {
         "name": "Среднее",
         "rawType": "float64",
         "type": "float"
        },
        {
         "name": "Медиана",
         "rawType": "float64",
         "type": "float"
        },
        {
         "name": "Дисперсия",
         "rawType": "float64",
         "type": "float"
        },
        {
         "name": "Квантиль 0.1",
         "rawType": "float64",
         "type": "float"
        },
        {
         "name": "Квантиль 0.9",
         "rawType": "float64",
         "type": "float"
        },
        {
         "name": "Квартиль 1",
         "rawType": "float64",
         "type": "float"
        },
        {
         "name": "Квартиль 3",
         "rawType": "float64",
         "type": "float"
        }
       ],
       "conversionMethod": "pd.DataFrame",
       "ref": "ac7fe2a7-d502-4149-8815-d4f386daa9f3",
       "rows": [
        [
         "culmen_length_mm",
         "0.0",
         "32.1",
         "59.6",
         "44.02",
         "44.7",
         "29.73",
         "36.61",
         "50.8",
         "39.5",
         "48.62"
        ],
        [
         "culmen_depth_mm",
         "0.0",
         "13.1",
         "21.5",
         "17.15",
         "17.3",
         "3.84",
         "14.31",
         "19.5",
         "15.6",
         "18.7"
        ],
        [
         "flipper_length_mm",
         "0.0",
         "172.0",
         "231.0",
         "200.98",
         "197.0",
         "197.01",
         "185.0",
         "221.0",
         "190.0",
         "213.0"
        ],
        [
         "body_mass_g",
         "0.0",
         "2700.0",
         "6300.0",
         "4206.48",
         "4025.0",
         "650218.51",
         "3300.0",
         "5445.0",
         "3550.0",
         "4781.25"
        ]
       ],
       "shape": {
        "columns": 10,
        "rows": 4
       }
      },
      "text/html": [
       "<div>\n",
       "<style scoped>\n",
       "    .dataframe tbody tr th:only-of-type {\n",
       "        vertical-align: middle;\n",
       "    }\n",
       "\n",
       "    .dataframe tbody tr th {\n",
       "        vertical-align: top;\n",
       "    }\n",
       "\n",
       "    .dataframe thead th {\n",
       "        text-align: right;\n",
       "    }\n",
       "</style>\n",
       "<table border=\"1\" class=\"dataframe\">\n",
       "  <thead>\n",
       "    <tr style=\"text-align: right;\">\n",
       "      <th></th>\n",
       "      <th>Доля пропусков</th>\n",
       "      <th>Минимум</th>\n",
       "      <th>Максимум</th>\n",
       "      <th>Среднее</th>\n",
       "      <th>Медиана</th>\n",
       "      <th>Дисперсия</th>\n",
       "      <th>Квантиль 0.1</th>\n",
       "      <th>Квантиль 0.9</th>\n",
       "      <th>Квартиль 1</th>\n",
       "      <th>Квартиль 3</th>\n",
       "    </tr>\n",
       "  </thead>\n",
       "  <tbody>\n",
       "    <tr>\n",
       "      <th>culmen_length_mm</th>\n",
       "      <td>0.0</td>\n",
       "      <td>32.1</td>\n",
       "      <td>59.6</td>\n",
       "      <td>44.02</td>\n",
       "      <td>44.7</td>\n",
       "      <td>29.73</td>\n",
       "      <td>36.61</td>\n",
       "      <td>50.8</td>\n",
       "      <td>39.5</td>\n",
       "      <td>48.62</td>\n",
       "    </tr>\n",
       "    <tr>\n",
       "      <th>culmen_depth_mm</th>\n",
       "      <td>0.0</td>\n",
       "      <td>13.1</td>\n",
       "      <td>21.5</td>\n",
       "      <td>17.15</td>\n",
       "      <td>17.3</td>\n",
       "      <td>3.84</td>\n",
       "      <td>14.31</td>\n",
       "      <td>19.5</td>\n",
       "      <td>15.6</td>\n",
       "      <td>18.70</td>\n",
       "    </tr>\n",
       "    <tr>\n",
       "      <th>flipper_length_mm</th>\n",
       "      <td>0.0</td>\n",
       "      <td>172.0</td>\n",
       "      <td>231.0</td>\n",
       "      <td>200.98</td>\n",
       "      <td>197.0</td>\n",
       "      <td>197.01</td>\n",
       "      <td>185.00</td>\n",
       "      <td>221.0</td>\n",
       "      <td>190.0</td>\n",
       "      <td>213.00</td>\n",
       "    </tr>\n",
       "    <tr>\n",
       "      <th>body_mass_g</th>\n",
       "      <td>0.0</td>\n",
       "      <td>2700.0</td>\n",
       "      <td>6300.0</td>\n",
       "      <td>4206.48</td>\n",
       "      <td>4025.0</td>\n",
       "      <td>650218.51</td>\n",
       "      <td>3300.00</td>\n",
       "      <td>5445.0</td>\n",
       "      <td>3550.0</td>\n",
       "      <td>4781.25</td>\n",
       "    </tr>\n",
       "  </tbody>\n",
       "</table>\n",
       "</div>"
      ],
      "text/plain": [
       "                   Доля пропусков  Минимум  Максимум  Среднее  Медиана  \\\n",
       "culmen_length_mm              0.0     32.1      59.6    44.02     44.7   \n",
       "culmen_depth_mm               0.0     13.1      21.5    17.15     17.3   \n",
       "flipper_length_mm             0.0    172.0     231.0   200.98    197.0   \n",
       "body_mass_g                   0.0   2700.0    6300.0  4206.48   4025.0   \n",
       "\n",
       "                   Дисперсия  Квантиль 0.1  Квантиль 0.9  Квартиль 1  \\\n",
       "culmen_length_mm       29.73         36.61          50.8        39.5   \n",
       "culmen_depth_mm         3.84         14.31          19.5        15.6   \n",
       "flipper_length_mm     197.01        185.00         221.0       190.0   \n",
       "body_mass_g        650218.51       3300.00        5445.0      3550.0   \n",
       "\n",
       "                   Квартиль 3  \n",
       "culmen_length_mm        48.62  \n",
       "culmen_depth_mm         18.70  \n",
       "flipper_length_mm      213.00  \n",
       "body_mass_g           4781.25  "
      ]
     },
     "execution_count": 18,
     "metadata": {},
     "output_type": "execute_result"
    }
   ],
   "source": [
    "# Результаты EDA для числовых признаков\n",
    "numeric_columns_stats(df[numeric_columns])"
   ]
  },
  {
   "cell_type": "code",
   "execution_count": 19,
   "metadata": {},
   "outputs": [
    {
     "data": {
      "application/vnd.microsoft.datawrangler.viewer.v0+json": {
       "columns": [
        {
         "name": "index",
         "rawType": "object",
         "type": "string"
        },
        {
         "name": "Доля пропусков",
         "rawType": "float64",
         "type": "float"
        },
        {
         "name": "Количество уникальных значений",
         "rawType": "int64",
         "type": "integer"
        },
        {
         "name": "Мода",
         "rawType": "object",
         "type": "string"
        }
       ],
       "conversionMethod": "pd.DataFrame",
       "ref": "876dbd3d-22f4-4338-977c-9fa0642056a2",
       "rows": [
        [
         "sex",
         "0.0",
         "2",
         "MALE"
        ]
       ],
       "shape": {
        "columns": 3,
        "rows": 1
       }
      },
      "text/html": [
       "<div>\n",
       "<style scoped>\n",
       "    .dataframe tbody tr th:only-of-type {\n",
       "        vertical-align: middle;\n",
       "    }\n",
       "\n",
       "    .dataframe tbody tr th {\n",
       "        vertical-align: top;\n",
       "    }\n",
       "\n",
       "    .dataframe thead th {\n",
       "        text-align: right;\n",
       "    }\n",
       "</style>\n",
       "<table border=\"1\" class=\"dataframe\">\n",
       "  <thead>\n",
       "    <tr style=\"text-align: right;\">\n",
       "      <th></th>\n",
       "      <th>Доля пропусков</th>\n",
       "      <th>Количество уникальных значений</th>\n",
       "      <th>Мода</th>\n",
       "    </tr>\n",
       "  </thead>\n",
       "  <tbody>\n",
       "    <tr>\n",
       "      <th>sex</th>\n",
       "      <td>0.0</td>\n",
       "      <td>2</td>\n",
       "      <td>MALE</td>\n",
       "    </tr>\n",
       "  </tbody>\n",
       "</table>\n",
       "</div>"
      ],
      "text/plain": [
       "     Доля пропусков  Количество уникальных значений  Мода\n",
       "sex             0.0                               2  MALE"
      ]
     },
     "execution_count": 19,
     "metadata": {},
     "output_type": "execute_result"
    }
   ],
   "source": [
    "# Результаты EDA для категориальных признаков\n",
    "categoric_columns_stats(df[categoric_columns])"
   ]
  },
  {
   "cell_type": "markdown",
   "metadata": {
    "id": "ezfYbPNwEuMi"
   },
   "source": [
    "### Анализ корреляций"
   ]
  },
  {
   "cell_type": "code",
   "execution_count": 20,
   "metadata": {
    "colab": {
     "base_uri": "https://localhost:8080/",
     "height": 1000
    },
    "executionInfo": {
     "elapsed": 3122,
     "status": "ok",
     "timestamp": 1740121439308,
     "user": {
      "displayName": "Иван Елькин",
      "userId": "12386214062098670036"
     },
     "user_tz": -300
    },
    "id": "fuN56aLJExyj",
    "outputId": "522001dc-6f8f-4116-b3dc-5f84f6629ad6"
   },
   "outputs": [
    {
     "data": {
      "image/png": "[encoded data removed]",
      "text/plain": [
       "<Figure size 900x900 with 2 Axes>"
      ]
     },
     "metadata": {},
     "output_type": "display_data"
    }
   ],
   "source": [
    "plt.figure(figsize=(9, 9))\n",
    "correlation_matrix = df[numeric_columns].corr()\n",
    "sns.heatmap(correlation_matrix, annot=True, cmap=\"coolwarm\", fmt=\".2f\")\n",
    "plt.title(\"Матрица корреляций числовых признаков\")\n",
    "plt.show()"
   ]
  },
  {
   "cell_type": "markdown",
   "metadata": {
    "id": "8aPgEo1kE__x"
   },
   "source": [
    "В данных присутствуют ожидаемые корреляции между flipper_length_mm - body_mass_g, flipper_length_mm - culmen_length_mm. Оставим данные без изменений."
   ]
  },
  {
   "cell_type": "markdown",
   "metadata": {
    "id": "XW_WxsA_FQqs"
   },
   "source": [
    "### Масштабирование данных"
   ]
  },
  {
   "cell_type": "code",
   "execution_count": 21,
   "metadata": {
    "colab": {
     "base_uri": "https://localhost:8080/"
    },
    "executionInfo": {
     "elapsed": 4,
     "status": "ok",
     "timestamp": 1740121439319,
     "user": {
      "displayName": "Иван Елькин",
      "userId": "12386214062098670036"
     },
     "user_tz": -300
    },
    "id": "TSU5IknRM9Kz",
    "outputId": "6aaa6211-4498-409a-fb40-eff09deb7e21"
   },
   "outputs": [
    {
     "data": {
      "application/vnd.microsoft.datawrangler.viewer.v0+json": {
       "columns": [
        {
         "name": "index",
         "rawType": "int64",
         "type": "integer"
        },
        {
         "name": "culmen_length_mm",
         "rawType": "float64",
         "type": "float"
        },
        {
         "name": "culmen_depth_mm",
         "rawType": "float64",
         "type": "float"
        },
        {
         "name": "flipper_length_mm",
         "rawType": "float64",
         "type": "float"
        },
        {
         "name": "body_mass_g",
         "rawType": "float64",
         "type": "float"
        },
        {
         "name": "sex",
         "rawType": "float64",
         "type": "float"
        }
       ],
       "conversionMethod": "pd.DataFrame",
       "ref": "827686e9-be3b-4640-ae5d-ea064a0ac3cf",
       "rows": [
        [
         "0",
         "-0.9039058557262827",
         "0.79035987165517",
         "-1.425341786653953",
         "-0.5669480131865731",
         "0.9939939396675457"
        ],
        [
         "1",
         "-0.8304337675634416",
         "0.12618673963341823",
         "-1.06857650229847",
         "-0.5048474719863282",
         "-1.0060423510574554"
        ],
        [
         "2",
         "-0.6834895912377592",
         "0.4327281851819196",
         "-0.4263989904586006",
         "-1.187953425189022",
         "-1.0060423510574554"
        ],
        [
         "3",
         "-1.344738384703331",
         "1.0969013172036712",
         "-0.5691051042007937",
         "-0.9395512603880425",
         "-1.0060423510574554"
        ],
        [
         "4",
         "-0.8671698116448627",
         "1.761074449225423",
         "-0.7831642748140836",
         "-0.691149095587063",
         "0.9939939396675457"
        ]
       ],
       "shape": {
        "columns": 5,
        "rows": 5
       }
      },
      "text/html": [
       "<div>\n",
       "<style scoped>\n",
       "    .dataframe tbody tr th:only-of-type {\n",
       "        vertical-align: middle;\n",
       "    }\n",
       "\n",
       "    .dataframe tbody tr th {\n",
       "        vertical-align: top;\n",
       "    }\n",
       "\n",
       "    .dataframe thead th {\n",
       "        text-align: right;\n",
       "    }\n",
       "</style>\n",
       "<table border=\"1\" class=\"dataframe\">\n",
       "  <thead>\n",
       "    <tr style=\"text-align: right;\">\n",
       "      <th></th>\n",
       "      <th>culmen_length_mm</th>\n",
       "      <th>culmen_depth_mm</th>\n",
       "      <th>flipper_length_mm</th>\n",
       "      <th>body_mass_g</th>\n",
       "      <th>sex</th>\n",
       "    </tr>\n",
       "  </thead>\n",
       "  <tbody>\n",
       "    <tr>\n",
       "      <th>0</th>\n",
       "      <td>-0.903906</td>\n",
       "      <td>0.790360</td>\n",
       "      <td>-1.425342</td>\n",
       "      <td>-0.566948</td>\n",
       "      <td>0.993994</td>\n",
       "    </tr>\n",
       "    <tr>\n",
       "      <th>1</th>\n",
       "      <td>-0.830434</td>\n",
       "      <td>0.126187</td>\n",
       "      <td>-1.068577</td>\n",
       "      <td>-0.504847</td>\n",
       "      <td>-1.006042</td>\n",
       "    </tr>\n",
       "    <tr>\n",
       "      <th>2</th>\n",
       "      <td>-0.683490</td>\n",
       "      <td>0.432728</td>\n",
       "      <td>-0.426399</td>\n",
       "      <td>-1.187953</td>\n",
       "      <td>-1.006042</td>\n",
       "    </tr>\n",
       "    <tr>\n",
       "      <th>3</th>\n",
       "      <td>-1.344738</td>\n",
       "      <td>1.096901</td>\n",
       "      <td>-0.569105</td>\n",
       "      <td>-0.939551</td>\n",
       "      <td>-1.006042</td>\n",
       "    </tr>\n",
       "    <tr>\n",
       "      <th>4</th>\n",
       "      <td>-0.867170</td>\n",
       "      <td>1.761074</td>\n",
       "      <td>-0.783164</td>\n",
       "      <td>-0.691149</td>\n",
       "      <td>0.993994</td>\n",
       "    </tr>\n",
       "  </tbody>\n",
       "</table>\n",
       "</div>"
      ],
      "text/plain": [
       "   culmen_length_mm  culmen_depth_mm  flipper_length_mm  body_mass_g       sex\n",
       "0         -0.903906         0.790360          -1.425342    -0.566948  0.993994\n",
       "1         -0.830434         0.126187          -1.068577    -0.504847 -1.006042\n",
       "2         -0.683490         0.432728          -0.426399    -1.187953 -1.006042\n",
       "3         -1.344738         1.096901          -0.569105    -0.939551 -1.006042\n",
       "4         -0.867170         1.761074          -0.783164    -0.691149  0.993994"
      ]
     },
     "execution_count": 21,
     "metadata": {},
     "output_type": "execute_result"
    }
   ],
   "source": [
    "df_scaled = df.copy()\n",
    "\n",
    "le = LabelEncoder()\n",
    "scaler = StandardScaler()\n",
    "\n",
    "df_scaled[\"sex\"] = le.fit_transform(df_scaled[\"sex\"])\n",
    "df_scaled = pd.DataFrame(scaler.fit_transform(df_scaled), columns=df.columns)\n",
    "\n",
    "df_scaled.head()"
   ]
  },
  {
   "cell_type": "markdown",
   "metadata": {},
   "source": [
    "## Кластеризация KMeans"
   ]
  },
  {
   "cell_type": "markdown",
   "metadata": {},
   "source": [
    "### Подбор гиперпараметров"
   ]
  },
  {
   "cell_type": "code",
   "execution_count": 22,
   "metadata": {},
   "outputs": [
    {
     "name": "stdout",
     "output_type": "stream",
     "text": [
      "Гиперпараметры после подбора: {'algorithm': 'lloyd', 'copy_x': True, 'init': 'k-means++', 'max_iter': 1000, 'n_init': 'auto', 'random_state': 777, 'tol': 0.0001, 'verbose': 0}\n"
     ]
    }
   ],
   "source": [
    "# Подберем гиперпараметры для фиксированного количества кластеров\n",
    "inertia = float(\"inf\")\n",
    "params = None\n",
    "\n",
    "for init in [\"k-means++\", \"random\"]:\n",
    "    for algorithm in [\"lloyd\", \"elkan\"]:\n",
    "        kmeans = KMeans(\n",
    "            n_clusters=4,\n",
    "            random_state=RANDOM_STATE,\n",
    "            max_iter=1000,\n",
    "            init=init,\n",
    "            algorithm=algorithm,\n",
    "        )\n",
    "        kmeans.fit(df_scaled)\n",
    "        if kmeans.inertia_ < inertia:\n",
    "            inertia = kmeans.inertia_\n",
    "            params = kmeans.get_params()\n",
    "\n",
    "del params[\"n_clusters\"]\n",
    "\n",
    "print(f\"Гиперпараметры после подбора: {params}\")"
   ]
  },
  {
   "cell_type": "markdown",
   "metadata": {},
   "source": [
    "### Оценка качества кластеризации методом локтя"
   ]
  },
  {
   "cell_type": "code",
   "execution_count": 23,
   "metadata": {},
   "outputs": [
    {
     "data": {
      "image/png": "[encoded data removed]",
      "text/plain": [
       "<Figure size 800x500 with 1 Axes>"
      ]
     },
     "metadata": {},
     "output_type": "display_data"
    }
   ],
   "source": [
    "clasters_range = range(2, 11)\n",
    "inertia = []\n",
    "\n",
    "for n_clusters in clasters_range:\n",
    "    kmeans = KMeans(n_clusters=n_clusters, **params)\n",
    "    kmeans.fit(df_scaled)\n",
    "    inertia.append(kmeans.inertia_)\n",
    "\n",
    "# Визуализация метода локтя\n",
    "plt.figure(figsize=(8, 5))\n",
    "plt.plot(clasters_range, inertia, marker=\"o\", linestyle=\"--\")\n",
    "plt.xlabel(\"Количество кластеров\")\n",
    "plt.ylabel(\"inertia\")\n",
    "plt.title(\"Метод локтя для выбора n_clusters\")\n",
    "plt.show()"
   ]
  },
  {
   "cell_type": "markdown",
   "metadata": {},
   "source": [
    "Судя по скорости убывания графика, можно заключить, что оптимальным количеством кластеров является количество от 4 до 6 (включительно), после этого скорость убывания заметно снижается."
   ]
  },
  {
   "cell_type": "markdown",
   "metadata": {},
   "source": [
    "### Оценка качества кластеризации методом силуэта"
   ]
  },
  {
   "cell_type": "code",
   "execution_count": 24,
   "metadata": {},
   "outputs": [
    {
     "data": {
      "image/png": "[encoded data removed]",
      "text/plain": [
       "<Figure size 800x500 with 1 Axes>"
      ]
     },
     "metadata": {},
     "output_type": "display_data"
    }
   ],
   "source": [
    "clasters_range = range(2, 11)\n",
    "silhouette_scores = []\n",
    "\n",
    "for n_clusters in clasters_range:\n",
    "    kmeans = KMeans(n_clusters=n_clusters, **params)\n",
    "    kmeans.fit(df_scaled)\n",
    "    silhouette_scores.append(silhouette_score(df_scaled, kmeans.labels_))\n",
    "\n",
    "# Визуализация метода силуэта\n",
    "plt.figure(figsize=(8, 5))\n",
    "plt.plot(clasters_range, silhouette_scores, marker=\"o\", linestyle=\"--\", color=\"r\")\n",
    "plt.xlabel(\"Количество кластеров\")\n",
    "plt.ylabel(\"silhouette_score\")\n",
    "plt.title(\"Метод силуэта для выбора n_clusters\")\n",
    "plt.show()"
   ]
  },
  {
   "cell_type": "markdown",
   "metadata": {},
   "source": [
    "Можно видеть, что максимум на графике силуэта достигается в диапазоне количества кластеров от 4 до 6 (включительно), что согласуется с методом локтя.\n",
    "\n",
    "- Ориентируясь на графики метода локтя и метода силуэта выберем количество кластеров равное **6**."
   ]
  },
  {
   "cell_type": "markdown",
   "metadata": {},
   "source": [
    "###  Визуализация кластеров"
   ]
  },
  {
   "cell_type": "code",
   "execution_count": 25,
   "metadata": {},
   "outputs": [
    {
     "data": {
      "image/png": "[encoded data removed]",
      "text/plain": [
       "<Figure size 800x500 with 1 Axes>"
      ]
     },
     "metadata": {},
     "output_type": "display_data"
    }
   ],
   "source": [
    "# Модель KMeans с оптимальным количеством кластеров\n",
    "OPTIMAL_N_CLUSTERS = 6\n",
    "kmeans_fine_tune = KMeans(n_clusters=OPTIMAL_N_CLUSTERS, **params)\n",
    "kmeans_fine_tune.fit(df_scaled)\n",
    "\n",
    "# Визуализация кластеров после снижения размерности\n",
    "pca = PCA(n_components=2)\n",
    "df_scaled_pca = pca.fit_transform(df_scaled.values)\n",
    "cluster_centers_pca = pca.transform(kmeans_fine_tune.cluster_centers_)\n",
    "\n",
    "plt.figure(figsize=(8, 5))\n",
    "plt.scatter(\n",
    "    df_scaled_pca[:, 0],\n",
    "    df_scaled_pca[:, 1],\n",
    "    c=kmeans_fine_tune.labels_,\n",
    "    alpha=0.8,\n",
    ")\n",
    "plt.scatter(\n",
    "    cluster_centers_pca[:, 0],\n",
    "    cluster_centers_pca[:, 1],\n",
    "    c=\"red\",\n",
    "    marker=\"X\",\n",
    "    s=100,\n",
    "    label=\"Центры кластеров\",\n",
    ")\n",
    "plt.xlabel(\"Главная компонента 1\")\n",
    "plt.ylabel(\"Главная компонента 2\")\n",
    "plt.title(f\"Визуализация кластеров (n_clusters={OPTIMAL_N_CLUSTERS})\")\n",
    "plt.legend()\n",
    "plt.show()"
   ]
  },
  {
   "cell_type": "markdown",
   "metadata": {},
   "source": [
    "На графике, после снижения размерности, можно видеть набор хорошо различимых кластеров."
   ]
  },
  {
   "cell_type": "markdown",
   "metadata": {},
   "source": [
    "###  Сохранение модели"
   ]
  },
  {
   "cell_type": "code",
   "execution_count": 26,
   "metadata": {},
   "outputs": [
    {
     "name": "stdout",
     "output_type": "stream",
     "text": [
      "Модель сохранена!\n"
     ]
    }
   ],
   "source": [
    "joblib.dump(kmeans_fine_tune, \"kmeans_model.joblib\")\n",
    "print(\"Модель сохранена!\")"
   ]
  }
 ],
 "metadata": {
  "colab": {
   "provenance": []
  },
  "kernelspec": {
   "display_name": ".mlinnopolis",
   "language": "python",
   "name": "python3"
  },
  "language_info": {
   "codemirror_mode": {
    "name": "ipython",
    "version": 3
   },
   "file_extension": ".py",
   "mimetype": "text/x-python",
   "name": "python",
   "nbconvert_exporter": "python",
   "pygments_lexer": "ipython3",
   "version": "3.13.0"
  }
 },
 "nbformat": 4,
 "nbformat_minor": 0
}
