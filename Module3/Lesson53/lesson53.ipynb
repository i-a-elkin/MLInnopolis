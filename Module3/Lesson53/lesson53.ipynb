{
 "cells": [
  {
   "cell_type": "markdown",
   "metadata": {
    "id": "Ksh_4lh6yIB7"
   },
   "source": [
    "# RF Regressor, Feature engineering"
   ]
  },
  {
   "cell_type": "markdown",
   "metadata": {
    "id": "V1ePiu9UxqkN"
   },
   "source": [
    "## Импорт модулей"
   ]
  },
  {
   "cell_type": "code",
   "execution_count": 1,
   "metadata": {
    "executionInfo": {
     "elapsed": 2048,
     "status": "ok",
     "timestamp": 1740121422421,
     "user": {
      "displayName": "Иван Елькин",
      "userId": "12386214062098670036"
     },
     "user_tz": -300
    },
    "id": "T2aL7hvzxqkN"
   },
   "outputs": [],
   "source": [
    "import pandas as pd\n",
    "import matplotlib.pyplot as plt\n",
    "import seaborn as sns\n",
    "import numpy as np\n",
    "\n",
    "from sklearn.model_selection import train_test_split\n",
    "from sklearn.ensemble import RandomForestRegressor\n",
    "from sklearn.metrics import (\n",
    "    mean_absolute_error,\n",
    "    mean_squared_error,\n",
    "    root_mean_squared_error,\n",
    "    r2_score,\n",
    ")\n",
    "\n",
    "from feature_engine.creation import MathFeatures\n",
    "from itertools import combinations"
   ]
  },
  {
   "cell_type": "markdown",
   "metadata": {},
   "source": [
    "## Константы"
   ]
  },
  {
   "cell_type": "code",
   "execution_count": 2,
   "metadata": {},
   "outputs": [],
   "source": [
    "TRAIN_PATH = \"../Lesson36/train.csv\"\n",
    "TARGET = \"Premium Amount\"\n",
    "RANDOM_STATE = 777\n",
    "TEST_SIZE = 0.2"
   ]
  },
  {
   "cell_type": "markdown",
   "metadata": {},
   "source": [
    "## Загрузка данных"
   ]
  },
  {
   "cell_type": "code",
   "execution_count": 3,
   "metadata": {},
   "outputs": [
    {
     "name": "stdout",
     "output_type": "stream",
     "text": [
      "Train DataFrame\n"
     ]
    },
    {
     "data": {
      "application/vnd.microsoft.datawrangler.viewer.v0+json": {
       "columns": [
        {
         "name": "id",
         "rawType": "int64",
         "type": "integer"
        },
        {
         "name": "Age",
         "rawType": "float64",
         "type": "float"
        },
        {
         "name": "Gender",
         "rawType": "object",
         "type": "string"
        },
        {
         "name": "Annual Income",
         "rawType": "float64",
         "type": "float"
        },
        {
         "name": "Marital Status",
         "rawType": "object",
         "type": "string"
        },
        {
         "name": "Number of Dependents",
         "rawType": "float64",
         "type": "float"
        },
        {
         "name": "Education Level",
         "rawType": "object",
         "type": "string"
        },
        {
         "name": "Occupation",
         "rawType": "object",
         "type": "unknown"
        },
        {
         "name": "Health Score",
         "rawType": "float64",
         "type": "float"
        },
        {
         "name": "Location",
         "rawType": "object",
         "type": "string"
        },
        {
         "name": "Policy Type",
         "rawType": "object",
         "type": "string"
        },
        {
         "name": "Previous Claims",
         "rawType": "float64",
         "type": "float"
        },
        {
         "name": "Vehicle Age",
         "rawType": "float64",
         "type": "float"
        },
        {
         "name": "Credit Score",
         "rawType": "float64",
         "type": "float"
        },
        {
         "name": "Insurance Duration",
         "rawType": "float64",
         "type": "float"
        },
        {
         "name": "Policy Start Date",
         "rawType": "object",
         "type": "string"
        },
        {
         "name": "Customer Feedback",
         "rawType": "object",
         "type": "string"
        },
        {
         "name": "Smoking Status",
         "rawType": "object",
         "type": "string"
        },
        {
         "name": "Exercise Frequency",
         "rawType": "object",
         "type": "string"
        },
        {
         "name": "Property Type",
         "rawType": "object",
         "type": "string"
        },
        {
         "name": "Premium Amount",
         "rawType": "float64",
         "type": "float"
        }
       ],
       "conversionMethod": "pd.DataFrame",
       "ref": "17413c78-10ab-4b3c-9dc2-b99d33d17ee0",
       "rows": [
        [
         "1064660",
         "56.0",
         "Male",
         "1324.0",
         "Divorced",
         "4.0",
         "Bachelor's",
         "Self-Employed",
         null,
         "Urban",
         "Premium",
         null,
         "14.0",
         "589.0",
         "2.0",
         "2020-09-21 15:21:39.194829",
         "Good",
         "No",
         "Daily",
         "Apartment",
         "597.0"
        ],
        [
         "943409",
         "49.0",
         "Female",
         "38217.0",
         "Single",
         "3.0",
         "Master's",
         "Unemployed",
         "18.79347776807853",
         "Urban",
         "Comprehensive",
         "4.0",
         "4.0",
         "751.0",
         "9.0",
         "2021-10-22 15:21:39.224915",
         "Average",
         "Yes",
         "Monthly",
         "Apartment",
         "1147.0"
        ],
        [
         "1187526",
         "21.0",
         "Male",
         "122531.0",
         "Single",
         "3.0",
         "High School",
         null,
         "11.980426254509666",
         "Rural",
         "Comprehensive",
         "0.0",
         "9.0",
         "454.0",
         "4.0",
         "2021-06-10 15:21:39.289099",
         "Good",
         "Yes",
         "Rarely",
         "Apartment",
         "1167.0"
        ],
        [
         "558015",
         "35.0",
         "Female",
         "2714.0",
         "Single",
         "2.0",
         "PhD",
         "Self-Employed",
         "18.36256719221792",
         "Urban",
         "Comprehensive",
         "1.0",
         "16.0",
         "478.0",
         "7.0",
         "2021-10-11 15:21:39.134960",
         "Average",
         "Yes",
         "Rarely",
         "Apartment",
         "548.0"
        ],
        [
         "496945",
         "18.0",
         "Male",
         "7071.0",
         "Married",
         "3.0",
         "Master's",
         "Unemployed",
         "40.043921300910846",
         "Suburban",
         "Basic",
         "0.0",
         "14.0",
         "473.0",
         "6.0",
         "2023-02-05 15:21:39.154008",
         "Poor",
         "Yes",
         "Weekly",
         "Apartment",
         "1074.0"
        ]
       ],
       "shape": {
        "columns": 20,
        "rows": 5
       }
      },
      "text/html": [
       "<div>\n",
       "<style scoped>\n",
       "    .dataframe tbody tr th:only-of-type {\n",
       "        vertical-align: middle;\n",
       "    }\n",
       "\n",
       "    .dataframe tbody tr th {\n",
       "        vertical-align: top;\n",
       "    }\n",
       "\n",
       "    .dataframe thead th {\n",
       "        text-align: right;\n",
       "    }\n",
       "</style>\n",
       "<table border=\"1\" class=\"dataframe\">\n",
       "  <thead>\n",
       "    <tr style=\"text-align: right;\">\n",
       "      <th></th>\n",
       "      <th>Age</th>\n",
       "      <th>Gender</th>\n",
       "      <th>Annual Income</th>\n",
       "      <th>Marital Status</th>\n",
       "      <th>Number of Dependents</th>\n",
       "      <th>Education Level</th>\n",
       "      <th>Occupation</th>\n",
       "      <th>Health Score</th>\n",
       "      <th>Location</th>\n",
       "      <th>Policy Type</th>\n",
       "      <th>Previous Claims</th>\n",
       "      <th>Vehicle Age</th>\n",
       "      <th>Credit Score</th>\n",
       "      <th>Insurance Duration</th>\n",
       "      <th>Policy Start Date</th>\n",
       "      <th>Customer Feedback</th>\n",
       "      <th>Smoking Status</th>\n",
       "      <th>Exercise Frequency</th>\n",
       "      <th>Property Type</th>\n",
       "      <th>Premium Amount</th>\n",
       "    </tr>\n",
       "    <tr>\n",
       "      <th>id</th>\n",
       "      <th></th>\n",
       "      <th></th>\n",
       "      <th></th>\n",
       "      <th></th>\n",
       "      <th></th>\n",
       "      <th></th>\n",
       "      <th></th>\n",
       "      <th></th>\n",
       "      <th></th>\n",
       "      <th></th>\n",
       "      <th></th>\n",
       "      <th></th>\n",
       "      <th></th>\n",
       "      <th></th>\n",
       "      <th></th>\n",
       "      <th></th>\n",
       "      <th></th>\n",
       "      <th></th>\n",
       "      <th></th>\n",
       "      <th></th>\n",
       "    </tr>\n",
       "  </thead>\n",
       "  <tbody>\n",
       "    <tr>\n",
       "      <th>1064660</th>\n",
       "      <td>56.0</td>\n",
       "      <td>Male</td>\n",
       "      <td>1324.0</td>\n",
       "      <td>Divorced</td>\n",
       "      <td>4.0</td>\n",
       "      <td>Bachelor's</td>\n",
       "      <td>Self-Employed</td>\n",
       "      <td>NaN</td>\n",
       "      <td>Urban</td>\n",
       "      <td>Premium</td>\n",
       "      <td>NaN</td>\n",
       "      <td>14.0</td>\n",
       "      <td>589.0</td>\n",
       "      <td>2.0</td>\n",
       "      <td>2020-09-21 15:21:39.194829</td>\n",
       "      <td>Good</td>\n",
       "      <td>No</td>\n",
       "      <td>Daily</td>\n",
       "      <td>Apartment</td>\n",
       "      <td>597.0</td>\n",
       "    </tr>\n",
       "    <tr>\n",
       "      <th>943409</th>\n",
       "      <td>49.0</td>\n",
       "      <td>Female</td>\n",
       "      <td>38217.0</td>\n",
       "      <td>Single</td>\n",
       "      <td>3.0</td>\n",
       "      <td>Master's</td>\n",
       "      <td>Unemployed</td>\n",
       "      <td>18.793478</td>\n",
       "      <td>Urban</td>\n",
       "      <td>Comprehensive</td>\n",
       "      <td>4.0</td>\n",
       "      <td>4.0</td>\n",
       "      <td>751.0</td>\n",
       "      <td>9.0</td>\n",
       "      <td>2021-10-22 15:21:39.224915</td>\n",
       "      <td>Average</td>\n",
       "      <td>Yes</td>\n",
       "      <td>Monthly</td>\n",
       "      <td>Apartment</td>\n",
       "      <td>1147.0</td>\n",
       "    </tr>\n",
       "    <tr>\n",
       "      <th>1187526</th>\n",
       "      <td>21.0</td>\n",
       "      <td>Male</td>\n",
       "      <td>122531.0</td>\n",
       "      <td>Single</td>\n",
       "      <td>3.0</td>\n",
       "      <td>High School</td>\n",
       "      <td>NaN</td>\n",
       "      <td>11.980426</td>\n",
       "      <td>Rural</td>\n",
       "      <td>Comprehensive</td>\n",
       "      <td>0.0</td>\n",
       "      <td>9.0</td>\n",
       "      <td>454.0</td>\n",
       "      <td>4.0</td>\n",
       "      <td>2021-06-10 15:21:39.289099</td>\n",
       "      <td>Good</td>\n",
       "      <td>Yes</td>\n",
       "      <td>Rarely</td>\n",
       "      <td>Apartment</td>\n",
       "      <td>1167.0</td>\n",
       "    </tr>\n",
       "    <tr>\n",
       "      <th>558015</th>\n",
       "      <td>35.0</td>\n",
       "      <td>Female</td>\n",
       "      <td>2714.0</td>\n",
       "      <td>Single</td>\n",
       "      <td>2.0</td>\n",
       "      <td>PhD</td>\n",
       "      <td>Self-Employed</td>\n",
       "      <td>18.362567</td>\n",
       "      <td>Urban</td>\n",
       "      <td>Comprehensive</td>\n",
       "      <td>1.0</td>\n",
       "      <td>16.0</td>\n",
       "      <td>478.0</td>\n",
       "      <td>7.0</td>\n",
       "      <td>2021-10-11 15:21:39.134960</td>\n",
       "      <td>Average</td>\n",
       "      <td>Yes</td>\n",
       "      <td>Rarely</td>\n",
       "      <td>Apartment</td>\n",
       "      <td>548.0</td>\n",
       "    </tr>\n",
       "    <tr>\n",
       "      <th>496945</th>\n",
       "      <td>18.0</td>\n",
       "      <td>Male</td>\n",
       "      <td>7071.0</td>\n",
       "      <td>Married</td>\n",
       "      <td>3.0</td>\n",
       "      <td>Master's</td>\n",
       "      <td>Unemployed</td>\n",
       "      <td>40.043921</td>\n",
       "      <td>Suburban</td>\n",
       "      <td>Basic</td>\n",
       "      <td>0.0</td>\n",
       "      <td>14.0</td>\n",
       "      <td>473.0</td>\n",
       "      <td>6.0</td>\n",
       "      <td>2023-02-05 15:21:39.154008</td>\n",
       "      <td>Poor</td>\n",
       "      <td>Yes</td>\n",
       "      <td>Weekly</td>\n",
       "      <td>Apartment</td>\n",
       "      <td>1074.0</td>\n",
       "    </tr>\n",
       "  </tbody>\n",
       "</table>\n",
       "</div>"
      ],
      "text/plain": [
       "          Age  Gender  Annual Income Marital Status  Number of Dependents  \\\n",
       "id                                                                          \n",
       "1064660  56.0    Male         1324.0       Divorced                   4.0   \n",
       "943409   49.0  Female        38217.0         Single                   3.0   \n",
       "1187526  21.0    Male       122531.0         Single                   3.0   \n",
       "558015   35.0  Female         2714.0         Single                   2.0   \n",
       "496945   18.0    Male         7071.0        Married                   3.0   \n",
       "\n",
       "        Education Level     Occupation  Health Score  Location    Policy Type  \\\n",
       "id                                                                              \n",
       "1064660      Bachelor's  Self-Employed           NaN     Urban        Premium   \n",
       "943409         Master's     Unemployed     18.793478     Urban  Comprehensive   \n",
       "1187526     High School            NaN     11.980426     Rural  Comprehensive   \n",
       "558015              PhD  Self-Employed     18.362567     Urban  Comprehensive   \n",
       "496945         Master's     Unemployed     40.043921  Suburban          Basic   \n",
       "\n",
       "         Previous Claims  Vehicle Age  Credit Score  Insurance Duration  \\\n",
       "id                                                                        \n",
       "1064660              NaN         14.0         589.0                 2.0   \n",
       "943409               4.0          4.0         751.0                 9.0   \n",
       "1187526              0.0          9.0         454.0                 4.0   \n",
       "558015               1.0         16.0         478.0                 7.0   \n",
       "496945               0.0         14.0         473.0                 6.0   \n",
       "\n",
       "                  Policy Start Date Customer Feedback Smoking Status  \\\n",
       "id                                                                     \n",
       "1064660  2020-09-21 15:21:39.194829              Good             No   \n",
       "943409   2021-10-22 15:21:39.224915           Average            Yes   \n",
       "1187526  2021-06-10 15:21:39.289099              Good            Yes   \n",
       "558015   2021-10-11 15:21:39.134960           Average            Yes   \n",
       "496945   2023-02-05 15:21:39.154008              Poor            Yes   \n",
       "\n",
       "        Exercise Frequency Property Type  Premium Amount  \n",
       "id                                                        \n",
       "1064660              Daily     Apartment           597.0  \n",
       "943409             Monthly     Apartment          1147.0  \n",
       "1187526             Rarely     Apartment          1167.0  \n",
       "558015              Rarely     Apartment           548.0  \n",
       "496945              Weekly     Apartment          1074.0  "
      ]
     },
     "execution_count": 3,
     "metadata": {},
     "output_type": "execute_result"
    }
   ],
   "source": [
    "df = pd.read_csv(TRAIN_PATH, index_col=\"id\")\n",
    "df = df.sample(n=10000, random_state=RANDOM_STATE, replace=False)\n",
    "\n",
    "print(\"Train DataFrame\")\n",
    "df.head()"
   ]
  },
  {
   "cell_type": "code",
   "execution_count": 4,
   "metadata": {},
   "outputs": [
    {
     "name": "stdout",
     "output_type": "stream",
     "text": [
      "<class 'pandas.core.frame.DataFrame'>\n",
      "Index: 10000 entries, 1064660 to 535173\n",
      "Data columns (total 20 columns):\n",
      " #   Column                Non-Null Count  Dtype  \n",
      "---  ------                --------------  -----  \n",
      " 0   Age                   9861 non-null   float64\n",
      " 1   Gender                10000 non-null  object \n",
      " 2   Annual Income         9627 non-null   float64\n",
      " 3   Marital Status        9857 non-null   object \n",
      " 4   Number of Dependents  9110 non-null   float64\n",
      " 5   Education Level       10000 non-null  object \n",
      " 6   Occupation            6968 non-null   object \n",
      " 7   Health Score          9396 non-null   float64\n",
      " 8   Location              10000 non-null  object \n",
      " 9   Policy Type           10000 non-null  object \n",
      " 10  Previous Claims       7007 non-null   float64\n",
      " 11  Vehicle Age           10000 non-null  float64\n",
      " 12  Credit Score          8860 non-null   float64\n",
      " 13  Insurance Duration    10000 non-null  float64\n",
      " 14  Policy Start Date     10000 non-null  object \n",
      " 15  Customer Feedback     9315 non-null   object \n",
      " 16  Smoking Status        10000 non-null  object \n",
      " 17  Exercise Frequency    10000 non-null  object \n",
      " 18  Property Type         10000 non-null  object \n",
      " 19  Premium Amount        10000 non-null  float64\n",
      "dtypes: float64(9), object(11)\n",
      "memory usage: 1.6+ MB\n"
     ]
    }
   ],
   "source": [
    "df.info()"
   ]
  },
  {
   "cell_type": "markdown",
   "metadata": {},
   "source": [
    "## Исследовательский анализ данных"
   ]
  },
  {
   "cell_type": "code",
   "execution_count": 5,
   "metadata": {},
   "outputs": [],
   "source": [
    "# Удалим колонку с датой\n",
    "df = df.drop(columns=[\"Policy Start Date\"])\n",
    "\n",
    "# Выделим числовые и категориальные признаки\n",
    "numeric_columns = [\n",
    "    col for col in df.columns if df[col].dtype == \"float64\" if col != TARGET\n",
    "]\n",
    "categoric_columns = [col for col in df.columns if df[col].dtype == \"object\"]"
   ]
  },
  {
   "cell_type": "code",
   "execution_count": 6,
   "metadata": {},
   "outputs": [],
   "source": [
    "def numeric_columns_stats(df):\n",
    "    stats = pd.DataFrame(index=df.columns)\n",
    "    stats[\"Доля пропусков\"] = df.isnull().mean()\n",
    "    stats[\"Минимум\"] = df.min().round(2)\n",
    "    stats[\"Максимум\"] = df.max().round(2)\n",
    "    stats[\"Среднее\"] = df.mean().round(2)\n",
    "    stats[\"Медиана\"] = df.median().round(2)\n",
    "    stats[\"Дисперсия\"] = df.var().round(2)\n",
    "    stats[\"Квантиль 0.1\"] = df.quantile(0.1).round(2)\n",
    "    stats[\"Квантиль 0.9\"] = df.quantile(0.9).round(2)\n",
    "    stats[\"Квартиль 1\"] = df.quantile(0.25).round(2)\n",
    "    stats[\"Квартиль 3\"] = df.quantile(0.75).round(2)\n",
    "\n",
    "    return stats\n",
    "\n",
    "\n",
    "def categoric_columns_stats(df):\n",
    "    stats = pd.DataFrame(index=df.columns)\n",
    "    stats[\"Доля пропусков\"] = df.isnull().mean()\n",
    "    stats[\"Количество уникальных значений\"] = df.nunique()\n",
    "    stats[\"Мода\"] = df.mode().transpose()\n",
    "\n",
    "    return stats"
   ]
  },
  {
   "cell_type": "code",
   "execution_count": 7,
   "metadata": {},
   "outputs": [
    {
     "data": {
      "application/vnd.microsoft.datawrangler.viewer.v0+json": {
       "columns": [
        {
         "name": "index",
         "rawType": "object",
         "type": "string"
        },
        {
         "name": "Доля пропусков",
         "rawType": "float64",
         "type": "float"
        },
        {
         "name": "Минимум",
         "rawType": "float64",
         "type": "float"
        },
        {
         "name": "Максимум",
         "rawType": "float64",
         "type": "float"
        },
        {
         "name": "Среднее",
         "rawType": "float64",
         "type": "float"
        },
        {
         "name": "Медиана",
         "rawType": "float64",
         "type": "float"
        },
        {
         "name": "Дисперсия",
         "rawType": "float64",
         "type": "float"
        },
        {
         "name": "Квантиль 0.1",
         "rawType": "float64",
         "type": "float"
        },
        {
         "name": "Квантиль 0.9",
         "rawType": "float64",
         "type": "float"
        },
        {
         "name": "Квартиль 1",
         "rawType": "float64",
         "type": "float"
        },
        {
         "name": "Квартиль 3",
         "rawType": "float64",
         "type": "float"
        }
       ],
       "conversionMethod": "pd.DataFrame",
       "ref": "57eba4e7-8f24-4853-b0fa-fdec1fb78352",
       "rows": [
        [
         "Age",
         "0.0139",
         "18.0",
         "64.0",
         "41.28",
         "42.0",
         "180.52",
         "23.0",
         "60.0",
         "30.0",
         "53.0"
        ],
        [
         "Annual Income",
         "0.0373",
         "17.0",
         "149993.0",
         "32507.43",
         "23696.0",
         "1033609895.06",
         "2594.4",
         "81206.4",
         "7832.5",
         "44628.0"
        ],
        [
         "Number of Dependents",
         "0.089",
         "0.0",
         "4.0",
         "2.02",
         "2.0",
         "1.99",
         "0.0",
         "4.0",
         "1.0",
         "3.0"
        ],
        [
         "Health Score",
         "0.0604",
         "2.26",
         "55.38",
         "25.95",
         "24.87",
         "150.06",
         "10.26",
         "43.88",
         "16.07",
         "34.98"
        ],
        [
         "Previous Claims",
         "0.2993",
         "0.0",
         "8.0",
         "1.01",
         "1.0",
         "0.98",
         "0.0",
         "2.0",
         "0.0",
         "2.0"
        ],
        [
         "Vehicle Age",
         "0.0",
         "0.0",
         "19.0",
         "9.57",
         "10.0",
         "33.37",
         "2.0",
         "18.0",
         "5.0",
         "15.0"
        ],
        [
         "Credit Score",
         "0.114",
         "300.0",
         "849.0",
         "592.77",
         "593.0",
         "22288.74",
         "388.0",
         "793.0",
         "468.0",
         "719.0"
        ],
        [
         "Insurance Duration",
         "0.0",
         "1.0",
         "9.0",
         "5.03",
         "5.0",
         "6.79",
         "1.0",
         "9.0",
         "3.0",
         "7.0"
        ],
        [
         "Premium Amount",
         "0.0",
         "20.0",
         "4986.0",
         "1106.29",
         "871.0",
         "751169.79",
         "148.0",
         "2369.0",
         "518.75",
         "1514.0"
        ]
       ],
       "shape": {
        "columns": 10,
        "rows": 9
       }
      },
      "text/html": [
       "<div>\n",
       "<style scoped>\n",
       "    .dataframe tbody tr th:only-of-type {\n",
       "        vertical-align: middle;\n",
       "    }\n",
       "\n",
       "    .dataframe tbody tr th {\n",
       "        vertical-align: top;\n",
       "    }\n",
       "\n",
       "    .dataframe thead th {\n",
       "        text-align: right;\n",
       "    }\n",
       "</style>\n",
       "<table border=\"1\" class=\"dataframe\">\n",
       "  <thead>\n",
       "    <tr style=\"text-align: right;\">\n",
       "      <th></th>\n",
       "      <th>Доля пропусков</th>\n",
       "      <th>Минимум</th>\n",
       "      <th>Максимум</th>\n",
       "      <th>Среднее</th>\n",
       "      <th>Медиана</th>\n",
       "      <th>Дисперсия</th>\n",
       "      <th>Квантиль 0.1</th>\n",
       "      <th>Квантиль 0.9</th>\n",
       "      <th>Квартиль 1</th>\n",
       "      <th>Квартиль 3</th>\n",
       "    </tr>\n",
       "  </thead>\n",
       "  <tbody>\n",
       "    <tr>\n",
       "      <th>Age</th>\n",
       "      <td>0.0139</td>\n",
       "      <td>18.00</td>\n",
       "      <td>64.00</td>\n",
       "      <td>41.28</td>\n",
       "      <td>42.00</td>\n",
       "      <td>1.805200e+02</td>\n",
       "      <td>23.00</td>\n",
       "      <td>60.00</td>\n",
       "      <td>30.00</td>\n",
       "      <td>53.00</td>\n",
       "    </tr>\n",
       "    <tr>\n",
       "      <th>Annual Income</th>\n",
       "      <td>0.0373</td>\n",
       "      <td>17.00</td>\n",
       "      <td>149993.00</td>\n",
       "      <td>32507.43</td>\n",
       "      <td>23696.00</td>\n",
       "      <td>1.033610e+09</td>\n",
       "      <td>2594.40</td>\n",
       "      <td>81206.40</td>\n",
       "      <td>7832.50</td>\n",
       "      <td>44628.00</td>\n",
       "    </tr>\n",
       "    <tr>\n",
       "      <th>Number of Dependents</th>\n",
       "      <td>0.0890</td>\n",
       "      <td>0.00</td>\n",
       "      <td>4.00</td>\n",
       "      <td>2.02</td>\n",
       "      <td>2.00</td>\n",
       "      <td>1.990000e+00</td>\n",
       "      <td>0.00</td>\n",
       "      <td>4.00</td>\n",
       "      <td>1.00</td>\n",
       "      <td>3.00</td>\n",
       "    </tr>\n",
       "    <tr>\n",
       "      <th>Health Score</th>\n",
       "      <td>0.0604</td>\n",
       "      <td>2.26</td>\n",
       "      <td>55.38</td>\n",
       "      <td>25.95</td>\n",
       "      <td>24.87</td>\n",
       "      <td>1.500600e+02</td>\n",
       "      <td>10.26</td>\n",
       "      <td>43.88</td>\n",
       "      <td>16.07</td>\n",
       "      <td>34.98</td>\n",
       "    </tr>\n",
       "    <tr>\n",
       "      <th>Previous Claims</th>\n",
       "      <td>0.2993</td>\n",
       "      <td>0.00</td>\n",
       "      <td>8.00</td>\n",
       "      <td>1.01</td>\n",
       "      <td>1.00</td>\n",
       "      <td>9.800000e-01</td>\n",
       "      <td>0.00</td>\n",
       "      <td>2.00</td>\n",
       "      <td>0.00</td>\n",
       "      <td>2.00</td>\n",
       "    </tr>\n",
       "    <tr>\n",
       "      <th>Vehicle Age</th>\n",
       "      <td>0.0000</td>\n",
       "      <td>0.00</td>\n",
       "      <td>19.00</td>\n",
       "      <td>9.57</td>\n",
       "      <td>10.00</td>\n",
       "      <td>3.337000e+01</td>\n",
       "      <td>2.00</td>\n",
       "      <td>18.00</td>\n",
       "      <td>5.00</td>\n",
       "      <td>15.00</td>\n",
       "    </tr>\n",
       "    <tr>\n",
       "      <th>Credit Score</th>\n",
       "      <td>0.1140</td>\n",
       "      <td>300.00</td>\n",
       "      <td>849.00</td>\n",
       "      <td>592.77</td>\n",
       "      <td>593.00</td>\n",
       "      <td>2.228874e+04</td>\n",
       "      <td>388.00</td>\n",
       "      <td>793.00</td>\n",
       "      <td>468.00</td>\n",
       "      <td>719.00</td>\n",
       "    </tr>\n",
       "    <tr>\n",
       "      <th>Insurance Duration</th>\n",
       "      <td>0.0000</td>\n",
       "      <td>1.00</td>\n",
       "      <td>9.00</td>\n",
       "      <td>5.03</td>\n",
       "      <td>5.00</td>\n",
       "      <td>6.790000e+00</td>\n",
       "      <td>1.00</td>\n",
       "      <td>9.00</td>\n",
       "      <td>3.00</td>\n",
       "      <td>7.00</td>\n",
       "    </tr>\n",
       "    <tr>\n",
       "      <th>Premium Amount</th>\n",
       "      <td>0.0000</td>\n",
       "      <td>20.00</td>\n",
       "      <td>4986.00</td>\n",
       "      <td>1106.29</td>\n",
       "      <td>871.00</td>\n",
       "      <td>7.511698e+05</td>\n",
       "      <td>148.00</td>\n",
       "      <td>2369.00</td>\n",
       "      <td>518.75</td>\n",
       "      <td>1514.00</td>\n",
       "    </tr>\n",
       "  </tbody>\n",
       "</table>\n",
       "</div>"
      ],
      "text/plain": [
       "                      Доля пропусков  Минимум   Максимум   Среднее   Медиана  \\\n",
       "Age                           0.0139    18.00      64.00     41.28     42.00   \n",
       "Annual Income                 0.0373    17.00  149993.00  32507.43  23696.00   \n",
       "Number of Dependents          0.0890     0.00       4.00      2.02      2.00   \n",
       "Health Score                  0.0604     2.26      55.38     25.95     24.87   \n",
       "Previous Claims               0.2993     0.00       8.00      1.01      1.00   \n",
       "Vehicle Age                   0.0000     0.00      19.00      9.57     10.00   \n",
       "Credit Score                  0.1140   300.00     849.00    592.77    593.00   \n",
       "Insurance Duration            0.0000     1.00       9.00      5.03      5.00   \n",
       "Premium Amount                0.0000    20.00    4986.00   1106.29    871.00   \n",
       "\n",
       "                         Дисперсия  Квантиль 0.1  Квантиль 0.9  Квартиль 1  \\\n",
       "Age                   1.805200e+02         23.00         60.00       30.00   \n",
       "Annual Income         1.033610e+09       2594.40      81206.40     7832.50   \n",
       "Number of Dependents  1.990000e+00          0.00          4.00        1.00   \n",
       "Health Score          1.500600e+02         10.26         43.88       16.07   \n",
       "Previous Claims       9.800000e-01          0.00          2.00        0.00   \n",
       "Vehicle Age           3.337000e+01          2.00         18.00        5.00   \n",
       "Credit Score          2.228874e+04        388.00        793.00      468.00   \n",
       "Insurance Duration    6.790000e+00          1.00          9.00        3.00   \n",
       "Premium Amount        7.511698e+05        148.00       2369.00      518.75   \n",
       "\n",
       "                      Квартиль 3  \n",
       "Age                        53.00  \n",
       "Annual Income           44628.00  \n",
       "Number of Dependents        3.00  \n",
       "Health Score               34.98  \n",
       "Previous Claims             2.00  \n",
       "Vehicle Age                15.00  \n",
       "Credit Score              719.00  \n",
       "Insurance Duration          7.00  \n",
       "Premium Amount           1514.00  "
      ]
     },
     "execution_count": 7,
     "metadata": {},
     "output_type": "execute_result"
    }
   ],
   "source": [
    "# Результаты EDA для числовых признаков\n",
    "numeric_columns_stats(df[numeric_columns + [TARGET]])"
   ]
  },
  {
   "cell_type": "code",
   "execution_count": 8,
   "metadata": {},
   "outputs": [
    {
     "data": {
      "application/vnd.microsoft.datawrangler.viewer.v0+json": {
       "columns": [
        {
         "name": "index",
         "rawType": "object",
         "type": "string"
        },
        {
         "name": "Доля пропусков",
         "rawType": "float64",
         "type": "float"
        },
        {
         "name": "Количество уникальных значений",
         "rawType": "int64",
         "type": "integer"
        },
        {
         "name": "Мода",
         "rawType": "object",
         "type": "string"
        }
       ],
       "conversionMethod": "pd.DataFrame",
       "ref": "ecbd82e6-5321-4c53-8442-0ba3d4a5b64b",
       "rows": [
        [
         "Gender",
         "0.0",
         "2",
         "Female"
        ],
        [
         "Marital Status",
         "0.0143",
         "3",
         "Married"
        ],
        [
         "Education Level",
         "0.0",
         "4",
         "PhD"
        ],
        [
         "Occupation",
         "0.3032",
         "3",
         "Employed"
        ],
        [
         "Location",
         "0.0",
         "3",
         "Rural"
        ],
        [
         "Policy Type",
         "0.0",
         "3",
         "Premium"
        ],
        [
         "Customer Feedback",
         "0.0685",
         "3",
         "Average"
        ],
        [
         "Smoking Status",
         "0.0",
         "2",
         "No"
        ],
        [
         "Exercise Frequency",
         "0.0",
         "4",
         "Weekly"
        ],
        [
         "Property Type",
         "0.0",
         "3",
         "Apartment"
        ]
       ],
       "shape": {
        "columns": 3,
        "rows": 10
       }
      },
      "text/html": [
       "<div>\n",
       "<style scoped>\n",
       "    .dataframe tbody tr th:only-of-type {\n",
       "        vertical-align: middle;\n",
       "    }\n",
       "\n",
       "    .dataframe tbody tr th {\n",
       "        vertical-align: top;\n",
       "    }\n",
       "\n",
       "    .dataframe thead th {\n",
       "        text-align: right;\n",
       "    }\n",
       "</style>\n",
       "<table border=\"1\" class=\"dataframe\">\n",
       "  <thead>\n",
       "    <tr style=\"text-align: right;\">\n",
       "      <th></th>\n",
       "      <th>Доля пропусков</th>\n",
       "      <th>Количество уникальных значений</th>\n",
       "      <th>Мода</th>\n",
       "    </tr>\n",
       "  </thead>\n",
       "  <tbody>\n",
       "    <tr>\n",
       "      <th>Gender</th>\n",
       "      <td>0.0000</td>\n",
       "      <td>2</td>\n",
       "      <td>Female</td>\n",
       "    </tr>\n",
       "    <tr>\n",
       "      <th>Marital Status</th>\n",
       "      <td>0.0143</td>\n",
       "      <td>3</td>\n",
       "      <td>Married</td>\n",
       "    </tr>\n",
       "    <tr>\n",
       "      <th>Education Level</th>\n",
       "      <td>0.0000</td>\n",
       "      <td>4</td>\n",
       "      <td>PhD</td>\n",
       "    </tr>\n",
       "    <tr>\n",
       "      <th>Occupation</th>\n",
       "      <td>0.3032</td>\n",
       "      <td>3</td>\n",
       "      <td>Employed</td>\n",
       "    </tr>\n",
       "    <tr>\n",
       "      <th>Location</th>\n",
       "      <td>0.0000</td>\n",
       "      <td>3</td>\n",
       "      <td>Rural</td>\n",
       "    </tr>\n",
       "    <tr>\n",
       "      <th>Policy Type</th>\n",
       "      <td>0.0000</td>\n",
       "      <td>3</td>\n",
       "      <td>Premium</td>\n",
       "    </tr>\n",
       "    <tr>\n",
       "      <th>Customer Feedback</th>\n",
       "      <td>0.0685</td>\n",
       "      <td>3</td>\n",
       "      <td>Average</td>\n",
       "    </tr>\n",
       "    <tr>\n",
       "      <th>Smoking Status</th>\n",
       "      <td>0.0000</td>\n",
       "      <td>2</td>\n",
       "      <td>No</td>\n",
       "    </tr>\n",
       "    <tr>\n",
       "      <th>Exercise Frequency</th>\n",
       "      <td>0.0000</td>\n",
       "      <td>4</td>\n",
       "      <td>Weekly</td>\n",
       "    </tr>\n",
       "    <tr>\n",
       "      <th>Property Type</th>\n",
       "      <td>0.0000</td>\n",
       "      <td>3</td>\n",
       "      <td>Apartment</td>\n",
       "    </tr>\n",
       "  </tbody>\n",
       "</table>\n",
       "</div>"
      ],
      "text/plain": [
       "                    Доля пропусков  Количество уникальных значений       Мода\n",
       "Gender                      0.0000                               2     Female\n",
       "Marital Status              0.0143                               3    Married\n",
       "Education Level             0.0000                               4        PhD\n",
       "Occupation                  0.3032                               3   Employed\n",
       "Location                    0.0000                               3      Rural\n",
       "Policy Type                 0.0000                               3    Premium\n",
       "Customer Feedback           0.0685                               3    Average\n",
       "Smoking Status              0.0000                               2         No\n",
       "Exercise Frequency          0.0000                               4     Weekly\n",
       "Property Type               0.0000                               3  Apartment"
      ]
     },
     "execution_count": 8,
     "metadata": {},
     "output_type": "execute_result"
    }
   ],
   "source": [
    "# Результаты EDA для категориальных признаков\n",
    "categoric_columns_stats(df[categoric_columns])"
   ]
  },
  {
   "cell_type": "markdown",
   "metadata": {},
   "source": [
    "Данные содержат пропущенные значения и имеют различный масштаб."
   ]
  },
  {
   "cell_type": "markdown",
   "metadata": {},
   "source": [
    "## Подготовка датасета к построению моделей ML"
   ]
  },
  {
   "cell_type": "markdown",
   "metadata": {},
   "source": [
    "### Распределение целевой переменной"
   ]
  },
  {
   "cell_type": "code",
   "execution_count": 9,
   "metadata": {},
   "outputs": [
    {
     "data": {
      "image/png": "[encoded data removed]",
      "text/plain": [
       "<Figure size 1000x800 with 2 Axes>"
      ]
     },
     "metadata": {},
     "output_type": "display_data"
    }
   ],
   "source": [
    "# Визуализация распределения целевой переменной\n",
    "fig, ax = plt.subplots(2, 1, figsize=(10, 8))\n",
    "\n",
    "sns.histplot(df[TARGET], bins=50, kde=True, ax=ax[0])\n",
    "ax[0].set_xlabel(\"Значение\")\n",
    "ax[0].set_ylabel(\"Частота\")\n",
    "\n",
    "sns.boxplot(df[TARGET], orient=\"h\", ax=ax[1])\n",
    "ax[1].set_xlabel(\"Значение\")\n",
    "ax[1].set_yticks([])\n",
    "\n",
    "plt.suptitle(f\"Распределение целевой переменной '{TARGET}'\")\n",
    "plt.tight_layout()\n",
    "plt.show()"
   ]
  },
  {
   "cell_type": "markdown",
   "metadata": {},
   "source": [
    "Распределение целевого признака похоже на распределение Пуассона с тяжелым хвостом, оставим его без изменения."
   ]
  },
  {
   "cell_type": "markdown",
   "metadata": {},
   "source": [
    "### Обработка пропусков"
   ]
  },
  {
   "cell_type": "markdown",
   "metadata": {},
   "source": [
    "Заменим пропуски числовых переменных на значение медианы, а категориальных на значение моды."
   ]
  },
  {
   "cell_type": "code",
   "execution_count": 10,
   "metadata": {},
   "outputs": [],
   "source": [
    "# Заполняем числовые переменные\n",
    "df[numeric_columns] = df[numeric_columns].fillna(df[numeric_columns].median())\n",
    "\n",
    "# Заполняем категориальные переменные\n",
    "# Для случая если встретятся 2 значения с одинаковой частотой, берем первое из них x.mode()[0]\n",
    "df[categoric_columns] = df[categoric_columns].apply(lambda x: x.fillna(x.mode()[0]))"
   ]
  },
  {
   "cell_type": "markdown",
   "metadata": {},
   "source": [
    "### Обработка выбросов"
   ]
  },
  {
   "cell_type": "code",
   "execution_count": 11,
   "metadata": {},
   "outputs": [
    {
     "data": {
      "image/png": "[encoded data removed]",
      "text/plain": [
       "<Figure size 1200x600 with 8 Axes>"
      ]
     },
     "metadata": {},
     "output_type": "display_data"
    }
   ],
   "source": [
    "# Отображение распределения числовых признаков до обработки выбросов\n",
    "fig, ax = plt.subplots(2, 4, figsize=(12, 6))\n",
    "\n",
    "for i, col in enumerate(numeric_columns):\n",
    "    row_idx, col_idx = divmod(i, 4)\n",
    "    sns.boxplot(df[numeric_columns][col], ax=ax[row_idx, col_idx], orient=\"h\")\n",
    "    ax[row_idx, col_idx].set_title(col)\n",
    "    ax[row_idx, col_idx].set_xlabel(None)\n",
    "    ax[row_idx, col_idx].set_yticks([])\n",
    "\n",
    "plt.suptitle(\"Распределение числовых признаков до обработки выбросов\")\n",
    "plt.tight_layout()\n",
    "plt.show()"
   ]
  },
  {
   "cell_type": "markdown",
   "metadata": {},
   "source": [
    "Больше всего выбросов содержит признак \"Annual Income\", в нем встречаются как экстримально малые значения (около 17.0) так и очень высокие, выше 100000.0. Заменим низкие значения на величину квантиля 0.1, а высокие на значение межквартильного интервала. Признак \"Previus Claims\" оставим без изменений, т.к. он дает информацию об особенностях поведения клиентов."
   ]
  },
  {
   "cell_type": "code",
   "execution_count": 12,
   "metadata": {},
   "outputs": [],
   "source": [
    "# Функция для обработки выбросов\n",
    "def remove_outliers(df, columns):\n",
    "    for col in columns:\n",
    "        Q1 = df[col].quantile(0.25)\n",
    "        Q3 = df[col].quantile(0.75)\n",
    "        IQR = Q3 - Q1\n",
    "        lower_bound = df[col].quantile(0.1)\n",
    "        upper_bound = Q3 + 1.5 * IQR\n",
    "        df[col] = np.where(df[col] < lower_bound, lower_bound, df[col])\n",
    "        df[col] = np.where(df[col] > upper_bound, upper_bound, df[col])\n",
    "\n",
    "    return df\n",
    "\n",
    "\n",
    "df = remove_outliers(df, [\"Annual Income\"])"
   ]
  },
  {
   "cell_type": "code",
   "execution_count": 13,
   "metadata": {},
   "outputs": [
    {
     "data": {
      "image/png": "[encoded data removed]",
      "text/plain": [
       "<Figure size 1200x600 with 8 Axes>"
      ]
     },
     "metadata": {},
     "output_type": "display_data"
    }
   ],
   "source": [
    "# Отображение распределения числовых признаков после обработки выбросов\n",
    "fig, ax = plt.subplots(2, 4, figsize=(12, 6))\n",
    "\n",
    "for i, col in enumerate(numeric_columns):\n",
    "    row_idx, col_idx = divmod(i, 4)\n",
    "    sns.boxplot(df[numeric_columns][col], ax=ax[row_idx, col_idx], orient=\"h\")\n",
    "    ax[row_idx, col_idx].set_title(col)\n",
    "    ax[row_idx, col_idx].set_xlabel(None)\n",
    "    ax[row_idx, col_idx].set_yticks([])\n",
    "\n",
    "plt.suptitle(\"Распределение числовых признаков после обработки выбросов\")\n",
    "plt.tight_layout()\n",
    "plt.show()"
   ]
  },
  {
   "cell_type": "markdown",
   "metadata": {},
   "source": [
    "Выбросы удалены."
   ]
  },
  {
   "cell_type": "markdown",
   "metadata": {},
   "source": [
    "EDA после обработки признаков."
   ]
  },
  {
   "cell_type": "code",
   "execution_count": 14,
   "metadata": {},
   "outputs": [
    {
     "data": {
      "application/vnd.microsoft.datawrangler.viewer.v0+json": {
       "columns": [
        {
         "name": "index",
         "rawType": "object",
         "type": "string"
        },
        {
         "name": "Доля пропусков",
         "rawType": "float64",
         "type": "float"
        },
        {
         "name": "Минимум",
         "rawType": "float64",
         "type": "float"
        },
        {
         "name": "Максимум",
         "rawType": "float64",
         "type": "float"
        },
        {
         "name": "Среднее",
         "rawType": "float64",
         "type": "float"
        },
        {
         "name": "Медиана",
         "rawType": "float64",
         "type": "float"
        },
        {
         "name": "Дисперсия",
         "rawType": "float64",
         "type": "float"
        },
        {
         "name": "Квантиль 0.1",
         "rawType": "float64",
         "type": "float"
        },
        {
         "name": "Квантиль 0.9",
         "rawType": "float64",
         "type": "float"
        },
        {
         "name": "Квартиль 1",
         "rawType": "float64",
         "type": "float"
        },
        {
         "name": "Квартиль 3",
         "rawType": "float64",
         "type": "float"
        }
       ],
       "conversionMethod": "pd.DataFrame",
       "ref": "bd5adb24-0000-47a2-8423-0be106e9ded3",
       "rows": [
        [
         "Age",
         "0.0",
         "18.0",
         "64.0",
         "41.29",
         "42.0",
         "178.01",
         "23.0",
         "60.0",
         "30.0",
         "53.0"
        ],
        [
         "Annual Income",
         "0.0",
         "2706.2",
         "97639.25",
         "30958.23",
         "23696.0",
         "765893553.32",
         "2706.92",
         "79283.8",
         "8075.5",
         "43901.0"
        ],
        [
         "Number of Dependents",
         "0.0",
         "0.0",
         "4.0",
         "2.02",
         "2.0",
         "1.81",
         "0.0",
         "4.0",
         "1.0",
         "3.0"
        ],
        [
         "Health Score",
         "0.0",
         "2.26",
         "55.38",
         "25.89",
         "24.87",
         "141.06",
         "10.64",
         "43.38",
         "16.81",
         "34.2"
        ],
        [
         "Previous Claims",
         "0.0",
         "0.0",
         "8.0",
         "1.01",
         "1.0",
         "0.69",
         "0.0",
         "2.0",
         "0.0",
         "1.0"
        ],
        [
         "Vehicle Age",
         "0.0",
         "0.0",
         "19.0",
         "9.57",
         "10.0",
         "33.37",
         "2.0",
         "18.0",
         "5.0",
         "15.0"
        ],
        [
         "Credit Score",
         "0.0",
         "300.0",
         "849.0",
         "592.8",
         "593.0",
         "19747.57",
         "394.0",
         "787.0",
         "484.0",
         "704.0"
        ],
        [
         "Insurance Duration",
         "0.0",
         "1.0",
         "9.0",
         "5.03",
         "5.0",
         "6.79",
         "1.0",
         "9.0",
         "3.0",
         "7.0"
        ],
        [
         "Premium Amount",
         "0.0",
         "20.0",
         "4986.0",
         "1106.29",
         "871.0",
         "751169.79",
         "148.0",
         "2369.0",
         "518.75",
         "1514.0"
        ]
       ],
       "shape": {
        "columns": 10,
        "rows": 9
       }
      },
      "text/html": [
       "<div>\n",
       "<style scoped>\n",
       "    .dataframe tbody tr th:only-of-type {\n",
       "        vertical-align: middle;\n",
       "    }\n",
       "\n",
       "    .dataframe tbody tr th {\n",
       "        vertical-align: top;\n",
       "    }\n",
       "\n",
       "    .dataframe thead th {\n",
       "        text-align: right;\n",
       "    }\n",
       "</style>\n",
       "<table border=\"1\" class=\"dataframe\">\n",
       "  <thead>\n",
       "    <tr style=\"text-align: right;\">\n",
       "      <th></th>\n",
       "      <th>Доля пропусков</th>\n",
       "      <th>Минимум</th>\n",
       "      <th>Максимум</th>\n",
       "      <th>Среднее</th>\n",
       "      <th>Медиана</th>\n",
       "      <th>Дисперсия</th>\n",
       "      <th>Квантиль 0.1</th>\n",
       "      <th>Квантиль 0.9</th>\n",
       "      <th>Квартиль 1</th>\n",
       "      <th>Квартиль 3</th>\n",
       "    </tr>\n",
       "  </thead>\n",
       "  <tbody>\n",
       "    <tr>\n",
       "      <th>Age</th>\n",
       "      <td>0.0</td>\n",
       "      <td>18.00</td>\n",
       "      <td>64.00</td>\n",
       "      <td>41.29</td>\n",
       "      <td>42.00</td>\n",
       "      <td>1.780100e+02</td>\n",
       "      <td>23.00</td>\n",
       "      <td>60.00</td>\n",
       "      <td>30.00</td>\n",
       "      <td>53.0</td>\n",
       "    </tr>\n",
       "    <tr>\n",
       "      <th>Annual Income</th>\n",
       "      <td>0.0</td>\n",
       "      <td>2706.20</td>\n",
       "      <td>97639.25</td>\n",
       "      <td>30958.23</td>\n",
       "      <td>23696.00</td>\n",
       "      <td>7.658936e+08</td>\n",
       "      <td>2706.92</td>\n",
       "      <td>79283.80</td>\n",
       "      <td>8075.50</td>\n",
       "      <td>43901.0</td>\n",
       "    </tr>\n",
       "    <tr>\n",
       "      <th>Number of Dependents</th>\n",
       "      <td>0.0</td>\n",
       "      <td>0.00</td>\n",
       "      <td>4.00</td>\n",
       "      <td>2.02</td>\n",
       "      <td>2.00</td>\n",
       "      <td>1.810000e+00</td>\n",
       "      <td>0.00</td>\n",
       "      <td>4.00</td>\n",
       "      <td>1.00</td>\n",
       "      <td>3.0</td>\n",
       "    </tr>\n",
       "    <tr>\n",
       "      <th>Health Score</th>\n",
       "      <td>0.0</td>\n",
       "      <td>2.26</td>\n",
       "      <td>55.38</td>\n",
       "      <td>25.89</td>\n",
       "      <td>24.87</td>\n",
       "      <td>1.410600e+02</td>\n",
       "      <td>10.64</td>\n",
       "      <td>43.38</td>\n",
       "      <td>16.81</td>\n",
       "      <td>34.2</td>\n",
       "    </tr>\n",
       "    <tr>\n",
       "      <th>Previous Claims</th>\n",
       "      <td>0.0</td>\n",
       "      <td>0.00</td>\n",
       "      <td>8.00</td>\n",
       "      <td>1.01</td>\n",
       "      <td>1.00</td>\n",
       "      <td>6.900000e-01</td>\n",
       "      <td>0.00</td>\n",
       "      <td>2.00</td>\n",
       "      <td>0.00</td>\n",
       "      <td>1.0</td>\n",
       "    </tr>\n",
       "    <tr>\n",
       "      <th>Vehicle Age</th>\n",
       "      <td>0.0</td>\n",
       "      <td>0.00</td>\n",
       "      <td>19.00</td>\n",
       "      <td>9.57</td>\n",
       "      <td>10.00</td>\n",
       "      <td>3.337000e+01</td>\n",
       "      <td>2.00</td>\n",
       "      <td>18.00</td>\n",
       "      <td>5.00</td>\n",
       "      <td>15.0</td>\n",
       "    </tr>\n",
       "    <tr>\n",
       "      <th>Credit Score</th>\n",
       "      <td>0.0</td>\n",
       "      <td>300.00</td>\n",
       "      <td>849.00</td>\n",
       "      <td>592.80</td>\n",
       "      <td>593.00</td>\n",
       "      <td>1.974757e+04</td>\n",
       "      <td>394.00</td>\n",
       "      <td>787.00</td>\n",
       "      <td>484.00</td>\n",
       "      <td>704.0</td>\n",
       "    </tr>\n",
       "    <tr>\n",
       "      <th>Insurance Duration</th>\n",
       "      <td>0.0</td>\n",
       "      <td>1.00</td>\n",
       "      <td>9.00</td>\n",
       "      <td>5.03</td>\n",
       "      <td>5.00</td>\n",
       "      <td>6.790000e+00</td>\n",
       "      <td>1.00</td>\n",
       "      <td>9.00</td>\n",
       "      <td>3.00</td>\n",
       "      <td>7.0</td>\n",
       "    </tr>\n",
       "    <tr>\n",
       "      <th>Premium Amount</th>\n",
       "      <td>0.0</td>\n",
       "      <td>20.00</td>\n",
       "      <td>4986.00</td>\n",
       "      <td>1106.29</td>\n",
       "      <td>871.00</td>\n",
       "      <td>7.511698e+05</td>\n",
       "      <td>148.00</td>\n",
       "      <td>2369.00</td>\n",
       "      <td>518.75</td>\n",
       "      <td>1514.0</td>\n",
       "    </tr>\n",
       "  </tbody>\n",
       "</table>\n",
       "</div>"
      ],
      "text/plain": [
       "                      Доля пропусков  Минимум  Максимум   Среднее   Медиана  \\\n",
       "Age                              0.0    18.00     64.00     41.29     42.00   \n",
       "Annual Income                    0.0  2706.20  97639.25  30958.23  23696.00   \n",
       "Number of Dependents             0.0     0.00      4.00      2.02      2.00   \n",
       "Health Score                     0.0     2.26     55.38     25.89     24.87   \n",
       "Previous Claims                  0.0     0.00      8.00      1.01      1.00   \n",
       "Vehicle Age                      0.0     0.00     19.00      9.57     10.00   \n",
       "Credit Score                     0.0   300.00    849.00    592.80    593.00   \n",
       "Insurance Duration               0.0     1.00      9.00      5.03      5.00   \n",
       "Premium Amount                   0.0    20.00   4986.00   1106.29    871.00   \n",
       "\n",
       "                         Дисперсия  Квантиль 0.1  Квантиль 0.9  Квартиль 1  \\\n",
       "Age                   1.780100e+02         23.00         60.00       30.00   \n",
       "Annual Income         7.658936e+08       2706.92      79283.80     8075.50   \n",
       "Number of Dependents  1.810000e+00          0.00          4.00        1.00   \n",
       "Health Score          1.410600e+02         10.64         43.38       16.81   \n",
       "Previous Claims       6.900000e-01          0.00          2.00        0.00   \n",
       "Vehicle Age           3.337000e+01          2.00         18.00        5.00   \n",
       "Credit Score          1.974757e+04        394.00        787.00      484.00   \n",
       "Insurance Duration    6.790000e+00          1.00          9.00        3.00   \n",
       "Premium Amount        7.511698e+05        148.00       2369.00      518.75   \n",
       "\n",
       "                      Квартиль 3  \n",
       "Age                         53.0  \n",
       "Annual Income            43901.0  \n",
       "Number of Dependents         3.0  \n",
       "Health Score                34.2  \n",
       "Previous Claims              1.0  \n",
       "Vehicle Age                 15.0  \n",
       "Credit Score               704.0  \n",
       "Insurance Duration           7.0  \n",
       "Premium Amount            1514.0  "
      ]
     },
     "execution_count": 14,
     "metadata": {},
     "output_type": "execute_result"
    }
   ],
   "source": [
    "# Результаты EDA для числовых признаков\n",
    "numeric_columns_stats(df[numeric_columns + [TARGET]])"
   ]
  },
  {
   "cell_type": "code",
   "execution_count": 15,
   "metadata": {},
   "outputs": [
    {
     "data": {
      "application/vnd.microsoft.datawrangler.viewer.v0+json": {
       "columns": [
        {
         "name": "index",
         "rawType": "object",
         "type": "string"
        },
        {
         "name": "Доля пропусков",
         "rawType": "float64",
         "type": "float"
        },
        {
         "name": "Количество уникальных значений",
         "rawType": "int64",
         "type": "integer"
        },
        {
         "name": "Мода",
         "rawType": "object",
         "type": "string"
        }
       ],
       "conversionMethod": "pd.DataFrame",
       "ref": "5383f8c8-a346-4e35-adbc-e26b72aec61e",
       "rows": [
        [
         "Gender",
         "0.0",
         "2",
         "Female"
        ],
        [
         "Marital Status",
         "0.0",
         "3",
         "Married"
        ],
        [
         "Education Level",
         "0.0",
         "4",
         "PhD"
        ],
        [
         "Occupation",
         "0.0",
         "3",
         "Employed"
        ],
        [
         "Location",
         "0.0",
         "3",
         "Rural"
        ],
        [
         "Policy Type",
         "0.0",
         "3",
         "Premium"
        ],
        [
         "Customer Feedback",
         "0.0",
         "3",
         "Average"
        ],
        [
         "Smoking Status",
         "0.0",
         "2",
         "No"
        ],
        [
         "Exercise Frequency",
         "0.0",
         "4",
         "Weekly"
        ],
        [
         "Property Type",
         "0.0",
         "3",
         "Apartment"
        ]
       ],
       "shape": {
        "columns": 3,
        "rows": 10
       }
      },
      "text/html": [
       "<div>\n",
       "<style scoped>\n",
       "    .dataframe tbody tr th:only-of-type {\n",
       "        vertical-align: middle;\n",
       "    }\n",
       "\n",
       "    .dataframe tbody tr th {\n",
       "        vertical-align: top;\n",
       "    }\n",
       "\n",
       "    .dataframe thead th {\n",
       "        text-align: right;\n",
       "    }\n",
       "</style>\n",
       "<table border=\"1\" class=\"dataframe\">\n",
       "  <thead>\n",
       "    <tr style=\"text-align: right;\">\n",
       "      <th></th>\n",
       "      <th>Доля пропусков</th>\n",
       "      <th>Количество уникальных значений</th>\n",
       "      <th>Мода</th>\n",
       "    </tr>\n",
       "  </thead>\n",
       "  <tbody>\n",
       "    <tr>\n",
       "      <th>Gender</th>\n",
       "      <td>0.0</td>\n",
       "      <td>2</td>\n",
       "      <td>Female</td>\n",
       "    </tr>\n",
       "    <tr>\n",
       "      <th>Marital Status</th>\n",
       "      <td>0.0</td>\n",
       "      <td>3</td>\n",
       "      <td>Married</td>\n",
       "    </tr>\n",
       "    <tr>\n",
       "      <th>Education Level</th>\n",
       "      <td>0.0</td>\n",
       "      <td>4</td>\n",
       "      <td>PhD</td>\n",
       "    </tr>\n",
       "    <tr>\n",
       "      <th>Occupation</th>\n",
       "      <td>0.0</td>\n",
       "      <td>3</td>\n",
       "      <td>Employed</td>\n",
       "    </tr>\n",
       "    <tr>\n",
       "      <th>Location</th>\n",
       "      <td>0.0</td>\n",
       "      <td>3</td>\n",
       "      <td>Rural</td>\n",
       "    </tr>\n",
       "    <tr>\n",
       "      <th>Policy Type</th>\n",
       "      <td>0.0</td>\n",
       "      <td>3</td>\n",
       "      <td>Premium</td>\n",
       "    </tr>\n",
       "    <tr>\n",
       "      <th>Customer Feedback</th>\n",
       "      <td>0.0</td>\n",
       "      <td>3</td>\n",
       "      <td>Average</td>\n",
       "    </tr>\n",
       "    <tr>\n",
       "      <th>Smoking Status</th>\n",
       "      <td>0.0</td>\n",
       "      <td>2</td>\n",
       "      <td>No</td>\n",
       "    </tr>\n",
       "    <tr>\n",
       "      <th>Exercise Frequency</th>\n",
       "      <td>0.0</td>\n",
       "      <td>4</td>\n",
       "      <td>Weekly</td>\n",
       "    </tr>\n",
       "    <tr>\n",
       "      <th>Property Type</th>\n",
       "      <td>0.0</td>\n",
       "      <td>3</td>\n",
       "      <td>Apartment</td>\n",
       "    </tr>\n",
       "  </tbody>\n",
       "</table>\n",
       "</div>"
      ],
      "text/plain": [
       "                    Доля пропусков  Количество уникальных значений       Мода\n",
       "Gender                         0.0                               2     Female\n",
       "Marital Status                 0.0                               3    Married\n",
       "Education Level                0.0                               4        PhD\n",
       "Occupation                     0.0                               3   Employed\n",
       "Location                       0.0                               3      Rural\n",
       "Policy Type                    0.0                               3    Premium\n",
       "Customer Feedback              0.0                               3    Average\n",
       "Smoking Status                 0.0                               2         No\n",
       "Exercise Frequency             0.0                               4     Weekly\n",
       "Property Type                  0.0                               3  Apartment"
      ]
     },
     "execution_count": 15,
     "metadata": {},
     "output_type": "execute_result"
    }
   ],
   "source": [
    "# Результаты EDA для категориальных признаков\n",
    "categoric_columns_stats(df[categoric_columns])"
   ]
  },
  {
   "cell_type": "markdown",
   "metadata": {},
   "source": [
    "### Кодирование категориальных переменных"
   ]
  },
  {
   "cell_type": "code",
   "execution_count": 16,
   "metadata": {},
   "outputs": [
    {
     "data": {
      "application/vnd.microsoft.datawrangler.viewer.v0+json": {
       "columns": [
        {
         "name": "id",
         "rawType": "int64",
         "type": "integer"
        },
        {
         "name": "Age",
         "rawType": "float64",
         "type": "float"
        },
        {
         "name": "Annual Income",
         "rawType": "float64",
         "type": "float"
        },
        {
         "name": "Number of Dependents",
         "rawType": "float64",
         "type": "float"
        },
        {
         "name": "Health Score",
         "rawType": "float64",
         "type": "float"
        },
        {
         "name": "Previous Claims",
         "rawType": "float64",
         "type": "float"
        },
        {
         "name": "Vehicle Age",
         "rawType": "float64",
         "type": "float"
        },
        {
         "name": "Credit Score",
         "rawType": "float64",
         "type": "float"
        },
        {
         "name": "Insurance Duration",
         "rawType": "float64",
         "type": "float"
        },
        {
         "name": "Premium Amount",
         "rawType": "float64",
         "type": "float"
        },
        {
         "name": "Gender_Male",
         "rawType": "int32",
         "type": "integer"
        },
        {
         "name": "Marital Status_Married",
         "rawType": "int32",
         "type": "integer"
        },
        {
         "name": "Marital Status_Single",
         "rawType": "int32",
         "type": "integer"
        },
        {
         "name": "Education Level_High School",
         "rawType": "int32",
         "type": "integer"
        },
        {
         "name": "Education Level_Master's",
         "rawType": "int32",
         "type": "integer"
        },
        {
         "name": "Education Level_PhD",
         "rawType": "int32",
         "type": "integer"
        },
        {
         "name": "Occupation_Self-Employed",
         "rawType": "int32",
         "type": "integer"
        },
        {
         "name": "Occupation_Unemployed",
         "rawType": "int32",
         "type": "integer"
        },
        {
         "name": "Location_Suburban",
         "rawType": "int32",
         "type": "integer"
        },
        {
         "name": "Location_Urban",
         "rawType": "int32",
         "type": "integer"
        },
        {
         "name": "Policy Type_Comprehensive",
         "rawType": "int32",
         "type": "integer"
        },
        {
         "name": "Policy Type_Premium",
         "rawType": "int32",
         "type": "integer"
        },
        {
         "name": "Customer Feedback_Good",
         "rawType": "int32",
         "type": "integer"
        },
        {
         "name": "Customer Feedback_Poor",
         "rawType": "int32",
         "type": "integer"
        },
        {
         "name": "Smoking Status_Yes",
         "rawType": "int32",
         "type": "integer"
        },
        {
         "name": "Exercise Frequency_Monthly",
         "rawType": "int32",
         "type": "integer"
        },
        {
         "name": "Exercise Frequency_Rarely",
         "rawType": "int32",
         "type": "integer"
        },
        {
         "name": "Exercise Frequency_Weekly",
         "rawType": "int32",
         "type": "integer"
        },
        {
         "name": "Property Type_Condo",
         "rawType": "int32",
         "type": "integer"
        },
        {
         "name": "Property Type_House",
         "rawType": "int32",
         "type": "integer"
        }
       ],
       "conversionMethod": "pd.DataFrame",
       "ref": "8e6f7bdf-ab03-4d4a-8f57-6264f8252b90",
       "rows": [
        [
         "1064660",
         "56.0",
         "2706.2000000000007",
         "4.0",
         "24.868784874925566",
         "1.0",
         "14.0",
         "589.0",
         "2.0",
         "597.0",
         "1",
         "0",
         "0",
         "0",
         "0",
         "0",
         "1",
         "0",
         "0",
         "1",
         "0",
         "1",
         "1",
         "0",
         "0",
         "0",
         "0",
         "0",
         "0",
         "0"
        ],
        [
         "943409",
         "49.0",
         "38217.0",
         "3.0",
         "18.79347776807853",
         "4.0",
         "4.0",
         "751.0",
         "9.0",
         "1147.0",
         "0",
         "0",
         "1",
         "0",
         "1",
         "0",
         "0",
         "1",
         "0",
         "1",
         "1",
         "0",
         "0",
         "0",
         "1",
         "1",
         "0",
         "0",
         "0",
         "0"
        ],
        [
         "1187526",
         "21.0",
         "97639.25",
         "3.0",
         "11.980426254509666",
         "0.0",
         "9.0",
         "454.0",
         "4.0",
         "1167.0",
         "1",
         "0",
         "1",
         "1",
         "0",
         "0",
         "0",
         "0",
         "0",
         "0",
         "1",
         "0",
         "1",
         "0",
         "1",
         "0",
         "1",
         "0",
         "0",
         "0"
        ],
        [
         "558015",
         "35.0",
         "2714.0",
         "2.0",
         "18.36256719221792",
         "1.0",
         "16.0",
         "478.0",
         "7.0",
         "548.0",
         "0",
         "0",
         "1",
         "0",
         "0",
         "1",
         "1",
         "0",
         "0",
         "1",
         "1",
         "0",
         "0",
         "0",
         "1",
         "0",
         "1",
         "0",
         "0",
         "0"
        ],
        [
         "496945",
         "18.0",
         "7071.0",
         "3.0",
         "40.043921300910846",
         "0.0",
         "14.0",
         "473.0",
         "6.0",
         "1074.0",
         "1",
         "1",
         "0",
         "0",
         "1",
         "0",
         "0",
         "1",
         "1",
         "0",
         "0",
         "0",
         "0",
         "1",
         "1",
         "0",
         "0",
         "1",
         "0",
         "0"
        ]
       ],
       "shape": {
        "columns": 29,
        "rows": 5
       }
      },
      "text/html": [
       "<div>\n",
       "<style scoped>\n",
       "    .dataframe tbody tr th:only-of-type {\n",
       "        vertical-align: middle;\n",
       "    }\n",
       "\n",
       "    .dataframe tbody tr th {\n",
       "        vertical-align: top;\n",
       "    }\n",
       "\n",
       "    .dataframe thead th {\n",
       "        text-align: right;\n",
       "    }\n",
       "</style>\n",
       "<table border=\"1\" class=\"dataframe\">\n",
       "  <thead>\n",
       "    <tr style=\"text-align: right;\">\n",
       "      <th></th>\n",
       "      <th>Age</th>\n",
       "      <th>Annual Income</th>\n",
       "      <th>Number of Dependents</th>\n",
       "      <th>Health Score</th>\n",
       "      <th>Previous Claims</th>\n",
       "      <th>Vehicle Age</th>\n",
       "      <th>Credit Score</th>\n",
       "      <th>Insurance Duration</th>\n",
       "      <th>Premium Amount</th>\n",
       "      <th>Gender_Male</th>\n",
       "      <th>...</th>\n",
       "      <th>Policy Type_Comprehensive</th>\n",
       "      <th>Policy Type_Premium</th>\n",
       "      <th>Customer Feedback_Good</th>\n",
       "      <th>Customer Feedback_Poor</th>\n",
       "      <th>Smoking Status_Yes</th>\n",
       "      <th>Exercise Frequency_Monthly</th>\n",
       "      <th>Exercise Frequency_Rarely</th>\n",
       "      <th>Exercise Frequency_Weekly</th>\n",
       "      <th>Property Type_Condo</th>\n",
       "      <th>Property Type_House</th>\n",
       "    </tr>\n",
       "    <tr>\n",
       "      <th>id</th>\n",
       "      <th></th>\n",
       "      <th></th>\n",
       "      <th></th>\n",
       "      <th></th>\n",
       "      <th></th>\n",
       "      <th></th>\n",
       "      <th></th>\n",
       "      <th></th>\n",
       "      <th></th>\n",
       "      <th></th>\n",
       "      <th></th>\n",
       "      <th></th>\n",
       "      <th></th>\n",
       "      <th></th>\n",
       "      <th></th>\n",
       "      <th></th>\n",
       "      <th></th>\n",
       "      <th></th>\n",
       "      <th></th>\n",
       "      <th></th>\n",
       "      <th></th>\n",
       "    </tr>\n",
       "  </thead>\n",
       "  <tbody>\n",
       "    <tr>\n",
       "      <th>1064660</th>\n",
       "      <td>56.0</td>\n",
       "      <td>2706.20</td>\n",
       "      <td>4.0</td>\n",
       "      <td>24.868785</td>\n",
       "      <td>1.0</td>\n",
       "      <td>14.0</td>\n",
       "      <td>589.0</td>\n",
       "      <td>2.0</td>\n",
       "      <td>597.0</td>\n",
       "      <td>1</td>\n",
       "      <td>...</td>\n",
       "      <td>0</td>\n",
       "      <td>1</td>\n",
       "      <td>1</td>\n",
       "      <td>0</td>\n",
       "      <td>0</td>\n",
       "      <td>0</td>\n",
       "      <td>0</td>\n",
       "      <td>0</td>\n",
       "      <td>0</td>\n",
       "      <td>0</td>\n",
       "    </tr>\n",
       "    <tr>\n",
       "      <th>943409</th>\n",
       "      <td>49.0</td>\n",
       "      <td>38217.00</td>\n",
       "      <td>3.0</td>\n",
       "      <td>18.793478</td>\n",
       "      <td>4.0</td>\n",
       "      <td>4.0</td>\n",
       "      <td>751.0</td>\n",
       "      <td>9.0</td>\n",
       "      <td>1147.0</td>\n",
       "      <td>0</td>\n",
       "      <td>...</td>\n",
       "      <td>1</td>\n",
       "      <td>0</td>\n",
       "      <td>0</td>\n",
       "      <td>0</td>\n",
       "      <td>1</td>\n",
       "      <td>1</td>\n",
       "      <td>0</td>\n",
       "      <td>0</td>\n",
       "      <td>0</td>\n",
       "      <td>0</td>\n",
       "    </tr>\n",
       "    <tr>\n",
       "      <th>1187526</th>\n",
       "      <td>21.0</td>\n",
       "      <td>97639.25</td>\n",
       "      <td>3.0</td>\n",
       "      <td>11.980426</td>\n",
       "      <td>0.0</td>\n",
       "      <td>9.0</td>\n",
       "      <td>454.0</td>\n",
       "      <td>4.0</td>\n",
       "      <td>1167.0</td>\n",
       "      <td>1</td>\n",
       "      <td>...</td>\n",
       "      <td>1</td>\n",
       "      <td>0</td>\n",
       "      <td>1</td>\n",
       "      <td>0</td>\n",
       "      <td>1</td>\n",
       "      <td>0</td>\n",
       "      <td>1</td>\n",
       "      <td>0</td>\n",
       "      <td>0</td>\n",
       "      <td>0</td>\n",
       "    </tr>\n",
       "    <tr>\n",
       "      <th>558015</th>\n",
       "      <td>35.0</td>\n",
       "      <td>2714.00</td>\n",
       "      <td>2.0</td>\n",
       "      <td>18.362567</td>\n",
       "      <td>1.0</td>\n",
       "      <td>16.0</td>\n",
       "      <td>478.0</td>\n",
       "      <td>7.0</td>\n",
       "      <td>548.0</td>\n",
       "      <td>0</td>\n",
       "      <td>...</td>\n",
       "      <td>1</td>\n",
       "      <td>0</td>\n",
       "      <td>0</td>\n",
       "      <td>0</td>\n",
       "      <td>1</td>\n",
       "      <td>0</td>\n",
       "      <td>1</td>\n",
       "      <td>0</td>\n",
       "      <td>0</td>\n",
       "      <td>0</td>\n",
       "    </tr>\n",
       "    <tr>\n",
       "      <th>496945</th>\n",
       "      <td>18.0</td>\n",
       "      <td>7071.00</td>\n",
       "      <td>3.0</td>\n",
       "      <td>40.043921</td>\n",
       "      <td>0.0</td>\n",
       "      <td>14.0</td>\n",
       "      <td>473.0</td>\n",
       "      <td>6.0</td>\n",
       "      <td>1074.0</td>\n",
       "      <td>1</td>\n",
       "      <td>...</td>\n",
       "      <td>0</td>\n",
       "      <td>0</td>\n",
       "      <td>0</td>\n",
       "      <td>1</td>\n",
       "      <td>1</td>\n",
       "      <td>0</td>\n",
       "      <td>0</td>\n",
       "      <td>1</td>\n",
       "      <td>0</td>\n",
       "      <td>0</td>\n",
       "    </tr>\n",
       "  </tbody>\n",
       "</table>\n",
       "<p>5 rows × 29 columns</p>\n",
       "</div>"
      ],
      "text/plain": [
       "          Age  Annual Income  Number of Dependents  Health Score  \\\n",
       "id                                                                 \n",
       "1064660  56.0        2706.20                   4.0     24.868785   \n",
       "943409   49.0       38217.00                   3.0     18.793478   \n",
       "1187526  21.0       97639.25                   3.0     11.980426   \n",
       "558015   35.0        2714.00                   2.0     18.362567   \n",
       "496945   18.0        7071.00                   3.0     40.043921   \n",
       "\n",
       "         Previous Claims  Vehicle Age  Credit Score  Insurance Duration  \\\n",
       "id                                                                        \n",
       "1064660              1.0         14.0         589.0                 2.0   \n",
       "943409               4.0          4.0         751.0                 9.0   \n",
       "1187526              0.0          9.0         454.0                 4.0   \n",
       "558015               1.0         16.0         478.0                 7.0   \n",
       "496945               0.0         14.0         473.0                 6.0   \n",
       "\n",
       "         Premium Amount  Gender_Male  ...  Policy Type_Comprehensive  \\\n",
       "id                                    ...                              \n",
       "1064660           597.0            1  ...                          0   \n",
       "943409           1147.0            0  ...                          1   \n",
       "1187526          1167.0            1  ...                          1   \n",
       "558015            548.0            0  ...                          1   \n",
       "496945           1074.0            1  ...                          0   \n",
       "\n",
       "         Policy Type_Premium  Customer Feedback_Good  Customer Feedback_Poor  \\\n",
       "id                                                                             \n",
       "1064660                    1                       1                       0   \n",
       "943409                     0                       0                       0   \n",
       "1187526                    0                       1                       0   \n",
       "558015                     0                       0                       0   \n",
       "496945                     0                       0                       1   \n",
       "\n",
       "         Smoking Status_Yes  Exercise Frequency_Monthly  \\\n",
       "id                                                        \n",
       "1064660                   0                           0   \n",
       "943409                    1                           1   \n",
       "1187526                   1                           0   \n",
       "558015                    1                           0   \n",
       "496945                    1                           0   \n",
       "\n",
       "         Exercise Frequency_Rarely  Exercise Frequency_Weekly  \\\n",
       "id                                                              \n",
       "1064660                          0                          0   \n",
       "943409                           0                          0   \n",
       "1187526                          1                          0   \n",
       "558015                           1                          0   \n",
       "496945                           0                          1   \n",
       "\n",
       "         Property Type_Condo  Property Type_House  \n",
       "id                                                 \n",
       "1064660                    0                    0  \n",
       "943409                     0                    0  \n",
       "1187526                    0                    0  \n",
       "558015                     0                    0  \n",
       "496945                     0                    0  \n",
       "\n",
       "[5 rows x 29 columns]"
      ]
     },
     "execution_count": 16,
     "metadata": {},
     "output_type": "execute_result"
    }
   ],
   "source": [
    "# Кодируем методом OneHotEncoding\n",
    "df = pd.get_dummies(df, columns=categoric_columns, drop_first=True, dtype=int)\n",
    "\n",
    "df.head()"
   ]
  },
  {
   "cell_type": "markdown",
   "metadata": {},
   "source": [
    "### Анализ корреляций"
   ]
  },
  {
   "cell_type": "code",
   "execution_count": 17,
   "metadata": {},
   "outputs": [
    {
     "data": {
      "image/png": "[encoded data removed]",
      "text/plain": [
       "<Figure size 1000x1000 with 2 Axes>"
      ]
     },
     "metadata": {},
     "output_type": "display_data"
    }
   ],
   "source": [
    "# Матрица корреляций\n",
    "plt.figure(figsize=(10, 10))\n",
    "correlation_matrix = df[numeric_columns + [TARGET]].corr()\n",
    "sns.heatmap(correlation_matrix, annot=True, cmap=\"coolwarm\", fmt=\".2f\")\n",
    "plt.title(\"Матрица корреляций числовых признаков\")\n",
    "plt.show()"
   ]
  },
  {
   "cell_type": "markdown",
   "metadata": {},
   "source": [
    "Заметные корреляции отсутствуют."
   ]
  },
  {
   "cell_type": "markdown",
   "metadata": {},
   "source": [
    "## Разделение данных"
   ]
  },
  {
   "cell_type": "code",
   "execution_count": 18,
   "metadata": {},
   "outputs": [
    {
     "name": "stdout",
     "output_type": "stream",
     "text": [
      "X_train.shape=(8000, 28), y_train.shape=(8000,)\n",
      "X_test.shape=(2000, 28), y_test.shape=(2000,)\n"
     ]
    }
   ],
   "source": [
    "# Признаки без нормализации\n",
    "X = df.drop(columns=[TARGET])\n",
    "y = df[TARGET]\n",
    "\n",
    "X_train, X_test, y_train, y_test = train_test_split(\n",
    "    X, y, test_size=TEST_SIZE, random_state=RANDOM_STATE\n",
    ")\n",
    "\n",
    "print(f\"X_train.shape={X_train.shape}, y_train.shape={y_train.shape}\")\n",
    "print(f\"X_test.shape={X_test.shape}, y_test.shape={y_test.shape}\")"
   ]
  },
  {
   "cell_type": "markdown",
   "metadata": {},
   "source": [
    "## Обучение модели"
   ]
  },
  {
   "cell_type": "code",
   "execution_count": 19,
   "metadata": {},
   "outputs": [],
   "source": [
    "rfr = RandomForestRegressor(random_state=RANDOM_STATE)\n",
    "rfr.fit(X_train, y_train)\n",
    "\n",
    "y_pred_rfr = rfr.predict(X_test)"
   ]
  },
  {
   "cell_type": "markdown",
   "metadata": {},
   "source": [
    "## Оценка качества"
   ]
  },
  {
   "cell_type": "code",
   "execution_count": 20,
   "metadata": {},
   "outputs": [
    {
     "data": {
      "application/vnd.microsoft.datawrangler.viewer.v0+json": {
       "columns": [
        {
         "name": "index",
         "rawType": "int64",
         "type": "integer"
        },
        {
         "name": "Metrics",
         "rawType": "object",
         "type": "string"
        },
        {
         "name": "RandomForestRegressor (init features)",
         "rawType": "float64",
         "type": "float"
        }
       ],
       "conversionMethod": "pd.DataFrame",
       "ref": "190a9716-36c4-4f66-aa7d-6b331ae8579c",
       "rows": [
        [
         "0",
         "mae",
         "673.03"
        ],
        [
         "1",
         "mse",
         "733681.52"
        ],
        [
         "2",
         "rmse",
         "856.55"
        ],
        [
         "3",
         "r2_score",
         "-0.01"
        ]
       ],
       "shape": {
        "columns": 2,
        "rows": 4
       }
      },
      "text/html": [
       "<div>\n",
       "<style scoped>\n",
       "    .dataframe tbody tr th:only-of-type {\n",
       "        vertical-align: middle;\n",
       "    }\n",
       "\n",
       "    .dataframe tbody tr th {\n",
       "        vertical-align: top;\n",
       "    }\n",
       "\n",
       "    .dataframe thead th {\n",
       "        text-align: right;\n",
       "    }\n",
       "</style>\n",
       "<table border=\"1\" class=\"dataframe\">\n",
       "  <thead>\n",
       "    <tr style=\"text-align: right;\">\n",
       "      <th></th>\n",
       "      <th>Metrics</th>\n",
       "      <th>RandomForestRegressor (init features)</th>\n",
       "    </tr>\n",
       "  </thead>\n",
       "  <tbody>\n",
       "    <tr>\n",
       "      <th>0</th>\n",
       "      <td>mae</td>\n",
       "      <td>673.03</td>\n",
       "    </tr>\n",
       "    <tr>\n",
       "      <th>1</th>\n",
       "      <td>mse</td>\n",
       "      <td>733681.52</td>\n",
       "    </tr>\n",
       "    <tr>\n",
       "      <th>2</th>\n",
       "      <td>rmse</td>\n",
       "      <td>856.55</td>\n",
       "    </tr>\n",
       "    <tr>\n",
       "      <th>3</th>\n",
       "      <td>r2_score</td>\n",
       "      <td>-0.01</td>\n",
       "    </tr>\n",
       "  </tbody>\n",
       "</table>\n",
       "</div>"
      ],
      "text/plain": [
       "    Metrics  RandomForestRegressor (init features)\n",
       "0       mae                                 673.03\n",
       "1       mse                              733681.52\n",
       "2      rmse                                 856.55\n",
       "3  r2_score                                  -0.01"
      ]
     },
     "execution_count": 20,
     "metadata": {},
     "output_type": "execute_result"
    }
   ],
   "source": [
    "def get_metrics(y_true, y_pred):\n",
    "    mae = mean_absolute_error(y_true, y_pred)\n",
    "    mse = mean_squared_error(y_true, y_pred)\n",
    "    rmse = root_mean_squared_error(y_true, y_pred)\n",
    "    r2 = r2_score(y_true, y_pred)\n",
    "\n",
    "    return {\"mae\": mae, \"mse\": mse, \"rmse\": rmse, \"r2_score\": r2}\n",
    "\n",
    "\n",
    "# Сравнительная таблица качества моделей\n",
    "quality_comparison = pd.DataFrame(\n",
    "    {\n",
    "        \"Metrics\": [*get_metrics(y_test, y_pred_rfr).keys()],\n",
    "        \"RandomForestRegressor (init features)\": [\n",
    "            *map(\n",
    "                lambda x: round(x, 2),\n",
    "                get_metrics(y_test, y_pred_rfr).values(),\n",
    "            )\n",
    "        ],\n",
    "    }\n",
    ")\n",
    "\n",
    "quality_comparison"
   ]
  },
  {
   "cell_type": "markdown",
   "metadata": {},
   "source": [
    "Модель обладает средним качеством работы."
   ]
  },
  {
   "cell_type": "markdown",
   "metadata": {},
   "source": [
    "## Генерация признаков"
   ]
  },
  {
   "cell_type": "code",
   "execution_count": 21,
   "metadata": {},
   "outputs": [
    {
     "data": {
      "application/vnd.microsoft.datawrangler.viewer.v0+json": {
       "columns": [
        {
         "name": "id",
         "rawType": "int64",
         "type": "integer"
        },
        {
         "name": "Age",
         "rawType": "float64",
         "type": "float"
        },
        {
         "name": "Annual Income",
         "rawType": "float64",
         "type": "float"
        },
        {
         "name": "Number of Dependents",
         "rawType": "float64",
         "type": "float"
        },
        {
         "name": "Health Score",
         "rawType": "float64",
         "type": "float"
        },
        {
         "name": "Previous Claims",
         "rawType": "float64",
         "type": "float"
        },
        {
         "name": "Vehicle Age",
         "rawType": "float64",
         "type": "float"
        },
        {
         "name": "Credit Score",
         "rawType": "float64",
         "type": "float"
        },
        {
         "name": "Insurance Duration",
         "rawType": "float64",
         "type": "float"
        },
        {
         "name": "Premium Amount",
         "rawType": "float64",
         "type": "float"
        },
        {
         "name": "Gender_Male",
         "rawType": "int32",
         "type": "integer"
        },
        {
         "name": "Marital Status_Married",
         "rawType": "int32",
         "type": "integer"
        },
        {
         "name": "Marital Status_Single",
         "rawType": "int32",
         "type": "integer"
        },
        {
         "name": "Education Level_High School",
         "rawType": "int32",
         "type": "integer"
        },
        {
         "name": "Education Level_Master's",
         "rawType": "int32",
         "type": "integer"
        },
        {
         "name": "Education Level_PhD",
         "rawType": "int32",
         "type": "integer"
        },
        {
         "name": "Occupation_Self-Employed",
         "rawType": "int32",
         "type": "integer"
        },
        {
         "name": "Occupation_Unemployed",
         "rawType": "int32",
         "type": "integer"
        },
        {
         "name": "Location_Suburban",
         "rawType": "int32",
         "type": "integer"
        },
        {
         "name": "Location_Urban",
         "rawType": "int32",
         "type": "integer"
        },
        {
         "name": "Policy Type_Comprehensive",
         "rawType": "int32",
         "type": "integer"
        },
        {
         "name": "Policy Type_Premium",
         "rawType": "int32",
         "type": "integer"
        },
        {
         "name": "Customer Feedback_Good",
         "rawType": "int32",
         "type": "integer"
        },
        {
         "name": "Customer Feedback_Poor",
         "rawType": "int32",
         "type": "integer"
        },
        {
         "name": "Smoking Status_Yes",
         "rawType": "int32",
         "type": "integer"
        },
        {
         "name": "Exercise Frequency_Monthly",
         "rawType": "int32",
         "type": "integer"
        },
        {
         "name": "Exercise Frequency_Rarely",
         "rawType": "int32",
         "type": "integer"
        },
        {
         "name": "Exercise Frequency_Weekly",
         "rawType": "int32",
         "type": "integer"
        },
        {
         "name": "Property Type_Condo",
         "rawType": "int32",
         "type": "integer"
        },
        {
         "name": "Property Type_House",
         "rawType": "int32",
         "type": "integer"
        },
        {
         "name": "prod_Age_Annual Income",
         "rawType": "float64",
         "type": "float"
        },
        {
         "name": "prod_Age_Number of Dependents",
         "rawType": "float64",
         "type": "float"
        },
        {
         "name": "prod_Age_Health Score",
         "rawType": "float64",
         "type": "float"
        },
        {
         "name": "prod_Age_Previous Claims",
         "rawType": "float64",
         "type": "float"
        },
        {
         "name": "prod_Age_Vehicle Age",
         "rawType": "float64",
         "type": "float"
        },
        {
         "name": "prod_Age_Credit Score",
         "rawType": "float64",
         "type": "float"
        },
        {
         "name": "prod_Age_Insurance Duration",
         "rawType": "float64",
         "type": "float"
        },
        {
         "name": "prod_Annual Income_Number of Dependents",
         "rawType": "float64",
         "type": "float"
        },
        {
         "name": "prod_Annual Income_Health Score",
         "rawType": "float64",
         "type": "float"
        },
        {
         "name": "prod_Annual Income_Previous Claims",
         "rawType": "float64",
         "type": "float"
        },
        {
         "name": "prod_Annual Income_Vehicle Age",
         "rawType": "float64",
         "type": "float"
        },
        {
         "name": "prod_Annual Income_Credit Score",
         "rawType": "float64",
         "type": "float"
        },
        {
         "name": "prod_Annual Income_Insurance Duration",
         "rawType": "float64",
         "type": "float"
        },
        {
         "name": "prod_Number of Dependents_Health Score",
         "rawType": "float64",
         "type": "float"
        },
        {
         "name": "prod_Number of Dependents_Previous Claims",
         "rawType": "float64",
         "type": "float"
        },
        {
         "name": "prod_Number of Dependents_Vehicle Age",
         "rawType": "float64",
         "type": "float"
        },
        {
         "name": "prod_Number of Dependents_Credit Score",
         "rawType": "float64",
         "type": "float"
        },
        {
         "name": "prod_Number of Dependents_Insurance Duration",
         "rawType": "float64",
         "type": "float"
        },
        {
         "name": "prod_Health Score_Previous Claims",
         "rawType": "float64",
         "type": "float"
        },
        {
         "name": "prod_Health Score_Vehicle Age",
         "rawType": "float64",
         "type": "float"
        },
        {
         "name": "prod_Health Score_Credit Score",
         "rawType": "float64",
         "type": "float"
        },
        {
         "name": "prod_Health Score_Insurance Duration",
         "rawType": "float64",
         "type": "float"
        },
        {
         "name": "prod_Previous Claims_Vehicle Age",
         "rawType": "float64",
         "type": "float"
        },
        {
         "name": "prod_Previous Claims_Credit Score",
         "rawType": "float64",
         "type": "float"
        },
        {
         "name": "prod_Previous Claims_Insurance Duration",
         "rawType": "float64",
         "type": "float"
        },
        {
         "name": "prod_Vehicle Age_Credit Score",
         "rawType": "float64",
         "type": "float"
        },
        {
         "name": "prod_Vehicle Age_Insurance Duration",
         "rawType": "float64",
         "type": "float"
        },
        {
         "name": "prod_Credit Score_Insurance Duration",
         "rawType": "float64",
         "type": "float"
        },
        {
         "name": "prod_Age_Annual Income_Number of Dependents",
         "rawType": "float64",
         "type": "float"
        },
        {
         "name": "prod_Age_Annual Income_Health Score",
         "rawType": "float64",
         "type": "float"
        },
        {
         "name": "prod_Age_Annual Income_Previous Claims",
         "rawType": "float64",
         "type": "float"
        },
        {
         "name": "prod_Age_Annual Income_Vehicle Age",
         "rawType": "float64",
         "type": "float"
        },
        {
         "name": "prod_Age_Annual Income_Credit Score",
         "rawType": "float64",
         "type": "float"
        },
        {
         "name": "prod_Age_Annual Income_Insurance Duration",
         "rawType": "float64",
         "type": "float"
        },
        {
         "name": "prod_Age_Number of Dependents_Health Score",
         "rawType": "float64",
         "type": "float"
        },
        {
         "name": "prod_Age_Number of Dependents_Previous Claims",
         "rawType": "float64",
         "type": "float"
        },
        {
         "name": "prod_Age_Number of Dependents_Vehicle Age",
         "rawType": "float64",
         "type": "float"
        },
        {
         "name": "prod_Age_Number of Dependents_Credit Score",
         "rawType": "float64",
         "type": "float"
        },
        {
         "name": "prod_Age_Number of Dependents_Insurance Duration",
         "rawType": "float64",
         "type": "float"
        },
        {
         "name": "prod_Age_Health Score_Previous Claims",
         "rawType": "float64",
         "type": "float"
        },
        {
         "name": "prod_Age_Health Score_Vehicle Age",
         "rawType": "float64",
         "type": "float"
        },
        {
         "name": "prod_Age_Health Score_Credit Score",
         "rawType": "float64",
         "type": "float"
        },
        {
         "name": "prod_Age_Health Score_Insurance Duration",
         "rawType": "float64",
         "type": "float"
        },
        {
         "name": "prod_Age_Previous Claims_Vehicle Age",
         "rawType": "float64",
         "type": "float"
        },
        {
         "name": "prod_Age_Previous Claims_Credit Score",
         "rawType": "float64",
         "type": "float"
        },
        {
         "name": "prod_Age_Previous Claims_Insurance Duration",
         "rawType": "float64",
         "type": "float"
        },
        {
         "name": "prod_Age_Vehicle Age_Credit Score",
         "rawType": "float64",
         "type": "float"
        },
        {
         "name": "prod_Age_Vehicle Age_Insurance Duration",
         "rawType": "float64",
         "type": "float"
        },
        {
         "name": "prod_Age_Credit Score_Insurance Duration",
         "rawType": "float64",
         "type": "float"
        },
        {
         "name": "prod_Annual Income_Number of Dependents_Health Score",
         "rawType": "float64",
         "type": "float"
        },
        {
         "name": "prod_Annual Income_Number of Dependents_Previous Claims",
         "rawType": "float64",
         "type": "float"
        },
        {
         "name": "prod_Annual Income_Number of Dependents_Vehicle Age",
         "rawType": "float64",
         "type": "float"
        },
        {
         "name": "prod_Annual Income_Number of Dependents_Credit Score",
         "rawType": "float64",
         "type": "float"
        },
        {
         "name": "prod_Annual Income_Number of Dependents_Insurance Duration",
         "rawType": "float64",
         "type": "float"
        },
        {
         "name": "prod_Annual Income_Health Score_Previous Claims",
         "rawType": "float64",
         "type": "float"
        },
        {
         "name": "prod_Annual Income_Health Score_Vehicle Age",
         "rawType": "float64",
         "type": "float"
        },
        {
         "name": "prod_Annual Income_Health Score_Credit Score",
         "rawType": "float64",
         "type": "float"
        },
        {
         "name": "prod_Annual Income_Health Score_Insurance Duration",
         "rawType": "float64",
         "type": "float"
        },
        {
         "name": "prod_Annual Income_Previous Claims_Vehicle Age",
         "rawType": "float64",
         "type": "float"
        },
        {
         "name": "prod_Annual Income_Previous Claims_Credit Score",
         "rawType": "float64",
         "type": "float"
        },
        {
         "name": "prod_Annual Income_Previous Claims_Insurance Duration",
         "rawType": "float64",
         "type": "float"
        },
        {
         "name": "prod_Annual Income_Vehicle Age_Credit Score",
         "rawType": "float64",
         "type": "float"
        },
        {
         "name": "prod_Annual Income_Vehicle Age_Insurance Duration",
         "rawType": "float64",
         "type": "float"
        },
        {
         "name": "prod_Annual Income_Credit Score_Insurance Duration",
         "rawType": "float64",
         "type": "float"
        },
        {
         "name": "prod_Number of Dependents_Health Score_Previous Claims",
         "rawType": "float64",
         "type": "float"
        },
        {
         "name": "prod_Number of Dependents_Health Score_Vehicle Age",
         "rawType": "float64",
         "type": "float"
        },
        {
         "name": "prod_Number of Dependents_Health Score_Credit Score",
         "rawType": "float64",
         "type": "float"
        },
        {
         "name": "prod_Number of Dependents_Health Score_Insurance Duration",
         "rawType": "float64",
         "type": "float"
        },
        {
         "name": "prod_Number of Dependents_Previous Claims_Vehicle Age",
         "rawType": "float64",
         "type": "float"
        },
        {
         "name": "prod_Number of Dependents_Previous Claims_Credit Score",
         "rawType": "float64",
         "type": "float"
        },
        {
         "name": "prod_Number of Dependents_Previous Claims_Insurance Duration",
         "rawType": "float64",
         "type": "float"
        },
        {
         "name": "prod_Number of Dependents_Vehicle Age_Credit Score",
         "rawType": "float64",
         "type": "float"
        },
        {
         "name": "prod_Number of Dependents_Vehicle Age_Insurance Duration",
         "rawType": "float64",
         "type": "float"
        },
        {
         "name": "prod_Number of Dependents_Credit Score_Insurance Duration",
         "rawType": "float64",
         "type": "float"
        },
        {
         "name": "prod_Health Score_Previous Claims_Vehicle Age",
         "rawType": "float64",
         "type": "float"
        },
        {
         "name": "prod_Health Score_Previous Claims_Credit Score",
         "rawType": "float64",
         "type": "float"
        },
        {
         "name": "prod_Health Score_Previous Claims_Insurance Duration",
         "rawType": "float64",
         "type": "float"
        },
        {
         "name": "prod_Health Score_Vehicle Age_Credit Score",
         "rawType": "float64",
         "type": "float"
        },
        {
         "name": "prod_Health Score_Vehicle Age_Insurance Duration",
         "rawType": "float64",
         "type": "float"
        },
        {
         "name": "prod_Health Score_Credit Score_Insurance Duration",
         "rawType": "float64",
         "type": "float"
        },
        {
         "name": "prod_Previous Claims_Vehicle Age_Credit Score",
         "rawType": "float64",
         "type": "float"
        },
        {
         "name": "prod_Previous Claims_Vehicle Age_Insurance Duration",
         "rawType": "float64",
         "type": "float"
        },
        {
         "name": "prod_Previous Claims_Credit Score_Insurance Duration",
         "rawType": "float64",
         "type": "float"
        },
        {
         "name": "prod_Vehicle Age_Credit Score_Insurance Duration",
         "rawType": "float64",
         "type": "float"
        }
       ],
       "conversionMethod": "pd.DataFrame",
       "ref": "8c500eb0-2077-4d51-bd41-adec9d682696",
       "rows": [
        [
         "1064660",
         "56.0",
         "2706.2000000000007",
         "4.0",
         "24.868784874925566",
         "1.0",
         "14.0",
         "589.0",
         "2.0",
         "597.0",
         "1",
         "0",
         "0",
         "0",
         "0",
         "0",
         "1",
         "0",
         "0",
         "1",
         "0",
         "1",
         "1",
         "0",
         "0",
         "0",
         "0",
         "0",
         "0",
         "0",
         "151547.20000000004",
         "224.0",
         "1392.6519529958318",
         "56.0",
         "784.0",
         "32984.0",
         "112.0",
         "10824.800000000003",
         "67299.90562852359",
         "2706.2000000000007",
         "37886.80000000001",
         "1593951.8000000005",
         "5412.4000000000015",
         "99.47513949970227",
         "4.0",
         "56.0",
         "2356.0",
         "8.0",
         "24.868784874925566",
         "348.16298824895796",
         "14647.714291331158",
         "49.73756974985113",
         "14.0",
         "589.0",
         "2.0",
         "8246.0",
         "28.0",
         "1178.0",
         "606188.8000000002",
         "3768794.715197321",
         "151547.20000000004",
         "2121660.8000000007",
         "89261300.80000003",
         "303094.4000000001",
         "5570.607811983327",
         "224.0",
         "3136.0",
         "131936.0",
         "448.0",
         "1392.6519529958318",
         "19497.127341941647",
         "820272.000314545",
         "2785.3039059916637",
         "784.0",
         "32984.0",
         "112.0",
         "461776.0",
         "1568.0",
         "65968.0",
         "269199.62251409434",
         "10824.800000000003",
         "151547.20000000004",
         "6375807.200000002",
         "21649.600000000006",
         "67299.90562852359",
         "942198.6787993303",
         "39639644.41520039",
         "134599.81125704717",
         "37886.80000000001",
         "1593951.8000000005",
         "5412.4000000000015",
         "22315325.200000007",
         "75773.60000000002",
         "3187903.600000001",
         "99.47513949970227",
         "1392.6519529958318",
         "58590.85716532463",
         "198.95027899940453",
         "56.0",
         "2356.0",
         "8.0",
         "32984.0",
         "112.0",
         "4712.0",
         "348.16298824895796",
         "14647.714291331158",
         "49.73756974985113",
         "205068.00007863625",
         "696.3259764979159",
         "29295.428582662316",
         "8246.0",
         "28.0",
         "1178.0",
         "16492.0"
        ],
        [
         "943409",
         "49.0",
         "38217.0",
         "3.0",
         "18.79347776807853",
         "4.0",
         "4.0",
         "751.0",
         "9.0",
         "1147.0",
         "0",
         "0",
         "1",
         "0",
         "1",
         "0",
         "0",
         "1",
         "0",
         "1",
         "1",
         "0",
         "0",
         "0",
         "1",
         "1",
         "0",
         "0",
         "0",
         "0",
         "1872633.0",
         "147.0",
         "920.8804106358481",
         "196.0",
         "196.0",
         "36799.0",
         "441.0",
         "114651.0",
         "718230.3398626572",
         "152868.0",
         "152868.0",
         "28700967.0",
         "343953.0",
         "56.380433304235595",
         "12.0",
         "12.0",
         "2253.0",
         "27.0",
         "75.17391107231413",
         "75.17391107231413",
         "14113.901803826977",
         "169.14129991270678",
         "16.0",
         "3004.0",
         "36.0",
         "3004.0",
         "36.0",
         "6759.0",
         "5617899.0",
         "35193286.65327021",
         "7490532.0",
         "7490532.0",
         "1406347383.0",
         "16853697.0",
         "2762.6412319075444",
         "588.0",
         "588.0",
         "110397.0",
         "1323.0",
         "3683.5216425433923",
         "3683.5216425433923",
         "691581.1883875219",
         "8287.923695722633",
         "784.0",
         "147196.0",
         "1764.0",
         "147196.0",
         "1764.0",
         "331191.0",
         "2154691.0195879717",
         "458604.0",
         "458604.0",
         "86102901.0",
         "1031859.0",
         "2872921.359450629",
         "2872921.359450629",
         "539390985.2368556",
         "6464073.058763916",
         "611472.0",
         "114803868.0",
         "1375812.0",
         "114803868.0",
         "1375812.0",
         "258308703.0",
         "225.52173321694238",
         "225.52173321694238",
         "42341.70541148093",
         "507.4238997381203",
         "48.0",
         "9012.0",
         "108.0",
         "9012.0",
         "108.0",
         "20277.0",
         "300.6956442892565",
         "56455.60721530791",
         "676.5651996508271",
         "56455.60721530791",
         "676.5651996508271",
         "127025.11623444279",
         "12016.0",
         "144.0",
         "27036.0",
         "27036.0"
        ],
        [
         "1187526",
         "21.0",
         "97639.25",
         "3.0",
         "11.980426254509666",
         "0.0",
         "9.0",
         "454.0",
         "4.0",
         "1167.0",
         "1",
         "0",
         "1",
         "1",
         "0",
         "0",
         "0",
         "0",
         "0",
         "0",
         "1",
         "0",
         "1",
         "0",
         "1",
         "0",
         "1",
         "0",
         "0",
         "0",
         "2050424.25",
         "63.0",
         "251.588951344703",
         "0.0",
         "189.0",
         "9534.0",
         "84.0",
         "292917.75",
         "1169759.834170633",
         "0.0",
         "878753.25",
         "44328219.5",
         "390557.0",
         "35.941278763529",
         "0.0",
         "27.0",
         "1362.0",
         "12.0",
         "0.0",
         "107.823836290587",
         "5439.113519547389",
         "47.921705018038665",
         "0.0",
         "0.0",
         "0.0",
         "4086.0",
         "36.0",
         "1816.0",
         "6151272.75",
         "24564956.517583292",
         "0.0",
         "18453818.25",
         "930892609.5",
         "8201697.0",
         "754.766854034109",
         "0.0",
         "567.0",
         "28602.0",
         "252.0",
         "0.0",
         "2264.3005621023267",
         "114221.38391049516",
         "1006.355805378812",
         "0.0",
         "0.0",
         "0.0",
         "85806.0",
         "756.0",
         "38136.0",
         "3509279.502511899",
         "0.0",
         "2636259.75",
         "132984658.5",
         "1171671.0",
         "0.0",
         "10527838.507535696",
         "531070964.71346736",
         "4679039.336682532",
         "0.0",
         "0.0",
         "0.0",
         "398953975.5",
         "3515013.0",
         "177312878.0",
         "0.0",
         "323.471508871761",
         "16317.340558642165",
         "143.765115054116",
         "0.0",
         "0.0",
         "0.0",
         "12258.0",
         "108.0",
         "5448.0",
         "0.0",
         "0.0",
         "0.0",
         "48952.021675926495",
         "431.295345162348",
         "21756.454078189556",
         "0.0",
         "0.0",
         "0.0",
         "16344.0"
        ],
        [
         "558015",
         "35.0",
         "2714.0",
         "2.0",
         "18.36256719221792",
         "1.0",
         "16.0",
         "478.0",
         "7.0",
         "548.0",
         "0",
         "0",
         "1",
         "0",
         "0",
         "1",
         "1",
         "0",
         "0",
         "1",
         "1",
         "0",
         "0",
         "0",
         "1",
         "0",
         "1",
         "0",
         "0",
         "0",
         "94990.0",
         "70.0",
         "642.6898517276272",
         "35.0",
         "560.0",
         "16730.0",
         "245.0",
         "5428.0",
         "49836.00735967943",
         "2714.0",
         "43424.0",
         "1297292.0",
         "18998.0",
         "36.72513438443584",
         "2.0",
         "32.0",
         "956.0",
         "14.0",
         "18.36256719221792",
         "293.8010750754867",
         "8777.307117880166",
         "128.53797034552545",
         "16.0",
         "478.0",
         "7.0",
         "7648.0",
         "112.0",
         "3346.0",
         "189980.0",
         "1744260.2575887803",
         "94990.0",
         "1519840.0",
         "45405220.0",
         "664930.0",
         "1285.3797034552545",
         "70.0",
         "1120.0",
         "33460.0",
         "490.0",
         "642.6898517276272",
         "10283.037627642036",
         "307205.7491258058",
         "4498.82896209339",
         "560.0",
         "16730.0",
         "245.0",
         "267680.0",
         "3920.0",
         "117110.0",
         "99672.01471935886",
         "5428.0",
         "86848.0",
         "2594584.0",
         "37996.0",
         "49836.00735967943",
         "797376.1177548709",
         "23821611.517926767",
         "348852.051517756",
         "43424.0",
         "1297292.0",
         "18998.0",
         "20756672.0",
         "303968.0",
         "9081044.0",
         "36.72513438443584",
         "587.6021501509734",
         "17554.61423576033",
         "257.0759406910509",
         "32.0",
         "956.0",
         "14.0",
         "15296.0",
         "224.0",
         "6692.0",
         "293.8010750754867",
         "8777.307117880166",
         "128.53797034552545",
         "140436.91388608265",
         "2056.607525528407",
         "61441.14982516116",
         "7648.0",
         "112.0",
         "3346.0",
         "53536.0"
        ],
        [
         "496945",
         "18.0",
         "7071.0",
         "3.0",
         "40.043921300910846",
         "0.0",
         "14.0",
         "473.0",
         "6.0",
         "1074.0",
         "1",
         "1",
         "0",
         "0",
         "1",
         "0",
         "0",
         "1",
         "1",
         "0",
         "0",
         "0",
         "0",
         "1",
         "1",
         "0",
         "0",
         "1",
         "0",
         "0",
         "127278.0",
         "54.0",
         "720.7905834163952",
         "0.0",
         "252.0",
         "8514.0",
         "108.0",
         "21213.0",
         "283150.5675187406",
         "0.0",
         "98994.0",
         "3344583.0",
         "42426.0",
         "120.13176390273253",
         "0.0",
         "42.0",
         "1419.0",
         "18.0",
         "0.0",
         "560.6148982127519",
         "18940.77477533083",
         "240.26352780546506",
         "0.0",
         "0.0",
         "0.0",
         "6622.0",
         "84.0",
         "2838.0",
         "381834.0",
         "5096710.2153373305",
         "0.0",
         "1781892.0",
         "60202494.0",
         "763668.0",
         "2162.371750249186",
         "0.0",
         "756.0",
         "25542.0",
         "324.0",
         "0.0",
         "10091.068167829533",
         "340933.9459559549",
         "4324.743500498371",
         "0.0",
         "0.0",
         "0.0",
         "119196.0",
         "1512.0",
         "51084.0",
         "849451.7025562217",
         "0.0",
         "296982.0",
         "10033749.0",
         "127278.0",
         "0.0",
         "3964107.9452623683",
         "133930218.43636431",
         "1698903.4051124435",
         "0.0",
         "0.0",
         "0.0",
         "46824162.0",
         "593964.0",
         "20067498.0",
         "0.0",
         "1681.8446946382555",
         "56822.324325992486",
         "720.7905834163952",
         "0.0",
         "0.0",
         "0.0",
         "19866.0",
         "252.0",
         "8514.0",
         "0.0",
         "0.0",
         "0.0",
         "265170.8468546316",
         "3363.689389276511",
         "113644.64865198497",
         "0.0",
         "0.0",
         "0.0",
         "39732.0"
        ]
       ],
       "shape": {
        "columns": 113,
        "rows": 5
       }
      },
      "text/html": [
       "<div>\n",
       "<style scoped>\n",
       "    .dataframe tbody tr th:only-of-type {\n",
       "        vertical-align: middle;\n",
       "    }\n",
       "\n",
       "    .dataframe tbody tr th {\n",
       "        vertical-align: top;\n",
       "    }\n",
       "\n",
       "    .dataframe thead th {\n",
       "        text-align: right;\n",
       "    }\n",
       "</style>\n",
       "<table border=\"1\" class=\"dataframe\">\n",
       "  <thead>\n",
       "    <tr style=\"text-align: right;\">\n",
       "      <th></th>\n",
       "      <th>Age</th>\n",
       "      <th>Annual Income</th>\n",
       "      <th>Number of Dependents</th>\n",
       "      <th>Health Score</th>\n",
       "      <th>Previous Claims</th>\n",
       "      <th>Vehicle Age</th>\n",
       "      <th>Credit Score</th>\n",
       "      <th>Insurance Duration</th>\n",
       "      <th>Premium Amount</th>\n",
       "      <th>Gender_Male</th>\n",
       "      <th>...</th>\n",
       "      <th>prod_Health Score_Previous Claims_Vehicle Age</th>\n",
       "      <th>prod_Health Score_Previous Claims_Credit Score</th>\n",
       "      <th>prod_Health Score_Previous Claims_Insurance Duration</th>\n",
       "      <th>prod_Health Score_Vehicle Age_Credit Score</th>\n",
       "      <th>prod_Health Score_Vehicle Age_Insurance Duration</th>\n",
       "      <th>prod_Health Score_Credit Score_Insurance Duration</th>\n",
       "      <th>prod_Previous Claims_Vehicle Age_Credit Score</th>\n",
       "      <th>prod_Previous Claims_Vehicle Age_Insurance Duration</th>\n",
       "      <th>prod_Previous Claims_Credit Score_Insurance Duration</th>\n",
       "      <th>prod_Vehicle Age_Credit Score_Insurance Duration</th>\n",
       "    </tr>\n",
       "    <tr>\n",
       "      <th>id</th>\n",
       "      <th></th>\n",
       "      <th></th>\n",
       "      <th></th>\n",
       "      <th></th>\n",
       "      <th></th>\n",
       "      <th></th>\n",
       "      <th></th>\n",
       "      <th></th>\n",
       "      <th></th>\n",
       "      <th></th>\n",
       "      <th></th>\n",
       "      <th></th>\n",
       "      <th></th>\n",
       "      <th></th>\n",
       "      <th></th>\n",
       "      <th></th>\n",
       "      <th></th>\n",
       "      <th></th>\n",
       "      <th></th>\n",
       "      <th></th>\n",
       "      <th></th>\n",
       "    </tr>\n",
       "  </thead>\n",
       "  <tbody>\n",
       "    <tr>\n",
       "      <th>1064660</th>\n",
       "      <td>56.0</td>\n",
       "      <td>2706.20</td>\n",
       "      <td>4.0</td>\n",
       "      <td>24.868785</td>\n",
       "      <td>1.0</td>\n",
       "      <td>14.0</td>\n",
       "      <td>589.0</td>\n",
       "      <td>2.0</td>\n",
       "      <td>597.0</td>\n",
       "      <td>1</td>\n",
       "      <td>...</td>\n",
       "      <td>348.162988</td>\n",
       "      <td>14647.714291</td>\n",
       "      <td>49.73757</td>\n",
       "      <td>205068.000079</td>\n",
       "      <td>696.325976</td>\n",
       "      <td>29295.428583</td>\n",
       "      <td>8246.0</td>\n",
       "      <td>28.0</td>\n",
       "      <td>1178.0</td>\n",
       "      <td>16492.0</td>\n",
       "    </tr>\n",
       "    <tr>\n",
       "      <th>943409</th>\n",
       "      <td>49.0</td>\n",
       "      <td>38217.00</td>\n",
       "      <td>3.0</td>\n",
       "      <td>18.793478</td>\n",
       "      <td>4.0</td>\n",
       "      <td>4.0</td>\n",
       "      <td>751.0</td>\n",
       "      <td>9.0</td>\n",
       "      <td>1147.0</td>\n",
       "      <td>0</td>\n",
       "      <td>...</td>\n",
       "      <td>300.695644</td>\n",
       "      <td>56455.607215</td>\n",
       "      <td>676.56520</td>\n",
       "      <td>56455.607215</td>\n",
       "      <td>676.565200</td>\n",
       "      <td>127025.116234</td>\n",
       "      <td>12016.0</td>\n",
       "      <td>144.0</td>\n",
       "      <td>27036.0</td>\n",
       "      <td>27036.0</td>\n",
       "    </tr>\n",
       "    <tr>\n",
       "      <th>1187526</th>\n",
       "      <td>21.0</td>\n",
       "      <td>97639.25</td>\n",
       "      <td>3.0</td>\n",
       "      <td>11.980426</td>\n",
       "      <td>0.0</td>\n",
       "      <td>9.0</td>\n",
       "      <td>454.0</td>\n",
       "      <td>4.0</td>\n",
       "      <td>1167.0</td>\n",
       "      <td>1</td>\n",
       "      <td>...</td>\n",
       "      <td>0.000000</td>\n",
       "      <td>0.000000</td>\n",
       "      <td>0.00000</td>\n",
       "      <td>48952.021676</td>\n",
       "      <td>431.295345</td>\n",
       "      <td>21756.454078</td>\n",
       "      <td>0.0</td>\n",
       "      <td>0.0</td>\n",
       "      <td>0.0</td>\n",
       "      <td>16344.0</td>\n",
       "    </tr>\n",
       "    <tr>\n",
       "      <th>558015</th>\n",
       "      <td>35.0</td>\n",
       "      <td>2714.00</td>\n",
       "      <td>2.0</td>\n",
       "      <td>18.362567</td>\n",
       "      <td>1.0</td>\n",
       "      <td>16.0</td>\n",
       "      <td>478.0</td>\n",
       "      <td>7.0</td>\n",
       "      <td>548.0</td>\n",
       "      <td>0</td>\n",
       "      <td>...</td>\n",
       "      <td>293.801075</td>\n",
       "      <td>8777.307118</td>\n",
       "      <td>128.53797</td>\n",
       "      <td>140436.913886</td>\n",
       "      <td>2056.607526</td>\n",
       "      <td>61441.149825</td>\n",
       "      <td>7648.0</td>\n",
       "      <td>112.0</td>\n",
       "      <td>3346.0</td>\n",
       "      <td>53536.0</td>\n",
       "    </tr>\n",
       "    <tr>\n",
       "      <th>496945</th>\n",
       "      <td>18.0</td>\n",
       "      <td>7071.00</td>\n",
       "      <td>3.0</td>\n",
       "      <td>40.043921</td>\n",
       "      <td>0.0</td>\n",
       "      <td>14.0</td>\n",
       "      <td>473.0</td>\n",
       "      <td>6.0</td>\n",
       "      <td>1074.0</td>\n",
       "      <td>1</td>\n",
       "      <td>...</td>\n",
       "      <td>0.000000</td>\n",
       "      <td>0.000000</td>\n",
       "      <td>0.00000</td>\n",
       "      <td>265170.846855</td>\n",
       "      <td>3363.689389</td>\n",
       "      <td>113644.648652</td>\n",
       "      <td>0.0</td>\n",
       "      <td>0.0</td>\n",
       "      <td>0.0</td>\n",
       "      <td>39732.0</td>\n",
       "    </tr>\n",
       "  </tbody>\n",
       "</table>\n",
       "<p>5 rows × 113 columns</p>\n",
       "</div>"
      ],
      "text/plain": [
       "          Age  Annual Income  Number of Dependents  Health Score  \\\n",
       "id                                                                 \n",
       "1064660  56.0        2706.20                   4.0     24.868785   \n",
       "943409   49.0       38217.00                   3.0     18.793478   \n",
       "1187526  21.0       97639.25                   3.0     11.980426   \n",
       "558015   35.0        2714.00                   2.0     18.362567   \n",
       "496945   18.0        7071.00                   3.0     40.043921   \n",
       "\n",
       "         Previous Claims  Vehicle Age  Credit Score  Insurance Duration  \\\n",
       "id                                                                        \n",
       "1064660              1.0         14.0         589.0                 2.0   \n",
       "943409               4.0          4.0         751.0                 9.0   \n",
       "1187526              0.0          9.0         454.0                 4.0   \n",
       "558015               1.0         16.0         478.0                 7.0   \n",
       "496945               0.0         14.0         473.0                 6.0   \n",
       "\n",
       "         Premium Amount  Gender_Male  ...  \\\n",
       "id                                    ...   \n",
       "1064660           597.0            1  ...   \n",
       "943409           1147.0            0  ...   \n",
       "1187526          1167.0            1  ...   \n",
       "558015            548.0            0  ...   \n",
       "496945           1074.0            1  ...   \n",
       "\n",
       "         prod_Health Score_Previous Claims_Vehicle Age  \\\n",
       "id                                                       \n",
       "1064660                                     348.162988   \n",
       "943409                                      300.695644   \n",
       "1187526                                       0.000000   \n",
       "558015                                      293.801075   \n",
       "496945                                        0.000000   \n",
       "\n",
       "         prod_Health Score_Previous Claims_Credit Score  \\\n",
       "id                                                        \n",
       "1064660                                    14647.714291   \n",
       "943409                                     56455.607215   \n",
       "1187526                                        0.000000   \n",
       "558015                                      8777.307118   \n",
       "496945                                         0.000000   \n",
       "\n",
       "         prod_Health Score_Previous Claims_Insurance Duration  \\\n",
       "id                                                              \n",
       "1064660                                           49.73757      \n",
       "943409                                           676.56520      \n",
       "1187526                                            0.00000      \n",
       "558015                                           128.53797      \n",
       "496945                                             0.00000      \n",
       "\n",
       "         prod_Health Score_Vehicle Age_Credit Score  \\\n",
       "id                                                    \n",
       "1064660                               205068.000079   \n",
       "943409                                 56455.607215   \n",
       "1187526                                48952.021676   \n",
       "558015                                140436.913886   \n",
       "496945                                265170.846855   \n",
       "\n",
       "         prod_Health Score_Vehicle Age_Insurance Duration  \\\n",
       "id                                                          \n",
       "1064660                                        696.325976   \n",
       "943409                                         676.565200   \n",
       "1187526                                        431.295345   \n",
       "558015                                        2056.607526   \n",
       "496945                                        3363.689389   \n",
       "\n",
       "         prod_Health Score_Credit Score_Insurance Duration  \\\n",
       "id                                                           \n",
       "1064660                                       29295.428583   \n",
       "943409                                       127025.116234   \n",
       "1187526                                       21756.454078   \n",
       "558015                                        61441.149825   \n",
       "496945                                       113644.648652   \n",
       "\n",
       "         prod_Previous Claims_Vehicle Age_Credit Score  \\\n",
       "id                                                       \n",
       "1064660                                         8246.0   \n",
       "943409                                         12016.0   \n",
       "1187526                                            0.0   \n",
       "558015                                          7648.0   \n",
       "496945                                             0.0   \n",
       "\n",
       "         prod_Previous Claims_Vehicle Age_Insurance Duration  \\\n",
       "id                                                             \n",
       "1064660                                               28.0     \n",
       "943409                                               144.0     \n",
       "1187526                                                0.0     \n",
       "558015                                               112.0     \n",
       "496945                                                 0.0     \n",
       "\n",
       "         prod_Previous Claims_Credit Score_Insurance Duration  \\\n",
       "id                                                              \n",
       "1064660                                             1178.0      \n",
       "943409                                             27036.0      \n",
       "1187526                                                0.0      \n",
       "558015                                              3346.0      \n",
       "496945                                                 0.0      \n",
       "\n",
       "         prod_Vehicle Age_Credit Score_Insurance Duration  \n",
       "id                                                         \n",
       "1064660                                           16492.0  \n",
       "943409                                            27036.0  \n",
       "1187526                                           16344.0  \n",
       "558015                                            53536.0  \n",
       "496945                                            39732.0  \n",
       "\n",
       "[5 rows x 113 columns]"
      ]
     },
     "execution_count": 21,
     "metadata": {},
     "output_type": "execute_result"
    }
   ],
   "source": [
    "# Создание новых признаков через математические комбинации\n",
    "df_fe = df.copy()\n",
    "features_combinations = [*combinations(numeric_columns, 2)]\n",
    "features_combinations += [*combinations(numeric_columns, 3)]\n",
    "\n",
    "for comb in features_combinations:\n",
    "    math_comb = MathFeatures(variables=list(comb), func=\"prod\")\n",
    "    df_fe = math_comb.fit_transform(df_fe)\n",
    "\n",
    "df_fe.head()"
   ]
  },
  {
   "cell_type": "code",
   "execution_count": 22,
   "metadata": {},
   "outputs": [
    {
     "name": "stdout",
     "output_type": "stream",
     "text": [
      "<class 'pandas.core.frame.DataFrame'>\n",
      "Index: 10000 entries, 1064660 to 535173\n",
      "Columns: 113 entries, Age to prod_Vehicle Age_Credit Score_Insurance Duration\n",
      "dtypes: float64(93), int32(20)\n",
      "memory usage: 7.9 MB\n"
     ]
    }
   ],
   "source": [
    "df_fe.info()"
   ]
  },
  {
   "cell_type": "markdown",
   "metadata": {},
   "source": [
    "Количество признаков увеличилось до 113."
   ]
  },
  {
   "cell_type": "code",
   "execution_count": 23,
   "metadata": {},
   "outputs": [
    {
     "data": {
      "text/plain": [
       "Index(['prod_Age_Annual Income', 'prod_Age_Annual Income_Credit Score',\n",
       "       'prod_Age_Annual Income_Health Score',\n",
       "       'prod_Age_Annual Income_Insurance Duration',\n",
       "       'prod_Age_Annual Income_Number of Dependents',\n",
       "       'prod_Age_Annual Income_Previous Claims',\n",
       "       'prod_Age_Annual Income_Vehicle Age', 'prod_Age_Credit Score',\n",
       "       'prod_Age_Credit Score_Insurance Duration', 'prod_Age_Health Score',\n",
       "       'prod_Age_Health Score_Credit Score',\n",
       "       'prod_Age_Health Score_Insurance Duration',\n",
       "       'prod_Age_Health Score_Previous Claims',\n",
       "       'prod_Age_Health Score_Vehicle Age', 'prod_Age_Insurance Duration',\n",
       "       'prod_Age_Number of Dependents',\n",
       "       'prod_Age_Number of Dependents_Credit Score',\n",
       "       'prod_Age_Number of Dependents_Health Score',\n",
       "       'prod_Age_Number of Dependents_Insurance Duration',\n",
       "       'prod_Age_Number of Dependents_Previous Claims',\n",
       "       'prod_Age_Number of Dependents_Vehicle Age', 'prod_Age_Previous Claims',\n",
       "       'prod_Age_Previous Claims_Credit Score',\n",
       "       'prod_Age_Previous Claims_Insurance Duration',\n",
       "       'prod_Age_Previous Claims_Vehicle Age', 'prod_Age_Vehicle Age',\n",
       "       'prod_Age_Vehicle Age_Credit Score',\n",
       "       'prod_Age_Vehicle Age_Insurance Duration',\n",
       "       'prod_Annual Income_Credit Score',\n",
       "       'prod_Annual Income_Credit Score_Insurance Duration',\n",
       "       'prod_Annual Income_Health Score',\n",
       "       'prod_Annual Income_Health Score_Credit Score',\n",
       "       'prod_Annual Income_Health Score_Insurance Duration',\n",
       "       'prod_Annual Income_Health Score_Previous Claims',\n",
       "       'prod_Annual Income_Health Score_Vehicle Age',\n",
       "       'prod_Annual Income_Insurance Duration',\n",
       "       'prod_Annual Income_Number of Dependents',\n",
       "       'prod_Annual Income_Number of Dependents_Credit Score',\n",
       "       'prod_Annual Income_Number of Dependents_Health Score',\n",
       "       'prod_Annual Income_Number of Dependents_Insurance Duration',\n",
       "       'prod_Annual Income_Number of Dependents_Previous Claims',\n",
       "       'prod_Annual Income_Number of Dependents_Vehicle Age',\n",
       "       'prod_Annual Income_Previous Claims',\n",
       "       'prod_Annual Income_Previous Claims_Credit Score',\n",
       "       'prod_Annual Income_Previous Claims_Insurance Duration',\n",
       "       'prod_Annual Income_Previous Claims_Vehicle Age',\n",
       "       'prod_Annual Income_Vehicle Age',\n",
       "       'prod_Annual Income_Vehicle Age_Credit Score',\n",
       "       'prod_Annual Income_Vehicle Age_Insurance Duration',\n",
       "       'prod_Credit Score_Insurance Duration',\n",
       "       'prod_Health Score_Credit Score',\n",
       "       'prod_Health Score_Credit Score_Insurance Duration',\n",
       "       'prod_Health Score_Insurance Duration',\n",
       "       'prod_Health Score_Previous Claims',\n",
       "       'prod_Health Score_Previous Claims_Credit Score',\n",
       "       'prod_Health Score_Previous Claims_Insurance Duration',\n",
       "       'prod_Health Score_Previous Claims_Vehicle Age',\n",
       "       'prod_Health Score_Vehicle Age',\n",
       "       'prod_Health Score_Vehicle Age_Credit Score',\n",
       "       'prod_Health Score_Vehicle Age_Insurance Duration',\n",
       "       'prod_Number of Dependents_Credit Score',\n",
       "       'prod_Number of Dependents_Credit Score_Insurance Duration',\n",
       "       'prod_Number of Dependents_Health Score',\n",
       "       'prod_Number of Dependents_Health Score_Credit Score',\n",
       "       'prod_Number of Dependents_Health Score_Insurance Duration',\n",
       "       'prod_Number of Dependents_Health Score_Previous Claims',\n",
       "       'prod_Number of Dependents_Health Score_Vehicle Age',\n",
       "       'prod_Number of Dependents_Insurance Duration',\n",
       "       'prod_Number of Dependents_Previous Claims',\n",
       "       'prod_Number of Dependents_Previous Claims_Credit Score',\n",
       "       'prod_Number of Dependents_Previous Claims_Insurance Duration',\n",
       "       'prod_Number of Dependents_Previous Claims_Vehicle Age',\n",
       "       'prod_Number of Dependents_Vehicle Age',\n",
       "       'prod_Number of Dependents_Vehicle Age_Credit Score',\n",
       "       'prod_Number of Dependents_Vehicle Age_Insurance Duration',\n",
       "       'prod_Previous Claims_Credit Score',\n",
       "       'prod_Previous Claims_Credit Score_Insurance Duration',\n",
       "       'prod_Previous Claims_Insurance Duration',\n",
       "       'prod_Previous Claims_Vehicle Age',\n",
       "       'prod_Previous Claims_Vehicle Age_Credit Score',\n",
       "       'prod_Previous Claims_Vehicle Age_Insurance Duration',\n",
       "       'prod_Vehicle Age_Credit Score',\n",
       "       'prod_Vehicle Age_Credit Score_Insurance Duration',\n",
       "       'prod_Vehicle Age_Insurance Duration'],\n",
       "      dtype='object')"
      ]
     },
     "execution_count": 23,
     "metadata": {},
     "output_type": "execute_result"
    }
   ],
   "source": [
    "# Сгенерированные признаки\n",
    "generated_columns = df_fe.columns.difference(df.columns)\n",
    "generated_columns"
   ]
  },
  {
   "cell_type": "code",
   "execution_count": 24,
   "metadata": {},
   "outputs": [],
   "source": [
    "# Убираем все признаки, где есть пропуски\n",
    "df_fe[generated_columns] = df_fe[generated_columns].dropna(axis=1)"
   ]
  },
  {
   "cell_type": "code",
   "execution_count": 25,
   "metadata": {},
   "outputs": [],
   "source": [
    "# Определим порог для большого количества нулей (например, 70%)\n",
    "threshold = 0.7\n",
    "cols_to_drop = []\n",
    "for col in generated_columns:\n",
    "    zero_fraction = (df_fe[col] == 0).mean()\n",
    "    if zero_fraction > threshold:\n",
    "        cols_to_drop.append(col)\n",
    "\n",
    "df_fe = df_fe.drop(columns=cols_to_drop)"
   ]
  },
  {
   "cell_type": "code",
   "execution_count": 26,
   "metadata": {},
   "outputs": [
    {
     "name": "stdout",
     "output_type": "stream",
     "text": [
      "<class 'pandas.core.frame.DataFrame'>\n",
      "Index: 10000 entries, 1064660 to 535173\n",
      "Columns: 113 entries, Age to prod_Vehicle Age_Credit Score_Insurance Duration\n",
      "dtypes: float64(93), int32(20)\n",
      "memory usage: 7.9 MB\n"
     ]
    }
   ],
   "source": [
    "df_fe.info()"
   ]
  },
  {
   "cell_type": "markdown",
   "metadata": {},
   "source": [
    "После обработки число признаков не изменилось."
   ]
  },
  {
   "cell_type": "markdown",
   "metadata": {},
   "source": [
    "## Разделение данных после генерации"
   ]
  },
  {
   "cell_type": "code",
   "execution_count": 27,
   "metadata": {},
   "outputs": [
    {
     "name": "stdout",
     "output_type": "stream",
     "text": [
      "X_train_fe.shape=(8000, 112), y_train_fe.shape=(8000,)\n",
      "X_test_fe.shape=(2000, 112), y_test_fe.shape=(2000,)\n"
     ]
    }
   ],
   "source": [
    "# Признаки без нормализации\n",
    "X_fe = df_fe.drop(columns=[TARGET])\n",
    "y_fe = df_fe[TARGET]\n",
    "\n",
    "X_train_fe, X_test_fe, y_train_fe, y_test_fe = train_test_split(\n",
    "    X_fe, y_fe, test_size=TEST_SIZE, random_state=RANDOM_STATE\n",
    ")\n",
    "\n",
    "print(f\"X_train_fe.shape={X_train_fe.shape}, y_train_fe.shape={y_train_fe.shape}\")\n",
    "print(f\"X_test_fe.shape={X_test_fe.shape}, y_test_fe.shape={y_test_fe.shape}\")"
   ]
  },
  {
   "cell_type": "markdown",
   "metadata": {},
   "source": [
    "## Обучение модели после генерации"
   ]
  },
  {
   "cell_type": "code",
   "execution_count": 28,
   "metadata": {},
   "outputs": [],
   "source": [
    "rfr_fe = RandomForestRegressor(random_state=RANDOM_STATE)\n",
    "rfr_fe.fit(X_train_fe, y_train_fe)\n",
    "\n",
    "y_pred_rfr_fe = rfr_fe.predict(X_test_fe)"
   ]
  },
  {
   "cell_type": "markdown",
   "metadata": {},
   "source": [
    "## Оценка качества после генерации"
   ]
  },
  {
   "cell_type": "code",
   "execution_count": 29,
   "metadata": {},
   "outputs": [
    {
     "data": {
      "application/vnd.microsoft.datawrangler.viewer.v0+json": {
       "columns": [
        {
         "name": "index",
         "rawType": "int64",
         "type": "integer"
        },
        {
         "name": "Metrics",
         "rawType": "object",
         "type": "string"
        },
        {
         "name": "RandomForestRegressor (init features)",
         "rawType": "float64",
         "type": "float"
        },
        {
         "name": "RandomForestRegressor (generated features)",
         "rawType": "float64",
         "type": "float"
        }
       ],
       "conversionMethod": "pd.DataFrame",
       "ref": "10416762-c5be-4fb2-9102-de53f46228e7",
       "rows": [
        [
         "0",
         "mae",
         "673.03",
         "677.9457600000001"
        ],
        [
         "1",
         "mse",
         "733681.52",
         "744097.2250808"
        ],
        [
         "2",
         "rmse",
         "856.55",
         "862.6107030873197"
        ],
        [
         "3",
         "r2_score",
         "-0.01",
         "-0.027086783110903845"
        ]
       ],
       "shape": {
        "columns": 3,
        "rows": 4
       }
      },
      "text/html": [
       "<div>\n",
       "<style scoped>\n",
       "    .dataframe tbody tr th:only-of-type {\n",
       "        vertical-align: middle;\n",
       "    }\n",
       "\n",
       "    .dataframe tbody tr th {\n",
       "        vertical-align: top;\n",
       "    }\n",
       "\n",
       "    .dataframe thead th {\n",
       "        text-align: right;\n",
       "    }\n",
       "</style>\n",
       "<table border=\"1\" class=\"dataframe\">\n",
       "  <thead>\n",
       "    <tr style=\"text-align: right;\">\n",
       "      <th></th>\n",
       "      <th>Metrics</th>\n",
       "      <th>RandomForestRegressor (init features)</th>\n",
       "      <th>RandomForestRegressor (generated features)</th>\n",
       "    </tr>\n",
       "  </thead>\n",
       "  <tbody>\n",
       "    <tr>\n",
       "      <th>0</th>\n",
       "      <td>mae</td>\n",
       "      <td>673.03</td>\n",
       "      <td>677.945760</td>\n",
       "    </tr>\n",
       "    <tr>\n",
       "      <th>1</th>\n",
       "      <td>mse</td>\n",
       "      <td>733681.52</td>\n",
       "      <td>744097.225081</td>\n",
       "    </tr>\n",
       "    <tr>\n",
       "      <th>2</th>\n",
       "      <td>rmse</td>\n",
       "      <td>856.55</td>\n",
       "      <td>862.610703</td>\n",
       "    </tr>\n",
       "    <tr>\n",
       "      <th>3</th>\n",
       "      <td>r2_score</td>\n",
       "      <td>-0.01</td>\n",
       "      <td>-0.027087</td>\n",
       "    </tr>\n",
       "  </tbody>\n",
       "</table>\n",
       "</div>"
      ],
      "text/plain": [
       "    Metrics  RandomForestRegressor (init features)  \\\n",
       "0       mae                                 673.03   \n",
       "1       mse                              733681.52   \n",
       "2      rmse                                 856.55   \n",
       "3  r2_score                                  -0.01   \n",
       "\n",
       "   RandomForestRegressor (generated features)  \n",
       "0                                  677.945760  \n",
       "1                               744097.225081  \n",
       "2                                  862.610703  \n",
       "3                                   -0.027087  "
      ]
     },
     "execution_count": 29,
     "metadata": {},
     "output_type": "execute_result"
    }
   ],
   "source": [
    "quality_comparison[\"RandomForestRegressor (generated features)\"] = get_metrics(\n",
    "    y_test_fe, y_pred_rfr_fe\n",
    ").values()\n",
    "\n",
    "quality_comparison"
   ]
  },
  {
   "cell_type": "markdown",
   "metadata": {},
   "source": [
    "Можно видеть, что после генерации признаков качество модели немного ухудшилось."
   ]
  },
  {
   "cell_type": "markdown",
   "metadata": {},
   "source": [
    " ## Важность признаков после генерации"
   ]
  },
  {
   "cell_type": "code",
   "execution_count": 30,
   "metadata": {},
   "outputs": [
    {
     "name": "stdout",
     "output_type": "stream",
     "text": [
      "Таблица 10 наиболее важных признаков:\n",
      "                                              Feature  Importance\n",
      "6                                        Credit Score    0.023881\n",
      "39                    prod_Annual Income_Credit Score    0.021060\n",
      "60                prod_Age_Annual Income_Credit Score    0.020851\n",
      "33                              prod_Age_Credit Score    0.018026\n",
      "84       prod_Annual Income_Health Score_Credit Score    0.016735\n",
      "76           prod_Age_Credit Score_Insurance Duration    0.016648\n",
      "61          prod_Age_Annual Income_Insurance Duration    0.016002\n",
      "57                prod_Age_Annual Income_Health Score    0.015736\n",
      "87    prod_Annual Income_Previous Claims_Credit Score    0.015671\n",
      "91  prod_Annual Income_Credit Score_Insurance Dura...    0.015541\n"
     ]
    },
    {
     "data": {
      "image/png": "[encoded data removed]",
      "text/plain": [
       "<Figure size 800x400 with 1 Axes>"
      ]
     },
     "metadata": {},
     "output_type": "display_data"
    }
   ],
   "source": [
    "# Важность признаков\n",
    "importances = rfr_fe.feature_importances_\n",
    "feature_names = X_train_fe.columns\n",
    "\n",
    "# Отсортируем по убыванию важности\n",
    "feature_importance_df = pd.DataFrame(\n",
    "    {\"Feature\": feature_names, \"Importance\": importances}\n",
    ").sort_values(\"Importance\", ascending=False)\n",
    "\n",
    "num_features = 10\n",
    "feature_importance_df = feature_importance_df.head(num_features)\n",
    "\n",
    "print(f\"Таблица {num_features } наиболее важных признаков:\")\n",
    "print(feature_importance_df)\n",
    "\n",
    "# График важности признаков\n",
    "plt.figure(figsize=(8, 4))\n",
    "plt.bar(feature_importance_df[\"Feature\"], feature_importance_df[\"Importance\"])\n",
    "plt.xticks(rotation=80)\n",
    "plt.title(\"Важность признаков (Random Forest)\")\n",
    "plt.show()"
   ]
  },
  {
   "cell_type": "markdown",
   "metadata": {},
   "source": [
    "Наиболее важными являются признаки, связанные с кредитным рейтингом, доходом и возрастом заемщика."
   ]
  }
 ],
 "metadata": {
  "colab": {
   "provenance": []
  },
  "kernelspec": {
   "display_name": ".mlinnopolis",
   "language": "python",
   "name": "python3"
  },
  "language_info": {
   "codemirror_mode": {
    "name": "ipython",
    "version": 3
   },
   "file_extension": ".py",
   "mimetype": "text/x-python",
   "name": "python",
   "nbconvert_exporter": "python",
   "pygments_lexer": "ipython3",
   "version": "3.13.0"
  }
 },
 "nbformat": 4,
 "nbformat_minor": 0
}
