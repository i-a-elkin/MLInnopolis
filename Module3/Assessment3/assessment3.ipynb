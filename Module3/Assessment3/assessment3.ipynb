{
 "cells": [
  {
   "cell_type": "markdown",
   "metadata": {
    "id": "Ksh_4lh6yIB7"
   },
   "source": [
    "# Промежуточная аттестация 3"
   ]
  },
  {
   "cell_type": "markdown",
   "metadata": {
    "id": "V1ePiu9UxqkN"
   },
   "source": [
    "## Импорт модулей"
   ]
  },
  {
   "cell_type": "code",
   "execution_count": 1,
   "metadata": {
    "executionInfo": {
     "elapsed": 2048,
     "status": "ok",
     "timestamp": 1740121422421,
     "user": {
      "displayName": "Иван Елькин",
      "userId": "12386214062098670036"
     },
     "user_tz": -300
    },
    "id": "T2aL7hvzxqkN"
   },
   "outputs": [],
   "source": [
    "from ucimlrepo import fetch_ucirepo\n",
    "\n",
    "import pandas as pd\n",
    "import matplotlib.pyplot as plt\n",
    "import seaborn as sns\n",
    "import numpy as np\n",
    "import joblib\n",
    "\n",
    "from sklearn.model_selection import train_test_split, RandomizedSearchCV\n",
    "from sklearn.preprocessing import StandardScaler\n",
    "from sklearn.metrics import (\n",
    "    mean_absolute_error,\n",
    "    mean_squared_error,\n",
    "    root_mean_squared_error,\n",
    "    r2_score\n",
    ")\n",
    "\n",
    "from sklearn.linear_model import LinearRegression\n",
    "from sklearn.neighbors import KNeighborsRegressor\n",
    "from sklearn.svm import SVR\n",
    "from sklearn.ensemble import RandomForestRegressor\n",
    "from sklearn.ensemble import GradientBoostingRegressor\n",
    "\n",
    "import h2o\n",
    "from h2o.automl import H2OAutoML"
   ]
  },
  {
   "cell_type": "markdown",
   "metadata": {},
   "source": [
    "## Константы"
   ]
  },
  {
   "cell_type": "code",
   "execution_count": 2,
   "metadata": {},
   "outputs": [],
   "source": [
    "TARGET = \"Age\"\n",
    "RANDOM_STATE = 777\n",
    "TEST_SIZE = 0.2"
   ]
  },
  {
   "cell_type": "markdown",
   "metadata": {},
   "source": [
    "# Задача1. Загрузка данных"
   ]
  },
  {
   "cell_type": "markdown",
   "metadata": {},
   "source": [
    "Для выполнения задания выбран набор данных, целью которого является прогнозирование возраста моллюска по физическим измерениям. Возраст моллюска определяется путем разрезания раковины по конусу, окрашивания ее и подсчета количества колец с помощью микроскопа — скучная и трудоемкая задача. Для ее решения может помочь использование моделей машинного обучения."
   ]
  },
  {
   "cell_type": "code",
   "execution_count": 3,
   "metadata": {},
   "outputs": [
    {
     "data": {
      "application/vnd.microsoft.datawrangler.viewer.v0+json": {
       "columns": [
        {
         "name": "index",
         "rawType": "int64",
         "type": "integer"
        },
        {
         "name": "Sex",
         "rawType": "object",
         "type": "string"
        },
        {
         "name": "Length",
         "rawType": "float64",
         "type": "float"
        },
        {
         "name": "Diameter",
         "rawType": "float64",
         "type": "float"
        },
        {
         "name": "Height",
         "rawType": "float64",
         "type": "float"
        },
        {
         "name": "Whole_weight",
         "rawType": "float64",
         "type": "float"
        },
        {
         "name": "Shucked_weight",
         "rawType": "float64",
         "type": "float"
        },
        {
         "name": "Viscera_weight",
         "rawType": "float64",
         "type": "float"
        },
        {
         "name": "Shell_weight",
         "rawType": "float64",
         "type": "float"
        },
        {
         "name": "Age",
         "rawType": "float64",
         "type": "float"
        }
       ],
       "conversionMethod": "pd.DataFrame",
       "ref": "1c350cab-1b2b-4495-bbd7-c50877832503",
       "rows": [
        [
         "0",
         "M",
         "0.455",
         "0.365",
         "0.095",
         "0.514",
         "0.2245",
         "0.101",
         "0.15",
         "16.5"
        ],
        [
         "1",
         "M",
         "0.35",
         "0.265",
         "0.09",
         "0.2255",
         "0.0995",
         "0.0485",
         "0.07",
         "8.5"
        ],
        [
         "2",
         "F",
         "0.53",
         "0.42",
         "0.135",
         "0.677",
         "0.2565",
         "0.1415",
         "0.21",
         "10.5"
        ],
        [
         "3",
         "M",
         "0.44",
         "0.365",
         "0.125",
         "0.516",
         "0.2155",
         "0.114",
         "0.155",
         "11.5"
        ],
        [
         "4",
         "I",
         "0.33",
         "0.255",
         "0.08",
         "0.205",
         "0.0895",
         "0.0395",
         "0.055",
         "8.5"
        ]
       ],
       "shape": {
        "columns": 9,
        "rows": 5
       }
      },
      "text/html": [
       "<div>\n",
       "<style scoped>\n",
       "    .dataframe tbody tr th:only-of-type {\n",
       "        vertical-align: middle;\n",
       "    }\n",
       "\n",
       "    .dataframe tbody tr th {\n",
       "        vertical-align: top;\n",
       "    }\n",
       "\n",
       "    .dataframe thead th {\n",
       "        text-align: right;\n",
       "    }\n",
       "</style>\n",
       "<table border=\"1\" class=\"dataframe\">\n",
       "  <thead>\n",
       "    <tr style=\"text-align: right;\">\n",
       "      <th></th>\n",
       "      <th>Sex</th>\n",
       "      <th>Length</th>\n",
       "      <th>Diameter</th>\n",
       "      <th>Height</th>\n",
       "      <th>Whole_weight</th>\n",
       "      <th>Shucked_weight</th>\n",
       "      <th>Viscera_weight</th>\n",
       "      <th>Shell_weight</th>\n",
       "      <th>Age</th>\n",
       "    </tr>\n",
       "  </thead>\n",
       "  <tbody>\n",
       "    <tr>\n",
       "      <th>0</th>\n",
       "      <td>M</td>\n",
       "      <td>0.455</td>\n",
       "      <td>0.365</td>\n",
       "      <td>0.095</td>\n",
       "      <td>0.5140</td>\n",
       "      <td>0.2245</td>\n",
       "      <td>0.1010</td>\n",
       "      <td>0.150</td>\n",
       "      <td>16.5</td>\n",
       "    </tr>\n",
       "    <tr>\n",
       "      <th>1</th>\n",
       "      <td>M</td>\n",
       "      <td>0.350</td>\n",
       "      <td>0.265</td>\n",
       "      <td>0.090</td>\n",
       "      <td>0.2255</td>\n",
       "      <td>0.0995</td>\n",
       "      <td>0.0485</td>\n",
       "      <td>0.070</td>\n",
       "      <td>8.5</td>\n",
       "    </tr>\n",
       "    <tr>\n",
       "      <th>2</th>\n",
       "      <td>F</td>\n",
       "      <td>0.530</td>\n",
       "      <td>0.420</td>\n",
       "      <td>0.135</td>\n",
       "      <td>0.6770</td>\n",
       "      <td>0.2565</td>\n",
       "      <td>0.1415</td>\n",
       "      <td>0.210</td>\n",
       "      <td>10.5</td>\n",
       "    </tr>\n",
       "    <tr>\n",
       "      <th>3</th>\n",
       "      <td>M</td>\n",
       "      <td>0.440</td>\n",
       "      <td>0.365</td>\n",
       "      <td>0.125</td>\n",
       "      <td>0.5160</td>\n",
       "      <td>0.2155</td>\n",
       "      <td>0.1140</td>\n",
       "      <td>0.155</td>\n",
       "      <td>11.5</td>\n",
       "    </tr>\n",
       "    <tr>\n",
       "      <th>4</th>\n",
       "      <td>I</td>\n",
       "      <td>0.330</td>\n",
       "      <td>0.255</td>\n",
       "      <td>0.080</td>\n",
       "      <td>0.2050</td>\n",
       "      <td>0.0895</td>\n",
       "      <td>0.0395</td>\n",
       "      <td>0.055</td>\n",
       "      <td>8.5</td>\n",
       "    </tr>\n",
       "  </tbody>\n",
       "</table>\n",
       "</div>"
      ],
      "text/plain": [
       "  Sex  Length  Diameter  Height  Whole_weight  Shucked_weight  Viscera_weight  \\\n",
       "0   M   0.455     0.365   0.095        0.5140          0.2245          0.1010   \n",
       "1   M   0.350     0.265   0.090        0.2255          0.0995          0.0485   \n",
       "2   F   0.530     0.420   0.135        0.6770          0.2565          0.1415   \n",
       "3   M   0.440     0.365   0.125        0.5160          0.2155          0.1140   \n",
       "4   I   0.330     0.255   0.080        0.2050          0.0895          0.0395   \n",
       "\n",
       "   Shell_weight   Age  \n",
       "0         0.150  16.5  \n",
       "1         0.070   8.5  \n",
       "2         0.210  10.5  \n",
       "3         0.155  11.5  \n",
       "4         0.055   8.5  "
      ]
     },
     "execution_count": 3,
     "metadata": {},
     "output_type": "execute_result"
    }
   ],
   "source": [
    "abalone = fetch_ucirepo(id=1) \n",
    "  \n",
    "X = abalone.data.features \n",
    "y = abalone.data.targets\n",
    "\n",
    "# Преобразуем целевую переменную, чтобы она содержала возраст, а не количество колец\n",
    "y.loc[:, [\"Age\"]] = y[\"Rings\"].values + 1.5\n",
    "y = y.drop(columns=[\"Rings\"])\n",
    "\n",
    "df = pd.concat([X, y], axis=1)\n",
    "df.head()"
   ]
  },
  {
   "cell_type": "code",
   "execution_count": 4,
   "metadata": {
    "colab": {
     "base_uri": "https://localhost:8080/"
    },
    "executionInfo": {
     "elapsed": 33,
     "status": "ok",
     "timestamp": 1740121422807,
     "user": {
      "displayName": "Иван Елькин",
      "userId": "12386214062098670036"
     },
     "user_tz": -300
    },
    "id": "es4_8V7Txk6c",
    "outputId": "8a9a8feb-3d5a-4c3f-8c93-ec37aefa24aa"
   },
   "outputs": [
    {
     "name": "stdout",
     "output_type": "stream",
     "text": [
      "<class 'pandas.core.frame.DataFrame'>\n",
      "RangeIndex: 4177 entries, 0 to 4176\n",
      "Data columns (total 9 columns):\n",
      " #   Column          Non-Null Count  Dtype  \n",
      "---  ------          --------------  -----  \n",
      " 0   Sex             4177 non-null   object \n",
      " 1   Length          4177 non-null   float64\n",
      " 2   Diameter        4177 non-null   float64\n",
      " 3   Height          4177 non-null   float64\n",
      " 4   Whole_weight    4177 non-null   float64\n",
      " 5   Shucked_weight  4177 non-null   float64\n",
      " 6   Viscera_weight  4177 non-null   float64\n",
      " 7   Shell_weight    4177 non-null   float64\n",
      " 8   Age             4177 non-null   float64\n",
      "dtypes: float64(8), object(1)\n",
      "memory usage: 293.8+ KB\n"
     ]
    }
   ],
   "source": [
    "df.info()"
   ]
  },
  {
   "cell_type": "markdown",
   "metadata": {},
   "source": [
    "# Задача 2. Подготовка данных к проведению машинного обучения "
   ]
  },
  {
   "cell_type": "markdown",
   "metadata": {},
   "source": [
    "## Исследовательский анализ данных"
   ]
  },
  {
   "cell_type": "code",
   "execution_count": 5,
   "metadata": {},
   "outputs": [],
   "source": [
    "# Выделим числовые и категориальные признаки\n",
    "numeric_columns = [\n",
    "    col for col in df.columns if df[col].dtype == \"float64\" if col != TARGET\n",
    "]\n",
    "categoric_columns = [col for col in df.columns if df[col].dtype == \"object\"]"
   ]
  },
  {
   "cell_type": "code",
   "execution_count": 6,
   "metadata": {},
   "outputs": [],
   "source": [
    "def numeric_columns_stats(df):\n",
    "    stats = pd.DataFrame(index=df.columns)\n",
    "    stats[\"Доля пропусков\"] = df.isnull().mean()\n",
    "    stats[\"Минимум\"] = df.min().round(2)\n",
    "    stats[\"Максимум\"] = df.max().round(2)\n",
    "    stats[\"Среднее\"] = df.mean().round(2)\n",
    "    stats[\"Медиана\"] = df.median().round(2)\n",
    "    stats[\"Дисперсия\"] = df.var().round(2)\n",
    "    stats[\"Квантиль 0.1\"] = df.quantile(0.1).round(2)\n",
    "    stats[\"Квантиль 0.9\"] = df.quantile(0.9).round(2)\n",
    "    stats[\"Квартиль 1\"] = df.quantile(0.25).round(2)\n",
    "    stats[\"Квартиль 3\"] = df.quantile(0.75).round(2)\n",
    "\n",
    "    return stats\n",
    "\n",
    "\n",
    "def categoric_columns_stats(df):\n",
    "    stats = pd.DataFrame(index=df.columns)\n",
    "    stats[\"Доля пропусков\"] = df.isnull().mean()\n",
    "    stats[\"Количество уникальных значений\"] = df.nunique()\n",
    "    stats[\"Мода\"] = df.mode().transpose()\n",
    "\n",
    "    return stats"
   ]
  },
  {
   "cell_type": "code",
   "execution_count": 7,
   "metadata": {},
   "outputs": [
    {
     "data": {
      "application/vnd.microsoft.datawrangler.viewer.v0+json": {
       "columns": [
        {
         "name": "index",
         "rawType": "object",
         "type": "string"
        },
        {
         "name": "Доля пропусков",
         "rawType": "float64",
         "type": "float"
        },
        {
         "name": "Минимум",
         "rawType": "float64",
         "type": "float"
        },
        {
         "name": "Максимум",
         "rawType": "float64",
         "type": "float"
        },
        {
         "name": "Среднее",
         "rawType": "float64",
         "type": "float"
        },
        {
         "name": "Медиана",
         "rawType": "float64",
         "type": "float"
        },
        {
         "name": "Дисперсия",
         "rawType": "float64",
         "type": "float"
        },
        {
         "name": "Квантиль 0.1",
         "rawType": "float64",
         "type": "float"
        },
        {
         "name": "Квантиль 0.9",
         "rawType": "float64",
         "type": "float"
        },
        {
         "name": "Квартиль 1",
         "rawType": "float64",
         "type": "float"
        },
        {
         "name": "Квартиль 3",
         "rawType": "float64",
         "type": "float"
        }
       ],
       "conversionMethod": "pd.DataFrame",
       "ref": "c53abb47-1360-4ec7-b7f0-489828d86571",
       "rows": [
        [
         "Length",
         "0.0",
         "0.08",
         "0.82",
         "0.52",
         "0.55",
         "0.01",
         "0.36",
         "0.66",
         "0.45",
         "0.62"
        ],
        [
         "Diameter",
         "0.0",
         "0.06",
         "0.65",
         "0.41",
         "0.42",
         "0.01",
         "0.26",
         "0.52",
         "0.35",
         "0.48"
        ],
        [
         "Height",
         "0.0",
         "0.0",
         "1.13",
         "0.14",
         "0.14",
         "0.0",
         "0.09",
         "0.18",
         "0.12",
         "0.16"
        ],
        [
         "Whole_weight",
         "0.0",
         "0.0",
         "2.83",
         "0.83",
         "0.8",
         "0.24",
         "0.2",
         "1.48",
         "0.44",
         "1.15"
        ],
        [
         "Shucked_weight",
         "0.0",
         "0.0",
         "1.49",
         "0.36",
         "0.34",
         "0.05",
         "0.09",
         "0.65",
         "0.19",
         "0.5"
        ],
        [
         "Viscera_weight",
         "0.0",
         "0.0",
         "0.76",
         "0.18",
         "0.17",
         "0.01",
         "0.04",
         "0.33",
         "0.09",
         "0.25"
        ],
        [
         "Shell_weight",
         "0.0",
         "0.0",
         "1.0",
         "0.24",
         "0.23",
         "0.02",
         "0.06",
         "0.42",
         "0.13",
         "0.33"
        ],
        [
         "Age",
         "0.0",
         "2.5",
         "30.5",
         "11.43",
         "10.5",
         "10.4",
         "7.5",
         "15.5",
         "9.5",
         "12.5"
        ]
       ],
       "shape": {
        "columns": 10,
        "rows": 8
       }
      },
      "text/html": [
       "<div>\n",
       "<style scoped>\n",
       "    .dataframe tbody tr th:only-of-type {\n",
       "        vertical-align: middle;\n",
       "    }\n",
       "\n",
       "    .dataframe tbody tr th {\n",
       "        vertical-align: top;\n",
       "    }\n",
       "\n",
       "    .dataframe thead th {\n",
       "        text-align: right;\n",
       "    }\n",
       "</style>\n",
       "<table border=\"1\" class=\"dataframe\">\n",
       "  <thead>\n",
       "    <tr style=\"text-align: right;\">\n",
       "      <th></th>\n",
       "      <th>Доля пропусков</th>\n",
       "      <th>Минимум</th>\n",
       "      <th>Максимум</th>\n",
       "      <th>Среднее</th>\n",
       "      <th>Медиана</th>\n",
       "      <th>Дисперсия</th>\n",
       "      <th>Квантиль 0.1</th>\n",
       "      <th>Квантиль 0.9</th>\n",
       "      <th>Квартиль 1</th>\n",
       "      <th>Квартиль 3</th>\n",
       "    </tr>\n",
       "  </thead>\n",
       "  <tbody>\n",
       "    <tr>\n",
       "      <th>Length</th>\n",
       "      <td>0.0</td>\n",
       "      <td>0.08</td>\n",
       "      <td>0.82</td>\n",
       "      <td>0.52</td>\n",
       "      <td>0.55</td>\n",
       "      <td>0.01</td>\n",
       "      <td>0.36</td>\n",
       "      <td>0.66</td>\n",
       "      <td>0.45</td>\n",
       "      <td>0.62</td>\n",
       "    </tr>\n",
       "    <tr>\n",
       "      <th>Diameter</th>\n",
       "      <td>0.0</td>\n",
       "      <td>0.06</td>\n",
       "      <td>0.65</td>\n",
       "      <td>0.41</td>\n",
       "      <td>0.42</td>\n",
       "      <td>0.01</td>\n",
       "      <td>0.26</td>\n",
       "      <td>0.52</td>\n",
       "      <td>0.35</td>\n",
       "      <td>0.48</td>\n",
       "    </tr>\n",
       "    <tr>\n",
       "      <th>Height</th>\n",
       "      <td>0.0</td>\n",
       "      <td>0.00</td>\n",
       "      <td>1.13</td>\n",
       "      <td>0.14</td>\n",
       "      <td>0.14</td>\n",
       "      <td>0.00</td>\n",
       "      <td>0.09</td>\n",
       "      <td>0.18</td>\n",
       "      <td>0.12</td>\n",
       "      <td>0.16</td>\n",
       "    </tr>\n",
       "    <tr>\n",
       "      <th>Whole_weight</th>\n",
       "      <td>0.0</td>\n",
       "      <td>0.00</td>\n",
       "      <td>2.83</td>\n",
       "      <td>0.83</td>\n",
       "      <td>0.80</td>\n",
       "      <td>0.24</td>\n",
       "      <td>0.20</td>\n",
       "      <td>1.48</td>\n",
       "      <td>0.44</td>\n",
       "      <td>1.15</td>\n",
       "    </tr>\n",
       "    <tr>\n",
       "      <th>Shucked_weight</th>\n",
       "      <td>0.0</td>\n",
       "      <td>0.00</td>\n",
       "      <td>1.49</td>\n",
       "      <td>0.36</td>\n",
       "      <td>0.34</td>\n",
       "      <td>0.05</td>\n",
       "      <td>0.09</td>\n",
       "      <td>0.65</td>\n",
       "      <td>0.19</td>\n",
       "      <td>0.50</td>\n",
       "    </tr>\n",
       "    <tr>\n",
       "      <th>Viscera_weight</th>\n",
       "      <td>0.0</td>\n",
       "      <td>0.00</td>\n",
       "      <td>0.76</td>\n",
       "      <td>0.18</td>\n",
       "      <td>0.17</td>\n",
       "      <td>0.01</td>\n",
       "      <td>0.04</td>\n",
       "      <td>0.33</td>\n",
       "      <td>0.09</td>\n",
       "      <td>0.25</td>\n",
       "    </tr>\n",
       "    <tr>\n",
       "      <th>Shell_weight</th>\n",
       "      <td>0.0</td>\n",
       "      <td>0.00</td>\n",
       "      <td>1.00</td>\n",
       "      <td>0.24</td>\n",
       "      <td>0.23</td>\n",
       "      <td>0.02</td>\n",
       "      <td>0.06</td>\n",
       "      <td>0.42</td>\n",
       "      <td>0.13</td>\n",
       "      <td>0.33</td>\n",
       "    </tr>\n",
       "    <tr>\n",
       "      <th>Age</th>\n",
       "      <td>0.0</td>\n",
       "      <td>2.50</td>\n",
       "      <td>30.50</td>\n",
       "      <td>11.43</td>\n",
       "      <td>10.50</td>\n",
       "      <td>10.40</td>\n",
       "      <td>7.50</td>\n",
       "      <td>15.50</td>\n",
       "      <td>9.50</td>\n",
       "      <td>12.50</td>\n",
       "    </tr>\n",
       "  </tbody>\n",
       "</table>\n",
       "</div>"
      ],
      "text/plain": [
       "                Доля пропусков  Минимум  Максимум  Среднее  Медиана  \\\n",
       "Length                     0.0     0.08      0.82     0.52     0.55   \n",
       "Diameter                   0.0     0.06      0.65     0.41     0.42   \n",
       "Height                     0.0     0.00      1.13     0.14     0.14   \n",
       "Whole_weight               0.0     0.00      2.83     0.83     0.80   \n",
       "Shucked_weight             0.0     0.00      1.49     0.36     0.34   \n",
       "Viscera_weight             0.0     0.00      0.76     0.18     0.17   \n",
       "Shell_weight               0.0     0.00      1.00     0.24     0.23   \n",
       "Age                        0.0     2.50     30.50    11.43    10.50   \n",
       "\n",
       "                Дисперсия  Квантиль 0.1  Квантиль 0.9  Квартиль 1  Квартиль 3  \n",
       "Length               0.01          0.36          0.66        0.45        0.62  \n",
       "Diameter             0.01          0.26          0.52        0.35        0.48  \n",
       "Height               0.00          0.09          0.18        0.12        0.16  \n",
       "Whole_weight         0.24          0.20          1.48        0.44        1.15  \n",
       "Shucked_weight       0.05          0.09          0.65        0.19        0.50  \n",
       "Viscera_weight       0.01          0.04          0.33        0.09        0.25  \n",
       "Shell_weight         0.02          0.06          0.42        0.13        0.33  \n",
       "Age                 10.40          7.50         15.50        9.50       12.50  "
      ]
     },
     "execution_count": 7,
     "metadata": {},
     "output_type": "execute_result"
    }
   ],
   "source": [
    "# Результаты EDA для числовых признаков\n",
    "numeric_columns_stats(df[numeric_columns + [TARGET]])"
   ]
  },
  {
   "cell_type": "code",
   "execution_count": 8,
   "metadata": {},
   "outputs": [
    {
     "data": {
      "application/vnd.microsoft.datawrangler.viewer.v0+json": {
       "columns": [
        {
         "name": "index",
         "rawType": "object",
         "type": "string"
        },
        {
         "name": "Доля пропусков",
         "rawType": "float64",
         "type": "float"
        },
        {
         "name": "Количество уникальных значений",
         "rawType": "int64",
         "type": "integer"
        },
        {
         "name": "Мода",
         "rawType": "object",
         "type": "string"
        }
       ],
       "conversionMethod": "pd.DataFrame",
       "ref": "9b74e452-ffaa-4ba1-897d-df246896f7f9",
       "rows": [
        [
         "Sex",
         "0.0",
         "3",
         "M"
        ]
       ],
       "shape": {
        "columns": 3,
        "rows": 1
       }
      },
      "text/html": [
       "<div>\n",
       "<style scoped>\n",
       "    .dataframe tbody tr th:only-of-type {\n",
       "        vertical-align: middle;\n",
       "    }\n",
       "\n",
       "    .dataframe tbody tr th {\n",
       "        vertical-align: top;\n",
       "    }\n",
       "\n",
       "    .dataframe thead th {\n",
       "        text-align: right;\n",
       "    }\n",
       "</style>\n",
       "<table border=\"1\" class=\"dataframe\">\n",
       "  <thead>\n",
       "    <tr style=\"text-align: right;\">\n",
       "      <th></th>\n",
       "      <th>Доля пропусков</th>\n",
       "      <th>Количество уникальных значений</th>\n",
       "      <th>Мода</th>\n",
       "    </tr>\n",
       "  </thead>\n",
       "  <tbody>\n",
       "    <tr>\n",
       "      <th>Sex</th>\n",
       "      <td>0.0</td>\n",
       "      <td>3</td>\n",
       "      <td>M</td>\n",
       "    </tr>\n",
       "  </tbody>\n",
       "</table>\n",
       "</div>"
      ],
      "text/plain": [
       "     Доля пропусков  Количество уникальных значений Мода\n",
       "Sex             0.0                               3    M"
      ]
     },
     "execution_count": 8,
     "metadata": {},
     "output_type": "execute_result"
    }
   ],
   "source": [
    "# Результаты EDA для категориальных признаков\n",
    "categoric_columns_stats(df[categoric_columns])"
   ]
  },
  {
   "cell_type": "markdown",
   "metadata": {},
   "source": [
    "Данные не содержат пропущенные значения и имеют различный масштаб."
   ]
  },
  {
   "cell_type": "markdown",
   "metadata": {},
   "source": [
    "## Подготовка датасета к построению моделей ML"
   ]
  },
  {
   "cell_type": "markdown",
   "metadata": {},
   "source": [
    "### Распределение целевой переменной"
   ]
  },
  {
   "cell_type": "code",
   "execution_count": 9,
   "metadata": {},
   "outputs": [
    {
     "data": {
      "image/png": "[encoded data removed]",
      "text/plain": [
       "<Figure size 800x600 with 2 Axes>"
      ]
     },
     "metadata": {},
     "output_type": "display_data"
    }
   ],
   "source": [
    "# Визуализация распределения целевой переменной\n",
    "fig, ax = plt.subplots(2, 1, figsize=(8, 6))\n",
    "\n",
    "sns.histplot(df[TARGET], bins=30, kde=True, ax=ax[0])\n",
    "ax[0].set_xlabel(\"Значение\")\n",
    "ax[0].set_ylabel(\"Частота\")\n",
    "\n",
    "sns.boxplot(df[TARGET], orient=\"h\", ax=ax[1])\n",
    "ax[1].set_xlabel(\"Значение\")\n",
    "ax[1].set_yticks([])\n",
    "\n",
    "plt.suptitle(f\"Распределение целевой переменной '{TARGET}'\")\n",
    "plt.tight_layout()\n",
    "plt.show()"
   ]
  },
  {
   "cell_type": "markdown",
   "metadata": {},
   "source": [
    "Распределение целевого признака похоже на нормальное распределение, немного скоженное вправо, что говорит о существовании моллюсков долгожителей."
   ]
  },
  {
   "cell_type": "markdown",
   "metadata": {},
   "source": [
    "### Обработка выбросов"
   ]
  },
  {
   "cell_type": "code",
   "execution_count": 10,
   "metadata": {},
   "outputs": [
    {
     "data": {
      "image/png": "[encoded data removed]",
      "text/plain": [
       "<Figure size 1200x600 with 7 Axes>"
      ]
     },
     "metadata": {},
     "output_type": "display_data"
    }
   ],
   "source": [
    "# Отображение распределения числовых признаков до обработки выбросов\n",
    "fig, ax = plt.subplots(2, 4, figsize=(12, 6))\n",
    "\n",
    "for i, col in enumerate(numeric_columns):\n",
    "    row_idx, col_idx = divmod(i, 4)\n",
    "    sns.boxplot(df[numeric_columns][col], ax=ax[row_idx, col_idx], orient=\"h\")\n",
    "    ax[row_idx, col_idx].set_title(col)\n",
    "    ax[row_idx, col_idx].set_xlabel(None)\n",
    "    ax[row_idx, col_idx].set_yticks([])\n",
    "\n",
    "for i in range(len(numeric_columns), len(ax.flatten())):\n",
    "    fig.delaxes(ax.flatten()[i])\n",
    "\n",
    "plt.suptitle(\"Распределение числовых признаков до обработки выбросов\")\n",
    "plt.tight_layout()\n",
    "plt.show()"
   ]
  },
  {
   "cell_type": "markdown",
   "metadata": {},
   "source": [
    "Признаки содержат заметную долю выбросов, обработаем их методом межквартильного интервала."
   ]
  },
  {
   "cell_type": "code",
   "execution_count": 11,
   "metadata": {},
   "outputs": [],
   "source": [
    "# Функция для обработки выбросов\n",
    "def remove_outliers(df, columns):\n",
    "    for col in columns:\n",
    "        Q1 = df[col].quantile(0.25)\n",
    "        Q3 = df[col].quantile(0.75)\n",
    "        IQR = Q3 - Q1\n",
    "        lower_bound = Q1 - 1.5 * IQR\n",
    "        upper_bound = Q3 + 1.5 * IQR\n",
    "        df[col] = np.where(df[col] < lower_bound, lower_bound, df[col])\n",
    "        df[col] = np.where(df[col] > upper_bound, upper_bound, df[col])\n",
    "\n",
    "    return df\n",
    "\n",
    "\n",
    "df = remove_outliers(df, numeric_columns)"
   ]
  },
  {
   "cell_type": "code",
   "execution_count": 12,
   "metadata": {},
   "outputs": [
    {
     "data": {
      "image/png": "[encoded data removed]",
      "text/plain": [
       "<Figure size 1200x600 with 7 Axes>"
      ]
     },
     "metadata": {},
     "output_type": "display_data"
    }
   ],
   "source": [
    "# Отображение распределения числовых признаков после обработки выбросов\n",
    "fig, ax = plt.subplots(2, 4, figsize=(12, 6))\n",
    "\n",
    "for i, col in enumerate(numeric_columns):\n",
    "    row_idx, col_idx = divmod(i, 4)\n",
    "    sns.boxplot(df[numeric_columns][col], ax=ax[row_idx, col_idx], orient=\"h\")\n",
    "    ax[row_idx, col_idx].set_title(col)\n",
    "    ax[row_idx, col_idx].set_xlabel(None)\n",
    "    ax[row_idx, col_idx].set_yticks([])\n",
    "\n",
    "for i in range(len(numeric_columns), len(ax.flatten())):\n",
    "    fig.delaxes(ax.flatten()[i])\n",
    "\n",
    "plt.suptitle(\"Распределение числовых признаков после обработки выбросов\")\n",
    "plt.tight_layout()\n",
    "plt.show()"
   ]
  },
  {
   "cell_type": "markdown",
   "metadata": {},
   "source": [
    "### Кодирование категориальных переменных"
   ]
  },
  {
   "cell_type": "code",
   "execution_count": 13,
   "metadata": {},
   "outputs": [
    {
     "data": {
      "application/vnd.microsoft.datawrangler.viewer.v0+json": {
       "columns": [
        {
         "name": "index",
         "rawType": "int64",
         "type": "integer"
        },
        {
         "name": "Length",
         "rawType": "float64",
         "type": "float"
        },
        {
         "name": "Diameter",
         "rawType": "float64",
         "type": "float"
        },
        {
         "name": "Height",
         "rawType": "float64",
         "type": "float"
        },
        {
         "name": "Whole_weight",
         "rawType": "float64",
         "type": "float"
        },
        {
         "name": "Shucked_weight",
         "rawType": "float64",
         "type": "float"
        },
        {
         "name": "Viscera_weight",
         "rawType": "float64",
         "type": "float"
        },
        {
         "name": "Shell_weight",
         "rawType": "float64",
         "type": "float"
        },
        {
         "name": "Age",
         "rawType": "float64",
         "type": "float"
        },
        {
         "name": "Sex_I",
         "rawType": "int64",
         "type": "integer"
        },
        {
         "name": "Sex_M",
         "rawType": "int64",
         "type": "integer"
        }
       ],
       "conversionMethod": "pd.DataFrame",
       "ref": "b1bf3a95-8d55-4ee3-b579-20ce5f60e91a",
       "rows": [
        [
         "0",
         "0.455",
         "0.365",
         "0.095",
         "0.514",
         "0.2245",
         "0.101",
         "0.15",
         "16.5",
         "0",
         "1"
        ],
        [
         "1",
         "0.35",
         "0.265",
         "0.09",
         "0.2255",
         "0.0995",
         "0.0485",
         "0.07",
         "8.5",
         "0",
         "1"
        ],
        [
         "2",
         "0.53",
         "0.42",
         "0.135",
         "0.677",
         "0.2565",
         "0.1415",
         "0.21",
         "10.5",
         "0",
         "0"
        ],
        [
         "3",
         "0.44",
         "0.365",
         "0.125",
         "0.516",
         "0.2155",
         "0.114",
         "0.155",
         "11.5",
         "0",
         "1"
        ],
        [
         "4",
         "0.33",
         "0.255",
         "0.08",
         "0.205",
         "0.0895",
         "0.0395",
         "0.055",
         "8.5",
         "1",
         "0"
        ]
       ],
       "shape": {
        "columns": 10,
        "rows": 5
       }
      },
      "text/html": [
       "<div>\n",
       "<style scoped>\n",
       "    .dataframe tbody tr th:only-of-type {\n",
       "        vertical-align: middle;\n",
       "    }\n",
       "\n",
       "    .dataframe tbody tr th {\n",
       "        vertical-align: top;\n",
       "    }\n",
       "\n",
       "    .dataframe thead th {\n",
       "        text-align: right;\n",
       "    }\n",
       "</style>\n",
       "<table border=\"1\" class=\"dataframe\">\n",
       "  <thead>\n",
       "    <tr style=\"text-align: right;\">\n",
       "      <th></th>\n",
       "      <th>Length</th>\n",
       "      <th>Diameter</th>\n",
       "      <th>Height</th>\n",
       "      <th>Whole_weight</th>\n",
       "      <th>Shucked_weight</th>\n",
       "      <th>Viscera_weight</th>\n",
       "      <th>Shell_weight</th>\n",
       "      <th>Age</th>\n",
       "      <th>Sex_I</th>\n",
       "      <th>Sex_M</th>\n",
       "    </tr>\n",
       "  </thead>\n",
       "  <tbody>\n",
       "    <tr>\n",
       "      <th>0</th>\n",
       "      <td>0.455</td>\n",
       "      <td>0.365</td>\n",
       "      <td>0.095</td>\n",
       "      <td>0.5140</td>\n",
       "      <td>0.2245</td>\n",
       "      <td>0.1010</td>\n",
       "      <td>0.150</td>\n",
       "      <td>16.5</td>\n",
       "      <td>0</td>\n",
       "      <td>1</td>\n",
       "    </tr>\n",
       "    <tr>\n",
       "      <th>1</th>\n",
       "      <td>0.350</td>\n",
       "      <td>0.265</td>\n",
       "      <td>0.090</td>\n",
       "      <td>0.2255</td>\n",
       "      <td>0.0995</td>\n",
       "      <td>0.0485</td>\n",
       "      <td>0.070</td>\n",
       "      <td>8.5</td>\n",
       "      <td>0</td>\n",
       "      <td>1</td>\n",
       "    </tr>\n",
       "    <tr>\n",
       "      <th>2</th>\n",
       "      <td>0.530</td>\n",
       "      <td>0.420</td>\n",
       "      <td>0.135</td>\n",
       "      <td>0.6770</td>\n",
       "      <td>0.2565</td>\n",
       "      <td>0.1415</td>\n",
       "      <td>0.210</td>\n",
       "      <td>10.5</td>\n",
       "      <td>0</td>\n",
       "      <td>0</td>\n",
       "    </tr>\n",
       "    <tr>\n",
       "      <th>3</th>\n",
       "      <td>0.440</td>\n",
       "      <td>0.365</td>\n",
       "      <td>0.125</td>\n",
       "      <td>0.5160</td>\n",
       "      <td>0.2155</td>\n",
       "      <td>0.1140</td>\n",
       "      <td>0.155</td>\n",
       "      <td>11.5</td>\n",
       "      <td>0</td>\n",
       "      <td>1</td>\n",
       "    </tr>\n",
       "    <tr>\n",
       "      <th>4</th>\n",
       "      <td>0.330</td>\n",
       "      <td>0.255</td>\n",
       "      <td>0.080</td>\n",
       "      <td>0.2050</td>\n",
       "      <td>0.0895</td>\n",
       "      <td>0.0395</td>\n",
       "      <td>0.055</td>\n",
       "      <td>8.5</td>\n",
       "      <td>1</td>\n",
       "      <td>0</td>\n",
       "    </tr>\n",
       "  </tbody>\n",
       "</table>\n",
       "</div>"
      ],
      "text/plain": [
       "   Length  Diameter  Height  Whole_weight  Shucked_weight  Viscera_weight  \\\n",
       "0   0.455     0.365   0.095        0.5140          0.2245          0.1010   \n",
       "1   0.350     0.265   0.090        0.2255          0.0995          0.0485   \n",
       "2   0.530     0.420   0.135        0.6770          0.2565          0.1415   \n",
       "3   0.440     0.365   0.125        0.5160          0.2155          0.1140   \n",
       "4   0.330     0.255   0.080        0.2050          0.0895          0.0395   \n",
       "\n",
       "   Shell_weight   Age  Sex_I  Sex_M  \n",
       "0         0.150  16.5      0      1  \n",
       "1         0.070   8.5      0      1  \n",
       "2         0.210  10.5      0      0  \n",
       "3         0.155  11.5      0      1  \n",
       "4         0.055   8.5      1      0  "
      ]
     },
     "execution_count": 13,
     "metadata": {},
     "output_type": "execute_result"
    }
   ],
   "source": [
    "# Кодируем методом OneHotEncoding\n",
    "df = pd.get_dummies(df, columns=categoric_columns, drop_first=True, dtype=int)\n",
    "\n",
    "df.head()"
   ]
  },
  {
   "cell_type": "markdown",
   "metadata": {},
   "source": [
    "### Анализ корреляций"
   ]
  },
  {
   "cell_type": "code",
   "execution_count": 14,
   "metadata": {},
   "outputs": [
    {
     "data": {
      "image/png": "[encoded data removed]",
      "text/plain": [
       "<Figure size 800x800 with 2 Axes>"
      ]
     },
     "metadata": {},
     "output_type": "display_data"
    }
   ],
   "source": [
    "# Матрица корреляций\n",
    "plt.figure(figsize=(8, 8))\n",
    "correlation_matrix = df[numeric_columns + [TARGET]].corr()\n",
    "sns.heatmap(correlation_matrix, annot=True, cmap=\"coolwarm\", fmt=\".2f\")\n",
    "plt.title(\"Матрица корреляций числовых признаков\")\n",
    "plt.show()"
   ]
  },
  {
   "cell_type": "markdown",
   "metadata": {},
   "source": [
    "Можно видеть, что все числовые признаки имеют высокие коэффициенты линейной скоррелированности, удалить скоррелированные признаки не получится. Оставим их без изменения."
   ]
  },
  {
   "cell_type": "markdown",
   "metadata": {},
   "source": [
    "### Сохранение данных"
   ]
  },
  {
   "cell_type": "code",
   "execution_count": 15,
   "metadata": {},
   "outputs": [],
   "source": [
    "df.to_csv(\"./data.csv\", index=False)"
   ]
  },
  {
   "cell_type": "markdown",
   "metadata": {},
   "source": [
    "Для решения задачи регрессии будем использовать следующие модели: линейная регрессия, регрессия knn, SVR, Random forest regressor, Регрессор Градиентного бустинга."
   ]
  },
  {
   "cell_type": "markdown",
   "metadata": {},
   "source": [
    "# Задача 3. Построение моделей машинного обучения"
   ]
  },
  {
   "cell_type": "markdown",
   "metadata": {},
   "source": [
    "### Разделение данных"
   ]
  },
  {
   "cell_type": "code",
   "execution_count": 16,
   "metadata": {},
   "outputs": [
    {
     "name": "stdout",
     "output_type": "stream",
     "text": [
      "X_train.shape=(3341, 9), y_train.shape=(3341,)\n",
      "X_test.shape=(836, 9), y_test.shape=(836,)\n",
      "\n",
      "X_train_scaled.shape=(3341, 9)\n",
      "X_test_scaled.shape=(836, 9)\n"
     ]
    }
   ],
   "source": [
    "X = df.drop(columns=[TARGET])\n",
    "y = df[TARGET]\n",
    "\n",
    "X_train, X_test, y_train, y_test = train_test_split(\n",
    "    X, y, test_size=TEST_SIZE, random_state=RANDOM_STATE\n",
    ")\n",
    "\n",
    "# Нормализация данных\n",
    "scaler = StandardScaler()\n",
    "X_train_scaled = X_train.copy()\n",
    "X_test_scaled = X_test.copy()\n",
    "X_train_scaled[numeric_columns] = scaler.fit_transform(X_train[numeric_columns])\n",
    "X_test_scaled[numeric_columns] = scaler.transform(X_test[numeric_columns])\n",
    "\n",
    "X_train_scaled = X_train_scaled.values\n",
    "X_test_scaled = X_test_scaled.values\n",
    "\n",
    "X_train = X_train.values\n",
    "X_test = X_test.values\n",
    "y_train = y_train.values\n",
    "y_test = y_test.values\n",
    "\n",
    "print(f\"X_train.shape={X_train.shape}, y_train.shape={y_train.shape}\")\n",
    "print(f\"X_test.shape={X_test.shape}, y_test.shape={y_test.shape}\\n\")\n",
    "\n",
    "print(f\"X_train_scaled.shape={X_train_scaled.shape}\")\n",
    "print(f\"X_test_scaled.shape={X_test_scaled.shape}\")"
   ]
  },
  {
   "cell_type": "markdown",
   "metadata": {},
   "source": [
    "## Обучение моделей"
   ]
  },
  {
   "cell_type": "markdown",
   "metadata": {},
   "source": [
    "### Линейная регрессия"
   ]
  },
  {
   "cell_type": "code",
   "execution_count": 17,
   "metadata": {},
   "outputs": [],
   "source": [
    "lr_model = LinearRegression()\n",
    "lr_model.fit(X_train_scaled, y_train)\n",
    "y_pred_lr = lr_model.predict(X_test_scaled)"
   ]
  },
  {
   "cell_type": "markdown",
   "metadata": {},
   "source": [
    "### Регрессия knn"
   ]
  },
  {
   "cell_type": "code",
   "execution_count": 18,
   "metadata": {},
   "outputs": [],
   "source": [
    "SEARCH_PARAMS = False\n",
    "\n",
    "if SEARCH_PARAMS:\n",
    "    knr_params = {\n",
    "        \"n_neighbors\": [3, 5, 7, 9, 11, 13, 15, 17, 19],\n",
    "        \"weights\": [\"uniform\", \"distance\"],\n",
    "        \"algorithm\": [\"auto\", \"ball_tree\", \"kd_tree\", \"brute\"],\n",
    "        \"leaf_size\": [10, 20, 30, 40, 50, 60, 70, 80],\n",
    "        \"p\": [1, 2],\n",
    "    }\n",
    "\n",
    "    knr_model = KNeighborsRegressor()\n",
    "    knr_search = RandomizedSearchCV(\n",
    "        knr_model,\n",
    "        knr_params,\n",
    "        n_iter=300,\n",
    "        cv=5,\n",
    "        n_jobs=-1,\n",
    "        scoring=\"neg_mean_squared_error\",\n",
    "        random_state=RANDOM_STATE,\n",
    "    )\n",
    "    knr_search.fit(X_train_scaled, y_train)\n",
    "\n",
    "    print(\"Найденные гиперпараметры:\", knr_search.best_params_)"
   ]
  },
  {
   "cell_type": "markdown",
   "metadata": {},
   "source": [
    "Найденные гиперпараметры: {'weights': 'distance', 'p': 1, 'n_neighbors': 15, 'leaf_size': 30, 'algorithm': 'brute'}"
   ]
  },
  {
   "cell_type": "code",
   "execution_count": 19,
   "metadata": {},
   "outputs": [],
   "source": [
    "# Модель после подбора гиперпараметров\n",
    "knr_params = {\n",
    "    \"weights\": \"distance\",\n",
    "    \"p\": 1,\n",
    "    \"n_neighbors\": 15,\n",
    "    \"leaf_size\": 30,\n",
    "    \"algorithm\": \"brute\",\n",
    "}\n",
    "\n",
    "knr_model = KNeighborsRegressor()\n",
    "knr_model.fit(X_train_scaled, y_train)\n",
    "\n",
    "# Предсказания на тестовых данных\n",
    "y_pred_knr = knr_model.predict(X_test_scaled)"
   ]
  },
  {
   "cell_type": "markdown",
   "metadata": {},
   "source": [
    "### SVR"
   ]
  },
  {
   "cell_type": "code",
   "execution_count": 20,
   "metadata": {},
   "outputs": [],
   "source": [
    "SEARCH_PARAMS = False\n",
    "\n",
    "if SEARCH_PARAMS:\n",
    "    svr_params = {\n",
    "        \"kernel\": [\"linear\", \"rbf\", \"poly\", \"sigmoid\"],\n",
    "        \"C\": [0.1, 1, 10],\n",
    "        \"gamma\": [\"scale\", \"auto\", 0.01, 0.1, 1],\n",
    "        \"degree\": [2, 3, 4],\n",
    "    }\n",
    "\n",
    "    svr_model = SVR()\n",
    "    svr_search = RandomizedSearchCV(\n",
    "        svr_model,\n",
    "        svr_params,\n",
    "        n_iter=100,\n",
    "        cv=5,\n",
    "        scoring=\"neg_mean_squared_error\",\n",
    "        random_state=RANDOM_STATE,\n",
    "        n_jobs=-1,\n",
    "    )\n",
    "    svr_search.fit(X_train_scaled, y_train)\n",
    "\n",
    "    print(\"Найденные гиперпараметры:\", svr_search.best_params_)"
   ]
  },
  {
   "cell_type": "markdown",
   "metadata": {},
   "source": [
    "Найденные гиперпараметры: {'kernel': 'rbf', 'gamma': 'auto', 'degree': 3, 'C': 10}"
   ]
  },
  {
   "cell_type": "code",
   "execution_count": 21,
   "metadata": {},
   "outputs": [],
   "source": [
    "# Модель после подбора гиперпараметров\n",
    "svr_params = {\"kernel\": \"rbf\", \"gamma\": \"auto\", \"degree\": 3, \"C\": 10}\n",
    "\n",
    "svr_model = SVR(**svr_params)\n",
    "svr_model.fit(X_train_scaled, y_train)\n",
    "\n",
    "# Предсказания на тестовых данных\n",
    "y_pred_svr = svr_model.predict(X_test_scaled)"
   ]
  },
  {
   "cell_type": "markdown",
   "metadata": {},
   "source": [
    "### Random forest regressor"
   ]
  },
  {
   "cell_type": "code",
   "execution_count": 22,
   "metadata": {},
   "outputs": [],
   "source": [
    "SEARCH_PARAMS = False\n",
    "\n",
    "if SEARCH_PARAMS:\n",
    "    rfr_params = {\n",
    "        \"n_estimators\": [50, 100, 200, 300, 500],\n",
    "        \"max_depth\": [None, 5, 10, 20, 30, 40, 50, 100],\n",
    "        \"min_samples_split\": [2, 5, 10, 20, 50],\n",
    "        \"min_samples_leaf\": [1, 2, 5, 10, 20],\n",
    "        \"max_features\": [\"auto\", \"sqrt\", \"log2\", None],\n",
    "    }\n",
    "\n",
    "    rfr_model = RandomForestRegressor(random_state=RANDOM_STATE)\n",
    "    rfr_search = RandomizedSearchCV(\n",
    "        rfr_model,\n",
    "        rfr_params,\n",
    "        n_iter=300,\n",
    "        cv=5,\n",
    "        n_jobs=-1,\n",
    "        scoring=\"neg_mean_squared_error\",\n",
    "        random_state=RANDOM_STATE,\n",
    "    )\n",
    "    rfr_search.fit(X_train, y_train)\n",
    "\n",
    "    print(\"Найденные гиперпараметры:\", rfr_search.best_params_)"
   ]
  },
  {
   "cell_type": "markdown",
   "metadata": {},
   "source": [
    "Найденные гиперпараметры: {'n_estimators': 100, 'min_samples_split': 10, 'min_samples_leaf': 5, 'max_features': 'sqrt', 'max_depth': None}"
   ]
  },
  {
   "cell_type": "code",
   "execution_count": 23,
   "metadata": {},
   "outputs": [],
   "source": [
    "# Модель после подбора гиперпараметров\n",
    "rfr_params = {\n",
    "    \"n_estimators\": 100,\n",
    "    \"min_samples_split\": 10,\n",
    "    \"min_samples_leaf\": 5,\n",
    "    \"max_features\": \"sqrt\",\n",
    "    \"max_depth\": None,\n",
    "}\n",
    "\n",
    "rfr_model = RandomForestRegressor(**rfr_params, random_state=RANDOM_STATE)\n",
    "rfr_model.fit(X_train, y_train)\n",
    "\n",
    "# Предсказания на тестовых данных\n",
    "y_pred_rfr = rfr_model.predict(X_test)"
   ]
  },
  {
   "cell_type": "markdown",
   "metadata": {},
   "source": [
    "### Регрессор Градиентного бустинга"
   ]
  },
  {
   "cell_type": "code",
   "execution_count": 24,
   "metadata": {},
   "outputs": [],
   "source": [
    "SEARCH_PARAMS = False\n",
    "\n",
    "if SEARCH_PARAMS:\n",
    "    gbr_params = {\n",
    "        \"n_estimators\": [50, 100, 200, 300, 500],\n",
    "        \"learning_rate\": [0.001, 0.01, 0.1, 0.2, 0.3],\n",
    "        \"max_depth\": [3, 5, 10, 20, 30, 40, 50, 100],\n",
    "        \"min_samples_split\": [2, 5, 10, 20, 50],\n",
    "        \"min_samples_leaf\": [1, 2, 5, 10, 20],\n",
    "        \"subsample\": [0.7, 0.8, 0.9, 1.0],\n",
    "        \"max_features\": [\"auto\", \"sqrt\", \"log2\", None],\n",
    "    }\n",
    "\n",
    "    gbr_model = GradientBoostingRegressor(random_state=RANDOM_STATE)\n",
    "    gbr_search = RandomizedSearchCV(\n",
    "        gbr_model,\n",
    "        gbr_params,\n",
    "        n_iter=300,\n",
    "        cv=5,\n",
    "        n_jobs=-1,\n",
    "        scoring=\"neg_mean_squared_error\",\n",
    "        random_state=RANDOM_STATE,\n",
    "    )\n",
    "    gbr_search.fit(X_train, y_train)\n",
    "\n",
    "    print(\"Найденные гиперпараметры:\", gbr_search.best_params_)"
   ]
  },
  {
   "cell_type": "markdown",
   "metadata": {},
   "source": [
    "Найденные гиперпараметры: {'subsample': 0.8, 'n_estimators': 300, 'min_samples_split': 2, 'min_samples_leaf': 20, 'max_features': 'log2', 'max_depth': 100, 'learning_rate': 0.01}"
   ]
  },
  {
   "cell_type": "code",
   "execution_count": 25,
   "metadata": {},
   "outputs": [],
   "source": [
    "# Модель после подбора гиперпараметров\n",
    "gbr_params = {\n",
    "    \"subsample\": 0.8,\n",
    "    \"n_estimators\": 300,\n",
    "    \"min_samples_split\": 2,\n",
    "    \"min_samples_leaf\": 20,\n",
    "    \"max_features\": \"log2\",\n",
    "    \"max_depth\": 100,\n",
    "    \"learning_rate\": 0.01,\n",
    "}\n",
    "\n",
    "gbr_model = GradientBoostingRegressor(**gbr_params, random_state=RANDOM_STATE)\n",
    "gbr_model.fit(X_train, y_train)\n",
    "\n",
    "# Предсказания на тестовых данных\n",
    "y_pred_gbr = gbr_model.predict(X_test)"
   ]
  },
  {
   "cell_type": "markdown",
   "metadata": {},
   "source": [
    "## Оценка качества"
   ]
  },
  {
   "cell_type": "code",
   "execution_count": 26,
   "metadata": {},
   "outputs": [
    {
     "data": {
      "application/vnd.microsoft.datawrangler.viewer.v0+json": {
       "columns": [
        {
         "name": "index",
         "rawType": "int64",
         "type": "integer"
        },
        {
         "name": "Metrics",
         "rawType": "object",
         "type": "string"
        },
        {
         "name": "LinearRegression",
         "rawType": "float64",
         "type": "float"
        },
        {
         "name": "KNeighborsRegressor",
         "rawType": "float64",
         "type": "float"
        },
        {
         "name": "SVR",
         "rawType": "float64",
         "type": "float"
        },
        {
         "name": "RandomForestRegressor",
         "rawType": "float64",
         "type": "float"
        },
        {
         "name": "GradientBoostingRegressor",
         "rawType": "float64",
         "type": "float"
        }
       ],
       "conversionMethod": "pd.DataFrame",
       "ref": "ad7656b8-13d7-4464-afae-bbf1e75eea1d",
       "rows": [
        [
         "0",
         "mae",
         "1.52",
         "1.6",
         "1.44",
         "1.49",
         "1.49"
        ],
        [
         "1",
         "mse",
         "4.51",
         "5.14",
         "4.48",
         "4.56",
         "4.61"
        ],
        [
         "2",
         "rmse",
         "2.12",
         "2.27",
         "2.12",
         "2.14",
         "2.15"
        ],
        [
         "3",
         "r2",
         "0.57",
         "0.51",
         "0.57",
         "0.56",
         "0.56"
        ]
       ],
       "shape": {
        "columns": 6,
        "rows": 4
       }
      },
      "text/html": [
       "<div>\n",
       "<style scoped>\n",
       "    .dataframe tbody tr th:only-of-type {\n",
       "        vertical-align: middle;\n",
       "    }\n",
       "\n",
       "    .dataframe tbody tr th {\n",
       "        vertical-align: top;\n",
       "    }\n",
       "\n",
       "    .dataframe thead th {\n",
       "        text-align: right;\n",
       "    }\n",
       "</style>\n",
       "<table border=\"1\" class=\"dataframe\">\n",
       "  <thead>\n",
       "    <tr style=\"text-align: right;\">\n",
       "      <th></th>\n",
       "      <th>Metrics</th>\n",
       "      <th>LinearRegression</th>\n",
       "      <th>KNeighborsRegressor</th>\n",
       "      <th>SVR</th>\n",
       "      <th>RandomForestRegressor</th>\n",
       "      <th>GradientBoostingRegressor</th>\n",
       "    </tr>\n",
       "  </thead>\n",
       "  <tbody>\n",
       "    <tr>\n",
       "      <th>0</th>\n",
       "      <td>mae</td>\n",
       "      <td>1.52</td>\n",
       "      <td>1.60</td>\n",
       "      <td>1.44</td>\n",
       "      <td>1.49</td>\n",
       "      <td>1.49</td>\n",
       "    </tr>\n",
       "    <tr>\n",
       "      <th>1</th>\n",
       "      <td>mse</td>\n",
       "      <td>4.51</td>\n",
       "      <td>5.14</td>\n",
       "      <td>4.48</td>\n",
       "      <td>4.56</td>\n",
       "      <td>4.61</td>\n",
       "    </tr>\n",
       "    <tr>\n",
       "      <th>2</th>\n",
       "      <td>rmse</td>\n",
       "      <td>2.12</td>\n",
       "      <td>2.27</td>\n",
       "      <td>2.12</td>\n",
       "      <td>2.14</td>\n",
       "      <td>2.15</td>\n",
       "    </tr>\n",
       "    <tr>\n",
       "      <th>3</th>\n",
       "      <td>r2</td>\n",
       "      <td>0.57</td>\n",
       "      <td>0.51</td>\n",
       "      <td>0.57</td>\n",
       "      <td>0.56</td>\n",
       "      <td>0.56</td>\n",
       "    </tr>\n",
       "  </tbody>\n",
       "</table>\n",
       "</div>"
      ],
      "text/plain": [
       "  Metrics  LinearRegression  KNeighborsRegressor   SVR  RandomForestRegressor  \\\n",
       "0     mae              1.52                 1.60  1.44                   1.49   \n",
       "1     mse              4.51                 5.14  4.48                   4.56   \n",
       "2    rmse              2.12                 2.27  2.12                   2.14   \n",
       "3      r2              0.57                 0.51  0.57                   0.56   \n",
       "\n",
       "   GradientBoostingRegressor  \n",
       "0                       1.49  \n",
       "1                       4.61  \n",
       "2                       2.15  \n",
       "3                       0.56  "
      ]
     },
     "execution_count": 26,
     "metadata": {},
     "output_type": "execute_result"
    }
   ],
   "source": [
    "def get_metrics(y_true, y_pred):\n",
    "    mae = mean_absolute_error(y_true, y_pred)\n",
    "    mse = mean_squared_error(y_true, y_pred)\n",
    "    rmse = root_mean_squared_error(y_true, y_pred)\n",
    "    r2 = r2_score(y_true, y_pred)\n",
    "\n",
    "    return {\"mae\": mae, \"mse\": mse, \"rmse\": rmse, \"r2\": r2}\n",
    "\n",
    "\n",
    "# Сравнительная таблица качества моделей\n",
    "quality_comparison = pd.DataFrame(\n",
    "    {\n",
    "        \"Metrics\": [*get_metrics(y_test, y_pred_gbr).keys()],\n",
    "        \"LinearRegression\": [\n",
    "            *map(\n",
    "                lambda x: round(x, 2),\n",
    "                get_metrics(y_test, y_pred_lr).values(),\n",
    "            )\n",
    "        ],\n",
    "        \"KNeighborsRegressor\": [\n",
    "            *map(\n",
    "                lambda x: round(x, 2),\n",
    "                get_metrics(y_test, y_pred_knr).values(),\n",
    "            )\n",
    "        ],\n",
    "        \"SVR\": [\n",
    "            *map(\n",
    "                lambda x: round(x, 2),\n",
    "                get_metrics(y_test, y_pred_svr).values(),\n",
    "            )\n",
    "        ],\n",
    "        \"RandomForestRegressor\": [\n",
    "            *map(\n",
    "                lambda x: round(x, 2),\n",
    "                get_metrics(y_test, y_pred_rfr).values(),\n",
    "            )\n",
    "        ],\n",
    "        \"GradientBoostingRegressor\": [\n",
    "            *map(\n",
    "                lambda x: round(x, 2),\n",
    "                get_metrics(y_test, y_pred_gbr).values(),\n",
    "            )\n",
    "        ],\n",
    "    }\n",
    ")\n",
    "\n",
    "\n",
    "quality_comparison"
   ]
  },
  {
   "cell_type": "code",
   "execution_count": 27,
   "metadata": {},
   "outputs": [
    {
     "data": {
      "image/png": "[encoded data removed]",
      "text/plain": [
       "<Figure size 1200x1000 with 4 Axes>"
      ]
     },
     "metadata": {},
     "output_type": "display_data"
    }
   ],
   "source": [
    "# Построение графиков по метрикам\n",
    "df_melted = quality_comparison.melt(\n",
    "    id_vars=\"Metrics\", var_name=\"Model\", value_name=\"Value\"\n",
    ")\n",
    "metrics = quality_comparison[\"Metrics\"].tolist()\n",
    "\n",
    "fig, axes = plt.subplots(nrows=2, ncols=2, figsize=(12, 10))\n",
    "axes = axes.flatten()\n",
    "\n",
    "for i, metric in enumerate(metrics):\n",
    "    subset = df_melted[df_melted[\"Metrics\"] == metric]\n",
    "    axes[i].bar(subset[\"Model\"], subset[\"Value\"])\n",
    "    axes[i].set_title(f\"{metric.upper()} по моделям\")\n",
    "    axes[i].set_ylabel(metric.upper())\n",
    "    axes[i].tick_params(axis=\"x\", rotation=45)\n",
    "    axes[i].grid(axis=\"y\", linestyle=\"--\", alpha=0.7)\n",
    "\n",
    "plt.suptitle(\"Полученные метрики\")\n",
    "plt.tight_layout()\n",
    "plt.show()"
   ]
  },
  {
   "cell_type": "markdown",
   "metadata": {},
   "source": [
    "Можно видеть, что наибольшей точностью обладает модель SVR, она позволяет предсказывать возраст моллюсков с точностью до двух лет."
   ]
  },
  {
   "cell_type": "code",
   "execution_count": 28,
   "metadata": {},
   "outputs": [
    {
     "data": {
      "text/plain": [
       "['svr_model.joblib']"
      ]
     },
     "execution_count": 28,
     "metadata": {},
     "output_type": "execute_result"
    }
   ],
   "source": [
    "# Сохранение модели\n",
    "joblib.dump(svr_model, \"svr_model.joblib\")"
   ]
  },
  {
   "cell_type": "markdown",
   "metadata": {},
   "source": [
    "# Задача 4. Применение инструментов AutoML"
   ]
  },
  {
   "cell_type": "code",
   "execution_count": 29,
   "metadata": {},
   "outputs": [
    {
     "name": "stdout",
     "output_type": "stream",
     "text": [
      "Checking whether there is an H2O instance running at http://localhost:54321..... not found.\n",
      "Attempting to start a local H2O server...\n",
      "; OpenJDK 64-Bit Server VM Temurin-11.0.26+4 (build 11.0.26+4, mixed mode)\n",
      "  Starting server from C:\\Users\\ivana\\MLInnopolis\\.mlinnopolis\\Lib\\site-packages\\h2o\\backend\\bin\\h2o.jar\n",
      "  Ice root: C:\\Users\\ivana\\AppData\\Local\\Temp\\tmpgbptka62\n",
      "  JVM stdout: C:\\Users\\ivana\\AppData\\Local\\Temp\\tmpgbptka62\\h2o_ivana_started_from_python.out\n",
      "  JVM stderr: C:\\Users\\ivana\\AppData\\Local\\Temp\\tmpgbptka62\\h2o_ivana_started_from_python.err\n",
      "  Server is running at http://127.0.0.1:54321\n",
      "Connecting to H2O server at http://127.0.0.1:54321 ... successful.\n"
     ]
    },
    {
     "data": {
      "text/html": [
       "\n",
       "<style>\n",
       "\n",
       "#h2o-table-1.h2o-container {\n",
       "  overflow-x: auto;\n",
       "}\n",
       "#h2o-table-1 .h2o-table {\n",
       "  /* width: 100%; */\n",
       "  margin-top: 1em;\n",
       "  margin-bottom: 1em;\n",
       "}\n",
       "#h2o-table-1 .h2o-table caption {\n",
       "  white-space: nowrap;\n",
       "  caption-side: top;\n",
       "  text-align: left;\n",
       "  /* margin-left: 1em; */\n",
       "  margin: 0;\n",
       "  font-size: larger;\n",
       "}\n",
       "#h2o-table-1 .h2o-table thead {\n",
       "  white-space: nowrap; \n",
       "  position: sticky;\n",
       "  top: 0;\n",
       "  box-shadow: 0 -1px inset;\n",
       "}\n",
       "#h2o-table-1 .h2o-table tbody {\n",
       "  overflow: auto;\n",
       "}\n",
       "#h2o-table-1 .h2o-table th,\n",
       "#h2o-table-1 .h2o-table td {\n",
       "  text-align: right;\n",
       "  /* border: 1px solid; */\n",
       "}\n",
       "#h2o-table-1 .h2o-table tr:nth-child(even) {\n",
       "  /* background: #F5F5F5 */\n",
       "}\n",
       "\n",
       "</style>      \n",
       "<div id=\"h2o-table-1\" class=\"h2o-container\">\n",
       "  <table class=\"h2o-table\">\n",
       "    <caption></caption>\n",
       "    <thead></thead>\n",
       "    <tbody><tr><td>H2O_cluster_uptime:</td>\n",
       "<td>02 secs</td></tr>\n",
       "<tr><td>H2O_cluster_timezone:</td>\n",
       "<td>Asia/Yekaterinburg</td></tr>\n",
       "<tr><td>H2O_data_parsing_timezone:</td>\n",
       "<td>UTC</td></tr>\n",
       "<tr><td>H2O_cluster_version:</td>\n",
       "<td>3.46.0.7</td></tr>\n",
       "<tr><td>H2O_cluster_version_age:</td>\n",
       "<td>1 day</td></tr>\n",
       "<tr><td>H2O_cluster_name:</td>\n",
       "<td>H2O_from_python_ivana_iqo7yc</td></tr>\n",
       "<tr><td>H2O_cluster_total_nodes:</td>\n",
       "<td>1</td></tr>\n",
       "<tr><td>H2O_cluster_free_memory:</td>\n",
       "<td>7.943 Gb</td></tr>\n",
       "<tr><td>H2O_cluster_total_cores:</td>\n",
       "<td>12</td></tr>\n",
       "<tr><td>H2O_cluster_allowed_cores:</td>\n",
       "<td>12</td></tr>\n",
       "<tr><td>H2O_cluster_status:</td>\n",
       "<td>locked, healthy</td></tr>\n",
       "<tr><td>H2O_connection_url:</td>\n",
       "<td>http://127.0.0.1:54321</td></tr>\n",
       "<tr><td>H2O_connection_proxy:</td>\n",
       "<td>{\"http\": null, \"https\": null}</td></tr>\n",
       "<tr><td>H2O_internal_security:</td>\n",
       "<td>False</td></tr>\n",
       "<tr><td>Python_version:</td>\n",
       "<td>3.13.0 final</td></tr></tbody>\n",
       "  </table>\n",
       "</div>\n"
      ],
      "text/plain": [
       "--------------------------  -----------------------------\n",
       "H2O_cluster_uptime:         02 secs\n",
       "H2O_cluster_timezone:       Asia/Yekaterinburg\n",
       "H2O_data_parsing_timezone:  UTC\n",
       "H2O_cluster_version:        3.46.0.7\n",
       "H2O_cluster_version_age:    1 day\n",
       "H2O_cluster_name:           H2O_from_python_ivana_iqo7yc\n",
       "H2O_cluster_total_nodes:    1\n",
       "H2O_cluster_free_memory:    7.943 Gb\n",
       "H2O_cluster_total_cores:    12\n",
       "H2O_cluster_allowed_cores:  12\n",
       "H2O_cluster_status:         locked, healthy\n",
       "H2O_connection_url:         http://127.0.0.1:54321\n",
       "H2O_connection_proxy:       {\"http\": null, \"https\": null}\n",
       "H2O_internal_security:      False\n",
       "Python_version:             3.13.0 final\n",
       "--------------------------  -----------------------------"
      ]
     },
     "metadata": {},
     "output_type": "display_data"
    }
   ],
   "source": [
    "# Инициализация H2O\n",
    "h2o.init()"
   ]
  },
  {
   "cell_type": "code",
   "execution_count": 30,
   "metadata": {},
   "outputs": [
    {
     "name": "stdout",
     "output_type": "stream",
     "text": [
      "Parse progress: |████████████████████████████████████████████████████████████████| (done) 100%\n",
      "Parse progress: |████████████████████████████████████████████████████████████████| (done) 100%\n"
     ]
    }
   ],
   "source": [
    "# Преобразование данных в формат H2O\n",
    "features = [col for col in df.columns if col != TARGET]\n",
    "\n",
    "df_train_scaled = pd.DataFrame(X_train_scaled, columns=features)\n",
    "df_train_scaled = pd.concat(\n",
    "    [df_train_scaled, pd.DataFrame(y_train, columns=[TARGET])], axis=1\n",
    ")\n",
    "\n",
    "df_test_scaled = pd.DataFrame(X_test_scaled, columns=features)\n",
    "\n",
    "h2o_train_scaled = h2o.H2OFrame(df_train_scaled)\n",
    "h2o_test_scaled = h2o.H2OFrame(df_test_scaled)"
   ]
  },
  {
   "cell_type": "code",
   "execution_count": 31,
   "metadata": {},
   "outputs": [
    {
     "name": "stdout",
     "output_type": "stream",
     "text": [
      "AutoML progress: |\n",
      "13:26:28.142: AutoML: XGBoost is not available; skipping it.\n",
      "\n",
      "███████████████████████████████████████████████████████████████| (done) 100%\n"
     ]
    },
    {
     "data": {
      "text/html": [
       "<pre style='margin: 1em 0 1em 0;'>Model Details\n",
       "=============\n",
       "H2OStackedEnsembleEstimator : Stacked Ensemble\n",
       "Model Key: StackedEnsemble_BestOfFamily_1_AutoML_1_20250329_132628\n",
       "</pre>\n",
       "<div style='margin: 1em 0 1em 0;'>\n",
       "<style>\n",
       "\n",
       "#h2o-table-2.h2o-container {\n",
       "  overflow-x: auto;\n",
       "}\n",
       "#h2o-table-2 .h2o-table {\n",
       "  /* width: 100%; */\n",
       "  margin-top: 1em;\n",
       "  margin-bottom: 1em;\n",
       "}\n",
       "#h2o-table-2 .h2o-table caption {\n",
       "  white-space: nowrap;\n",
       "  caption-side: top;\n",
       "  text-align: left;\n",
       "  /* margin-left: 1em; */\n",
       "  margin: 0;\n",
       "  font-size: larger;\n",
       "}\n",
       "#h2o-table-2 .h2o-table thead {\n",
       "  white-space: nowrap; \n",
       "  position: sticky;\n",
       "  top: 0;\n",
       "  box-shadow: 0 -1px inset;\n",
       "}\n",
       "#h2o-table-2 .h2o-table tbody {\n",
       "  overflow: auto;\n",
       "}\n",
       "#h2o-table-2 .h2o-table th,\n",
       "#h2o-table-2 .h2o-table td {\n",
       "  text-align: right;\n",
       "  /* border: 1px solid; */\n",
       "}\n",
       "#h2o-table-2 .h2o-table tr:nth-child(even) {\n",
       "  /* background: #F5F5F5 */\n",
       "}\n",
       "\n",
       "</style>      \n",
       "<div id=\"h2o-table-2\" class=\"h2o-container\">\n",
       "  <table class=\"h2o-table\">\n",
       "    <caption>Model Summary for Stacked Ensemble: </caption>\n",
       "    <thead><tr><th>key</th>\n",
       "<th>value</th></tr></thead>\n",
       "    <tbody><tr><td>Stacking strategy</td>\n",
       "<td>cross_validation</td></tr>\n",
       "<tr><td>Number of base models (used / total)</td>\n",
       "<td>5/5</td></tr>\n",
       "<tr><td># GBM base models (used / total)</td>\n",
       "<td>1/1</td></tr>\n",
       "<tr><td># DeepLearning base models (used / total)</td>\n",
       "<td>1/1</td></tr>\n",
       "<tr><td># DRF base models (used / total)</td>\n",
       "<td>2/2</td></tr>\n",
       "<tr><td># GLM base models (used / total)</td>\n",
       "<td>1/1</td></tr>\n",
       "<tr><td>Metalearner algorithm</td>\n",
       "<td>GLM</td></tr>\n",
       "<tr><td>Metalearner fold assignment scheme</td>\n",
       "<td>Random</td></tr>\n",
       "<tr><td>Metalearner nfolds</td>\n",
       "<td>5</td></tr>\n",
       "<tr><td>Metalearner fold_column</td>\n",
       "<td>None</td></tr>\n",
       "<tr><td>Custom metalearner hyperparameters</td>\n",
       "<td>None</td></tr></tbody>\n",
       "  </table>\n",
       "</div>\n",
       "</div>\n",
       "<div style='margin: 1em 0 1em 0;'><pre style='margin: 1em 0 1em 0;'>ModelMetricsRegressionGLM: stackedensemble\n",
       "** Reported on train data. **\n",
       "\n",
       "MSE: 2.7956444441200667\n",
       "RMSE: 1.6720180752970546\n",
       "MAE: 1.1882886583097614\n",
       "RMSLE: 0.11857910022881828\n",
       "Mean Residual Deviance: 2.7956444441200667\n",
       "R^2: 0.7304400216023005\n",
       "Null degrees of freedom: 3340\n",
       "Residual degrees of freedom: 3335\n",
       "Null deviance: 34649.980844058606\n",
       "Residual deviance: 9340.248087805143\n",
       "AIC: 12930.104593782771</pre></div>\n",
       "<div style='margin: 1em 0 1em 0;'><pre style='margin: 1em 0 1em 0;'>ModelMetricsRegressionGLM: stackedensemble\n",
       "** Reported on cross-validation data. **\n",
       "\n",
       "MSE: 4.460414242428256\n",
       "RMSE: 2.1119692806544927\n",
       "MAE: 1.5062678915339478\n",
       "RMSLE: 0.1510455372531078\n",
       "Mean Residual Deviance: 4.460414242428256\n",
       "R^2: 0.5699205707783798\n",
       "Null degrees of freedom: 3340\n",
       "Residual degrees of freedom: 3335\n",
       "Null deviance: 34670.350580890234\n",
       "Residual deviance: 14902.243983952803\n",
       "AIC: 14490.949602079929</pre></div>\n",
       "<div style='margin: 1em 0 1em 0;'>\n",
       "<style>\n",
       "\n",
       "#h2o-table-3.h2o-container {\n",
       "  overflow-x: auto;\n",
       "}\n",
       "#h2o-table-3 .h2o-table {\n",
       "  /* width: 100%; */\n",
       "  margin-top: 1em;\n",
       "  margin-bottom: 1em;\n",
       "}\n",
       "#h2o-table-3 .h2o-table caption {\n",
       "  white-space: nowrap;\n",
       "  caption-side: top;\n",
       "  text-align: left;\n",
       "  /* margin-left: 1em; */\n",
       "  margin: 0;\n",
       "  font-size: larger;\n",
       "}\n",
       "#h2o-table-3 .h2o-table thead {\n",
       "  white-space: nowrap; \n",
       "  position: sticky;\n",
       "  top: 0;\n",
       "  box-shadow: 0 -1px inset;\n",
       "}\n",
       "#h2o-table-3 .h2o-table tbody {\n",
       "  overflow: auto;\n",
       "}\n",
       "#h2o-table-3 .h2o-table th,\n",
       "#h2o-table-3 .h2o-table td {\n",
       "  text-align: right;\n",
       "  /* border: 1px solid; */\n",
       "}\n",
       "#h2o-table-3 .h2o-table tr:nth-child(even) {\n",
       "  /* background: #F5F5F5 */\n",
       "}\n",
       "\n",
       "</style>      \n",
       "<div id=\"h2o-table-3\" class=\"h2o-container\">\n",
       "  <table class=\"h2o-table\">\n",
       "    <caption>Cross-Validation Metrics Summary: </caption>\n",
       "    <thead><tr><th></th>\n",
       "<th>mean</th>\n",
       "<th>sd</th>\n",
       "<th>cv_1_valid</th>\n",
       "<th>cv_2_valid</th>\n",
       "<th>cv_3_valid</th>\n",
       "<th>cv_4_valid</th>\n",
       "<th>cv_5_valid</th></tr></thead>\n",
       "    <tbody><tr><td>aic</td>\n",
       "<td>2906.7488</td>\n",
       "<td>99.25206</td>\n",
       "<td>3037.849</td>\n",
       "<td>2915.4797</td>\n",
       "<td>2890.819</td>\n",
       "<td>2929.0916</td>\n",
       "<td>2760.5044</td></tr>\n",
       "<tr><td>loglikelihood</td>\n",
       "<td>0.0</td>\n",
       "<td>0.0</td>\n",
       "<td>0.0</td>\n",
       "<td>0.0</td>\n",
       "<td>0.0</td>\n",
       "<td>0.0</td>\n",
       "<td>0.0</td></tr>\n",
       "<tr><td>mae</td>\n",
       "<td>1.5054325</td>\n",
       "<td>0.0500062</td>\n",
       "<td>1.5858924</td>\n",
       "<td>1.4588612</td>\n",
       "<td>1.5095068</td>\n",
       "<td>1.5040948</td>\n",
       "<td>1.4688069</td></tr>\n",
       "<tr><td>mean_residual_deviance</td>\n",
       "<td>4.4592657</td>\n",
       "<td>0.4399193</td>\n",
       "<td>5.1994143</td>\n",
       "<td>4.021621</td>\n",
       "<td>4.3718886</td>\n",
       "<td>4.3963604</td>\n",
       "<td>4.3070445</td></tr>\n",
       "<tr><td>mse</td>\n",
       "<td>4.4592657</td>\n",
       "<td>0.4399193</td>\n",
       "<td>5.1994143</td>\n",
       "<td>4.021621</td>\n",
       "<td>4.3718886</td>\n",
       "<td>4.3963604</td>\n",
       "<td>4.3070445</td></tr>\n",
       "<tr><td>null_deviance</td>\n",
       "<td>6934.0703</td>\n",
       "<td>520.11884</td>\n",
       "<td>7466.54</td>\n",
       "<td>6858.062</td>\n",
       "<td>7034.639</td>\n",
       "<td>7215.7056</td>\n",
       "<td>6095.4043</td></tr>\n",
       "<tr><td>r2</td>\n",
       "<td>0.569479</td>\n",
       "<td>0.0290479</td>\n",
       "<td>0.5303870</td>\n",
       "<td>0.5969112</td>\n",
       "<td>0.5844525</td>\n",
       "<td>0.5886152</td>\n",
       "<td>0.5470289</td></tr>\n",
       "<tr><td>residual_deviance</td>\n",
       "<td>2979.8064</td>\n",
       "<td>308.24213</td>\n",
       "<td>3504.4053</td>\n",
       "<td>2758.832</td>\n",
       "<td>2916.0498</td>\n",
       "<td>2967.5432</td>\n",
       "<td>2752.2014</td></tr>\n",
       "<tr><td>rmse</td>\n",
       "<td>2.1097238</td>\n",
       "<td>0.1020517</td>\n",
       "<td>2.2802224</td>\n",
       "<td>2.005398</td>\n",
       "<td>2.0909061</td>\n",
       "<td>2.09675</td>\n",
       "<td>2.075342</td></tr>\n",
       "<tr><td>rmsle</td>\n",
       "<td>0.1509400</td>\n",
       "<td>0.0064680</td>\n",
       "<td>0.1606981</td>\n",
       "<td>0.1434200</td>\n",
       "<td>0.1530747</td>\n",
       "<td>0.1479013</td>\n",
       "<td>0.1496057</td></tr></tbody>\n",
       "  </table>\n",
       "</div>\n",
       "</div><pre style=\"font-size: smaller; margin: 1em 0 0 0;\">\n",
       "\n",
       "[tips]\n",
       "Use `model.explain()` to inspect the model.\n",
       "--\n",
       "Use `h2o.display.toggle_user_tips()` to switch on/off this section.</pre>"
      ],
      "text/plain": [
       "Model Details\n",
       "=============\n",
       "H2OStackedEnsembleEstimator : Stacked Ensemble\n",
       "Model Key: StackedEnsemble_BestOfFamily_1_AutoML_1_20250329_132628\n",
       "\n",
       "\n",
       "Model Summary for Stacked Ensemble: \n",
       "key                                        value\n",
       "-----------------------------------------  ----------------\n",
       "Stacking strategy                          cross_validation\n",
       "Number of base models (used / total)       5/5\n",
       "# GBM base models (used / total)           1/1\n",
       "# DeepLearning base models (used / total)  1/1\n",
       "# DRF base models (used / total)           2/2\n",
       "# GLM base models (used / total)           1/1\n",
       "Metalearner algorithm                      GLM\n",
       "Metalearner fold assignment scheme         Random\n",
       "Metalearner nfolds                         5\n",
       "Metalearner fold_column\n",
       "Custom metalearner hyperparameters         None\n",
       "\n",
       "ModelMetricsRegressionGLM: stackedensemble\n",
       "** Reported on train data. **\n",
       "\n",
       "MSE: 2.7956444441200667\n",
       "RMSE: 1.6720180752970546\n",
       "MAE: 1.1882886583097614\n",
       "RMSLE: 0.11857910022881828\n",
       "Mean Residual Deviance: 2.7956444441200667\n",
       "R^2: 0.7304400216023005\n",
       "Null degrees of freedom: 3340\n",
       "Residual degrees of freedom: 3335\n",
       "Null deviance: 34649.980844058606\n",
       "Residual deviance: 9340.248087805143\n",
       "AIC: 12930.104593782771\n",
       "\n",
       "ModelMetricsRegressionGLM: stackedensemble\n",
       "** Reported on cross-validation data. **\n",
       "\n",
       "MSE: 4.460414242428256\n",
       "RMSE: 2.1119692806544927\n",
       "MAE: 1.5062678915339478\n",
       "RMSLE: 0.1510455372531078\n",
       "Mean Residual Deviance: 4.460414242428256\n",
       "R^2: 0.5699205707783798\n",
       "Null degrees of freedom: 3340\n",
       "Residual degrees of freedom: 3335\n",
       "Null deviance: 34670.350580890234\n",
       "Residual deviance: 14902.243983952803\n",
       "AIC: 14490.949602079929\n",
       "\n",
       "Cross-Validation Metrics Summary: \n",
       "                        mean      sd          cv_1_valid    cv_2_valid    cv_3_valid    cv_4_valid    cv_5_valid\n",
       "----------------------  --------  ----------  ------------  ------------  ------------  ------------  ------------\n",
       "aic                     2906.75   99.2521     3037.85       2915.48       2890.82       2929.09       2760.5\n",
       "loglikelihood           0         0           0             0             0             0             0\n",
       "mae                     1.50543   0.0500062   1.58589       1.45886       1.50951       1.50409       1.46881\n",
       "mean_residual_deviance  4.45927   0.439919    5.19941       4.02162       4.37189       4.39636       4.30704\n",
       "mse                     4.45927   0.439919    5.19941       4.02162       4.37189       4.39636       4.30704\n",
       "null_deviance           6934.07   520.119     7466.54       6858.06       7034.64       7215.71       6095.4\n",
       "r2                      0.569479  0.0290479   0.530387      0.596911      0.584452      0.588615      0.547029\n",
       "residual_deviance       2979.81   308.242     3504.41       2758.83       2916.05       2967.54       2752.2\n",
       "rmse                    2.10972   0.102052    2.28022       2.0054        2.09091       2.09675       2.07534\n",
       "rmsle                   0.15094   0.00646803  0.160698      0.14342       0.153075      0.147901      0.149606\n",
       "\n",
       "[tips]\n",
       "Use `model.explain()` to inspect the model.\n",
       "--\n",
       "Use `h2o.display.toggle_user_tips()` to switch on/off this section."
      ]
     },
     "execution_count": 31,
     "metadata": {},
     "output_type": "execute_result"
    }
   ],
   "source": [
    "# Запуск AutoML\n",
    "aml = H2OAutoML(max_models=10, seed=1, sort_metric=\"RMSE\")\n",
    "aml.train(y=TARGET, x=features, training_frame=h2o_train_scaled)"
   ]
  },
  {
   "cell_type": "code",
   "execution_count": 32,
   "metadata": {},
   "outputs": [
    {
     "data": {
      "text/html": [
       "<table class='dataframe'>\n",
       "<thead>\n",
       "<tr><th>model_id                                               </th><th style=\"text-align: right;\">   rmse</th><th style=\"text-align: right;\">    mse</th><th style=\"text-align: right;\">    mae</th><th style=\"text-align: right;\">   rmsle</th><th style=\"text-align: right;\">  mean_residual_deviance</th></tr>\n",
       "</thead>\n",
       "<tbody>\n",
       "<tr><td>StackedEnsemble_BestOfFamily_1_AutoML_1_20250329_132628</td><td style=\"text-align: right;\">2.11197</td><td style=\"text-align: right;\">4.46041</td><td style=\"text-align: right;\">1.50627</td><td style=\"text-align: right;\">0.151046</td><td style=\"text-align: right;\">                 4.46041</td></tr>\n",
       "<tr><td>StackedEnsemble_AllModels_1_AutoML_1_20250329_132628   </td><td style=\"text-align: right;\">2.11596</td><td style=\"text-align: right;\">4.47731</td><td style=\"text-align: right;\">1.50343</td><td style=\"text-align: right;\">0.151174</td><td style=\"text-align: right;\">                 4.47731</td></tr>\n",
       "<tr><td>GBM_1_AutoML_1_20250329_132628                         </td><td style=\"text-align: right;\">2.15074</td><td style=\"text-align: right;\">4.62567</td><td style=\"text-align: right;\">1.53457</td><td style=\"text-align: right;\">0.154233</td><td style=\"text-align: right;\">                 4.62567</td></tr>\n",
       "<tr><td>DeepLearning_1_AutoML_1_20250329_132628                </td><td style=\"text-align: right;\">2.1579 </td><td style=\"text-align: right;\">4.65652</td><td style=\"text-align: right;\">1.53869</td><td style=\"text-align: right;\">0.155737</td><td style=\"text-align: right;\">                 4.65652</td></tr>\n",
       "<tr><td>GBM_2_AutoML_1_20250329_132628                         </td><td style=\"text-align: right;\">2.15904</td><td style=\"text-align: right;\">4.66146</td><td style=\"text-align: right;\">1.52372</td><td style=\"text-align: right;\">0.154224</td><td style=\"text-align: right;\">                 4.66146</td></tr>\n",
       "</tbody>\n",
       "</table><pre style='font-size: smaller; margin-bottom: 1em;'>[5 rows x 6 columns]</pre>"
      ],
      "text/plain": [
       "model_id                                                    rmse      mse      mae     rmsle    mean_residual_deviance\n",
       "-------------------------------------------------------  -------  -------  -------  --------  ------------------------\n",
       "StackedEnsemble_BestOfFamily_1_AutoML_1_20250329_132628  2.11197  4.46041  1.50627  0.151046                   4.46041\n",
       "StackedEnsemble_AllModels_1_AutoML_1_20250329_132628     2.11596  4.47731  1.50343  0.151174                   4.47731\n",
       "GBM_1_AutoML_1_20250329_132628                           2.15074  4.62567  1.53457  0.154233                   4.62567\n",
       "DeepLearning_1_AutoML_1_20250329_132628                  2.1579   4.65652  1.53869  0.155737                   4.65652\n",
       "GBM_2_AutoML_1_20250329_132628                           2.15904  4.66146  1.52372  0.154224                   4.66146\n",
       "[5 rows x 6 columns]\n"
      ]
     },
     "execution_count": 32,
     "metadata": {},
     "output_type": "execute_result"
    }
   ],
   "source": [
    "# Просмотр результатов\n",
    "lb = aml.leaderboard\n",
    "lb.head(rows=5)"
   ]
  },
  {
   "cell_type": "markdown",
   "metadata": {},
   "source": [
    "Наибольшей точностью обладает ансамбль моделей, объединяющий предсказания лучших моделей каждого типа."
   ]
  },
  {
   "cell_type": "code",
   "execution_count": 33,
   "metadata": {},
   "outputs": [
    {
     "name": "stdout",
     "output_type": "stream",
     "text": [
      "stackedensemble prediction progress: |"
     ]
    },
    {
     "name": "stdout",
     "output_type": "stream",
     "text": [
      "███████████████████████████████████████████| (done) 100%\n"
     ]
    },
    {
     "name": "stderr",
     "output_type": "stream",
     "text": [
      "c:\\Users\\ivana\\MLInnopolis\\.mlinnopolis\\Lib\\site-packages\\h2o\\frame.py:1983: H2ODependencyWarning: Converting H2O frame to pandas dataframe using single-thread.  For faster conversion using multi-thread, install polars and pyarrow and use it as pandas_df = h2o_df.as_data_frame(use_multi_thread=True)\n",
      "\n",
      "  warnings.warn(\"Converting H2O frame to pandas dataframe using single-thread.  For faster conversion using\"\n"
     ]
    },
    {
     "data": {
      "application/vnd.microsoft.datawrangler.viewer.v0+json": {
       "columns": [
        {
         "name": "index",
         "rawType": "int64",
         "type": "integer"
        },
        {
         "name": "Metrics",
         "rawType": "object",
         "type": "string"
        },
        {
         "name": "LinearRegression",
         "rawType": "float64",
         "type": "float"
        },
        {
         "name": "KNeighborsRegressor",
         "rawType": "float64",
         "type": "float"
        },
        {
         "name": "SVR",
         "rawType": "float64",
         "type": "float"
        },
        {
         "name": "RandomForestRegressor",
         "rawType": "float64",
         "type": "float"
        },
        {
         "name": "GradientBoostingRegressor",
         "rawType": "float64",
         "type": "float"
        },
        {
         "name": "AutoML",
         "rawType": "float64",
         "type": "float"
        }
       ],
       "conversionMethod": "pd.DataFrame",
       "ref": "4c78d714-76de-4293-a32a-f7401de642b5",
       "rows": [
        [
         "0",
         "mae",
         "1.52",
         "1.6",
         "1.44",
         "1.49",
         "1.49",
         "1.46"
        ],
        [
         "1",
         "mse",
         "4.51",
         "5.14",
         "4.48",
         "4.56",
         "4.61",
         "4.41"
        ],
        [
         "2",
         "rmse",
         "2.12",
         "2.27",
         "2.12",
         "2.14",
         "2.15",
         "2.1"
        ],
        [
         "3",
         "r2",
         "0.57",
         "0.51",
         "0.57",
         "0.56",
         "0.56",
         "0.58"
        ]
       ],
       "shape": {
        "columns": 7,
        "rows": 4
       }
      },
      "text/html": [
       "<div>\n",
       "<style scoped>\n",
       "    .dataframe tbody tr th:only-of-type {\n",
       "        vertical-align: middle;\n",
       "    }\n",
       "\n",
       "    .dataframe tbody tr th {\n",
       "        vertical-align: top;\n",
       "    }\n",
       "\n",
       "    .dataframe thead th {\n",
       "        text-align: right;\n",
       "    }\n",
       "</style>\n",
       "<table border=\"1\" class=\"dataframe\">\n",
       "  <thead>\n",
       "    <tr style=\"text-align: right;\">\n",
       "      <th></th>\n",
       "      <th>Metrics</th>\n",
       "      <th>LinearRegression</th>\n",
       "      <th>KNeighborsRegressor</th>\n",
       "      <th>SVR</th>\n",
       "      <th>RandomForestRegressor</th>\n",
       "      <th>GradientBoostingRegressor</th>\n",
       "      <th>AutoML</th>\n",
       "    </tr>\n",
       "  </thead>\n",
       "  <tbody>\n",
       "    <tr>\n",
       "      <th>0</th>\n",
       "      <td>mae</td>\n",
       "      <td>1.52</td>\n",
       "      <td>1.60</td>\n",
       "      <td>1.44</td>\n",
       "      <td>1.49</td>\n",
       "      <td>1.49</td>\n",
       "      <td>1.46</td>\n",
       "    </tr>\n",
       "    <tr>\n",
       "      <th>1</th>\n",
       "      <td>mse</td>\n",
       "      <td>4.51</td>\n",
       "      <td>5.14</td>\n",
       "      <td>4.48</td>\n",
       "      <td>4.56</td>\n",
       "      <td>4.61</td>\n",
       "      <td>4.41</td>\n",
       "    </tr>\n",
       "    <tr>\n",
       "      <th>2</th>\n",
       "      <td>rmse</td>\n",
       "      <td>2.12</td>\n",
       "      <td>2.27</td>\n",
       "      <td>2.12</td>\n",
       "      <td>2.14</td>\n",
       "      <td>2.15</td>\n",
       "      <td>2.10</td>\n",
       "    </tr>\n",
       "    <tr>\n",
       "      <th>3</th>\n",
       "      <td>r2</td>\n",
       "      <td>0.57</td>\n",
       "      <td>0.51</td>\n",
       "      <td>0.57</td>\n",
       "      <td>0.56</td>\n",
       "      <td>0.56</td>\n",
       "      <td>0.58</td>\n",
       "    </tr>\n",
       "  </tbody>\n",
       "</table>\n",
       "</div>"
      ],
      "text/plain": [
       "  Metrics  LinearRegression  KNeighborsRegressor   SVR  RandomForestRegressor  \\\n",
       "0     mae              1.52                 1.60  1.44                   1.49   \n",
       "1     mse              4.51                 5.14  4.48                   4.56   \n",
       "2    rmse              2.12                 2.27  2.12                   2.14   \n",
       "3      r2              0.57                 0.51  0.57                   0.56   \n",
       "\n",
       "   GradientBoostingRegressor  AutoML  \n",
       "0                       1.49    1.46  \n",
       "1                       4.61    4.41  \n",
       "2                       2.15    2.10  \n",
       "3                       0.56    0.58  "
      ]
     },
     "execution_count": 33,
     "metadata": {},
     "output_type": "execute_result"
    }
   ],
   "source": [
    "# Получение предсказаний модели AutoML и сравнение метрик\n",
    "aml_model = aml.leader\n",
    "y_pred_aml = aml_model.predict(h2o_test_scaled)\n",
    "\n",
    "y_pred_aml = y_pred_aml.as_data_frame(use_multi_thread=True)\n",
    "y_pred_aml = y_pred_aml.values.flatten()\n",
    "\n",
    "quality_comparison[\"AutoML\"] = [\n",
    "    *map(\n",
    "        lambda x: round(x, 2),\n",
    "        get_metrics(y_test, y_pred_aml).values(),\n",
    "    )\n",
    "]\n",
    "\n",
    "quality_comparison"
   ]
  },
  {
   "cell_type": "markdown",
   "metadata": {},
   "source": [
    "Можно видеть, что с помощью AutoML получен анламбль моделей, несклько превосходящий по точности результаты модели SVR."
   ]
  },
  {
   "cell_type": "code",
   "execution_count": 34,
   "metadata": {},
   "outputs": [
    {
     "data": {
      "text/plain": [
       "'C:\\\\Users\\\\ivana\\\\MLInnopolis\\\\Module3\\\\Assessment3\\\\aml_models\\\\StackedEnsemble_BestOfFamily_1_AutoML_1_20250329_132628'"
      ]
     },
     "execution_count": 34,
     "metadata": {},
     "output_type": "execute_result"
    }
   ],
   "source": [
    "# Сохранение модели AutoML\n",
    "h2o.save_model(model=aml_model, path=\"./aml_models/\", force=True)"
   ]
  },
  {
   "cell_type": "code",
   "execution_count": 35,
   "metadata": {},
   "outputs": [],
   "source": [
    "# Сохранение таблицы с метриками\n",
    "quality_comparison.to_csv(\"quality_comparison.csv\", index=False)"
   ]
  }
 ],
 "metadata": {
  "colab": {
   "provenance": []
  },
  "kernelspec": {
   "display_name": ".mlinnopolis",
   "language": "python",
   "name": "python3"
  },
  "language_info": {
   "codemirror_mode": {
    "name": "ipython",
    "version": 3
   },
   "file_extension": ".py",
   "mimetype": "text/x-python",
   "name": "python",
   "nbconvert_exporter": "python",
   "pygments_lexer": "ipython3",
   "version": "3.13.0"
  }
 },
 "nbformat": 4,
 "nbformat_minor": 0
}
