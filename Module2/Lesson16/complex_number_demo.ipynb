{
 "cells": [
  {
   "cell_type": "code",
   "execution_count": 1,
   "metadata": {},
   "outputs": [],
   "source": [
    "from complex_number import ComplexNumber"
   ]
  },
  {
   "cell_type": "markdown",
   "metadata": {},
   "source": [
    "## Отображение чисел"
   ]
  },
  {
   "cell_type": "markdown",
   "metadata": {},
   "source": [
    "### Алгебраическая форма"
   ]
  },
  {
   "cell_type": "code",
   "execution_count": 2,
   "metadata": {},
   "outputs": [
    {
     "name": "stdout",
     "output_type": "stream",
     "text": [
      "ComplexNumber(real=-1.1, imag=-1.2): (-1.1 - 1.2i)\n",
      "ComplexNumber(real=-1.1, imag=0): (-1.1)\n",
      "ComplexNumber(real=0, imag=-1.2): (-1.2i)\n",
      "ComplexNumber(real=0, imag=0): (0)\n"
     ]
    }
   ],
   "source": [
    "print(\n",
    "    f\"{repr(ComplexNumber(real=-1.1, imag=-1.2))}: {ComplexNumber(real=-1.1, imag=-1.2)}\"\n",
    ")\n",
    "print(f\"{repr(ComplexNumber(real=-1.1, imag=0))}: {ComplexNumber(real=-1.1, imag=0)}\")\n",
    "print(f\"{repr(ComplexNumber(real=0, imag=-1.2))}: {ComplexNumber(real=0, imag=-1.2)}\")\n",
    "print(f\"{repr(ComplexNumber(real=0, imag=0))}: {ComplexNumber(real=0, imag=0)}\")"
   ]
  },
  {
   "cell_type": "markdown",
   "metadata": {},
   "source": [
    "### Полярная форма"
   ]
  },
  {
   "cell_type": "code",
   "execution_count": 3,
   "metadata": {},
   "outputs": [
    {
     "name": "stdout",
     "output_type": "stream",
     "text": [
      "ComplexNumber(r=2, theta=2.2): (2 * e^2.2i)\n",
      "ComplexNumber(r=2, theta=0): (2)\n",
      "ComplexNumber(r=1, theta=2.2): (e^2.2i)\n",
      "ComplexNumber(r=0, theta=0): (0)\n"
     ]
    }
   ],
   "source": [
    "print(f\"{repr(ComplexNumber(r=2, theta=2.2))}: {ComplexNumber(r=2, theta=2.2)}\")\n",
    "print(f\"{repr(ComplexNumber(r=2, theta=0))}: {ComplexNumber(r=2, theta=0)}\")\n",
    "print(f\"{repr(ComplexNumber(r=1, theta=2.2))}: {ComplexNumber(r=1, theta=2.2)}\")\n",
    "print(f\"{repr(ComplexNumber(r=0, theta=0))}: {ComplexNumber(r=0, theta=0)}\")"
   ]
  },
  {
   "cell_type": "markdown",
   "metadata": {},
   "source": [
    "## Конвертация чисел"
   ]
  },
  {
   "cell_type": "code",
   "execution_count": 4,
   "metadata": {},
   "outputs": [
    {
     "name": "stdout",
     "output_type": "stream",
     "text": [
      "(-1.1 - 1.2i) -> (1.63 * e^-2.31i)\n",
      "(2 * e^2.2i) -> (-1.18 + 1.62i)\n"
     ]
    }
   ],
   "source": [
    "print(\n",
    "    f\"{ComplexNumber(real=-1.1, imag=-1.2)} -> {ComplexNumber(real=-1.1, imag=-1.2).to_polar().round(2)}\"\n",
    ")\n",
    "print(\n",
    "    f\"{ComplexNumber(r=2, theta=2.2)} -> {ComplexNumber(r=2, theta=2.2).to_algebraic().round(2)}\"\n",
    ")"
   ]
  },
  {
   "cell_type": "markdown",
   "metadata": {},
   "source": [
    "## Алгебраические операции"
   ]
  },
  {
   "cell_type": "markdown",
   "metadata": {},
   "source": [
    "Потдерживаются операции между ComplexNumber одинаковой и разной формы, а также между ComplexNumber и int, float. При операциях между ComplexNumber разной формы (алгебраическая, полярная) результат принимает форму левого числа."
   ]
  },
  {
   "cell_type": "code",
   "execution_count": 5,
   "metadata": {},
   "outputs": [],
   "source": [
    "z_alg_1 = ComplexNumber(real=-1.1, imag=-1.2)\n",
    "z_alg_2 = ComplexNumber(real=3, imag=2)\n",
    "z_pol_1 = ComplexNumber(r=2, theta=2.2)\n",
    "z_pol_2 = ComplexNumber(r=1.5, theta=-1.2)"
   ]
  },
  {
   "cell_type": "markdown",
   "metadata": {},
   "source": [
    "### Сложение"
   ]
  },
  {
   "cell_type": "markdown",
   "metadata": {},
   "source": [
    "#### Алгебраическая форма"
   ]
  },
  {
   "cell_type": "code",
   "execution_count": 6,
   "metadata": {},
   "outputs": [
    {
     "name": "stdout",
     "output_type": "stream",
     "text": [
      "(-1.1 - 1.2i) + (3 + 2i) = (1.9 + 0.8i)\n",
      "(-1.1 - 1.2i) + 22.3 = (21.2 - 1.2i)\n",
      "(-1.1 - 1.2i) + (2 * e^2.2i) = (-1.1 - 1.2i) + (-1.18 + 1.62i) = (-2.28 + 0.42i)\n"
     ]
    }
   ],
   "source": [
    "print(f\"{z_alg_1} + {z_alg_2} = {z_alg_1 + z_alg_2}\")\n",
    "print(f\"{z_alg_1} + {22.3} = {z_alg_1 + 22.3}\")\n",
    "print(\n",
    "    f\"{z_alg_1} + {z_pol_1} = {z_alg_1} + {z_pol_1.to_algebraic().round(2)} = {(z_alg_1 + z_pol_1).round(2)}\"\n",
    ")"
   ]
  },
  {
   "cell_type": "markdown",
   "metadata": {},
   "source": [
    "#### Полярная форма"
   ]
  },
  {
   "cell_type": "code",
   "execution_count": 7,
   "metadata": {},
   "outputs": [
    {
     "name": "stdout",
     "output_type": "stream",
     "text": [
      "(2 * e^2.2i) + (1.5 * e^-1.2i) = (0.67 * e^2.81i)\n",
      "(2 * e^2.2i) + 22.3 = (21.18 * e^0.08i)\n",
      "(2 * e^2.2i) + (-1.1 - 1.2i) = (2.31 * e^2.96i)\n"
     ]
    }
   ],
   "source": [
    "print(f\"{z_pol_1} + {z_pol_2} = {(z_pol_1 + z_pol_2).round(2)}\")\n",
    "print(f\"{z_pol_1} + {22.3} = {(z_pol_1 + 22.3).round(2)}\")\n",
    "print(f\"{z_pol_1} + {z_alg_1} = {(z_pol_1 + z_alg_1).round(2)}\")"
   ]
  },
  {
   "cell_type": "markdown",
   "metadata": {},
   "source": [
    "### Вычитание"
   ]
  },
  {
   "cell_type": "markdown",
   "metadata": {},
   "source": [
    "#### Алгебраическая форма"
   ]
  },
  {
   "cell_type": "code",
   "execution_count": 8,
   "metadata": {},
   "outputs": [
    {
     "name": "stdout",
     "output_type": "stream",
     "text": [
      "(-1.1 - 1.2i) - (3 + 2i) = (-4.1 - 3.2i)\n",
      "(-1.1 - 1.2i) - 12.1 = (-13.2 - 1.2i)\n",
      "(-1.1 - 1.2i) - (2 * e^2.2i) = (0.08 - 2.82i)\n"
     ]
    }
   ],
   "source": [
    "print(f\"{z_alg_1} - {z_alg_2} = {z_alg_1 - z_alg_2}\")\n",
    "print(f\"{z_alg_1} - {12.1} = {z_alg_1 - 12.1}\")\n",
    "print(f\"{z_alg_1} - {z_pol_1} = {(z_alg_1 - z_pol_1).round(2)}\")"
   ]
  },
  {
   "cell_type": "markdown",
   "metadata": {},
   "source": [
    "#### Полярная форма"
   ]
  },
  {
   "cell_type": "code",
   "execution_count": 9,
   "metadata": {},
   "outputs": [
    {
     "name": "stdout",
     "output_type": "stream",
     "text": [
      "(2 * e^2.2i) - (1.5 * e^-1.2i) = (3.47 * e^2.09i)\n",
      "(2 * e^2.2i) - 22.3 = (23.53 * e^3.07i)\n",
      "(2 * e^2.2i) - (-1.1 - 1.2i) = (2.82 * e^1.6i)\n"
     ]
    }
   ],
   "source": [
    "print(f\"{z_pol_1} - {z_pol_2} = {(z_pol_1 - z_pol_2).round(2)}\")\n",
    "print(f\"{z_pol_1} - {22.3} = {(z_pol_1 - 22.3).round(2)}\")\n",
    "print(f\"{z_pol_1} - {z_alg_1} = {(z_pol_1 - z_alg_1).round(2)}\")"
   ]
  },
  {
   "cell_type": "markdown",
   "metadata": {},
   "source": [
    "### Умножение"
   ]
  },
  {
   "cell_type": "markdown",
   "metadata": {},
   "source": [
    "#### Алгебраическая форма"
   ]
  },
  {
   "cell_type": "code",
   "execution_count": 10,
   "metadata": {},
   "outputs": [
    {
     "name": "stdout",
     "output_type": "stream",
     "text": [
      "(-1.1 - 1.2i) * (3 + 2i) = (-0.9 - 5.8i)\n",
      "(-1.1 - 1.2i) * 12.1 = (-13.31 - 14.52i)\n",
      "(-1.1 - 1.2i) * (2 * e^2.2i) = (3.24 - 0.37i)\n"
     ]
    }
   ],
   "source": [
    "print(f\"{z_alg_1} * {z_alg_2} = {(z_alg_1 * z_alg_2).round(2)}\")\n",
    "print(f\"{z_alg_1} * {12.1} = {(z_alg_1 * 12.1).round(2)}\")\n",
    "print(f\"{z_alg_1} * {z_pol_1} = {(z_alg_1 * z_pol_1).round(2)}\")"
   ]
  },
  {
   "cell_type": "markdown",
   "metadata": {},
   "source": [
    "#### Полярная форма"
   ]
  },
  {
   "cell_type": "code",
   "execution_count": 11,
   "metadata": {},
   "outputs": [
    {
     "name": "stdout",
     "output_type": "stream",
     "text": [
      "(2 * e^2.2i) * (1.5 * e^-1.2i) = (3.0 * e^1.0i)\n",
      "(2 * e^2.2i) * 22.3 = (44.6 * e^2.2i)\n",
      "(2 * e^2.2i) * (-1.1 - 1.2i) = (3.26 * e^-0.11i)\n"
     ]
    }
   ],
   "source": [
    "print(f\"{z_pol_1} * {z_pol_2} = {(z_pol_1 * z_pol_2).round(2)}\")\n",
    "print(f\"{z_pol_1} * {22.3} = {(z_pol_1 * 22.3).round(2)}\")\n",
    "print(f\"{z_pol_1} * {z_alg_1} = {(z_pol_1 * z_alg_1).round(2)}\")"
   ]
  },
  {
   "cell_type": "markdown",
   "metadata": {},
   "source": [
    "### Деление"
   ]
  },
  {
   "cell_type": "markdown",
   "metadata": {},
   "source": [
    "#### Алгебраическая форма"
   ]
  },
  {
   "cell_type": "code",
   "execution_count": 12,
   "metadata": {},
   "outputs": [
    {
     "name": "stdout",
     "output_type": "stream",
     "text": [
      "(-1.1 - 1.2i) / (3 + 2i) = (-0.44 - 0.11i)\n",
      "(-1.1 - 1.2i) / 12.1 = (-0.09 - 0.1i)\n",
      "(-1.1 - 1.2i) / (2 * e^2.2i) = (-0.16 + 0.8i)\n"
     ]
    }
   ],
   "source": [
    "print(f\"{z_alg_1} / {z_alg_2} = {(z_alg_1 / z_alg_2).round(2)}\")\n",
    "print(f\"{z_alg_1} / {12.1} = {(z_alg_1 / 12.1).round(2)}\")\n",
    "print(f\"{z_alg_1} / {z_pol_1} = {(z_alg_1 / z_pol_1).round(2)}\")"
   ]
  },
  {
   "cell_type": "markdown",
   "metadata": {},
   "source": [
    "#### Полярная форма"
   ]
  },
  {
   "cell_type": "code",
   "execution_count": 13,
   "metadata": {},
   "outputs": [
    {
     "name": "stdout",
     "output_type": "stream",
     "text": [
      "(2 * e^2.2i) / (1.5 * e^-1.2i) = (1.33 * e^3.4i)\n",
      "(2 * e^2.2i) / 22.3 = (0.09 * e^2.2i)\n",
      "(2 * e^2.2i) / (-1.1 - 1.2i) = (1.23 * e^4.51i)\n"
     ]
    }
   ],
   "source": [
    "print(f\"{z_pol_1} / {z_pol_2} = {(z_pol_1 / z_pol_2).round(2)}\")\n",
    "print(f\"{z_pol_1} / {22.3} = {(z_pol_1 / 22.3).round(2)}\")\n",
    "print(f\"{z_pol_1} / {z_alg_1} = {(z_pol_1 / z_alg_1).round(2)}\")"
   ]
  }
 ],
 "metadata": {
  "kernelspec": {
   "display_name": ".mlinnopolis",
   "language": "python",
   "name": "python3"
  },
  "language_info": {
   "codemirror_mode": {
    "name": "ipython",
    "version": 3
   },
   "file_extension": ".py",
   "mimetype": "text/x-python",
   "name": "python",
   "nbconvert_exporter": "python",
   "pygments_lexer": "ipython3",
   "version": "3.13.0"
  }
 },
 "nbformat": 4,
 "nbformat_minor": 2
}
