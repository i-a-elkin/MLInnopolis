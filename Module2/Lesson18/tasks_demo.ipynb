{
 "cells": [
  {
   "cell_type": "markdown",
   "metadata": {},
   "source": [
    "# Домашнее задание по теме «Работа с итераторами и генераторами»"
   ]
  },
  {
   "cell_type": "markdown",
   "metadata": {},
   "source": [
    "## Импорт модулей"
   ]
  },
  {
   "cell_type": "code",
   "execution_count": 1,
   "metadata": {},
   "outputs": [],
   "source": [
    "from task1 import input_checker\n",
    "from task2 import CyclicIterator\n",
    "from task3 import password_generator\n",
    "from task4 import Movie\n",
    "\n",
    "from string import ascii_lowercase, ascii_uppercase\n",
    "from datetime import datetime"
   ]
  },
  {
   "cell_type": "markdown",
   "metadata": {
    "id": "tLVjq6I3o2NU"
   },
   "source": [
    "## Задача 1"
   ]
  },
  {
   "cell_type": "code",
   "execution_count": 2,
   "metadata": {
    "colab": {
     "base_uri": "https://localhost:8080/"
    },
    "executionInfo": {
     "elapsed": 25306,
     "status": "ok",
     "timestamp": 1732797376921,
     "user": {
      "displayName": "Иван Елькин",
      "userId": "12386214062098670036"
     },
     "user_tz": -300
    },
    "id": "5XqPHePtooY1",
    "outputId": "688d29e5-a4a1-4c6c-9bff-57e3546734ae"
   },
   "outputs": [
    {
     "name": "stdout",
     "output_type": "stream",
     "text": [
      "Список содержит хотя бы одно положительное число.\n",
      "Все элементы списка являются числами.\n",
      "[1, 2, 3, 4, 5, 6, 7, 8, 9]\n",
      "\n",
      "Список не содержит ни одного положительного числа.\n",
      "Все элементы списка являются числами.\n",
      "[-9.1, -8.2, -7.3, -6.4, -5.5, -4.6, -3.7, -2.8, -1.9]\n",
      "\n",
      "Список содержит хотя бы одно положительное число.\n",
      "Все элементы списка являются числами.\n",
      "[-8, -7, -6, -5, -4, -3, -2, -1, 9]\n",
      "\n",
      "Список содержит хотя бы одно положительное число.\n",
      "Список содержит нечисловые значения.\n",
      "[1, -1, 2.3, -6.5, 'g', '(', '!']\n"
     ]
    }
   ],
   "source": [
    "data = input_checker()  # 9 8 7 6 5 4 3 2 1\n",
    "print(data, end=\"\\n\\n\")\n",
    "\n",
    "data = input_checker()  # -9.1 -7.3 -8.2 -5.5 -6.4 -3.7 -4.6 -2.8 -1.9\n",
    "print(data, end=\"\\n\\n\")\n",
    "\n",
    "data = input_checker()  # 9 -8 -7 -6 -5 -4 -3 -2 -1\n",
    "print(data, end=\"\\n\\n\")\n",
    "\n",
    "data = input_checker()  # 1 -1 2.3 -6.5 g ( !\n",
    "print(data)"
   ]
  },
  {
   "cell_type": "markdown",
   "metadata": {
    "id": "ejhzyaktyNbx"
   },
   "source": [
    "## Задача 2"
   ]
  },
  {
   "cell_type": "code",
   "execution_count": 3,
   "metadata": {
    "colab": {
     "base_uri": "https://localhost:8080/"
    },
    "executionInfo": {
     "elapsed": 204,
     "status": "ok",
     "timestamp": 1732820094882,
     "user": {
      "displayName": "Иван Елькин",
      "userId": "12386214062098670036"
     },
     "user_tz": -300
    },
    "id": "ZOx5WG9FyQXu",
    "outputId": "f872214b-b344-4fa8-efcf-393507b4769c"
   },
   "outputs": [
    {
     "name": "stdout",
     "output_type": "stream",
     "text": [
      "CyclicIterator(range(1, 6)): 1 2 3 4 5 1 2 3 4 5 1 2 3 4 5 1 2 3 4 5\n",
      "CyclicIterator([1, 2, 3, 4, 5]): 1 2 3 4 5 1 2 3 4 5 1 2 3 4 5 1 2 3 4 5\n",
      "CyclicIterator((1, 2, 3, 4, 5)): 1 2 3 4 5 1 2 3 4 5 1 2 3 4 5 1 2 3 4 5\n",
      "CyclicIterator({1, 2, 3, 4, 5}): 1 2 3 4 5 1 2 3 4 5 1 2 3 4 5 1 2 3 4 5\n",
      "CyclicIterator({1: 11, 2: 22, 3: 33, 4: 44, 5: 55}): 1 2 3 4 5 1 2 3 4 5 1 2 3 4 5 1 2 3 4 5\n"
     ]
    }
   ],
   "source": [
    "c_iterator1 = CyclicIterator(range(1, 6))\n",
    "print(c_iterator1, end=\": \")\n",
    "c_iterator1.show_iterator_work(num_elts=20)\n",
    "\n",
    "c_iterator2 = CyclicIterator([1, 2, 3, 4, 5])\n",
    "print(c_iterator2, end=\": \")\n",
    "c_iterator2.show_iterator_work(num_elts=20)\n",
    "\n",
    "c_iterator3 = CyclicIterator((1, 2, 3, 4, 5))\n",
    "print(c_iterator3, end=\": \")\n",
    "c_iterator3.show_iterator_work(num_elts=20)\n",
    "\n",
    "c_iterator4 = CyclicIterator({1, 2, 3, 4, 5})\n",
    "print(c_iterator4, end=\": \")\n",
    "c_iterator4.show_iterator_work(num_elts=20)\n",
    "\n",
    "c_iterator5 = CyclicIterator({1: 11, 2: 22, 3: 33, 4: 44, 5: 55})\n",
    "print(c_iterator5, end=\": \")\n",
    "c_iterator5.show_iterator_work(num_elts=20)"
   ]
  },
  {
   "cell_type": "markdown",
   "metadata": {
    "id": "RC4xkYThJTXB"
   },
   "source": [
    "## Задача 3"
   ]
  },
  {
   "cell_type": "code",
   "execution_count": 4,
   "metadata": {
    "colab": {
     "base_uri": "https://localhost:8080/"
    },
    "executionInfo": {
     "elapsed": 209,
     "status": "ok",
     "timestamp": 1732855395065,
     "user": {
      "displayName": "Иван Елькин",
      "userId": "12386214062098670036"
     },
     "user_tz": -300
    },
    "id": "RpF3krAtJV4Q",
    "outputId": "fc02fa2a-12ff-4db9-c612-94d58becc047"
   },
   "outputs": [
    {
     "name": "stdout",
     "output_type": "stream",
     "text": [
      "Passwords:\n",
      "$SF#D400IAFH\n",
      "VAYoK3$6Hbew\n",
      "v9rd7hbiFbhe\n",
      "rrFz#kBZEMKQ\n",
      "x5*XkvNJ8hH0\n"
     ]
    }
   ],
   "source": [
    "chars = ascii_lowercase + ascii_uppercase + \"0123456789!?@#$*\"\n",
    "password = password_generator(chars)\n",
    "\n",
    "print(\"Passwords:\")\n",
    "for _ in range(5):\n",
    "    print(next(password))"
   ]
  },
  {
   "cell_type": "markdown",
   "metadata": {
    "id": "FW6qeuC6ODiz"
   },
   "source": [
    "## Задача 4"
   ]
  },
  {
   "cell_type": "code",
   "execution_count": 5,
   "metadata": {
    "colab": {
     "base_uri": "https://localhost:8080/"
    },
    "executionInfo": {
     "elapsed": 211,
     "status": "ok",
     "timestamp": 1732858908929,
     "user": {
      "displayName": "Иван Елькин",
      "userId": "12386214062098670036"
     },
     "user_tz": -300
    },
    "id": "TnrEqmynPRbf",
    "outputId": "328cb0a5-a6b3-4a72-de89-3bc27c6ad45b"
   },
   "outputs": [
    {
     "name": "stdout",
     "output_type": "stream",
     "text": [
      "Movie(title='new_movie', schedule=[(datetime.datetime(2024, 11, 1, 0, 0), datetime.datetime(2024, 11, 7, 0, 0)), (datetime.datetime(2024, 12, 15, 0, 0), datetime.datetime(2024, 12, 31, 0, 0))])\n",
      "2024-11-01 00:00:00\n",
      "2024-11-02 00:00:00\n",
      "2024-11-03 00:00:00\n",
      "2024-11-04 00:00:00\n",
      "2024-11-05 00:00:00\n",
      "2024-11-06 00:00:00\n",
      "2024-11-07 00:00:00\n",
      "2024-12-15 00:00:00\n",
      "2024-12-16 00:00:00\n",
      "2024-12-17 00:00:00\n",
      "2024-12-18 00:00:00\n",
      "2024-12-19 00:00:00\n",
      "2024-12-20 00:00:00\n",
      "2024-12-21 00:00:00\n",
      "2024-12-22 00:00:00\n",
      "2024-12-23 00:00:00\n",
      "2024-12-24 00:00:00\n",
      "2024-12-25 00:00:00\n",
      "2024-12-26 00:00:00\n",
      "2024-12-27 00:00:00\n",
      "2024-12-28 00:00:00\n",
      "2024-12-29 00:00:00\n",
      "2024-12-30 00:00:00\n",
      "2024-12-31 00:00:00\n"
     ]
    }
   ],
   "source": [
    "schedule_periods = [\n",
    "    (datetime(2024, 11, 1), datetime(2024, 11, 7)),\n",
    "    (datetime(2024, 12, 15), datetime(2024, 12, 31)),\n",
    "]\n",
    "movie = Movie(\"new_movie\", schedule_periods)\n",
    "\n",
    "print(movie)\n",
    "movie.schedule()"
   ]
  },
  {
   "cell_type": "code",
   "execution_count": 6,
   "metadata": {},
   "outputs": [
    {
     "name": "stdout",
     "output_type": "stream",
     "text": [
      "Get schedule with cycle:\n",
      "2024-11-01 00:00:00\n",
      "2024-11-02 00:00:00\n",
      "2024-11-03 00:00:00\n",
      "2024-11-04 00:00:00\n",
      "2024-11-05 00:00:00\n",
      "2024-11-06 00:00:00\n",
      "2024-11-07 00:00:00\n",
      "2024-12-15 00:00:00\n",
      "2024-12-16 00:00:00\n",
      "2024-12-17 00:00:00\n",
      "2024-12-18 00:00:00\n",
      "2024-12-19 00:00:00\n",
      "2024-12-20 00:00:00\n",
      "2024-12-21 00:00:00\n",
      "2024-12-22 00:00:00\n",
      "2024-12-23 00:00:00\n",
      "2024-12-24 00:00:00\n",
      "2024-12-25 00:00:00\n",
      "2024-12-26 00:00:00\n",
      "2024-12-27 00:00:00\n",
      "2024-12-28 00:00:00\n",
      "2024-12-29 00:00:00\n",
      "2024-12-30 00:00:00\n",
      "2024-12-31 00:00:00\n"
     ]
    }
   ],
   "source": [
    "print(\"Get schedule with cycle:\")\n",
    "for day in movie:\n",
    "    print(day)"
   ]
  }
 ],
 "metadata": {
  "colab": {
   "authorship_tag": "ABX9TyPfMbTMkUpe8s9QMZOGwXZ/",
   "provenance": []
  },
  "kernelspec": {
   "display_name": ".mlinnopolis",
   "language": "python",
   "name": "python3"
  },
  "language_info": {
   "codemirror_mode": {
    "name": "ipython",
    "version": 3
   },
   "file_extension": ".py",
   "mimetype": "text/x-python",
   "name": "python",
   "nbconvert_exporter": "python",
   "pygments_lexer": "ipython3",
   "version": "3.13.0"
  }
 },
 "nbformat": 4,
 "nbformat_minor": 0
}
