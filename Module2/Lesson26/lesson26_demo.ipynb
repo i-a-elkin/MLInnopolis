{
 "cells": [
  {
   "cell_type": "markdown",
   "metadata": {},
   "source": [
    "# Работа с декораторами, контекстными менеджерами"
   ]
  },
  {
   "cell_type": "markdown",
   "metadata": {},
   "source": [
    "## Импорт модулей"
   ]
  },
  {
   "cell_type": "code",
   "execution_count": 1,
   "metadata": {},
   "outputs": [],
   "source": [
    "from lesson26_task1 import role_required, USER\n",
    "from lesson26_task2 import cache, get_info, CACHE\n",
    "from lesson26_task3 import safe_write"
   ]
  },
  {
   "cell_type": "markdown",
   "metadata": {
    "id": "u5ygKuY35YVn"
   },
   "source": [
    "## Задача 1. Права администратора"
   ]
  },
  {
   "cell_type": "markdown",
   "metadata": {},
   "source": [
    "Проверяем работу декоратора."
   ]
  },
  {
   "cell_type": "code",
   "execution_count": 2,
   "metadata": {
    "colab": {
     "base_uri": "https://localhost:8080/"
    },
    "executionInfo": {
     "elapsed": 359,
     "status": "ok",
     "timestamp": 1735363888246,
     "user": {
      "displayName": "Иван Елькин",
      "userId": "12386214062098670036"
     },
     "user_tz": -300
    },
    "id": "doQpAEJABNEK",
    "outputId": "3417c390-ae06-4d32-f12b-7671ce6e7f0c"
   },
   "outputs": [
    {
     "name": "stdout",
     "output_type": "stream",
     "text": [
      "user_role = admin: Permission accepted\n",
      "user_role = manager: Permission denied\n",
      "user_role = developer: Permission denied\n",
      "user_role = admin: Permission accepted\n"
     ]
    }
   ],
   "source": [
    "@role_required(\"admin\")\n",
    "def secret_resource():\n",
    "    \"\"\"\n",
    "    Function gives access to users with the 'admin' role.\n",
    "    \"\"\"\n",
    "    return \"Permission accepted\"\n",
    "\n",
    "\n",
    "USER[\"role\"] = \"admin\"\n",
    "print(f\"user_role = {USER[\"role\"]}: {secret_resource()}\")\n",
    "\n",
    "USER[\"role\"] = \"manager\"\n",
    "print(f\"user_role = {USER[\"role\"]}: {secret_resource()}\")\n",
    "\n",
    "USER[\"role\"] = \"developer\"\n",
    "print(f\"user_role = {USER[\"role\"]}: {secret_resource()}\")\n",
    "\n",
    "USER[\"role\"] = \"admin\"\n",
    "print(f\"user_role = {USER[\"role\"]}: {secret_resource()}\")"
   ]
  },
  {
   "cell_type": "markdown",
   "metadata": {
    "id": "A5ab-_Cx5b6v"
   },
   "source": [
    "## Задача 2. Кэширование"
   ]
  },
  {
   "cell_type": "markdown",
   "metadata": {},
   "source": [
    "Декорируем функцию."
   ]
  },
  {
   "cell_type": "code",
   "execution_count": 3,
   "metadata": {
    "executionInfo": {
     "elapsed": 10,
     "status": "ok",
     "timestamp": 1735363888491,
     "user": {
      "displayName": "Иван Елькин",
      "userId": "12386214062098670036"
     },
     "user_tz": -300
    },
    "id": "-7Zr1npfstD5"
   },
   "outputs": [],
   "source": [
    "@cache(\"sql\", 5)\n",
    "def get_info_sql_5(thing):\n",
    "    \"\"\"\n",
    "    Function returns information about 'thing' from SQL database\n",
    "    with expiration time equals 5.\n",
    "    \"\"\"\n",
    "    return get_info(thing)"
   ]
  },
  {
   "cell_type": "markdown",
   "metadata": {},
   "source": [
    "Запускаем функцию с аргументом \"bike\"."
   ]
  },
  {
   "cell_type": "code",
   "execution_count": 4,
   "metadata": {
    "colab": {
     "base_uri": "https://localhost:8080/"
    },
    "executionInfo": {
     "elapsed": 10,
     "status": "ok",
     "timestamp": 1735363888492,
     "user": {
      "displayName": "Иван Елькин",
      "userId": "12386214062098670036"
     },
     "user_tz": -300
    },
    "id": "dG5jjPRip-G3",
    "outputId": "96fa7929-a882-449f-f5ab-9ce9f17de186"
   },
   "outputs": [
    {
     "name": "stdout",
     "output_type": "stream",
     "text": [
      "Info about: bike from sql, now cached with expire=5\n",
      "bike info: 8319\n",
      "Info about: bike cached in sql, expire=4\n",
      "bike info: 8319\n",
      "Info about: bike cached in sql, expire=3\n",
      "bike info: 8319\n",
      "Info about: bike cached in sql, expire=2\n",
      "bike info: 8319\n",
      "Info about: bike cached in sql, expire=1\n",
      "bike info: 8319\n",
      "Info about: bike cached in sql, expire=0\n",
      "Caсhe has been cleared!\n",
      "Info about: bike from sql, now cached with expire=5\n",
      "bike info: 5179\n",
      "Info about: bike cached in sql, expire=4\n",
      "bike info: 5179\n"
     ]
    }
   ],
   "source": [
    "for i in range(8):\n",
    "    res = get_info_sql_5(thing=\"bike\")\n",
    "    print(res)"
   ]
  },
  {
   "cell_type": "markdown",
   "metadata": {},
   "source": [
    "Запускаем функцию с аргументом \"car\"."
   ]
  },
  {
   "cell_type": "code",
   "execution_count": 5,
   "metadata": {
    "colab": {
     "base_uri": "https://localhost:8080/"
    },
    "executionInfo": {
     "elapsed": 8,
     "status": "ok",
     "timestamp": 1735363888492,
     "user": {
      "displayName": "Иван Елькин",
      "userId": "12386214062098670036"
     },
     "user_tz": -300
    },
    "id": "HPIoSm7A35d_",
    "outputId": "22a6392c-dfae-4c29-f6a4-18d6432d3c4a"
   },
   "outputs": [
    {
     "name": "stdout",
     "output_type": "stream",
     "text": [
      "Info about: car from sql, now cached with expire=5\n",
      "car info: 2520\n",
      "Info about: car cached in sql, expire=4\n",
      "car info: 2520\n",
      "Info about: car cached in sql, expire=3\n",
      "car info: 2520\n",
      "Info about: car cached in sql, expire=2\n",
      "car info: 2520\n",
      "Info about: car cached in sql, expire=1\n",
      "car info: 2520\n",
      "Info about: car cached in sql, expire=0\n",
      "Caсhe has been cleared!\n",
      "Info about: car from sql, now cached with expire=5\n",
      "car info: 9290\n",
      "Info about: car cached in sql, expire=4\n",
      "car info: 9290\n"
     ]
    }
   ],
   "source": [
    "for i in range(8):\n",
    "    res = get_info_sql_5(\"car\")\n",
    "    print(res)"
   ]
  },
  {
   "cell_type": "markdown",
   "metadata": {},
   "source": [
    "Проверяем кэш."
   ]
  },
  {
   "cell_type": "code",
   "execution_count": 6,
   "metadata": {
    "colab": {
     "base_uri": "https://localhost:8080/"
    },
    "executionInfo": {
     "elapsed": 7,
     "status": "ok",
     "timestamp": 1735363888492,
     "user": {
      "displayName": "Иван Елькин",
      "userId": "12386214062098670036"
     },
     "user_tz": -300
    },
    "id": "mgfbYEZ4p_zS",
    "outputId": "e8010773-7c25-4920-fd7d-f7a457982a04"
   },
   "outputs": [
    {
     "name": "stdout",
     "output_type": "stream",
     "text": [
      "db=sql,expiration_time=5,thing=bike: ['bike info: 5179', 3]\n",
      "db=sql,expiration_time=5,thing=car: ['car info: 9290', 3]\n"
     ]
    }
   ],
   "source": [
    "for key in CACHE:\n",
    "    print(f\"{key}: {CACHE[key]}\")"
   ]
  },
  {
   "cell_type": "markdown",
   "metadata": {},
   "source": [
    "Продолжаем запускать функцию с аргументом \"bike\"."
   ]
  },
  {
   "cell_type": "code",
   "execution_count": 7,
   "metadata": {
    "colab": {
     "base_uri": "https://localhost:8080/"
    },
    "executionInfo": {
     "elapsed": 5,
     "status": "ok",
     "timestamp": 1735363888492,
     "user": {
      "displayName": "Иван Елькин",
      "userId": "12386214062098670036"
     },
     "user_tz": -300
    },
    "id": "dOaPkqSIILDQ",
    "outputId": "c6f3a6ac-e65d-48c9-e1c7-2ced644ec026"
   },
   "outputs": [
    {
     "name": "stdout",
     "output_type": "stream",
     "text": [
      "Info about: bike cached in sql, expire=3\n",
      "bike info: 5179\n",
      "Info about: bike cached in sql, expire=2\n",
      "bike info: 5179\n",
      "Info about: bike cached in sql, expire=1\n",
      "bike info: 5179\n",
      "Info about: bike cached in sql, expire=0\n",
      "Caсhe has been cleared!\n",
      "Info about: bike from sql, now cached with expire=5\n",
      "bike info: 7183\n",
      "Info about: bike cached in sql, expire=4\n",
      "bike info: 7183\n",
      "Info about: bike cached in sql, expire=3\n",
      "bike info: 7183\n",
      "Info about: bike cached in sql, expire=2\n",
      "bike info: 7183\n"
     ]
    }
   ],
   "source": [
    "for i in range(8):\n",
    "    res = get_info_sql_5(thing=\"bike\")\n",
    "    print(res)"
   ]
  },
  {
   "cell_type": "markdown",
   "metadata": {},
   "source": [
    "Продолжаем запускать функцию с аргументом \"car\"."
   ]
  },
  {
   "cell_type": "code",
   "execution_count": 8,
   "metadata": {
    "colab": {
     "base_uri": "https://localhost:8080/"
    },
    "executionInfo": {
     "elapsed": 272,
     "status": "ok",
     "timestamp": 1735363888760,
     "user": {
      "displayName": "Иван Елькин",
      "userId": "12386214062098670036"
     },
     "user_tz": -300
    },
    "id": "d7krBUG6IUFc",
    "outputId": "1bd5e95b-3b5a-49ef-9bdc-6f59147fc044"
   },
   "outputs": [
    {
     "name": "stdout",
     "output_type": "stream",
     "text": [
      "Info about: car cached in sql, expire=3\n",
      "car info: 9290\n",
      "Info about: car cached in sql, expire=2\n",
      "car info: 9290\n",
      "Info about: car cached in sql, expire=1\n",
      "car info: 9290\n",
      "Info about: car cached in sql, expire=0\n",
      "Caсhe has been cleared!\n",
      "Info about: car from sql, now cached with expire=5\n",
      "car info: 3070\n",
      "Info about: car cached in sql, expire=4\n",
      "car info: 3070\n",
      "Info about: car cached in sql, expire=3\n",
      "car info: 3070\n",
      "Info about: car cached in sql, expire=2\n",
      "car info: 3070\n"
     ]
    }
   ],
   "source": [
    "for i in range(8):\n",
    "    res = get_info_sql_5(\"car\")\n",
    "    print(res)"
   ]
  },
  {
   "cell_type": "markdown",
   "metadata": {},
   "source": [
    "Еще раз проверяем кэш."
   ]
  },
  {
   "cell_type": "code",
   "execution_count": 9,
   "metadata": {
    "colab": {
     "base_uri": "https://localhost:8080/"
    },
    "executionInfo": {
     "elapsed": 4,
     "status": "ok",
     "timestamp": 1735363888760,
     "user": {
      "displayName": "Иван Елькин",
      "userId": "12386214062098670036"
     },
     "user_tz": -300
    },
    "id": "as9-d_2KpglC",
    "outputId": "44ade086-7aa1-414c-cb09-9f2323ef7e4d"
   },
   "outputs": [
    {
     "name": "stdout",
     "output_type": "stream",
     "text": [
      "db=sql,expiration_time=5,thing=bike: ['bike info: 7183', 1]\n",
      "db=sql,expiration_time=5,thing=car: ['car info: 3070', 1]\n"
     ]
    }
   ],
   "source": [
    "for key in CACHE:\n",
    "    print(f\"{key}: {CACHE[key]}\")"
   ]
  },
  {
   "cell_type": "markdown",
   "metadata": {},
   "source": [
    "Декорируем функции с другими параметрами."
   ]
  },
  {
   "cell_type": "code",
   "execution_count": 10,
   "metadata": {},
   "outputs": [],
   "source": [
    "@cache(\"postgresql\", 5)\n",
    "def get_info_postgresql_5(thing):\n",
    "    \"\"\"\n",
    "    Function returns information about 'thing' from postgresql database\n",
    "    with expiration time equals 5.\n",
    "    \"\"\"\n",
    "    return get_info(thing)\n",
    "\n",
    "\n",
    "@cache(\"sqlite\", 3)\n",
    "def get_info_sqlite_3(thing):\n",
    "    \"\"\"\n",
    "    Function returns information about 'thing' from sqlite database\n",
    "    with expiration time equals 3.\n",
    "    \"\"\"\n",
    "    return get_info(thing)"
   ]
  },
  {
   "cell_type": "markdown",
   "metadata": {},
   "source": [
    "Проверяем работу."
   ]
  },
  {
   "cell_type": "code",
   "execution_count": 11,
   "metadata": {},
   "outputs": [
    {
     "name": "stdout",
     "output_type": "stream",
     "text": [
      "Info about: bike_store from postgresql, now cached with expire=5\n",
      "Info about: bike_store cached in postgresql, expire=4\n",
      "Info about: bike_store cached in postgresql, expire=3\n",
      "Info about: bike_store cached in postgresql, expire=2\n",
      "Info about: bike_store cached in postgresql, expire=1\n",
      "Info about: bike_store cached in postgresql, expire=0\n",
      "Info about: bike_store from postgresql, now cached with expire=5\n",
      "Info about: bike_store from sqlite, now cached with expire=3\n",
      "Info about: bike_store cached in sqlite, expire=2\n",
      "Info about: bike_store cached in sqlite, expire=1\n",
      "Info about: bike_store cached in sqlite, expire=0\n",
      "Info about: bike_store from sqlite, now cached with expire=3\n",
      "\n",
      "Info about: users from postgresql, now cached with expire=5\n",
      "Info about: users cached in postgresql, expire=4\n",
      "Info about: users cached in postgresql, expire=3\n",
      "Info about: users cached in postgresql, expire=2\n",
      "Info about: users cached in postgresql, expire=1\n",
      "Info about: users cached in postgresql, expire=0\n",
      "Info about: users from postgresql, now cached with expire=5\n",
      "Info about: users from sqlite, now cached with expire=3\n",
      "Info about: users cached in sqlite, expire=2\n",
      "Info about: users cached in sqlite, expire=1\n",
      "Info about: users cached in sqlite, expire=0\n",
      "Info about: users from sqlite, now cached with expire=3\n"
     ]
    }
   ],
   "source": [
    "for i in range(7):\n",
    "    get_info_postgresql_5(\"bike_store\")\n",
    "\n",
    "for i in range(5):\n",
    "    get_info_sqlite_3(\"bike_store\")\n",
    "\n",
    "print()\n",
    "\n",
    "for i in range(7):\n",
    "    get_info_postgresql_5(\"users\")\n",
    "\n",
    "for i in range(5):\n",
    "    get_info_sqlite_3(\"users\")"
   ]
  },
  {
   "cell_type": "markdown",
   "metadata": {},
   "source": [
    "## Задача 3. Контекстный менеджер"
   ]
  },
  {
   "cell_type": "markdown",
   "metadata": {},
   "source": [
    "Проверяем работу контекстного менеджера."
   ]
  },
  {
   "cell_type": "code",
   "execution_count": 12,
   "metadata": {},
   "outputs": [
    {
     "name": "stdout",
     "output_type": "stream",
     "text": [
      "Я знаю, что ничего не знаю, но другие не знают и этого.\n"
     ]
    }
   ],
   "source": [
    "with safe_write(\"lesson26_task3_test1.txt\") as file:\n",
    "    file.write(\"Я знаю, что ничего не знаю, но другие не знают и этого.\")\n",
    "\n",
    "with open(\"lesson26_task3_test1.txt\", encoding=\"utf-8\") as file:\n",
    "    print(file.read())"
   ]
  },
  {
   "cell_type": "code",
   "execution_count": 13,
   "metadata": {},
   "outputs": [
    {
     "name": "stdout",
     "output_type": "stream",
     "text": [
      "Во время записи в файл было возбуждено исключение ValueError\n",
      "Я знаю, что ничего не знаю, но другие не знают и этого. \n",
      "\n"
     ]
    }
   ],
   "source": [
    "with safe_write(\"lesson26_task3_test2.txt\") as file:\n",
    "    file.write(\"Я знаю, что ничего не знаю, но другие не знают и этого. \\n\")\n",
    "\n",
    "with safe_write(\"lesson26_task3_test2.txt\") as file:\n",
    "    print(\n",
    "        \"Если ты будешь любознательным, то будешь много знающим.\", file=file, flush=True\n",
    "    )\n",
    "    raise ValueError\n",
    "\n",
    "with open(\"lesson26_task3_test2.txt\", encoding=\"utf-8\") as file:\n",
    "    print(file.read())"
   ]
  }
 ],
 "metadata": {
  "colab": {
   "authorship_tag": "ABX9TyPTqpZ81dT6TDawSMGvXgjl",
   "provenance": []
  },
  "kernelspec": {
   "display_name": ".mlinnopolis",
   "language": "python",
   "name": "python3"
  },
  "language_info": {
   "codemirror_mode": {
    "name": "ipython",
    "version": 3
   },
   "file_extension": ".py",
   "mimetype": "text/x-python",
   "name": "python",
   "nbconvert_exporter": "python",
   "pygments_lexer": "ipython3",
   "version": "3.13.0"
  }
 },
 "nbformat": 4,
 "nbformat_minor": 0
}
