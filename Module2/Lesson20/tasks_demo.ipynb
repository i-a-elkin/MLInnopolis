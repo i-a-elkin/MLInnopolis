{
 "cells": [
  {
   "cell_type": "markdown",
   "metadata": {
    "id": "BY7eDr5GVmoB"
   },
   "source": [
    "# Функциональное программирование в Python"
   ]
  },
  {
   "cell_type": "markdown",
   "metadata": {},
   "source": [
    "## Импорт модулей"
   ]
  },
  {
   "cell_type": "code",
   "execution_count": 1,
   "metadata": {},
   "outputs": [],
   "source": [
    "from task1 import is_len_ge\n",
    "from task2 import get_list, sort_func\n",
    "from task3 import get_permutations\n",
    "from task4 import get_combinations\n",
    "from task5 import sort_users_by_age_ascending, sort_users_by_age_descending"
   ]
  },
  {
   "cell_type": "markdown",
   "metadata": {
    "id": "l6EKQHF3VqH-"
   },
   "source": [
    "## Задача 1. Фильтрация данных"
   ]
  },
  {
   "cell_type": "code",
   "execution_count": 2,
   "metadata": {
    "colab": {
     "base_uri": "https://localhost:8080/"
    },
    "executionInfo": {
     "elapsed": 7595,
     "status": "ok",
     "timestamp": 1733412067966,
     "user": {
      "displayName": "Иван Елькин",
      "userId": "12386214062098670036"
     },
     "user_tz": -300
    },
    "id": "gvG3H5gvUyhr",
    "outputId": "e8646732-9344-4ef9-87f5-7346d64ee4ff"
   },
   "outputs": [
    {
     "name": "stdout",
     "output_type": "stream",
     "text": [
      "Список городов длиной не менее трех символов: ['Уфа', 'Дно', 'Буй', 'Москва', 'Екатеринбург', 'Казань']\n"
     ]
    }
   ],
   "source": [
    "data = input(\n",
    "    \"Введите список городов через пробел: \"\n",
    ").split()  # Ош Ис Яя Яр Уфа Дно Буй Москва Екатеринбург Казань\n",
    "cities_list = [city for city in data if is_len_ge(3)(city)]\n",
    "\n",
    "print(f\"Список городов длиной не менее трех символов: {cities_list}\")"
   ]
  },
  {
   "cell_type": "markdown",
   "metadata": {
    "id": "7B40igEWbhSA"
   },
   "source": [
    "## Задача 2. Вложенные функции"
   ]
  },
  {
   "cell_type": "code",
   "execution_count": 3,
   "metadata": {
    "colab": {
     "base_uri": "https://localhost:8080/"
    },
    "executionInfo": {
     "elapsed": 4323,
     "status": "ok",
     "timestamp": 1733413570455,
     "user": {
      "displayName": "Иван Елькин",
      "userId": "12386214062098670036"
     },
     "user_tz": -300
    },
    "id": "Zp0G3jutb9Qc",
    "outputId": "6f445d46-7fa1-4d69-d572-2912eb88e6a7"
   },
   "outputs": [
    {
     "name": "stdout",
     "output_type": "stream",
     "text": [
      "[-10, -5, 0, 1, 3, 7, 12, 14, 34]\n"
     ]
    }
   ],
   "source": [
    "print(sort_func(get_list))  # 14 -5 3 1 34 7 12 0 -10"
   ]
  },
  {
   "cell_type": "markdown",
   "metadata": {
    "id": "5lPHVRMZg-Jm"
   },
   "source": [
    "## Задача 3. Перестановки строк"
   ]
  },
  {
   "cell_type": "code",
   "execution_count": 4,
   "metadata": {
    "colab": {
     "base_uri": "https://localhost:8080/"
    },
    "executionInfo": {
     "elapsed": 5684,
     "status": "ok",
     "timestamp": 1733415133483,
     "user": {
      "displayName": "Иван Елькин",
      "userId": "12386214062098670036"
     },
     "user_tz": -300
    },
    "id": "WWWTRMoghEGZ",
    "outputId": "d529dbc7-89ae-4b7d-8efe-72173576b4e0"
   },
   "outputs": [
    {
     "name": "stdout",
     "output_type": "stream",
     "text": [
      "('a', 'b', 'c') ('a', 'b', 'd') ('a', 'c', 'b') ('a', 'c', 'd') ('a', 'd', 'b') ('a', 'd', 'c') ('b', 'a', 'c') ('b', 'a', 'd') ('b', 'c', 'a') ('b', 'c', 'd') ('b', 'd', 'a') ('b', 'd', 'c') ('c', 'a', 'b') ('c', 'a', 'd') ('c', 'b', 'a') ('c', 'b', 'd') ('c', 'd', 'a') ('c', 'd', 'b') ('d', 'a', 'b') ('d', 'a', 'c') ('d', 'b', 'a') ('d', 'b', 'c') ('d', 'c', 'a') ('d', 'c', 'b')\n"
     ]
    }
   ],
   "source": [
    "data = input(\"Введите строку: \")  # abcd\n",
    "\n",
    "print(*get_permutations(data, 3))"
   ]
  },
  {
   "cell_type": "markdown",
   "metadata": {
    "id": "HxIUHDTznZeE"
   },
   "source": [
    "## Задача 4. Комбинации символов"
   ]
  },
  {
   "cell_type": "code",
   "execution_count": 5,
   "metadata": {
    "colab": {
     "base_uri": "https://localhost:8080/"
    },
    "executionInfo": {
     "elapsed": 3908,
     "status": "ok",
     "timestamp": 1733416111168,
     "user": {
      "displayName": "Иван Елькин",
      "userId": "12386214062098670036"
     },
     "user_tz": -300
    },
    "id": "AxbBQiZSngRg",
    "outputId": "d97ab8a7-7b75-4114-e69f-629e570beba9"
   },
   "outputs": [
    {
     "name": "stdout",
     "output_type": "stream",
     "text": [
      "('a',) ('b',) ('c',) ('d',) ('a', 'b') ('a', 'c') ('a', 'd') ('b', 'c') ('b', 'd') ('c', 'd') ('a', 'b', 'c') ('a', 'b', 'd') ('a', 'c', 'd') ('b', 'c', 'd')\n"
     ]
    }
   ],
   "source": [
    "data = input(\"Введите строку: \")  # abcd\n",
    "\n",
    "print(*get_combinations(data, 3))"
   ]
  },
  {
   "cell_type": "markdown",
   "metadata": {
    "id": "dj9790gAq10c"
   },
   "source": [
    "## Задача 5. Функция с частичными аргументами"
   ]
  },
  {
   "cell_type": "code",
   "execution_count": 6,
   "metadata": {
    "colab": {
     "base_uri": "https://localhost:8080/"
    },
    "executionInfo": {
     "elapsed": 314,
     "status": "ok",
     "timestamp": 1733419020341,
     "user": {
      "displayName": "Иван Елькин",
      "userId": "12386214062098670036"
     },
     "user_tz": -300
    },
    "id": "-qi14ibiq4iG",
    "outputId": "6c4cad11-a502-4159-8a42-72fd0e4b0f76"
   },
   "outputs": [
    {
     "name": "stdout",
     "output_type": "stream",
     "text": [
      "Сортировка по возрастанию возраста: [{'name': 'Peter', 'age': 15}, {'name': 'Anna', 'age': 23}, {'name': 'John', 'age': 30}, {'name': 'Kira', 'age': 40}, {'name': 'Jack', 'age': 65}]\n",
      "Сортировка по убыванию возраста: [{'name': 'Jack', 'age': 65}, {'name': 'Kira', 'age': 40}, {'name': 'John', 'age': 30}, {'name': 'Anna', 'age': 23}, {'name': 'Peter', 'age': 15}]\n"
     ]
    }
   ],
   "source": [
    "data = [\n",
    "    {\"name\": \"John\", \"age\": 30},\n",
    "    {\"name\": \"Peter\", \"age\": 15},\n",
    "    {\"name\": \"Jack\", \"age\": 65},\n",
    "    {\"name\": \"Anna\", \"age\": 23},\n",
    "    {\"name\": \"Kira\", \"age\": 40},\n",
    "]\n",
    "\n",
    "print(f\"Сортировка по возрастанию возраста: {sort_users_by_age_ascending(data)}\")\n",
    "print(f\"Сортировка по убыванию возраста: {sort_users_by_age_descending(data)}\")"
   ]
  }
 ],
 "metadata": {
  "colab": {
   "authorship_tag": "ABX9TyM+GgLIjGzyJZnPJadfGeIb",
   "provenance": []
  },
  "kernelspec": {
   "display_name": ".mlinnopolis",
   "language": "python",
   "name": "python3"
  },
  "language_info": {
   "codemirror_mode": {
    "name": "ipython",
    "version": 3
   },
   "file_extension": ".py",
   "mimetype": "text/x-python",
   "name": "python",
   "nbconvert_exporter": "python",
   "pygments_lexer": "ipython3",
   "version": "3.13.0"
  }
 },
 "nbformat": 4,
 "nbformat_minor": 0
}
