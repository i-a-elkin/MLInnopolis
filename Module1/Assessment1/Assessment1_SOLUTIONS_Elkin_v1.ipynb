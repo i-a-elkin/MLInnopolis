{
 "cells": [
  {
   "cell_type": "markdown",
   "metadata": {
    "id": "OFGvrGF-znfR"
   },
   "source": [
    "# Модуль1. Промежуточная аттестация"
   ]
  },
  {
   "cell_type": "markdown",
   "metadata": {
    "id": "35ae8D2-zvX0"
   },
   "source": [
    "## Модули"
   ]
  },
  {
   "cell_type": "code",
   "execution_count": 1,
   "metadata": {
    "id": "NeOs526p63Ea"
   },
   "outputs": [],
   "source": [
    "import seaborn as sns\n",
    "import pandas as pd\n",
    "from scipy.stats import ttest_ind, pearsonr\n",
    "import numpy as np\n",
    "from sklearn.linear_model import LinearRegression\n",
    "import matplotlib.pyplot as plt"
   ]
  },
  {
   "cell_type": "markdown",
   "metadata": {
    "id": "FOwE7quvzTv1"
   },
   "source": [
    "## Загрузка датасета"
   ]
  },
  {
   "cell_type": "code",
   "execution_count": 2,
   "metadata": {
    "colab": {
     "base_uri": "https://localhost:8080/",
     "height": 206
    },
    "executionInfo": {
     "elapsed": 9,
     "status": "ok",
     "timestamp": 1730528030291,
     "user": {
      "displayName": "Иван Елькин",
      "userId": "12386214062098670036"
     },
     "user_tz": -300
    },
    "id": "JxszM9J6ywAk",
    "outputId": "1677c870-1474-4518-dbb2-ffe1e5af96b6"
   },
   "outputs": [
    {
     "data": {
      "text/html": [
       "<div>\n",
       "<style scoped>\n",
       "    .dataframe tbody tr th:only-of-type {\n",
       "        vertical-align: middle;\n",
       "    }\n",
       "\n",
       "    .dataframe tbody tr th {\n",
       "        vertical-align: top;\n",
       "    }\n",
       "\n",
       "    .dataframe thead th {\n",
       "        text-align: right;\n",
       "    }\n",
       "</style>\n",
       "<table border=\"1\" class=\"dataframe\">\n",
       "  <thead>\n",
       "    <tr style=\"text-align: right;\">\n",
       "      <th></th>\n",
       "      <th>mpg</th>\n",
       "      <th>cylinders</th>\n",
       "      <th>displacement</th>\n",
       "      <th>horsepower</th>\n",
       "      <th>weight</th>\n",
       "      <th>acceleration</th>\n",
       "      <th>model_year</th>\n",
       "      <th>origin</th>\n",
       "      <th>name</th>\n",
       "    </tr>\n",
       "  </thead>\n",
       "  <tbody>\n",
       "    <tr>\n",
       "      <th>0</th>\n",
       "      <td>18.0</td>\n",
       "      <td>8</td>\n",
       "      <td>307.0</td>\n",
       "      <td>130.0</td>\n",
       "      <td>3504</td>\n",
       "      <td>12.0</td>\n",
       "      <td>70</td>\n",
       "      <td>usa</td>\n",
       "      <td>chevrolet chevelle malibu</td>\n",
       "    </tr>\n",
       "    <tr>\n",
       "      <th>1</th>\n",
       "      <td>15.0</td>\n",
       "      <td>8</td>\n",
       "      <td>350.0</td>\n",
       "      <td>165.0</td>\n",
       "      <td>3693</td>\n",
       "      <td>11.5</td>\n",
       "      <td>70</td>\n",
       "      <td>usa</td>\n",
       "      <td>buick skylark 320</td>\n",
       "    </tr>\n",
       "    <tr>\n",
       "      <th>2</th>\n",
       "      <td>18.0</td>\n",
       "      <td>8</td>\n",
       "      <td>318.0</td>\n",
       "      <td>150.0</td>\n",
       "      <td>3436</td>\n",
       "      <td>11.0</td>\n",
       "      <td>70</td>\n",
       "      <td>usa</td>\n",
       "      <td>plymouth satellite</td>\n",
       "    </tr>\n",
       "    <tr>\n",
       "      <th>3</th>\n",
       "      <td>16.0</td>\n",
       "      <td>8</td>\n",
       "      <td>304.0</td>\n",
       "      <td>150.0</td>\n",
       "      <td>3433</td>\n",
       "      <td>12.0</td>\n",
       "      <td>70</td>\n",
       "      <td>usa</td>\n",
       "      <td>amc rebel sst</td>\n",
       "    </tr>\n",
       "    <tr>\n",
       "      <th>4</th>\n",
       "      <td>17.0</td>\n",
       "      <td>8</td>\n",
       "      <td>302.0</td>\n",
       "      <td>140.0</td>\n",
       "      <td>3449</td>\n",
       "      <td>10.5</td>\n",
       "      <td>70</td>\n",
       "      <td>usa</td>\n",
       "      <td>ford torino</td>\n",
       "    </tr>\n",
       "  </tbody>\n",
       "</table>\n",
       "</div>"
      ],
      "text/plain": [
       "    mpg  cylinders  displacement  horsepower  weight  acceleration  \\\n",
       "0  18.0          8         307.0       130.0    3504          12.0   \n",
       "1  15.0          8         350.0       165.0    3693          11.5   \n",
       "2  18.0          8         318.0       150.0    3436          11.0   \n",
       "3  16.0          8         304.0       150.0    3433          12.0   \n",
       "4  17.0          8         302.0       140.0    3449          10.5   \n",
       "\n",
       "   model_year origin                       name  \n",
       "0          70    usa  chevrolet chevelle malibu  \n",
       "1          70    usa          buick skylark 320  \n",
       "2          70    usa         plymouth satellite  \n",
       "3          70    usa              amc rebel sst  \n",
       "4          70    usa                ford torino  "
      ]
     },
     "execution_count": 2,
     "metadata": {},
     "output_type": "execute_result"
    }
   ],
   "source": [
    "df = sns.load_dataset(\"mpg\")\n",
    "df.head()"
   ]
  },
  {
   "cell_type": "markdown",
   "metadata": {
    "id": "LXBoW1UGy9FB"
   },
   "source": [
    "## Подсчет количества строк и столбцов"
   ]
  },
  {
   "cell_type": "code",
   "execution_count": 3,
   "metadata": {
    "colab": {
     "base_uri": "https://localhost:8080/"
    },
    "executionInfo": {
     "elapsed": 8,
     "status": "ok",
     "timestamp": 1730528030291,
     "user": {
      "displayName": "Иван Елькин",
      "userId": "12386214062098670036"
     },
     "user_tz": -300
    },
    "id": "IgPU2BCmy1RN",
    "outputId": "c553181a-32d3-443f-c029-47b185e42882"
   },
   "outputs": [
    {
     "name": "stdout",
     "output_type": "stream",
     "text": [
      "Количество строк: 398\n",
      "Количество столбцов: 9\n"
     ]
    }
   ],
   "source": [
    "print(f\"Количество строк: {df.shape[0]}\")\n",
    "print(f\"Количество столбцов: {df.shape[1]}\")"
   ]
  },
  {
   "cell_type": "markdown",
   "metadata": {
    "id": "Ku8Zk26Wzb9q"
   },
   "source": [
    "## Разведочный анализ данных"
   ]
  },
  {
   "cell_type": "markdown",
   "metadata": {
    "id": "y7vGmms90Cyo"
   },
   "source": [
    "### Числовые переменные"
   ]
  },
  {
   "cell_type": "code",
   "execution_count": 4,
   "metadata": {
    "colab": {
     "base_uri": "https://localhost:8080/"
    },
    "executionInfo": {
     "elapsed": 6,
     "status": "ok",
     "timestamp": 1730528030291,
     "user": {
      "displayName": "Иван Елькин",
      "userId": "12386214062098670036"
     },
     "user_tz": -300
    },
    "id": "CMbaCZLO0eYA",
    "outputId": "28e0d6e5-3c32-4087-d0c2-69927901ca52"
   },
   "outputs": [
    {
     "data": {
      "text/plain": [
       "['mpg',\n",
       " 'cylinders',\n",
       " 'displacement',\n",
       " 'horsepower',\n",
       " 'weight',\n",
       " 'acceleration',\n",
       " 'model_year']"
      ]
     },
     "execution_count": 4,
     "metadata": {},
     "output_type": "execute_result"
    }
   ],
   "source": [
    "num_features = [\n",
    "    feature for feature in df.columns if df[feature].dtypes in (\"float64\", \"int64\")\n",
    "]\n",
    "num_features"
   ]
  },
  {
   "cell_type": "code",
   "execution_count": 5,
   "metadata": {
    "colab": {
     "base_uri": "https://localhost:8080/",
     "height": 363
    },
    "executionInfo": {
     "elapsed": 5,
     "status": "ok",
     "timestamp": 1730528030291,
     "user": {
      "displayName": "Иван Елькин",
      "userId": "12386214062098670036"
     },
     "user_tz": -300
    },
    "id": "yT9v_tmT7mzP",
    "outputId": "f1f7189d-93e5-4960-e241-cac0e2580894"
   },
   "outputs": [
    {
     "data": {
      "text/html": [
       "<div>\n",
       "<style scoped>\n",
       "    .dataframe tbody tr th:only-of-type {\n",
       "        vertical-align: middle;\n",
       "    }\n",
       "\n",
       "    .dataframe tbody tr th {\n",
       "        vertical-align: top;\n",
       "    }\n",
       "\n",
       "    .dataframe thead th {\n",
       "        text-align: right;\n",
       "    }\n",
       "</style>\n",
       "<table border=\"1\" class=\"dataframe\">\n",
       "  <thead>\n",
       "    <tr style=\"text-align: right;\">\n",
       "      <th></th>\n",
       "      <th>mpg</th>\n",
       "      <th>cylinders</th>\n",
       "      <th>displacement</th>\n",
       "      <th>horsepower</th>\n",
       "      <th>weight</th>\n",
       "      <th>acceleration</th>\n",
       "      <th>model_year</th>\n",
       "    </tr>\n",
       "  </thead>\n",
       "  <tbody>\n",
       "    <tr>\n",
       "      <th>Доля пропусков</th>\n",
       "      <td>0.00</td>\n",
       "      <td>0.00</td>\n",
       "      <td>0.00</td>\n",
       "      <td>0.02</td>\n",
       "      <td>0.00</td>\n",
       "      <td>0.00</td>\n",
       "      <td>0.00</td>\n",
       "    </tr>\n",
       "    <tr>\n",
       "      <th>Макс значение</th>\n",
       "      <td>46.60</td>\n",
       "      <td>8.00</td>\n",
       "      <td>455.00</td>\n",
       "      <td>230.00</td>\n",
       "      <td>5140.00</td>\n",
       "      <td>24.80</td>\n",
       "      <td>82.00</td>\n",
       "    </tr>\n",
       "    <tr>\n",
       "      <th>Мин значение</th>\n",
       "      <td>9.00</td>\n",
       "      <td>3.00</td>\n",
       "      <td>68.00</td>\n",
       "      <td>46.00</td>\n",
       "      <td>1613.00</td>\n",
       "      <td>8.00</td>\n",
       "      <td>70.00</td>\n",
       "    </tr>\n",
       "    <tr>\n",
       "      <th>Среднее значение</th>\n",
       "      <td>23.51</td>\n",
       "      <td>5.45</td>\n",
       "      <td>193.43</td>\n",
       "      <td>104.47</td>\n",
       "      <td>2970.42</td>\n",
       "      <td>15.57</td>\n",
       "      <td>76.01</td>\n",
       "    </tr>\n",
       "    <tr>\n",
       "      <th>Медиана</th>\n",
       "      <td>23.00</td>\n",
       "      <td>4.00</td>\n",
       "      <td>148.50</td>\n",
       "      <td>93.50</td>\n",
       "      <td>2803.50</td>\n",
       "      <td>15.50</td>\n",
       "      <td>76.00</td>\n",
       "    </tr>\n",
       "    <tr>\n",
       "      <th>Дисперсия</th>\n",
       "      <td>61.09</td>\n",
       "      <td>2.89</td>\n",
       "      <td>10872.20</td>\n",
       "      <td>1481.57</td>\n",
       "      <td>717140.99</td>\n",
       "      <td>7.60</td>\n",
       "      <td>13.67</td>\n",
       "    </tr>\n",
       "    <tr>\n",
       "      <th>Квантиль 0.1</th>\n",
       "      <td>14.00</td>\n",
       "      <td>4.00</td>\n",
       "      <td>90.00</td>\n",
       "      <td>67.00</td>\n",
       "      <td>1988.50</td>\n",
       "      <td>12.00</td>\n",
       "      <td>71.00</td>\n",
       "    </tr>\n",
       "    <tr>\n",
       "      <th>Квантиль 0.9</th>\n",
       "      <td>34.33</td>\n",
       "      <td>8.00</td>\n",
       "      <td>350.00</td>\n",
       "      <td>157.70</td>\n",
       "      <td>4275.20</td>\n",
       "      <td>19.00</td>\n",
       "      <td>81.00</td>\n",
       "    </tr>\n",
       "    <tr>\n",
       "      <th>Квартиль 1</th>\n",
       "      <td>17.50</td>\n",
       "      <td>4.00</td>\n",
       "      <td>104.25</td>\n",
       "      <td>75.00</td>\n",
       "      <td>2223.75</td>\n",
       "      <td>13.82</td>\n",
       "      <td>73.00</td>\n",
       "    </tr>\n",
       "    <tr>\n",
       "      <th>Квартиль 3</th>\n",
       "      <td>29.00</td>\n",
       "      <td>8.00</td>\n",
       "      <td>262.00</td>\n",
       "      <td>126.00</td>\n",
       "      <td>3608.00</td>\n",
       "      <td>17.18</td>\n",
       "      <td>79.00</td>\n",
       "    </tr>\n",
       "  </tbody>\n",
       "</table>\n",
       "</div>"
      ],
      "text/plain": [
       "                    mpg  cylinders  displacement  horsepower     weight  \\\n",
       "Доля пропусков     0.00       0.00          0.00        0.02       0.00   \n",
       "Макс значение     46.60       8.00        455.00      230.00    5140.00   \n",
       "Мин значение       9.00       3.00         68.00       46.00    1613.00   \n",
       "Среднее значение  23.51       5.45        193.43      104.47    2970.42   \n",
       "Медиана           23.00       4.00        148.50       93.50    2803.50   \n",
       "Дисперсия         61.09       2.89      10872.20     1481.57  717140.99   \n",
       "Квантиль 0.1      14.00       4.00         90.00       67.00    1988.50   \n",
       "Квантиль 0.9      34.33       8.00        350.00      157.70    4275.20   \n",
       "Квартиль 1        17.50       4.00        104.25       75.00    2223.75   \n",
       "Квартиль 3        29.00       8.00        262.00      126.00    3608.00   \n",
       "\n",
       "                  acceleration  model_year  \n",
       "Доля пропусков            0.00        0.00  \n",
       "Макс значение            24.80       82.00  \n",
       "Мин значение              8.00       70.00  \n",
       "Среднее значение         15.57       76.01  \n",
       "Медиана                  15.50       76.00  \n",
       "Дисперсия                 7.60       13.67  \n",
       "Квантиль 0.1             12.00       71.00  \n",
       "Квантиль 0.9             19.00       81.00  \n",
       "Квартиль 1               13.82       73.00  \n",
       "Квартиль 3               17.18       79.00  "
      ]
     },
     "execution_count": 5,
     "metadata": {},
     "output_type": "execute_result"
    }
   ],
   "source": [
    "num_summary = pd.DataFrame()\n",
    "\n",
    "for col in num_features:\n",
    "    num_summary[col] = {\n",
    "        \"Доля пропусков\": df[col].isnull().mean(),\n",
    "        \"Макс значение\": df[col].max(),\n",
    "        \"Мин значение\": df[col].min(),\n",
    "        \"Среднее значение\": df[col].mean(),\n",
    "        \"Медиана\": df[col].median(),\n",
    "        \"Дисперсия\": df[col].var(),\n",
    "        \"Квантиль 0.1\": df[col].quantile(0.1),\n",
    "        \"Квантиль 0.9\": df[col].quantile(0.9),\n",
    "        \"Квартиль 1\": df[col].quantile(0.25),\n",
    "        \"Квартиль 3\": df[col].quantile(0.75),\n",
    "    }\n",
    "    num_summary[col] = [*map(lambda x: round(x, 2), num_summary[col].values)]\n",
    "\n",
    "num_summary"
   ]
  },
  {
   "cell_type": "markdown",
   "metadata": {
    "id": "bkFKa4oP1ugK"
   },
   "source": [
    "### Категориальные переменные"
   ]
  },
  {
   "cell_type": "code",
   "execution_count": 6,
   "metadata": {
    "colab": {
     "base_uri": "https://localhost:8080/"
    },
    "executionInfo": {
     "elapsed": 383,
     "status": "ok",
     "timestamp": 1730528030670,
     "user": {
      "displayName": "Иван Елькин",
      "userId": "12386214062098670036"
     },
     "user_tz": -300
    },
    "id": "p-NhK1O013oC",
    "outputId": "627f139e-6032-47ac-9da1-62312b495ae2"
   },
   "outputs": [
    {
     "data": {
      "text/plain": [
       "['origin', 'name']"
      ]
     },
     "execution_count": 6,
     "metadata": {},
     "output_type": "execute_result"
    }
   ],
   "source": [
    "cat_features = [feature for feature in df.columns if df[feature].dtypes in (\"object\",)]\n",
    "cat_features"
   ]
  },
  {
   "cell_type": "code",
   "execution_count": 7,
   "metadata": {
    "colab": {
     "base_uri": "https://localhost:8080/",
     "height": 143
    },
    "executionInfo": {
     "elapsed": 13,
     "status": "ok",
     "timestamp": 1730528030670,
     "user": {
      "displayName": "Иван Елькин",
      "userId": "12386214062098670036"
     },
     "user_tz": -300
    },
    "id": "9j87GUhA878M",
    "outputId": "8a0912a8-1b02-43c1-f3c3-c24d4dbfa18f"
   },
   "outputs": [
    {
     "data": {
      "text/html": [
       "<div>\n",
       "<style scoped>\n",
       "    .dataframe tbody tr th:only-of-type {\n",
       "        vertical-align: middle;\n",
       "    }\n",
       "\n",
       "    .dataframe tbody tr th {\n",
       "        vertical-align: top;\n",
       "    }\n",
       "\n",
       "    .dataframe thead th {\n",
       "        text-align: right;\n",
       "    }\n",
       "</style>\n",
       "<table border=\"1\" class=\"dataframe\">\n",
       "  <thead>\n",
       "    <tr style=\"text-align: right;\">\n",
       "      <th></th>\n",
       "      <th>origin</th>\n",
       "      <th>name</th>\n",
       "    </tr>\n",
       "  </thead>\n",
       "  <tbody>\n",
       "    <tr>\n",
       "      <th>Доля пропусков</th>\n",
       "      <td>0.0</td>\n",
       "      <td>0.0</td>\n",
       "    </tr>\n",
       "    <tr>\n",
       "      <th>Количество уникальных значений</th>\n",
       "      <td>3</td>\n",
       "      <td>305</td>\n",
       "    </tr>\n",
       "    <tr>\n",
       "      <th>Мода</th>\n",
       "      <td>usa</td>\n",
       "      <td>ford pinto</td>\n",
       "    </tr>\n",
       "  </tbody>\n",
       "</table>\n",
       "</div>"
      ],
      "text/plain": [
       "                               origin        name\n",
       "Доля пропусков                    0.0         0.0\n",
       "Количество уникальных значений      3         305\n",
       "Мода                              usa  ford pinto"
      ]
     },
     "execution_count": 7,
     "metadata": {},
     "output_type": "execute_result"
    }
   ],
   "source": [
    "cat_summary = pd.DataFrame()\n",
    "\n",
    "for col in cat_features:\n",
    "    cat_summary[col] = {\n",
    "        \"Доля пропусков\": df[col].isnull().mean(),\n",
    "        \"Количество уникальных значений\": df[col].nunique(),\n",
    "        \"Мода\": df[col].mode().values[0],\n",
    "    }\n",
    "\n",
    "cat_summary"
   ]
  },
  {
   "cell_type": "markdown",
   "metadata": {
    "id": "zGFMw2OP-FgU"
   },
   "source": [
    "Набор содержит 2% пропущенных значений в колонке \"horsepower\", удалим строки с этими значениями."
   ]
  },
  {
   "cell_type": "code",
   "execution_count": 8,
   "metadata": {
    "colab": {
     "base_uri": "https://localhost:8080/"
    },
    "executionInfo": {
     "elapsed": 12,
     "status": "ok",
     "timestamp": 1730528030670,
     "user": {
      "displayName": "Иван Елькин",
      "userId": "12386214062098670036"
     },
     "user_tz": -300
    },
    "id": "P5v3vIP5-UCY",
    "outputId": "f0fc78ce-34b1-4e27-fa70-8787817748b0"
   },
   "outputs": [
    {
     "name": "stdout",
     "output_type": "stream",
     "text": [
      "<class 'pandas.core.frame.DataFrame'>\n",
      "RangeIndex: 392 entries, 0 to 391\n",
      "Data columns (total 9 columns):\n",
      " #   Column        Non-Null Count  Dtype  \n",
      "---  ------        --------------  -----  \n",
      " 0   mpg           392 non-null    float64\n",
      " 1   cylinders     392 non-null    int64  \n",
      " 2   displacement  392 non-null    float64\n",
      " 3   horsepower    392 non-null    float64\n",
      " 4   weight        392 non-null    int64  \n",
      " 5   acceleration  392 non-null    float64\n",
      " 6   model_year    392 non-null    int64  \n",
      " 7   origin        392 non-null    object \n",
      " 8   name          392 non-null    object \n",
      "dtypes: float64(4), int64(3), object(2)\n",
      "memory usage: 27.7+ KB\n"
     ]
    }
   ],
   "source": [
    "df = df.dropna(ignore_index=True)\n",
    "df.info()"
   ]
  },
  {
   "cell_type": "markdown",
   "metadata": {
    "id": "A7vtnOQm-s4j"
   },
   "source": [
    "В результате удаления потерено всего 6 строк данных, что не является критичным."
   ]
  },
  {
   "cell_type": "markdown",
   "metadata": {
    "id": "QmGZoBs6_PM0"
   },
   "source": [
    "## Проверка статистических гипотез"
   ]
  },
  {
   "cell_type": "markdown",
   "metadata": {
    "id": "h1EJ-kFr_Ufx"
   },
   "source": [
    "### Гипотеза 1"
   ]
  },
  {
   "cell_type": "markdown",
   "metadata": {
    "id": "UnvF5z-1Jvqh"
   },
   "source": [
    "Существует мнение, что жители США предпочитают использовать автомобили с мощными дигателями, например, пикапы и внедорожники. Для проверки этого сформулируем нулевую и альтернативную гипотезы:\n",
    "\n",
    "- H0 - Средняя мощность автомобилей (horsepower) в США не больше средней мощности автомобилей в Европе и Японии;\n",
    "- H1 - Средняя мощность автомобилей в США больше средней мощности автомобилей в Европе и Японии."
   ]
  },
  {
   "cell_type": "code",
   "execution_count": 9,
   "metadata": {
    "colab": {
     "base_uri": "https://localhost:8080/"
    },
    "executionInfo": {
     "elapsed": 9,
     "status": "ok",
     "timestamp": 1730528030670,
     "user": {
      "displayName": "Иван Елькин",
      "userId": "12386214062098670036"
     },
     "user_tz": -300
    },
    "id": "W44nbz8MJcJf",
    "outputId": "87e36b22-67c9-4305-9ad7-8910d81bb24c"
   },
   "outputs": [
    {
     "name": "stdout",
     "output_type": "stream",
     "text": [
      "Отвергаем H0 - Средняя мощность автомобилей в США больше средней мощности автомобилей в Европе и Японии.\n"
     ]
    }
   ],
   "source": [
    "# уровень значимости\n",
    "alpha = 0.05\n",
    "\n",
    "usa_horsepower = df[df[\"origin\"] == \"usa\"][\"horsepower\"].values\n",
    "euro_japan_horsepower = df[df[\"origin\"] != \"usa\"][\"horsepower\"].values\n",
    "\n",
    "ttest_res = ttest_ind(usa_horsepower, euro_japan_horsepower, alternative=\"greater\")\n",
    "\n",
    "if ttest_res.pvalue < alpha:\n",
    "    print(\n",
    "        \"Отвергаем H0 - Средняя мощность автомобилей в США больше средней мощности автомобилей в Европе и Японии.\"\n",
    "    )\n",
    "else:\n",
    "    print(\n",
    "        \"Не можем отвергнуть H0 - Средняя мощность автомобилей в США не больше средней мощности автомобилей в Европе и Японии.\"\n",
    "    )"
   ]
  },
  {
   "cell_type": "markdown",
   "metadata": {
    "id": "W4fR4K0uQpit"
   },
   "source": [
    "Тест показал, что  жители США предпочитают использовать автомобили с более мощными, чем в Европе и Японии дигателями."
   ]
  },
  {
   "cell_type": "markdown",
   "metadata": {
    "id": "Vtchf8NG_Z0z"
   },
   "source": [
    "### Гипотеза 2"
   ]
  },
  {
   "cell_type": "markdown",
   "metadata": {
    "id": "LbyF-2gVSpDF"
   },
   "source": [
    "Существует мнение, что спортивные автомобили обладают малыми габаритами и малым весом. Проверим существует ли корреляция между весом автомобиля и его ускорением. Сформулируем нулевую и альтернативную гипотезы:\n",
    "- H0 - Корреляции между весом автомобиля и его ускорением нет;\n",
    "- H1 - Существует корреляция между весом автомобиля и его ускорением."
   ]
  },
  {
   "cell_type": "code",
   "execution_count": 10,
   "metadata": {
    "colab": {
     "base_uri": "https://localhost:8080/"
    },
    "executionInfo": {
     "elapsed": 8,
     "status": "ok",
     "timestamp": 1730528030671,
     "user": {
      "displayName": "Иван Елькин",
      "userId": "12386214062098670036"
     },
     "user_tz": -300
    },
    "id": "GTJ6RqpxVl4e",
    "outputId": "30742a8f-3e61-4374-c5d0-edfabd19a371"
   },
   "outputs": [
    {
     "name": "stdout",
     "output_type": "stream",
     "text": [
      "Отвергаем H0 - Существует корреляция между весом автомобиля и его ускорением.\n",
      "Коэффициент корреляции: -0.42\n"
     ]
    }
   ],
   "source": [
    "# уровень значимости\n",
    "alpha = 0.05\n",
    "\n",
    "pearsonr_res = pearsonr(df[\"weight\"], df[\"acceleration\"])\n",
    "\n",
    "if pearsonr_res.pvalue < alpha:\n",
    "    print(\n",
    "        \"Отвергаем H0 - Существует корреляция между весом автомобиля и его ускорением.\"\n",
    "    )\n",
    "    print(f\"Коэффициент корреляции: {pearsonr_res.statistic:.2f}\")\n",
    "else:\n",
    "    print(\n",
    "        \"Не можем отвергнуть H0 - Корреляции между весом автомобиля и его ускорением нет.\"\n",
    "    )"
   ]
  },
  {
   "cell_type": "markdown",
   "metadata": {
    "id": "4-_IupDJY_0q"
   },
   "source": [
    "Тест показал, что связь между переменными существует, но она не очень сильная. С увеличением веса автомобиля ускорение имеет тенденцию уменьшаться."
   ]
  },
  {
   "cell_type": "markdown",
   "metadata": {
    "id": "z3gk0cbvZpSj"
   },
   "source": [
    "## Реализация градиентного спуска"
   ]
  },
  {
   "cell_type": "code",
   "execution_count": 11,
   "metadata": {
    "id": "AM4DWl7JkD8V"
   },
   "outputs": [],
   "source": [
    "y = df[\"mpg\"].values\n",
    "X1 = df[\"horsepower\"].values\n",
    "X2 = df[\"weight\"].values"
   ]
  },
  {
   "cell_type": "code",
   "execution_count": 12,
   "metadata": {
    "id": "6r5SEwCAZuhX"
   },
   "outputs": [],
   "source": [
    "def gradient_descent(\n",
    "    y,\n",
    "    *args,\n",
    "    initial_coeffs=None,\n",
    "    fit_intercept=True,\n",
    "    stochastic=False,\n",
    "    lr=0.001,\n",
    "    max_iters=1000000,\n",
    "    eps=0.001,\n",
    "    random_seed=10,\n",
    "):\n",
    "    np.random.seed(random_seed)\n",
    "    m = len(y)\n",
    "\n",
    "    # проверяем, нужно ли добавлять свободный член\n",
    "    if fit_intercept:\n",
    "        vars = [np.ones(m)]  # добавляем вектор из единиц\n",
    "    else:\n",
    "        vars = []\n",
    "    vars.extend(args)  # добавляем остальные переменные\n",
    "\n",
    "    # инициализируем коэффициенты случайными значениями\n",
    "    if not initial_coeffs:\n",
    "        coeffs = [*np.random.randn(len(vars)) * 0.01]\n",
    "    # используем переданные начальные коэффициенты\n",
    "    else:\n",
    "        coeffs = []\n",
    "        coeffs.extend(initial_coeffs)\n",
    "\n",
    "    # проверяем, совпадает ли количество переменных и коэффициентов\n",
    "    if len(vars) != len(coeffs):\n",
    "        raise Exception(\"Проверьте *args, initial_coeffs, fit_intercept\")\n",
    "\n",
    "    # история изменения коэффициентов и ошибки на каждой итерации\n",
    "    coeffs_hist = [[] for _ in range(len(coeffs))]\n",
    "    error_hist = []\n",
    "\n",
    "    while len(error_hist) < max_iters - 1:\n",
    "        # сохраняем текущее значение коэффициентов\n",
    "        for i in range(len(coeffs)):\n",
    "            coeffs_hist[i].append(coeffs[i])\n",
    "\n",
    "        if not stochastic:\n",
    "            error = sum([coeffs[i] * vars[i] for i in range(len(coeffs))]) - y\n",
    "            if np.isnan(error).any():\n",
    "                raise Exception(\n",
    "                    \"Градиентный спуск не сходится! Попробуйте уменьшить initial_coeffs и/или lr\"\n",
    "                )\n",
    "\n",
    "            # добавляем среднюю норму ошибки в историю\n",
    "            error_hist.append(np.linalg.norm(error) / m)\n",
    "            # проверяем условие сходимости\n",
    "            if np.linalg.norm(error) / m < eps:\n",
    "                print(\n",
    "                    \"Достигнуто условие сходимости за количество итераций менее max_iters\"\n",
    "                )\n",
    "                break\n",
    "\n",
    "            # обновляем коэффициенты по формуле градиентного спуска\n",
    "            for i in range(len(coeffs)):\n",
    "                coeffs[i] -= lr * (2 / m) * np.sum(error * vars[i])\n",
    "\n",
    "        if stochastic:\n",
    "            idx_random = np.random.randint(m)  # выбираем случайный индекс\n",
    "            y_random = y[idx_random]  # выбираем случайное значение из y\n",
    "            vars_random = [\n",
    "                var[idx_random] for var in vars\n",
    "            ]  # выбираем соответствующие значения переменных\n",
    "\n",
    "            # вычисляем ошибку для случайного наблюдения\n",
    "            error_random = (\n",
    "                sum(coeff * var for coeff, var in zip(coeffs, vars_random)) - y_random\n",
    "            )\n",
    "            # вычисляем общую ошибку\n",
    "            error = sum([coeffs[i] * vars[i] for i in range(len(coeffs))]) - y\n",
    "            if np.isnan(error_random).any():\n",
    "                raise Exception(\n",
    "                    \"Градиентный спуск не сходится! Попробуйте уменьшить initial_coeffs и/или lr\"\n",
    "                )\n",
    "\n",
    "            # добавляем среднюю норму ошибки в историю\n",
    "            error_hist.append(np.linalg.norm(error) / m)\n",
    "            # проверяем условие сходимости\n",
    "            if np.linalg.norm(error) / m < eps:\n",
    "                print(\n",
    "                    \"Достигнуто условие сходимости за количество итераций менее max_iters\"\n",
    "                )\n",
    "                break\n",
    "\n",
    "            # обновляем коэффициенты для случайного наблюдения\n",
    "            for i in range(len(coeffs)):\n",
    "                coeffs[i] -= lr * (2 / m) * error_random * vars_random[i]\n",
    "\n",
    "    # добавляем последнюю ошибку и состояние коэффициентов в историю\n",
    "    if max_iters > 0:\n",
    "        error_hist.append(\n",
    "            np.linalg.norm(sum([coeffs[i] * vars[i] for i in range(len(coeffs))]) - y)\n",
    "            / m\n",
    "        )\n",
    "        for i in range(len(coeffs)):\n",
    "            coeffs_hist[i].append(coeffs[i])\n",
    "\n",
    "    # формируем результат в виде словаря\n",
    "    result = {\n",
    "        \"coeffs\": {\"intercept\": coeffs[0] if fit_intercept else 0.0}\n",
    "        | {\n",
    "            f\"w{i - int(fit_intercept)}\": coeffs[i]\n",
    "            for i in range(int(fit_intercept), len(coeffs))\n",
    "        },\n",
    "        \"coeffs_history\": {\"intercept\": coeffs_hist[0] if fit_intercept else None}\n",
    "        | {\n",
    "            f\"w{i - int(fit_intercept)}\": coeffs_hist[i]\n",
    "            for i in range(int(fit_intercept), len(coeffs_hist))\n",
    "        },\n",
    "        \"error_history\": error_hist,\n",
    "    }\n",
    "\n",
    "    return result"
   ]
  },
  {
   "cell_type": "markdown",
   "metadata": {
    "id": "BjV2IMIGtqm_"
   },
   "source": [
    "### Обычный градиентный спуск"
   ]
  },
  {
   "cell_type": "code",
   "execution_count": 13,
   "metadata": {
    "colab": {
     "base_uri": "https://localhost:8080/"
    },
    "executionInfo": {
     "elapsed": 70837,
     "status": "ok",
     "timestamp": 1730528101502,
     "user": {
      "displayName": "Иван Елькин",
      "userId": "12386214062098670036"
     },
     "user_tz": -300
    },
    "id": "E29lPYKQtVRd",
    "outputId": "f19827f1-e233-472a-a2b1-cfa161a5ebf8"
   },
   "outputs": [
    {
     "data": {
      "text/plain": [
       "{'intercept': 49.93717633079343,\n",
       " 'w0': -0.037076209041633536,\n",
       " 'w1': -0.007490867276198841}"
      ]
     },
     "execution_count": 13,
     "metadata": {},
     "output_type": "execute_result"
    }
   ],
   "source": [
    "grad_desc_intercept = gradient_descent(\n",
    "    y,\n",
    "    X1,\n",
    "    X2,\n",
    "    initial_coeffs=(50, 0.1, 0.1),\n",
    "    fit_intercept=True,\n",
    "    stochastic=False,\n",
    "    lr=0.0000001,\n",
    ")\n",
    "\n",
    "grad_desc_intercept[\"coeffs\"]"
   ]
  },
  {
   "cell_type": "code",
   "execution_count": 14,
   "metadata": {
    "colab": {
     "base_uri": "https://localhost:8080/"
    },
    "executionInfo": {
     "elapsed": 42909,
     "status": "ok",
     "timestamp": 1730528144406,
     "user": {
      "displayName": "Иван Елькин",
      "userId": "12386214062098670036"
     },
     "user_tz": -300
    },
    "id": "UGdprlddtVOZ",
    "outputId": "8e7491ee-8446-41f8-a018-997ab00b3522"
   },
   "outputs": [
    {
     "data": {
      "text/plain": [
       "{'intercept': 0.0, 'w0': -0.1559045292007087, 'w1': 0.012226710266733219}"
      ]
     },
     "execution_count": 14,
     "metadata": {},
     "output_type": "execute_result"
    }
   ],
   "source": [
    "grad_desc_no_intercept = gradient_descent(\n",
    "    y,\n",
    "    X1,\n",
    "    X2,\n",
    "    initial_coeffs=(0.1, 0.1),\n",
    "    fit_intercept=False,\n",
    "    stochastic=False,\n",
    "    lr=0.0000001,\n",
    ")\n",
    "\n",
    "grad_desc_no_intercept[\"coeffs\"]"
   ]
  },
  {
   "cell_type": "markdown",
   "metadata": {
    "id": "I5ew756Vtv_U"
   },
   "source": [
    "### Стохастический градиентный спуск"
   ]
  },
  {
   "cell_type": "code",
   "execution_count": 15,
   "metadata": {
    "colab": {
     "base_uri": "https://localhost:8080/"
    },
    "executionInfo": {
     "elapsed": 48516,
     "status": "ok",
     "timestamp": 1730528192917,
     "user": {
      "displayName": "Иван Елькин",
      "userId": "12386214062098670036"
     },
     "user_tz": -300
    },
    "id": "U2iLXrAGtVIB",
    "outputId": "d740fdb9-c54f-4033-b9c9-82a2fe1f297e"
   },
   "outputs": [
    {
     "data": {
      "text/plain": [
       "{'intercept': 49.983943524470476,\n",
       " 'w0': -0.03751248459685501,\n",
       " 'w1': -0.008167614488586921}"
      ]
     },
     "execution_count": 15,
     "metadata": {},
     "output_type": "execute_result"
    }
   ],
   "source": [
    "grad_desc_intercept_stochastic = gradient_descent(\n",
    "    y,\n",
    "    X1,\n",
    "    X2,\n",
    "    initial_coeffs=(50, 0.1, 0.1),\n",
    "    fit_intercept=True,\n",
    "    stochastic=True,\n",
    "    lr=0.00001,\n",
    ")\n",
    "\n",
    "grad_desc_intercept_stochastic[\"coeffs\"]"
   ]
  },
  {
   "cell_type": "code",
   "execution_count": 16,
   "metadata": {
    "colab": {
     "base_uri": "https://localhost:8080/"
    },
    "executionInfo": {
     "elapsed": 41274,
     "status": "ok",
     "timestamp": 1730528234185,
     "user": {
      "displayName": "Иван Елькин",
      "userId": "12386214062098670036"
     },
     "user_tz": -300
    },
    "id": "A2ZELA6cmBl4",
    "outputId": "605d4190-ffc7-4a33-d7c8-a2bff88d8e55"
   },
   "outputs": [
    {
     "data": {
      "text/plain": [
       "{'intercept': 0.0, 'w0': -0.15902795025000274, 'w1': 0.009013690297493295}"
      ]
     },
     "execution_count": 16,
     "metadata": {},
     "output_type": "execute_result"
    }
   ],
   "source": [
    "grad_desc_no_intercept_stochastic = gradient_descent(\n",
    "    y,\n",
    "    X1,\n",
    "    X2,\n",
    "    initial_coeffs=(0.1, 0.1),\n",
    "    fit_intercept=False,\n",
    "    stochastic=True,\n",
    "    lr=0.00001,\n",
    ")\n",
    "\n",
    "grad_desc_no_intercept_stochastic[\"coeffs\"]"
   ]
  },
  {
   "cell_type": "markdown",
   "metadata": {
    "id": "cILIGUoBPbiw"
   },
   "source": [
    "### История изменения коэффициентов"
   ]
  },
  {
   "cell_type": "code",
   "execution_count": 17,
   "metadata": {
    "colab": {
     "base_uri": "https://localhost:8080/",
     "height": 442
    },
    "executionInfo": {
     "elapsed": 6604,
     "status": "ok",
     "timestamp": 1730528240785,
     "user": {
      "displayName": "Иван Елькин",
      "userId": "12386214062098670036"
     },
     "user_tz": -300
    },
    "id": "-6ntPzYvQawz",
    "outputId": "b0cea8ee-b649-42b1-8851-496b5692a458"
   },
   "outputs": [
    {
     "data": {
      "image/png": "[encoded data removed]",
      "text/plain": [
       "<Figure size 1200x400 with 3 Axes>"
      ]
     },
     "metadata": {},
     "output_type": "display_data"
    }
   ],
   "source": [
    "fig, ax = plt.subplots(1, 3, figsize=(12, 4))\n",
    "\n",
    "ax[0].plot(\n",
    "    grad_desc_no_intercept[\"error_history\"], c=\"r\", alpha=0.7, label=\"not stochastic\"\n",
    ")\n",
    "ax[0].plot(\n",
    "    grad_desc_no_intercept_stochastic[\"error_history\"],\n",
    "    c=\"b\",\n",
    "    alpha=0.3,\n",
    "    label=\"stochastic\",\n",
    ")\n",
    "ax[0].set_xlabel(\"Итерация\")\n",
    "ax[0].set_title(\"error\")\n",
    "ax[0].set_yscale(\"log\")\n",
    "ax[0].legend()\n",
    "\n",
    "i = 1\n",
    "for coeff in grad_desc_no_intercept[\"coeffs_history\"].keys():\n",
    "    if coeff != \"intercept\":\n",
    "        ax[i].plot(\n",
    "            grad_desc_no_intercept[\"coeffs_history\"][coeff],\n",
    "            c=\"r\",\n",
    "            alpha=0.7,\n",
    "            label=\"not stochastic\",\n",
    "        )\n",
    "        ax[i].plot(\n",
    "            grad_desc_no_intercept_stochastic[\"coeffs_history\"][coeff],\n",
    "            c=\"b\",\n",
    "            alpha=0.3,\n",
    "            label=\"stochastic\",\n",
    "        )\n",
    "        ax[i].set_xlabel(\"Итерация\")\n",
    "        ax[i].set_title(f\"{coeff}\")\n",
    "        ax[i].legend()\n",
    "        i += 1\n",
    "\n",
    "plt.tight_layout()\n",
    "plt.suptitle(\"Gradient Descent History (fit_intercept=False)\", y=1.05)\n",
    "plt.show()"
   ]
  },
  {
   "cell_type": "code",
   "execution_count": 18,
   "metadata": {
    "colab": {
     "base_uri": "https://localhost:8080/",
     "height": 442
    },
    "executionInfo": {
     "elapsed": 10047,
     "status": "ok",
     "timestamp": 1730528250828,
     "user": {
      "displayName": "Иван Елькин",
      "userId": "12386214062098670036"
     },
     "user_tz": -300
    },
    "id": "RPdVO02NYHN8",
    "outputId": "1506409e-e771-4709-c452-2d57017e16f8"
   },
   "outputs": [
    {
     "data": {
      "image/png": "[encoded data removed]",
      "text/plain": [
       "<Figure size 1600x400 with 4 Axes>"
      ]
     },
     "metadata": {},
     "output_type": "display_data"
    }
   ],
   "source": [
    "fig, ax = plt.subplots(1, 4, figsize=(16, 4))\n",
    "\n",
    "ax[0].plot(\n",
    "    grad_desc_intercept[\"error_history\"], c=\"r\", alpha=0.7, label=\"not stochastic\"\n",
    ")\n",
    "ax[0].plot(\n",
    "    grad_desc_intercept_stochastic[\"error_history\"],\n",
    "    c=\"b\",\n",
    "    alpha=0.3,\n",
    "    label=\"stochastic\",\n",
    ")\n",
    "ax[0].set_xlabel(\"Итерация\")\n",
    "ax[0].set_title(\"error\")\n",
    "ax[0].set_yscale(\"log\")\n",
    "ax[0].legend()\n",
    "\n",
    "i = 1\n",
    "for coeff in grad_desc_intercept[\"coeffs_history\"].keys():\n",
    "    ax[i].plot(\n",
    "        grad_desc_intercept[\"coeffs_history\"][coeff],\n",
    "        c=\"r\",\n",
    "        alpha=0.7,\n",
    "        label=\"not stochastic\",\n",
    "    )\n",
    "    ax[i].plot(\n",
    "        grad_desc_intercept_stochastic[\"coeffs_history\"][coeff],\n",
    "        c=\"b\",\n",
    "        alpha=0.3,\n",
    "        label=\"stochastic\",\n",
    "    )\n",
    "    ax[i].set_xlabel(\"Итерация\")\n",
    "    ax[i].set_title(f\"{coeff}\")\n",
    "    ax[i].legend()\n",
    "    i += 1\n",
    "\n",
    "plt.tight_layout()\n",
    "plt.suptitle(\"Gradient Descent History (fit_intercept=True)\", y=1.05)\n",
    "plt.show()"
   ]
  },
  {
   "cell_type": "markdown",
   "metadata": {
    "id": "QsTBlMm3VXTU"
   },
   "source": [
    "Можно отметить следующие особенности при решении заданного уравнения методом градиентного спуска:\n",
    "- алогоритм не сходится при высоких значениях learning rate и начальных коэффициентов;\n",
    "- наблюдается очень медленная сходимость свободного члена уравнения из-за малой величины learning rate и высокого масштаба коэффициента по сравнению с остальными коэффициентами;\n",
    "- обычный градиентный спуск сходится быстрее стохастического;\n",
    "- средняя норма ошибки ниже для случая с учетом свободного члена уравнения."
   ]
  },
  {
   "cell_type": "markdown",
   "metadata": {
    "id": "9SmFqReOwHC7"
   },
   "source": [
    "### Проверка sklearn"
   ]
  },
  {
   "cell_type": "code",
   "execution_count": 19,
   "metadata": {
    "colab": {
     "base_uri": "https://localhost:8080/"
    },
    "executionInfo": {
     "elapsed": 12,
     "status": "ok",
     "timestamp": 1730528250829,
     "user": {
      "displayName": "Иван Елькин",
      "userId": "12386214062098670036"
     },
     "user_tz": -300
    },
    "id": "fCDV5B79GWUQ",
    "outputId": "0cb0bcef-ff28-47af-8075-b0bcd6fa983a"
   },
   "outputs": [
    {
     "data": {
      "text/plain": [
       "{'intercept': 45.640210840177126,\n",
       " 'w0': -0.04730286308619176,\n",
       " 'w1': -0.005794157364802918}"
      ]
     },
     "execution_count": 19,
     "metadata": {},
     "output_type": "execute_result"
    }
   ],
   "source": [
    "lr_intercept = LinearRegression(fit_intercept=True)\n",
    "lr_intercept.fit(df.loc[:, [\"horsepower\", \"weight\"]].values, df[\"mpg\"].values)\n",
    "\n",
    "{\"intercept\": lr_intercept.intercept_} | {\n",
    "    f\"w{i}\": lr_intercept.coef_[i] for i in range(len(lr_intercept.coef_))\n",
    "}"
   ]
  },
  {
   "cell_type": "code",
   "execution_count": 20,
   "metadata": {
    "colab": {
     "base_uri": "https://localhost:8080/"
    },
    "executionInfo": {
     "elapsed": 9,
     "status": "ok",
     "timestamp": 1730528250829,
     "user": {
      "displayName": "Иван Елькин",
      "userId": "12386214062098670036"
     },
     "user_tz": -300
    },
    "id": "NmgPjdJiyA1b",
    "outputId": "ea14d1e8-211d-4460-e87d-547f1189a4aa"
   },
   "outputs": [
    {
     "data": {
      "text/plain": [
       "{'intercept': 0.0, 'w0': -0.1559045292008858, 'w1': 0.012226710266739481}"
      ]
     },
     "execution_count": 20,
     "metadata": {},
     "output_type": "execute_result"
    }
   ],
   "source": [
    "lr_no_intercept = LinearRegression(fit_intercept=False)\n",
    "lr_no_intercept.fit(df.loc[:, [\"horsepower\", \"weight\"]].values, df[\"mpg\"].values)\n",
    "\n",
    "{\"intercept\": lr_no_intercept.intercept_} | {\n",
    "    f\"w{i}\": lr_no_intercept.coef_[i] for i in range(len(lr_no_intercept.coef_))\n",
    "}"
   ]
  },
  {
   "cell_type": "markdown",
   "metadata": {
    "id": "AoLyR6nyW8Oc"
   },
   "source": [
    "Для проверки полученного выше результата, уравнение дополнительно было решено с помощью линейной регрессии (пакет sklrearn). Можно заметить, что коэффициенты имеют близкие величины за исключением свободного члена, который не успел сойтись за установленное количество итераций."
   ]
  }
 ],
 "metadata": {
  "colab": {
   "authorship_tag": "ABX9TyNa5CRRf4bcNrgiKDukUp/b",
   "provenance": []
  },
  "kernelspec": {
   "display_name": "acoustic_env",
   "language": "python",
   "name": "python3"
  },
  "language_info": {
   "codemirror_mode": {
    "name": "ipython",
    "version": 3
   },
   "file_extension": ".py",
   "mimetype": "text/x-python",
   "name": "python",
   "nbconvert_exporter": "python",
   "pygments_lexer": "ipython3",
   "version": "3.9.19"
  }
 },
 "nbformat": 4,
 "nbformat_minor": 0
}
