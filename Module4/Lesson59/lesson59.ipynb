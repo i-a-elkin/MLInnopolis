{
  "cells": [
    {
      "cell_type": "markdown",
      "metadata": {
        "id": "aROYaj0VqFdR"
      },
      "source": [
        "# Домашнее задание 5. Обучение U-net\n",
        "\n",
        "В этом задании вам предлагается обучить U-net для сегментации автомобилей. Подобная задача может быть актуальной для маркетплейсов, когда требуется отделить товар от фона, на котором он сфотографирован. Задание включает в себя:\n",
        "\n",
        "\n",
        "\n",
        "1.   Загрузку и предобработку датасета из kaggle;\n",
        "2.   Определение архитектуры U-net;\n",
        "3.   Настройку пайплайна обучения.\n",
        "\n",
        "\n",
        "\n"
      ]
    },
    {
      "cell_type": "markdown",
      "metadata": {
        "id": "VMWr_MBlt1Jo"
      },
      "source": [
        "## 1. Датасет\n",
        "\n",
        "Мы воспользуеся датасетом [Carvana](https://www.kaggle.com/competitions/carvana-image-masking-challenge/overview), который уже содержит необходимые изображения и маски. Чтобы получить доступ к датасету, необходимо 1) зарегистрироваться на kaggle, 2) сгенерировать ключ, 3) вступить в соревнование, 4) загрузить датасет через kaggle API"
      ]
    },
    {
      "cell_type": "code",
      "execution_count": 1,
      "metadata": {
        "colab": {
          "base_uri": "https://localhost:8080/"
        },
        "id": "c8Vkt48Mlbnn",
        "outputId": "fd975e4a-55eb-4912-8f27-d631202558df"
      },
      "outputs": [],
      "source": [
        "# %pip install albumentations\n",
        "# %pip install kagglehub\n",
        "# %pip install ipywidgets"
      ]
    },
    {
      "cell_type": "code",
      "execution_count": 2,
      "metadata": {
        "id": "XU-ZIcpUlXZI"
      },
      "outputs": [],
      "source": [
        "import os\n",
        "import random\n",
        "import numpy as np\n",
        "import torch\n",
        "import torch.nn as nn\n",
        "import torch.optim as optim\n",
        "from torch.utils.data import DataLoader, Dataset\n",
        "import albumentations as A\n",
        "from albumentations.pytorch import ToTensorV2\n",
        "from PIL import Image\n",
        "\n",
        "import shutil\n",
        "from pathlib import Path\n",
        "import json\n",
        "import zipfile\n",
        "import kagglehub\n",
        "from tqdm import tqdm"
      ]
    },
    {
      "cell_type": "code",
      "execution_count": 3,
      "metadata": {
        "id": "-waNCY32vI4K"
      },
      "outputs": [],
      "source": [
        "with open(\"kaggle.json\", \"r\") as file:\n",
        "    api_token = json.load(file)\n",
        "\n",
        "os.environ[\"KAGGLE_USERNAME\"] = api_token[\"username\"]\n",
        "os.environ[\"KAGGLE_KEY\"] = api_token[\"key\"]"
      ]
    },
    {
      "cell_type": "code",
      "execution_count": 4,
      "metadata": {
        "colab": {
          "base_uri": "https://localhost:8080/",
          "height": 389,
          "referenced_widgets": [
            "54a80389b02841f49d814576f3cc53ec",
            "3606991a3b5347ada951aa32cca6a6c0",
            "69307aae985b470d9e34fba4ea802c35",
            "7cea1ba5221149ee8a4db3d3d69219e1",
            "4ac0ee41376745b79b66c2de8e6d500e",
            "0e41d20f4af443bab47481c943644900",
            "cbe1e7e06e1f4a44baf6fc9b281c18ee",
            "a575958bbc184c24ba7f41fcb8630fea",
            "0602aa7e27dc4c749ac8540977115407",
            "592916529f4441dab825d9da90a85d30",
            "a0c3c3cf4f9e454297e90291fdc35c3a",
            "21a96677c91e417aabcc14b8d4ecc35d",
            "53eff7be64354c1d8775b8d572675500",
            "d65b782f922d47b6a237e68791a7013d",
            "839413e7423845948ddd709e1df381c5",
            "d9e1531785704bdfb7430a4e0d66252c",
            "1645ab64c57647099627259110dab447"
          ]
        },
        "id": "62aXM9I_B3ZS",
        "outputId": "ae1831ca-1c68-493f-c21c-dac0c791d0be"
      },
      "outputs": [
        {
          "name": "stdout",
          "output_type": "stream",
          "text": [
            "Downloading from https://www.kaggle.com/api/v1/competitions/data/download/carvana-image-masking-challenge/train.zip...\n"
          ]
        },
        {
          "name": "stderr",
          "output_type": "stream",
          "text": [
            "100%|██████████| 405M/405M [00:37<00:00, 11.2MB/s] \n"
          ]
        },
        {
          "name": "stdout",
          "output_type": "stream",
          "text": [
            "Downloading from https://www.kaggle.com/api/v1/competitions/data/download/carvana-image-masking-challenge/train_masks.zip...\n"
          ]
        },
        {
          "name": "stderr",
          "output_type": "stream",
          "text": [
            "100%|██████████| 29.1M/29.1M [00:03<00:00, 7.86MB/s]\n"
          ]
        },
        {
          "data": {
            "text/plain": [
              "'C:\\\\Users\\\\ivana\\\\.cache\\\\kagglehub\\\\competitions\\\\carvana-image-masking-challenge\\\\train_masks.zip'"
            ]
          },
          "execution_count": 4,
          "metadata": {},
          "output_type": "execute_result"
        }
      ],
      "source": [
        "kagglehub.competition_download(\"carvana-image-masking-challenge\", \"train.zip\")\n",
        "kagglehub.competition_download(\"carvana-image-masking-challenge\", \"train_masks.zip\")"
      ]
    },
    {
      "cell_type": "code",
      "execution_count": 5,
      "metadata": {},
      "outputs": [
        {
          "name": "stdout",
          "output_type": "stream",
          "text": [
            "��६�饭� 䠩���:         1.\n",
            "��६�饭� 䠩���:         1.\n"
          ]
        }
      ],
      "source": [
        "!move \"C:\\Users\\ivana\\.cache\\kagglehub\\competitions\\carvana-image-masking-challenge\\train_masks.zip\" .\n",
        "!move \"C:\\Users\\ivana\\.cache\\kagglehub\\competitions\\carvana-image-masking-challenge\\train.zip\" ."
      ]
    },
    {
      "cell_type": "code",
      "execution_count": 6,
      "metadata": {},
      "outputs": [],
      "source": [
        "with zipfile.ZipFile(\"train.zip\", 'r') as zip_ref:\n",
        "    zip_ref.extractall()\n",
        "\n",
        "with zipfile.ZipFile(\"train_masks.zip\", 'r') as zip_ref:\n",
        "    zip_ref.extractall()"
      ]
    },
    {
      "cell_type": "markdown",
      "metadata": {},
      "source": [
        "Разделим данные на tran, val, test в соотношении 70:20:10."
      ]
    },
    {
      "cell_type": "code",
      "execution_count": 7,
      "metadata": {},
      "outputs": [
        {
          "name": "stdout",
          "output_type": "stream",
          "text": [
            "Разделение завершено!\n"
          ]
        }
      ],
      "source": [
        "# Задание исходных путей\n",
        "image_dir = Path(\"train\")\n",
        "mask_dir = Path(\"train_masks\")\n",
        "\n",
        "# Целевые папки\n",
        "splits = [\"train\", \"val\", \"test\"]\n",
        "base_output_img = Path(\"images\")\n",
        "base_output_mask = Path(\"masks\")\n",
        "\n",
        "# Создание целевых директорий\n",
        "for split in splits:\n",
        "    (base_output_img / split).mkdir(parents=True, exist_ok=True)\n",
        "    (base_output_mask / split).mkdir(parents=True, exist_ok=True)\n",
        "\n",
        "# Получение списка всех изображений\n",
        "image_files = [f for f in image_dir.glob(\"*.jpg\")]\n",
        "random.seed(777)\n",
        "random.shuffle(image_files)\n",
        "\n",
        "# Разделение на train/val/test\n",
        "total = len(image_files)\n",
        "n_train = int(total * 0.7)\n",
        "n_val = int(total * 0.2)\n",
        "\n",
        "train_files = image_files[:n_train]\n",
        "val_files = image_files[n_train : n_train + n_val]\n",
        "test_files = image_files[n_train + n_val :]\n",
        "\n",
        "\n",
        "# Функция копирования изображений и соответствующих масок\n",
        "def copy_files(file_list, split):\n",
        "    for img_path in file_list:\n",
        "        mask_name = img_path.stem + \"_mask.gif\"\n",
        "        mask_path = mask_dir / mask_name\n",
        "\n",
        "        # Копирование изображения\n",
        "        shutil.copy(img_path, base_output_img / split / img_path.name)\n",
        "\n",
        "        # Копирование маски\n",
        "        if mask_path.exists():\n",
        "            shutil.copy(mask_path, base_output_mask / split / mask_name)\n",
        "        else:\n",
        "            print(f\"Маска не найдена: {mask_path}\")\n",
        "\n",
        "\n",
        "# Копирование файлов\n",
        "copy_files(train_files, \"train\")\n",
        "copy_files(val_files, \"val\")\n",
        "copy_files(test_files, \"test\")\n",
        "\n",
        "print(\"Разделение завершено!\")"
      ]
    },
    {
      "cell_type": "markdown",
      "metadata": {
        "id": "ai6ay-8G6sDj"
      },
      "source": [
        "### 1.2 Аугментации через albumentations\n",
        "\n",
        "В обучении U-net большую роль играет аугментация данных. Широкий набор нестандартных операций реализованы в библиотеке [albumentations](https://albumentations.ai/docs/2-core-concepts/transforms/). Вы можете ознакомиться с ней и добавить понравившиеся трансформации ниже в функцию *get_train_transform*"
      ]
    },
    {
      "cell_type": "code",
      "execution_count": 8,
      "metadata": {
        "id": "PTKIftUrlTeA"
      },
      "outputs": [],
      "source": [
        "def get_train_transform():\n",
        "    return A.Compose(\n",
        "        [\n",
        "            A.Resize(512, 512),\n",
        "            A.HorizontalFlip(p=0.5),\n",
        "            A.Rotate(limit=15, p=0.5),\n",
        "            A.RandomBrightnessContrast(p=0.5),\n",
        "            A.HueSaturationValue(p=0.2),\n",
        "            A.Normalize(\n",
        "                mean=(0.485, 0.456, 0.406),\n",
        "                std=(0.229, 0.224, 0.225),\n",
        "            ),\n",
        "            ToTensorV2(),\n",
        "        ]\n",
        "    )\n",
        "\n",
        "\n",
        "def get_val_transform():\n",
        "    return A.Compose(\n",
        "        [\n",
        "            A.Resize(512, 512),\n",
        "            A.Normalize(\n",
        "                mean=(0.485, 0.456, 0.406),\n",
        "                std=(0.229, 0.224, 0.225),\n",
        "            ),\n",
        "            ToTensorV2(),\n",
        "        ]\n",
        "    )"
      ]
    },
    {
      "cell_type": "code",
      "execution_count": 9,
      "metadata": {},
      "outputs": [],
      "source": [
        "class CarvanaDataset(Dataset):\n",
        "    def __init__(\n",
        "        self, images_dir, masks_dir, transform=None\n",
        "    ):\n",
        "        self.images_dir = images_dir\n",
        "        self.masks_dir = masks_dir\n",
        "        self.transform = transform\n",
        "        self.image_files = [\n",
        "            f for f in os.listdir(images_dir) if f.lower().endswith(\".jpg\")\n",
        "        ]\n",
        "        random.shuffle(self.image_files)  # Перемешиваем файлы для обучения\n",
        "\n",
        "    def __len__(self):\n",
        "        return len(self.image_files)\n",
        "\n",
        "    def __getitem__(self, idx):\n",
        "        image_file = self.image_files[idx]\n",
        "        image_path = os.path.join(self.images_dir, image_file)\n",
        "        mask_path = os.path.join(\n",
        "            self.masks_dir, image_file.replace(\".jpg\", \"_mask.gif\")\n",
        "        )\n",
        "\n",
        "        # Чтение и конвертация изображений через PIL\n",
        "        image = Image.open(image_path).convert(\"RGB\")\n",
        "        mask = Image.open(mask_path).convert(\"L\")  # режим \"L\" — одноканальная маска\n",
        "\n",
        "        # Перевод в numpy-массивы\n",
        "        image_np = np.array(image)\n",
        "        mask_np = np.array(mask) / 255.0\n",
        "\n",
        "        if self.transform:\n",
        "            augmented = self.transform(image=image_np, mask=mask_np)\n",
        "            image_tensor = augmented[\"image\"]\n",
        "            mask_tensor = augmented[\"mask\"]\n",
        "            mask_tensor = mask_tensor.unsqueeze(0)  # Добавляем размерность для маски\n",
        "        else:\n",
        "            # Если нет трансформаций, добавим каналы и переведём в тензор вручную\n",
        "            image_tensor = torch.from_numpy(image_np).permute(2, 0, 1).float() / 255.0\n",
        "            mask_tensor = torch.from_numpy(mask_np).unsqueeze(0).float()\n",
        "\n",
        "        return image_tensor, mask_tensor\n",
        "    "
      ]
    },
    {
      "cell_type": "markdown",
      "metadata": {
        "id": "zk0OwRb61Lev"
      },
      "source": [
        "## 2. Определение U-net модели\n",
        "\n",
        "На этом шаге от вас требуется определить структуру U-net, как, например, на картинке ниже. Для этого вам помогут операции и слои:\n",
        "\n",
        "\n",
        "*   nn.Conv2d - обычная свертка\n",
        "*   nn.MaxPool2d - max-pool, для уменьшения размерности activation map-ов\n",
        "*   nn.ConvTranspose2d - обратная свертка\n",
        "*   F.relu - функция активации\n",
        "*   torch.cat - конкатинация векторов в skip connection\n",
        "\n",
        "\n",
        "![img](https://lh6.googleusercontent.com/Rx30jfXZqXnWX8CjmBaztePGMtCydUyeR_D6o1o-2kVnyg2cX-yyEmwYheeWJR2vxEAepYromNrriGyLeGuZatztKdCYCmiIrsSspW75EX9WxvOivLPKxfwkIvQji9MzJIHK0y5V)"
      ]
    },
    {
      "cell_type": "code",
      "execution_count": 10,
      "metadata": {},
      "outputs": [],
      "source": [
        "class DoubleConv(nn.Module):\n",
        "    \"\"\"Две свёртки 3x3 с BatchNorm и ReLU\"\"\"\n",
        "\n",
        "    def __init__(self, in_channels, out_channels):\n",
        "        super().__init__()\n",
        "        self.block = nn.Sequential(\n",
        "            nn.Conv2d(\n",
        "                in_channels, out_channels, kernel_size=3, padding=\"same\", bias=False\n",
        "            ),\n",
        "            nn.BatchNorm2d(out_channels),\n",
        "            nn.ReLU(inplace=True),\n",
        "            nn.Conv2d(\n",
        "                out_channels, out_channels, kernel_size=3, padding=\"same\", bias=False\n",
        "            ),\n",
        "            nn.BatchNorm2d(out_channels),\n",
        "            nn.ReLU(inplace=True),\n",
        "        )\n",
        "\n",
        "    def forward(self, x):\n",
        "        return self.block(x)\n",
        "\n",
        "\n",
        "class Down(nn.Module):\n",
        "    \"\"\"Понижение разрешения: MaxPool + DoubleConv\"\"\"\n",
        "\n",
        "    def __init__(self, in_channels, out_channels):\n",
        "        super().__init__()\n",
        "        self.block = nn.Sequential(\n",
        "            nn.MaxPool2d(2),\n",
        "            DoubleConv(in_channels, out_channels),\n",
        "        )\n",
        "\n",
        "    def forward(self, x):\n",
        "        return self.block(x)\n",
        "\n",
        "\n",
        "class Up(nn.Module):\n",
        "    \"\"\"Повышение разрешения: ConvTranspose2d + DoubleConv\"\"\"\n",
        "\n",
        "    def __init__(self, in_channels, out_channels):\n",
        "        super().__init__()\n",
        "        self.up = nn.ConvTranspose2d(\n",
        "            in_channels, in_channels // 2, kernel_size=2, stride=2\n",
        "        )\n",
        "        self.conv = DoubleConv(in_channels, out_channels)\n",
        "\n",
        "    def forward(self, x1, x2):\n",
        "        x1 = self.up(x1)\n",
        "        x = torch.cat([x2, x1], dim=1)\n",
        "        return self.conv(x)\n",
        "\n",
        "\n",
        "class UNet(nn.Module):\n",
        "    \"\"\"U-Net для сегментации изображений\"\"\"\n",
        "\n",
        "    def __init__(self, in_channels, out_classes):\n",
        "        super().__init__()\n",
        "        self.inc = DoubleConv(in_channels, 64)\n",
        "        self.down1 = Down(64, 128)\n",
        "        self.down2 = Down(128, 256)\n",
        "        self.down3 = Down(256, 512)\n",
        "        self.down4 = Down(512, 1024)\n",
        "\n",
        "        self.up1 = Up(1024, 512)\n",
        "        self.up2 = Up(512, 256)\n",
        "        self.up3 = Up(256, 128)\n",
        "        self.up4 = Up(128, 64)\n",
        "\n",
        "        self.outc = nn.Conv2d(64, out_classes, kernel_size=1)\n",
        "\n",
        "    def forward(self, x):\n",
        "        x1 = self.inc(x)\n",
        "        x2 = self.down1(x1)\n",
        "        x3 = self.down2(x2)\n",
        "        x4 = self.down3(x3)\n",
        "        x5 = self.down4(x4)\n",
        "\n",
        "        x = self.up1(x5, x4)\n",
        "        x = self.up2(x, x3)\n",
        "        x = self.up3(x, x2)\n",
        "        x = self.up4(x, x1)\n",
        "\n",
        "        return self.outc(x)"
      ]
    },
    {
      "cell_type": "markdown",
      "metadata": {
        "id": "kBV9xVRmjlaW"
      },
      "source": [
        "## 3. Обучение U-net"
      ]
    },
    {
      "cell_type": "code",
      "execution_count": 11,
      "metadata": {
        "id": "ihlsxo58k6up"
      },
      "outputs": [],
      "source": [
        "def train_epoch(model, data_loader, optimizer, criterion, device):\n",
        "    model.train()\n",
        "    epoch_loss = 0\n",
        "    bar = tqdm(data_loader)\n",
        "\n",
        "    for images, masks in bar:\n",
        "        images = images.to(device).float()\n",
        "        masks = masks.to(device).float()\n",
        "        optimizer.zero_grad()\n",
        "        outputs = model(images)\n",
        "        loss = criterion(outputs, masks)\n",
        "        loss.backward()\n",
        "        optimizer.step()\n",
        "\n",
        "        epoch_loss += loss.item()\n",
        "        bar.set_description(f\"Loss: {loss.item()}\")\n",
        "\n",
        "    return epoch_loss / len(data_loader)\n",
        "\n",
        "\n",
        "def eval_model(model, data_loader, criterion, device):\n",
        "    model.eval()\n",
        "    epoch_loss = 0\n",
        "\n",
        "    with torch.no_grad():\n",
        "        for images, masks in data_loader:\n",
        "            images = images.to(device).float()\n",
        "            masks = masks.to(device).float()\n",
        "\n",
        "            outputs = model(images)\n",
        "            loss = criterion(outputs, masks)\n",
        "\n",
        "            epoch_loss += loss.item()\n",
        "\n",
        "    return epoch_loss / len(data_loader)"
      ]
    },
    {
      "cell_type": "code",
      "execution_count": 12,
      "metadata": {
        "id": "D7F0FHezjlpO"
      },
      "outputs": [],
      "source": [
        "device = torch.device(\"cuda\" if torch.cuda.is_available() else \"cpu\")\n",
        "model = UNet(in_channels=3, out_classes=1).to(device)\n",
        "criterion = nn.BCEWithLogitsLoss()\n",
        "optimizer = optim.Adam(model.parameters(), lr=0.001)"
      ]
    },
    {
      "cell_type": "code",
      "execution_count": 13,
      "metadata": {},
      "outputs": [],
      "source": [
        "train_dataset = CarvanaDataset(\"images/train\", \"masks/train\", transform=get_train_transform())\n",
        "train_loader = DataLoader(train_dataset, batch_size=8, shuffle=True)\n",
        "\n",
        "val_dataset = CarvanaDataset(\"images/val\", \"masks/val\", transform=get_val_transform())\n",
        "val_loader = DataLoader(val_dataset, batch_size=8, shuffle=False)\n",
        "\n",
        "test_dataset = CarvanaDataset(\"images/test\", \"masks/test\", transform=get_val_transform())\n",
        "test_loader = DataLoader(test_dataset, batch_size=8, shuffle=False)"
      ]
    },
    {
      "cell_type": "code",
      "execution_count": 14,
      "metadata": {
        "id": "5kpcN2eOlBPh"
      },
      "outputs": [
        {
          "name": "stderr",
          "output_type": "stream",
          "text": [
            "Loss: 0.03068634122610092: 100%|██████████| 446/446 [11:12<00:00,  1.51s/it] \n"
          ]
        },
        {
          "name": "stdout",
          "output_type": "stream",
          "text": [
            "Epoch 1/5, Train Loss: 0.0879, Val Loss: 0.0309\n"
          ]
        },
        {
          "name": "stderr",
          "output_type": "stream",
          "text": [
            "Loss: 0.06102577969431877: 100%|██████████| 446/446 [10:35<00:00,  1.42s/it] \n"
          ]
        },
        {
          "name": "stdout",
          "output_type": "stream",
          "text": [
            "Epoch 2/5, Train Loss: 0.0291, Val Loss: 0.0250\n"
          ]
        },
        {
          "name": "stderr",
          "output_type": "stream",
          "text": [
            "Loss: 0.01909356378018856: 100%|██████████| 446/446 [10:34<00:00,  1.42s/it] \n"
          ]
        },
        {
          "name": "stdout",
          "output_type": "stream",
          "text": [
            "Epoch 3/5, Train Loss: 0.0218, Val Loss: 0.0145\n"
          ]
        },
        {
          "name": "stderr",
          "output_type": "stream",
          "text": [
            "Loss: 0.030759073793888092: 100%|██████████| 446/446 [10:29<00:00,  1.41s/it]\n"
          ]
        },
        {
          "name": "stdout",
          "output_type": "stream",
          "text": [
            "Epoch 4/5, Train Loss: 0.0191, Val Loss: 0.0209\n"
          ]
        },
        {
          "name": "stderr",
          "output_type": "stream",
          "text": [
            "Loss: 0.012355638667941093: 100%|██████████| 446/446 [09:37<00:00,  1.29s/it]\n"
          ]
        },
        {
          "name": "stdout",
          "output_type": "stream",
          "text": [
            "Epoch 5/5, Train Loss: 0.0168, Val Loss: 0.0199\n"
          ]
        }
      ],
      "source": [
        "num_epochs = 5\n",
        "\n",
        "for epoch in range(num_epochs):\n",
        "    train_loss = train_epoch(model, train_loader, optimizer, criterion, device)\n",
        "    val_loss = eval_model(model, val_loader, criterion, device)\n",
        "\n",
        "    print(\n",
        "        f\"Epoch {epoch+1}/{num_epochs}, Train Loss: {train_loss:.4f}, Val Loss: {val_loss:.4f}\"\n",
        "    )"
      ]
    },
    {
      "cell_type": "markdown",
      "metadata": {
        "id": "YZDrK1Hx3uT5"
      },
      "source": [
        "## 4. Оценка модели\n",
        "\n",
        "\n",
        "В качестве метрики, оценивающей модель, воспользуемся [коэффициентом  Сёренсена](https://ru.wikipedia.org/wiki/%D0%9A%D0%BE%D1%8D%D1%84%D1%84%D0%B8%D1%86%D0%B8%D0%B5%D0%BD%D1%82_%D0%A1%D1%91%D1%80%D0%B5%D0%BD%D1%81%D0%B5%D0%BD%D0%B0), или Dice coefficient. Коэффициент Сёренсена можно использовать для сравнения попиксельного соответствия между прогнозируемой сегментацией и соответствующей ей истинной информацией."
      ]
    },
    {
      "cell_type": "code",
      "execution_count": 15,
      "metadata": {
        "id": "HMA98GYr5C7J"
      },
      "outputs": [
        {
          "name": "stderr",
          "output_type": "stream",
          "text": [
            "100%|██████████| 64/64 [00:42<00:00,  1.49it/s]"
          ]
        },
        {
          "name": "stdout",
          "output_type": "stream",
          "text": [
            "Dice Coefficient on Test Set: 0.9831\n"
          ]
        },
        {
          "name": "stderr",
          "output_type": "stream",
          "text": [
            "\n"
          ]
        }
      ],
      "source": [
        "def dice_coeff(model, val_loader, eps=1e-6):\n",
        "    model.eval()\n",
        "    total_dice = 0\n",
        "    total_samples = 0\n",
        "\n",
        "    with torch.no_grad():\n",
        "        for images, masks in tqdm(val_loader):\n",
        "            images = images.to(device).float()\n",
        "            masks = masks.to(device).float()\n",
        "\n",
        "            outputs = model(images)\n",
        "            outputs = torch.sigmoid(\n",
        "                outputs\n",
        "            )  # Применяем сигмоиду для получения вероятностей\n",
        "            preds = (outputs > 0.5).float()  # Бинаризация предсказаний\n",
        "\n",
        "            # Вычисляем коэффициент Dice для каждой пары предсказание-маска\n",
        "            for pred, mask in zip(preds, masks):\n",
        "                intersection = (pred * mask).sum()\n",
        "                union = pred.sum() + mask.sum()\n",
        "                dice = (2.0 * intersection + eps) / (\n",
        "                    union + eps\n",
        "                )  # Добавляем малое значение для избежания деления на ноль\n",
        "                total_dice += dice.item()\n",
        "                total_samples += 1\n",
        "\n",
        "    return total_dice / total_samples if total_samples > 0 else 0\n",
        "\n",
        "\n",
        "dice_value = dice_coeff(model, test_loader)\n",
        "print(f\"Dice Coefficient on Test Set: {dice_value:.4f}\")"
      ]
    },
    {
      "cell_type": "markdown",
      "metadata": {},
      "source": [
        "Выссокое значение коэффициента достигается за счет того, что в датасете большое количество схожих автомобилей, снятых с разных углов."
      ]
    }
  ],
  "metadata": {
    "colab": {
      "provenance": []
    },
    "kernelspec": {
      "display_name": ".mlinnopolis",
      "language": "python",
      "name": "python3"
    },
    "language_info": {
      "codemirror_mode": {
        "name": "ipython",
        "version": 3
      },
      "file_extension": ".py",
      "mimetype": "text/x-python",
      "name": "python",
      "nbconvert_exporter": "python",
      "pygments_lexer": "ipython3",
      "version": "3.13.0"
    },
    "widgets": {
      "application/vnd.jupyter.widget-state+json": {
        "0602aa7e27dc4c749ac8540977115407": {
          "model_module": "@jupyter-widgets/controls",
          "model_module_version": "1.5.0",
          "model_name": "DescriptionStyleModel",
          "state": {
            "_model_module": "@jupyter-widgets/controls",
            "_model_module_version": "1.5.0",
            "_model_name": "DescriptionStyleModel",
            "_view_count": null,
            "_view_module": "@jupyter-widgets/base",
            "_view_module_version": "1.2.0",
            "_view_name": "StyleView",
            "description_width": ""
          }
        },
        "0e41d20f4af443bab47481c943644900": {
          "model_module": "@jupyter-widgets/controls",
          "model_module_version": "1.5.0",
          "model_name": "HTMLModel",
          "state": {
            "_dom_classes": [],
            "_model_module": "@jupyter-widgets/controls",
            "_model_module_version": "1.5.0",
            "_model_name": "HTMLModel",
            "_view_count": null,
            "_view_module": "@jupyter-widgets/controls",
            "_view_module_version": "1.5.0",
            "_view_name": "HTMLView",
            "description": "",
            "description_tooltip": null,
            "layout": "IPY_MODEL_d9e1531785704bdfb7430a4e0d66252c",
            "placeholder": "​",
            "style": "IPY_MODEL_1645ab64c57647099627259110dab447",
            "value": "\n<b>Thank You</b></center>"
          }
        },
        "1645ab64c57647099627259110dab447": {
          "model_module": "@jupyter-widgets/controls",
          "model_module_version": "1.5.0",
          "model_name": "DescriptionStyleModel",
          "state": {
            "_model_module": "@jupyter-widgets/controls",
            "_model_module_version": "1.5.0",
            "_model_name": "DescriptionStyleModel",
            "_view_count": null,
            "_view_module": "@jupyter-widgets/base",
            "_view_module_version": "1.2.0",
            "_view_name": "StyleView",
            "description_width": ""
          }
        },
        "21a96677c91e417aabcc14b8d4ecc35d": {
          "model_module": "@jupyter-widgets/base",
          "model_module_version": "1.2.0",
          "model_name": "LayoutModel",
          "state": {
            "_model_module": "@jupyter-widgets/base",
            "_model_module_version": "1.2.0",
            "_model_name": "LayoutModel",
            "_view_count": null,
            "_view_module": "@jupyter-widgets/base",
            "_view_module_version": "1.2.0",
            "_view_name": "LayoutView",
            "align_content": null,
            "align_items": null,
            "align_self": null,
            "border": null,
            "bottom": null,
            "display": null,
            "flex": null,
            "flex_flow": null,
            "grid_area": null,
            "grid_auto_columns": null,
            "grid_auto_flow": null,
            "grid_auto_rows": null,
            "grid_column": null,
            "grid_gap": null,
            "grid_row": null,
            "grid_template_areas": null,
            "grid_template_columns": null,
            "grid_template_rows": null,
            "height": null,
            "justify_content": null,
            "justify_items": null,
            "left": null,
            "margin": null,
            "max_height": null,
            "max_width": null,
            "min_height": null,
            "min_width": null,
            "object_fit": null,
            "object_position": null,
            "order": null,
            "overflow": null,
            "overflow_x": null,
            "overflow_y": null,
            "padding": null,
            "right": null,
            "top": null,
            "visibility": null,
            "width": null
          }
        },
        "3606991a3b5347ada951aa32cca6a6c0": {
          "model_module": "@jupyter-widgets/controls",
          "model_module_version": "1.5.0",
          "model_name": "HTMLModel",
          "state": {
            "_dom_classes": [],
            "_model_module": "@jupyter-widgets/controls",
            "_model_module_version": "1.5.0",
            "_model_name": "HTMLModel",
            "_view_count": null,
            "_view_module": "@jupyter-widgets/controls",
            "_view_module_version": "1.5.0",
            "_view_name": "HTMLView",
            "description": "",
            "description_tooltip": null,
            "layout": "IPY_MODEL_a575958bbc184c24ba7f41fcb8630fea",
            "placeholder": "​",
            "style": "IPY_MODEL_0602aa7e27dc4c749ac8540977115407",
            "value": "<center> <img\nsrc=https://www.kaggle.com/static/images/site-logo.png\nalt='Kaggle'> <br> Create an API token from <a\nhref=\"https://www.kaggle.com/settings/account\" target=\"_blank\">your Kaggle\nsettings page</a> and paste it below along with your Kaggle username. <br> </center>"
          }
        },
        "4ac0ee41376745b79b66c2de8e6d500e": {
          "model_module": "@jupyter-widgets/controls",
          "model_module_version": "1.5.0",
          "model_name": "ButtonModel",
          "state": {
            "_dom_classes": [],
            "_model_module": "@jupyter-widgets/controls",
            "_model_module_version": "1.5.0",
            "_model_name": "ButtonModel",
            "_view_count": null,
            "_view_module": "@jupyter-widgets/controls",
            "_view_module_version": "1.5.0",
            "_view_name": "ButtonView",
            "button_style": "",
            "description": "Login",
            "disabled": false,
            "icon": "",
            "layout": "IPY_MODEL_d65b782f922d47b6a237e68791a7013d",
            "style": "IPY_MODEL_839413e7423845948ddd709e1df381c5",
            "tooltip": ""
          }
        },
        "53eff7be64354c1d8775b8d572675500": {
          "model_module": "@jupyter-widgets/controls",
          "model_module_version": "1.5.0",
          "model_name": "DescriptionStyleModel",
          "state": {
            "_model_module": "@jupyter-widgets/controls",
            "_model_module_version": "1.5.0",
            "_model_name": "DescriptionStyleModel",
            "_view_count": null,
            "_view_module": "@jupyter-widgets/base",
            "_view_module_version": "1.2.0",
            "_view_name": "StyleView",
            "description_width": ""
          }
        },
        "54a80389b02841f49d814576f3cc53ec": {
          "model_module": "@jupyter-widgets/controls",
          "model_module_version": "1.5.0",
          "model_name": "VBoxModel",
          "state": {
            "_dom_classes": [],
            "_model_module": "@jupyter-widgets/controls",
            "_model_module_version": "1.5.0",
            "_model_name": "VBoxModel",
            "_view_count": null,
            "_view_module": "@jupyter-widgets/controls",
            "_view_module_version": "1.5.0",
            "_view_name": "VBoxView",
            "box_style": "",
            "children": [
              "IPY_MODEL_3606991a3b5347ada951aa32cca6a6c0",
              "IPY_MODEL_69307aae985b470d9e34fba4ea802c35",
              "IPY_MODEL_7cea1ba5221149ee8a4db3d3d69219e1",
              "IPY_MODEL_4ac0ee41376745b79b66c2de8e6d500e",
              "IPY_MODEL_0e41d20f4af443bab47481c943644900"
            ],
            "layout": "IPY_MODEL_cbe1e7e06e1f4a44baf6fc9b281c18ee"
          }
        },
        "592916529f4441dab825d9da90a85d30": {
          "model_module": "@jupyter-widgets/base",
          "model_module_version": "1.2.0",
          "model_name": "LayoutModel",
          "state": {
            "_model_module": "@jupyter-widgets/base",
            "_model_module_version": "1.2.0",
            "_model_name": "LayoutModel",
            "_view_count": null,
            "_view_module": "@jupyter-widgets/base",
            "_view_module_version": "1.2.0",
            "_view_name": "LayoutView",
            "align_content": null,
            "align_items": null,
            "align_self": null,
            "border": null,
            "bottom": null,
            "display": null,
            "flex": null,
            "flex_flow": null,
            "grid_area": null,
            "grid_auto_columns": null,
            "grid_auto_flow": null,
            "grid_auto_rows": null,
            "grid_column": null,
            "grid_gap": null,
            "grid_row": null,
            "grid_template_areas": null,
            "grid_template_columns": null,
            "grid_template_rows": null,
            "height": null,
            "justify_content": null,
            "justify_items": null,
            "left": null,
            "margin": null,
            "max_height": null,
            "max_width": null,
            "min_height": null,
            "min_width": null,
            "object_fit": null,
            "object_position": null,
            "order": null,
            "overflow": null,
            "overflow_x": null,
            "overflow_y": null,
            "padding": null,
            "right": null,
            "top": null,
            "visibility": null,
            "width": null
          }
        },
        "69307aae985b470d9e34fba4ea802c35": {
          "model_module": "@jupyter-widgets/controls",
          "model_module_version": "1.5.0",
          "model_name": "TextModel",
          "state": {
            "_dom_classes": [],
            "_model_module": "@jupyter-widgets/controls",
            "_model_module_version": "1.5.0",
            "_model_name": "TextModel",
            "_view_count": null,
            "_view_module": "@jupyter-widgets/controls",
            "_view_module_version": "1.5.0",
            "_view_name": "TextView",
            "continuous_update": true,
            "description": "Username:",
            "description_tooltip": null,
            "disabled": false,
            "layout": "IPY_MODEL_592916529f4441dab825d9da90a85d30",
            "placeholder": "​",
            "style": "IPY_MODEL_a0c3c3cf4f9e454297e90291fdc35c3a",
            "value": ""
          }
        },
        "7cea1ba5221149ee8a4db3d3d69219e1": {
          "model_module": "@jupyter-widgets/controls",
          "model_module_version": "1.5.0",
          "model_name": "PasswordModel",
          "state": {
            "_dom_classes": [],
            "_model_module": "@jupyter-widgets/controls",
            "_model_module_version": "1.5.0",
            "_model_name": "PasswordModel",
            "_view_count": null,
            "_view_module": "@jupyter-widgets/controls",
            "_view_module_version": "1.5.0",
            "_view_name": "PasswordView",
            "continuous_update": true,
            "description": "Token:",
            "description_tooltip": null,
            "disabled": false,
            "layout": "IPY_MODEL_21a96677c91e417aabcc14b8d4ecc35d",
            "placeholder": "​",
            "style": "IPY_MODEL_53eff7be64354c1d8775b8d572675500",
            "value": ""
          }
        },
        "839413e7423845948ddd709e1df381c5": {
          "model_module": "@jupyter-widgets/controls",
          "model_module_version": "1.5.0",
          "model_name": "ButtonStyleModel",
          "state": {
            "_model_module": "@jupyter-widgets/controls",
            "_model_module_version": "1.5.0",
            "_model_name": "ButtonStyleModel",
            "_view_count": null,
            "_view_module": "@jupyter-widgets/base",
            "_view_module_version": "1.2.0",
            "_view_name": "StyleView",
            "button_color": null,
            "font_weight": ""
          }
        },
        "a0c3c3cf4f9e454297e90291fdc35c3a": {
          "model_module": "@jupyter-widgets/controls",
          "model_module_version": "1.5.0",
          "model_name": "DescriptionStyleModel",
          "state": {
            "_model_module": "@jupyter-widgets/controls",
            "_model_module_version": "1.5.0",
            "_model_name": "DescriptionStyleModel",
            "_view_count": null,
            "_view_module": "@jupyter-widgets/base",
            "_view_module_version": "1.2.0",
            "_view_name": "StyleView",
            "description_width": ""
          }
        },
        "a575958bbc184c24ba7f41fcb8630fea": {
          "model_module": "@jupyter-widgets/base",
          "model_module_version": "1.2.0",
          "model_name": "LayoutModel",
          "state": {
            "_model_module": "@jupyter-widgets/base",
            "_model_module_version": "1.2.0",
            "_model_name": "LayoutModel",
            "_view_count": null,
            "_view_module": "@jupyter-widgets/base",
            "_view_module_version": "1.2.0",
            "_view_name": "LayoutView",
            "align_content": null,
            "align_items": null,
            "align_self": null,
            "border": null,
            "bottom": null,
            "display": null,
            "flex": null,
            "flex_flow": null,
            "grid_area": null,
            "grid_auto_columns": null,
            "grid_auto_flow": null,
            "grid_auto_rows": null,
            "grid_column": null,
            "grid_gap": null,
            "grid_row": null,
            "grid_template_areas": null,
            "grid_template_columns": null,
            "grid_template_rows": null,
            "height": null,
            "justify_content": null,
            "justify_items": null,
            "left": null,
            "margin": null,
            "max_height": null,
            "max_width": null,
            "min_height": null,
            "min_width": null,
            "object_fit": null,
            "object_position": null,
            "order": null,
            "overflow": null,
            "overflow_x": null,
            "overflow_y": null,
            "padding": null,
            "right": null,
            "top": null,
            "visibility": null,
            "width": null
          }
        },
        "cbe1e7e06e1f4a44baf6fc9b281c18ee": {
          "model_module": "@jupyter-widgets/base",
          "model_module_version": "1.2.0",
          "model_name": "LayoutModel",
          "state": {
            "_model_module": "@jupyter-widgets/base",
            "_model_module_version": "1.2.0",
            "_model_name": "LayoutModel",
            "_view_count": null,
            "_view_module": "@jupyter-widgets/base",
            "_view_module_version": "1.2.0",
            "_view_name": "LayoutView",
            "align_content": null,
            "align_items": "center",
            "align_self": null,
            "border": null,
            "bottom": null,
            "display": "flex",
            "flex": null,
            "flex_flow": "column",
            "grid_area": null,
            "grid_auto_columns": null,
            "grid_auto_flow": null,
            "grid_auto_rows": null,
            "grid_column": null,
            "grid_gap": null,
            "grid_row": null,
            "grid_template_areas": null,
            "grid_template_columns": null,
            "grid_template_rows": null,
            "height": null,
            "justify_content": null,
            "justify_items": null,
            "left": null,
            "margin": null,
            "max_height": null,
            "max_width": null,
            "min_height": null,
            "min_width": null,
            "object_fit": null,
            "object_position": null,
            "order": null,
            "overflow": null,
            "overflow_x": null,
            "overflow_y": null,
            "padding": null,
            "right": null,
            "top": null,
            "visibility": null,
            "width": "50%"
          }
        },
        "d65b782f922d47b6a237e68791a7013d": {
          "model_module": "@jupyter-widgets/base",
          "model_module_version": "1.2.0",
          "model_name": "LayoutModel",
          "state": {
            "_model_module": "@jupyter-widgets/base",
            "_model_module_version": "1.2.0",
            "_model_name": "LayoutModel",
            "_view_count": null,
            "_view_module": "@jupyter-widgets/base",
            "_view_module_version": "1.2.0",
            "_view_name": "LayoutView",
            "align_content": null,
            "align_items": null,
            "align_self": null,
            "border": null,
            "bottom": null,
            "display": null,
            "flex": null,
            "flex_flow": null,
            "grid_area": null,
            "grid_auto_columns": null,
            "grid_auto_flow": null,
            "grid_auto_rows": null,
            "grid_column": null,
            "grid_gap": null,
            "grid_row": null,
            "grid_template_areas": null,
            "grid_template_columns": null,
            "grid_template_rows": null,
            "height": null,
            "justify_content": null,
            "justify_items": null,
            "left": null,
            "margin": null,
            "max_height": null,
            "max_width": null,
            "min_height": null,
            "min_width": null,
            "object_fit": null,
            "object_position": null,
            "order": null,
            "overflow": null,
            "overflow_x": null,
            "overflow_y": null,
            "padding": null,
            "right": null,
            "top": null,
            "visibility": null,
            "width": null
          }
        },
        "d9e1531785704bdfb7430a4e0d66252c": {
          "model_module": "@jupyter-widgets/base",
          "model_module_version": "1.2.0",
          "model_name": "LayoutModel",
          "state": {
            "_model_module": "@jupyter-widgets/base",
            "_model_module_version": "1.2.0",
            "_model_name": "LayoutModel",
            "_view_count": null,
            "_view_module": "@jupyter-widgets/base",
            "_view_module_version": "1.2.0",
            "_view_name": "LayoutView",
            "align_content": null,
            "align_items": null,
            "align_self": null,
            "border": null,
            "bottom": null,
            "display": null,
            "flex": null,
            "flex_flow": null,
            "grid_area": null,
            "grid_auto_columns": null,
            "grid_auto_flow": null,
            "grid_auto_rows": null,
            "grid_column": null,
            "grid_gap": null,
            "grid_row": null,
            "grid_template_areas": null,
            "grid_template_columns": null,
            "grid_template_rows": null,
            "height": null,
            "justify_content": null,
            "justify_items": null,
            "left": null,
            "margin": null,
            "max_height": null,
            "max_width": null,
            "min_height": null,
            "min_width": null,
            "object_fit": null,
            "object_position": null,
            "order": null,
            "overflow": null,
            "overflow_x": null,
            "overflow_y": null,
            "padding": null,
            "right": null,
            "top": null,
            "visibility": null,
            "width": null
          }
        }
      }
    }
  },
  "nbformat": 4,
  "nbformat_minor": 0
}
